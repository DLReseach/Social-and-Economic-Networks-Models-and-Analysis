{
 "cells": [
  {
   "cell_type": "markdown",
   "metadata": {},
   "source": [
    "# Social and Economic Networks: Models and Analysis\n",
    "# Matthew O. Jackson\n",
    "## Stanford University\n",
    "## Santa Fe Institute, CIFAR\n",
    "www.stanford.edu\\~jacksonm"
   ]
  },
  {
   "cell_type": "markdown",
   "metadata": {},
   "source": [
    "---"
   ]
  },
  {
   "cell_type": "markdown",
   "metadata": {},
   "source": [
    "# 3.1: Growing Random Networks"
   ]
  },
  {
   "cell_type": "markdown",
   "metadata": {},
   "source": [
    "## What do they add?"
   ]
  },
  {
   "cell_type": "markdown",
   "metadata": {},
   "source": [
    "### Realism(?)\n",
    "Why do we care about having growing random networks?\n",
    "\n",
    "One thing to emphasize just from the start is when we build models. We know that we're not going to try and capture everything in the world. And so realism is not usually a good reason for building a model to try and match reality. The reason that we build models, is to try and use as few moving parts as possible in order to reproduce the world. So the only reason we want to add this feature of growing random networks is not because that's the way the world is, but because this richer model might capture something in the real world that was not captured in the static models. So you shouldn't judge models based on realism, they're always wrong, the question is are they capturing reasonable elements and so here. "
   ]
  },
  {
   "cell_type": "markdown",
   "metadata": {},
   "source": [
    "### Natural form of heterogeneity via age\n",
    "The natural form of heterogeneity versus age is going to be useful in getting out more connected nodes and less connected nodes, and starting to see power laws and fat tails.\n",
    "\n",
    "### A form of dynamics\n",
    "So we're going to get a natural form of dynamics, and in particular, we're going to end up with a natural way of getting different degree distribution without just building them into the statistical distribution. So we could just assume that there's a distribution that has the features of reality.\n",
    "\n",
    "### Natural way of varying degree distributions - not pre-specified as in static models\n",
    "We want to do is see if build a model that will end up generating features that look like the real world, and this sort of dynamics is going to help quite a bit."
   ]
  },
  {
   "cell_type": "markdown",
   "metadata": {},
   "source": [
    "---"
   ]
  },
  {
   "cell_type": "markdown",
   "metadata": {},
   "source": [
    "## Growing and Uniformly Random\n",
    "\n",
    "What we're going to do is start by taking **Erdos-Renyi** random network situation, this simple benchmark will give us an idea of some of the techniques, then we can enrich is to have different kinds of formation processes besides the uniform at random.\n",
    "\n",
    "- Each date a new node is born\n",
    "- Forms m links to existing nodes\n",
    "- Each node is chosen with equal likelihood"
   ]
  },
  {
   "cell_type": "markdown",
   "metadata": {},
   "source": [
    "## Degree Distribution\n",
    "\n",
    "- Start with m nodes fully connected\n",
    "- New node forms m links to existing nodes\n",
    "- An existing node has a probability **m/t** of getting new link each period\n",
    "  - *m*: the number of links being formed\n",
    "  - *t*: the existing number of nodes that are already there"
   ]
  },
  {
   "attachments": {},
   "cell_type": "markdown",
   "metadata": {},
   "source": [
    "## Distribution of Expected Degrees\n",
    "\n",
    "Let's think about some node i that was born after the original m nodes that we started with that fully connected, and before some time t, now let's ask how many links has it, does it expect to have collected by time t?\n",
    "\n",
    "Expected degree for node i born at $m<i<t$ is:\n",
    "   \n",
    "   $m + m/(i+1) + m/(i+2) + ... + m/t$\n",
    "   \n",
    "   $approx = m(1+log(t/i))$ (Harmonic numbers)\n",
    "   \n",
    " the first thing is that it forms some \"m\" links when it was born. Then in terms of expectations, the next day after it was born, if it was born at time \"i\", then the date now is \"i+1\", and there's some new node which is born, and so it has a chance \"m/(i+1)\" of getting these new links. Then at time, the next state there's \"i+2\", it's going to a number of new links are formed, and so forth.\n",
    " \n",
    "![](https://lh3.googleusercontent.com/QtnzidNjPe9r2WriZmOgmj8uOjX3oVpJYjadAO3Q4StY-I7gClZa9AKr5amxV1VIYTWoDY87kyj7cdIJVyDc_QOR40COFebCsWhsxknIMZGN60IdbJJNyReLPxQinKavau2pbbpmbVwPYKzfBF3pq1XQhjnvp1ApY7SFtExOnuFzLEuyvwPopmREON2_kI7XqJVMCkBeNAB3smqQD7mnNsKyqJ8dHNZnMfiggfYx8b7foYr4kMSyeVhhvoWnJBxW3MaI2HJq4BH6tsbzDE0EXsYboAliKNpAy8CtsNTfa5ntD07XhLls8pfiTIIXJ0EFwuWkZHxoT9cE2IBwdlFZwXlHkwHVw3DAR3bEo8h8Iz4sBTRQ3Y6h7JQ8GWhSt6UGmMDZHGR14grmZPaEdyHdkpFbX73zi8jT4q6YtEf30K64r351oDrh0ZlaILm9IqjjO0LVw_wkwFIgM7VikPvH8EqlDY-8TmRCbG0kBiROQ-lQKwNLlkTAK3kR4WUFNbT8H-OlR0gSq8sumu2yMFVMV3z1r_uNfnkUH2TJVTfgN6qcqhaT_LjCkIsVS1mFeeGE3zSKYbPK5HqO0JBBE0MqLPQUSd6ThnmfGgXj4ZkI9XJUCV-gLDseeivsw7CGCW7nXwRkyTPYntreJr5805r1l5kE-r38eFvELr4jHgE80hUO7NsoAFzArN7B=w456-h326-no)\n",
    "\n",
    "![](https://lh3.googleusercontent.com/cAPqn8xu-6bYjg9V2QSSYxEUo2-ivb4PkMj_xhWIWPbjKSdIllzDfbDjgGnKAFnFpI9cpNm0ZZB8os7LHEwpWtHISk_Ql_hVgz4eY9sPPRQ4DoY4--blhe-woByaRW8ZMMzbwUK2S25gQlHSF_7maVVmt-wpJICOIK0LhoS7E-QK8Lppdefpw_lUiOyLE16rqnNGF70AmTtpO4c7M5aNVeP7q4jL8v5j0PHO--eCo24Ek_lQhCGukdEawzbQbemuPQAGwYQCNxuTsS3f6tUzsAe1yEsCaNl_-xL3jGlB2nvc75_dTc4LjE4yydt4bIT64tSs5bQ2Y98SeUDrudpvyCJrfCA65j_vTJiOyn2VSXV5ljdUEuGIs3cUq4YNECqaJDrE_HMCk5m-eSERlfsL_hhopZNQf_GAsEy9gxGqCrB2rfDt6-KVdWlTixmOhvnIBTh11e5QJGMdpbJs4nwbbAHGNtffj6TlFDjx8mcedVpLsYMoOxNLNjSZvnCqRimDd9Y7Pif9kF-zpXCmrkVzHty-o1C5KKxSlecyjGba4pSwp99etkt3cXLPrBeTK340tdlBHbbSzQAjg9ofZ7IS1hRASGYSOtFK-ECRxrJ4fG0QQwVjwy21qyKJLgppn2TDwxuRLRIgPoQj0-BIZJAfVQYcdrKFNjzzzFRg6HQYSU9jhVoqmfgv-04T=w985-h687-no)\n",
    "\n",
    "![](https://lh3.googleusercontent.com/w79FgVuW_ptFgojI_KdQCffBXfV6zcOKDjUbwqvOj7QWZAzcfEh4ev_KxXKlTUkKPVs6bl0BT1qYYhtEcaAW7Ey2D2Aw3mqbrSAR9OZhRv-YU5V-tpF2QO9mMr4Z-A4DYeVDfKVUDH-hSWpUq2W5rFb80oCUEdIIVdxYqgyh60lyh-wRT3jVhCKcEYEk1yYh0lIGfObbUkiNwxYeItJijKKKD82tZnvmwwED8KtS6eR71ca77dXUZKcXkpCkTvZDsF8Yqvl9CXqNXToPhX-_AaKrfJNM9WhPa_LbemyifZT52mQ4yBotG0k7AStZzxjk9qxf733WWalAKjNMfcnGm_Sfde6Wxmx7i4JdGqNlvWACiK9CRmnDoWgn69O5UXPRVodUYsLO9c8DffyqqFNf0yZ9Kq90wpkkBGdE04_DTxadCbFgGYgWRTIAtyoZH_jwYL1l8kt4t9X7Sh0QMbqRC8FO88zgRT-dlg-Ow5qLy9yf0vAQVAeHKnYGqcKoqZoRnPy6IhqIpQZiFr-1w2m-vvDYvwZ8VHupN0GWvMx6E2YecaaRo4rXyJCYXH9WqAYt8Xpb9Dan7rebXX8Pua_qfof0IpkgryMQPfWMQEOUqqxyHv4u_B3b_WgnuiPonUsl-L3CxcRl1QRG-IHW3Kgp7eQAp5fBBSoZo0-875hGH_62w33FEpQlJLJy=w999-h661-no)\n",
    "\n",
    "![](https://lh3.googleusercontent.com/_s9Ciw8q2qQ-xZT0InjuR3VYsk4YLfAHrrnMXTfH2sLFSVm2WzxxjXPCw7Q3dSp8HW1YrsVV7ND34gNu1Cy_rKTVJ4VjMCySMz-NdAgoWkTv8mklFnYfFhys0raz5iNwjIxzuskKa1j4k3RsyxoZzq0XDTiJfG2hR8X6WyDNQdU3Bl0RpWyUYWY6KWgjL4ZqZWwohHAIJ4ZNp6BXAijzK7o04h7_h_pjJs8if3NRe6Q6lNcgIfRNYPZLXpbIFQafVW8WvnhSRTbiXaBFgOlSgzAVg0dhVxKkw99TkOTSYx-1YYPr0gqvT8sy-kqt5OvDWiIYYzwRCcwUrNIDWdy7whJnTrIqjxyNo_dFc4QqAoUXmI9HiTkqN8kOAdVl98P5k1uWhDD52tWefMosF1bmwTwWEDA3EBfk4NkaPPgSpwTk8qW4vlxZVX3cSoSVLjwtGY7ENBsA4gZbE5cJ4NSdQ3l2zlcWd2AK-kNkO35-OaERIUk6zYLsFDMKpQ836ZHmz2DYF9dXQSEIFyQI9UK-DgR13wZMM6nWgFlrF1-7lXM4FAhopKOdbTm9ZZeR4sqTh-CzQoEIDe9Q2iC7LXttvTleRz9AwARsI2gdKU9Gotbyj-G9T8Cfj3XQ6Ccy7hhc8NnHrFFueRCe0rVBj51ZpjkyUSjKRVm8fzIC7HOAbLFcFPXMH7gsWbdJ=w1109-h702-no)\n",
    " \n",
    "Nodes that have expected degree less than \"d\" at some time \"t\" are those such that $m(1+log(t/i)) < d$\n",
    " \n",
    " \n",
    "so it is those $i > te^{-(d-m)/m}$\n",
    "\n",
    "The fraction of nodes that have an expected degree of less than d, is given by this formula:\n",
    "\n",
    "$F_t(d) = (t - te^{-(d-m)/m}) / t = 1 - e^{-(d-m)/m}$\n",
    " \n",
    " "
   ]
  },
  {
   "cell_type": "markdown",
   "metadata": {},
   "source": [
    "## Degree distribution of growing random network\n",
    "\n",
    "- Distribution of expected degrees is such that d-m is exponentially distributed (mean m)\n",
    "- What about actual degrees?\n",
    "- Good approximation for large t - need careful large numbers arguments"
   ]
  },
  {
   "cell_type": "markdown",
   "metadata": {},
   "source": [
    "---"
   ]
  }
 ],
 "metadata": {
  "kernelspec": {
   "display_name": "Julia 0.6.4",
   "language": "julia",
   "name": "julia-0.6"
  },
  "language_info": {
   "file_extension": ".jl",
   "mimetype": "application/julia",
   "name": "julia",
   "version": "0.6.4"
  }
 },
 "nbformat": 4,
 "nbformat_minor": 2
}
