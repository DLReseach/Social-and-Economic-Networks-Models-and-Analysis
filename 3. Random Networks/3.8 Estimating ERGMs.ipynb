{
 "cells": [
  {
   "cell_type": "markdown",
   "metadata": {},
   "source": [
    "# 3.8 Estimating ERGMs"
   ]
  },
  {
   "cell_type": "markdown",
   "metadata": {},
   "source": [
    "## Estimating $P*$ / ERGMs\n",
    "- we have the probability of a graph now depends on some set of statistics of the graph($S_k(g)$) and multiplied by some parameters($\\beta_k$)\n",
    "\n",
    "$Pr(g) = \\frac{exp(\\sum\\beta_kS_k(g))}{\\sum_{g'}exp(\\sum\\beta_kS_k(g'))}$\n",
    "\n",
    "- **The power of such models**： we can put pretty much anything you want into those statistics. So if you wanted to keep track of links, triangles, you could make these based on covariates. So as we talked about in the block models, we could have links among blue nodes. And links among green nodes, links between blue and green nodes. Triangle involving blue, greens and yellows etc. So you could have all kinds of different statistics, keep track of those. And the idea, then, is that using this kind of model would allow us to test to see whether certain things are going to be significant or not. So are the parameters non-zero, are they positive, are they negative, what do they look like? That gives us some idea of how these different things matter in the formation of a graph. \n",
    "\n",
    "- **Weakness**: what's the difficulty, the challenge in these things is how are we going to estimate these?!"
   ]
  },
  {
   "cell_type": "markdown",
   "metadata": {},
   "source": [
    "## Example: Florentine Marriages\n",
    "- Robins, Pattison, Kalish, Lusher(2007) fit an ERGM to Padgett and Ansel's Florentine data\n",
    "- Business ties between the 16 major families\n",
    "- Fit: #links, two stars, three stars, trianles\n",
    "\n",
    "We've got the probability of a graph depending on each one of these things, then we can ask what do these different parameters look like?\n",
    "\n",
    "$Pr(g) = exp(\\beta_1N_{links} + \\beta_2N_{two stars} + \\beta_3N_{three stars} + \\beta_4N_{triangles} - c)$\n",
    "\n"
   ]
  },
  {
   "cell_type": "markdown",
   "metadata": {},
   "source": [
    "## Example: Florentine Families Business Dealings\n",
    "\n",
    "![](https://lh3.googleusercontent.com/Ke1S8FCO1t7S_hW1eR8qxrsJvr0wLRI1hGfNsWpvPRh5x-3dRT_LCRdkZdnUQ1gG4GhfJrGmbi5MvCs_wpm0ii_J51HWvYMnAlXaDOzmXA7WILEioaKqHtmkGfuCXDtCjBTk1oz0VpoSxWQqELgKF6fIfY4FpN-1iwFg_gFHDyQaoh1vj7WW6Jn81l14Cx6tvZdlbrPHCIjSOGXfLtvSZV2hWPaPNpFyRTpEcwnGwVwJK9zbKguWNuVqLqNQiCFlkxL_J5Kl6Y_hxaVH4jJssEE0Vo5OV5CdYA_rUs35ggKqcCCuPUva3FEZfuSOxJlm846TiOUvx5shtRatoS3ZpKRC7VASPyou-m2YZvhLmUobL9dWmzW53viEQk-FMy44qfu0vFdiIebFxmgMLYbIWmKlOZm6mPsnI2BrUaYpUWIEui_QIGfWGsxbhNGZhgeu7T6GtxIq8Qo753rql6kL1j5aAyBTuXs8qFkpw0w3sPGX9Iuem4ZbCwGuM6LdbVT0KpzBxmDvD-ZyXDartL5PHB27_EuJnWtFLL_duIu2oaa9mA_2h337eZO8HmWyL8J5yRcjfSTlUoKQNghj8Fmo7z1Cjbf2XNEB9caloyVs2HkkFYxs_rL4csV3UK0XPRbOvXVHVO_7Fi8zCHvgiuuzoioQj0PP6zl_UpJEJZFFpCCh1yJGjGelUrBS=w383-h328-no)\n",
    "\n",
    "You can use `statnet`, for instance, which is a program package in **R**, and you stick in your dataset and end up just directly trying to fit an exponential random graph model. It asks which kinds of things you want to throw in, and then it will spit out an answer.\n",
    "\n",
    "![](https://lh3.googleusercontent.com/tmjrYk0lij_oxQv0vbHxYTzW9nAZuIGq6G0p9HrVTKgKoFyhcjbsTPBi0khD_KHCAZbUg_l40xlTWCYdp7Hy87M7YZXgX24z4tg113zyf9HMG5fIgbGB-NEhGvQYmqi6XKzlZ50ZwC1y1uOkHqi8XuYKXfizPkyywpOleAQlNW9Q_DXSbjpyFyHG6LYOUkf98hJG-l36cfJO7BX4ISGkUkDgoaIyNn26lZnHqHogw3mGVqzDTfQmVOPGew1-nxVYWt1_v7fJd8Zcxj4WEhxllDe3jyA98-CnOmsUGVcBwiDVXzy2xbmnjBtN8ZzUVWpFNEMbyFpUctbTF3KDSlYfBIeOkJD3SF0sLgOaI40WVBEb9X1GlEtlveDGlPDEkefKli2FpDJXiRO9aTge7uTF8wlklmaSZj4ACiNLWXhWDIwL-JB1rz43Ka-WD3GvJHFQmQktxe3qZoS9fj2kkybrbi8fci06VMRdTHxini2W2flLz8o9sgC8CcoI1F9mrZLzhY-KYCto4wXVFNOq07ZSVOzFB0f6pfLBeVQSOszWJ6VrBjDIdgfi6DPsqb2fDojhTxQtbqVMjuE0q_vSjtjxusIfhxe3Pay8yhxP_FzNz_lgx81beox0ar0VArvqQR2LKO9lhUgSyTAICoS0g60SqkqARLXXmxFVWeNl-m_8WyBEth9EtdzkD_Za=w664-h261-no)\n",
    "\n",
    "This example give us: \n",
    "- **one links**, we get a parameter of -4.27, standard error for about 1.13, so this is statistically significantly negative. So that's a network that doesn't like links. If we see the graph \"Business Only\", it's a fairly sparse network, so networks that have fewer links are going to be more probable under this model with the negative parameter there. Networks that have lots of links would be less probable. So it's not surprising that it gets a negative parameter here.\n",
    "\n",
    "- **two stars**, 1.09, like\n",
    "- **three stars**, -0.67, dislike\n",
    "- **triangles**, 1.32, like\n",
    "\n",
    "Now exactly how we interpret those is a little complicated.  It's complicate by two facts, one, we're not quite sure the combinations of these different things. So links are going to be inside two-stars, inside three-stars, and so forth. We also haven't given us any theory of exactly why the business dealing should have one type of structure or another. So going at this with a social theory would then allow us to make sense of these."
   ]
  },
  {
   "cell_type": "markdown",
   "metadata": {},
   "source": [
    "## ERGMs\n",
    "how these kinds of things are estimated and then what we should take away from those estimates. So what's the challenge in estimating an exponential random graph model? \n",
    "\n",
    "$$Pr(g) = \\frac{exp(\\beta_1S_1(g) + ... + \\beta_kS_k(g)}{\\sum_{g'}exp(\\beta_1S_1(g') + ... + \\beta_kS_k(g'))}$$\n",
    "\n",
    "So we put down our formulation, we've got a bunch of statistics, we want to see if they matter and to what extent they matter positively or negatively. And in order to make this a possibility, we had to sum over all the possible graphs of what this can be, okay? So the idea is, how likely graph g is depends on comparing it to how likely all the other graphs would be in order to figure out why this one got picked out and not any other one, okay? \n",
    "\n",
    "So in order to go ahead and estimate this to figure out, for instance, if we want to do what's known as **maximum likelihood estimation**, what we would want to do is let's pick the parameters that actually make the given graph that we saw as probable as possible, okay? So which parameters would make this probability as high as possible, okay? Well, the difficulty is, in order to figure out which parameters maximize this function, we have to be able to do this sum in the denominator, right? And that's going to be tricky. Why is it going to be tricky? There's a lot of ground graphs to sum over. And so, a techniques of instead of actually doing an explicit calculation here, would be to try and estimate this instead. And we'll estimate this, the standard the technique, is using **MCMC, Markov chain Monte Carlo **techniques for estimation.\n",
    "\n",
    "And this is because we can popularize by Tom Snijders, and Mark Handcock, who made some breakthroughs that allowed this to be applied to exponential random graph models, and that's what underlies the software. So instead of summing over all g primes, what we'll do is we'll sample some g primes and then try and extrapolate and estimate that denominator based on that. The program's a little more complicated, but essentially what it's doing is walking the space and trying to pick out different g primes and then based on that it can get a relative likelihood. And then figure out, by searching across different parameters, which parameters meet the highest likelihood of seeing the data we actually saw. "
   ]
  },
  {
   "cell_type": "markdown",
   "metadata": {},
   "source": [
    "# Examples\n",
    "\n",
    "![](https://lh3.googleusercontent.com/UsI6kGAhh3GqeUbPBXswhL_dnleLl7wxP5NiBgXULphRe7xKed-J16HZRwEZZL5Z9SDAinioj620gCCB6od3-2cbZ7zTvBlgQ3T8vEJkC1qDLXwKqk-3esZ8DVksBPwhYRKvy6FlxLQy-Skao-h_M9o9Hd5ceTpoMupNVn9pj_Xo4d8FHLRSOwZmoqzuUamIxf_DMJmqdrR1TGuArMpHff9g0HE2RP2gP6ZwdXTjr34pvxoN4YKLKUxNlfw8gqlvsMqawh5nSCzx86dwl_BaFoiYthBzeDf1PmfGmwmpPDWzTngJ7qTwNR_IFXRxxBnR9dCuy3lHkxXKvSMDt95eYSRnrMZUaGOZ8K6jeLLmnVaqPiIedcwAkVcnQqgSxhEuo9ANAVHuVTIkWU3B1uVnHgs_TcnK5UpFgH35subgxNTx919NcClJ2KY5WG_-ij_dwWywc324LaCnyk9I0Riu5r_DsV33iUf9TRz7MYVVk77KsOtr9KpXnSPvBZud5S_2K8nlQNKyE6cHHL8KRonULkKLKmR-wgjpVcVQkqbsw5tGlC3I6fD8C3Xw2IkSt2wVqInqac2hV5fsYJf6pNJsv4uOty-tU1mB6tIPhCTPAj0S6oDClF71NXkLPMaDeU2jOZvBPDTGhLIX6cCL9YxRHDp-um--p-6OpJ-j0rzYvAatRl0zBmr1UYAI=w1036-h484-no)\n",
    "\n",
    "![](https://lh3.googleusercontent.com/ANIdiaCpmuyWCqJbfyy19X-qGBs7awgY8M64s8VlOGpVKb-ol-IPLTRKlR1-oLXra4Jas1GzQwzc18AO2zPvLH1P_3fKfYnn81md84jVTafBxJeKxbjxFR7Tupg-ENQtMRiImZTtQYM1VM9_0q1iwWTtzscOuaE-LqxC6GF3d2qJPgqgzh5kaYbJG-LDoycHdgPR5SR4mEdBMCA-TODzYll6ZCiWXnEenKdJNb_nKv5Gciko1d0oz_XjNtia1S4LqpfvihLzO4YUzajL0U-F1fQedmms8dgDCajVQqyldirbdeW3IwU7w80ALciWWBo_rMDsDThLD4g2D94zrvRhGbeqmlSEU6qUsEKjrVzScl8YxsxYdHOozqqROUwAbJs7Wf5A3nfu7xdkT5OsbixMoBvhm8Y6XfCJyDJxGv19Y8z8GMTvIRuiGjUX6y82jp-BahpxMfHIb73bQtlmPtzrjaDL0wHMEaXNpArdQzrbDrCgR5R6VlUF7FiVxYtSgYU13PMEQiqN6raVXt1HDMJiiKa6udX3dFUEBtfNC-tLufwogLRcIxR0wlnwaajeT3r2GZY4CsvUeLU1vG7te9Aj4yLaL524sKP_3M4MxGJ4EyNfi-f-LrW3jbUJEhGesTKPyLYCTYJlisZktHiu52ZMvOp47ITedyxD7WXHOabuEXGO0cdzB0vgs-fI=w828-h618-no)\n",
    "\n",
    "![](https://lh3.googleusercontent.com/Dg-KDdp0E-lHdoeSmQbDHGNIRChA3aY1yNu5MGQQut_K0fImXeh3IJw25x9AY4TSUAP4Ai5zL9wsTJX2mGBINwAs4dtsbPIRrQT9xh6f1aNpJR5jZggY9RbkaSAhEsXP7Ad5fxDIM0fuG6wp29WVWqCn-WFbJdq7xGzqUnNGb7CA81tu-4Zt4V_C9E9zHhEGJR6QrmpRkiLbGhwZ6TDqJkHd6Msp2IlB-bQRN62gnOLk-hzPxahxCTC7AhWRaR75Pua3EMHRPZfhGa-CWKyY_7YvECtxat0tSUnLA-j-YPd0TjF0lWAF-zk83W3M5hOOSJCiUpBg40qit76Z3Ftm_1jZehhyDiRsS1tSce25gaEE48K9vjO_81p04aP7T98hjcR2WLQElYCYSJqOE1Ibqf5xGSAJRxDZnSZwSzQwhWR_e1sSMjq8WVOYHe7T3h6mULm9t4_5P3_6wKoxQexvz-3XNW02WT4jTmdFa_kq28aquPXB3SDx9IZ56U-MvciCXr7prH5ugXTIUke1AMrPd4TC_LmkEncv_e4FtPu1-kLxxIlZdVqOLxG-NvyPy55pLQqLjw7G7tI4VWwd9VHyajexIxGW1oncqnd3_Vo0LzGv5VUlaAEyes0PNS4i8l7AH6JvsxUzf6gabm-w6L2pE6f5wLzxoAAaU0KGyQIWep3AschEDvZ2kwqR=w814-h593-no)\n",
    "\n",
    "![](https://lh3.googleusercontent.com/tPeTr7sjrf9gZ0TSm3eI3OhYBbVodV-ffZxts3eksbIQ9-M_m47-qrL5WMauwjXoVIsrNMNwF__P0WMqRbbufNmjk41I8zqJ74_zIJSPliMs3OPSGsAR-8sX5kbiZbDNYj9d1u0NN-PvIO493ETRiKzXbyUYL24UrYrOUNOPOv6ZE0kcA_lwgaPaEgVgVQ8QbAHkpPF9pQwE0pw4si7h9mzvRITisEUOpNyMjtmjDuL4Rg-aFF9aAF55B5wX3nnCcx9EzFFMVAnr_IR0dhX_zxOITGySbUi9Ft6EqNMvz_jeECyn4avYi2bppI-ifw5mgABnWk8DA_vT6IHi9tkqaXFwzKCq8oTaZx29n-9rvL25cUL_mQgsxAmAjmUSb7SCWlkGBgO6OULYK4zxMhaCUK61CuW5ZYsu5vmFuf7tNl_swlMy4k4wrFMf9gdEvTv4PBdwlEwhUMxXTCeDWuSyLpv4LF_A06x6yeKtF-YM__8Y8vWeEFYatUSqZ60D3LNd7PeTZQsN1wik2QtSMZ929Ax1vFYcA6MBCBnAhKba1-A2j94Q76eD39ttIZou87cvbeNGh3GwbwV08_ORPPb8DFBsocQkk7QIB_Lthi0aW-ySylIeF0Q9AnIazuXVO622bgyUPI99n32KJ1zgyV0ZT9cGxEcPHluM9x_XZMFEYCyWhSWFfN2ivIes=w804-h607-no)\n",
    "\n",
    "![](https://lh3.googleusercontent.com/gYxBHaooo1jI6khMar5bu0aFZV6ZBTnHr7lyKAVNzHPlpRFoTtsEthInxC7b-ouRRMue0rl9xftpzZ41PsiEl9WX-CXQnBwr8szCK4c8Od4Mzw4xr5iz5pZhAO76c5tP9xYZFXfVEaqhp99FWnHezCKaZrrOH5ytBKU7t15hZPTu8bT0q6gQ4ojN1ZNpH-Y0KTAccAOtCz2AosthDi-OWv-XT6xIbtINi5iWYnipEP8T1Fo5mCXXsXK88qJWQzDqRygylOCQLj4VeTXPBgPNuq47RLWZaJVKXBbGCzxYQhKTpkMI4HkFTR5ivLuPmcraGl2ym-gSom_-bq6FsN5t0YDiYyxIHqSUClBUHpMXEoU9VS1OyDWUKgXEFmw07aYVp4Ol_ojbVf1aQff7Nee7lvC25_-Fqz6_Twz8764by1QbFgpirwWp7OPkE2DmVymg-egxkOiPMweS18Qr42opOz_FdViE-9XtOUA44xhAVm8ddzP4vfrDbq511tx7YLMxMOkthqLAm3OSlbfW6G0q9mQI5hxj2Uhc12918arNizC444XQPucGY81pM3Iz9vnz4w4K3khri0t5k6-WfC0XUwb5bBLamM44EK8ENYKO-4vuhkuQzpasJ6I7VsHemXQKEPjovORucbnhJTdraQprteZ0lXIzT4hVSx8HB1q1NxIVbWBfKkO1Dgwi=w1088-h634-no)\n",
    "\n",
    "![](https://lh3.googleusercontent.com/5yNRPv8_9F_AzrqZn059MqN0aQhWGMEK_C4cbcdG6MBjkJRYx7TwFqQdAQ5qFWOFsgUqjc5HJ3Rm33vLMKgS670YLGVFaVfPKVlm-ky7Lb6yScrU1DpXxVtgxlaUbDx_l4ea6LQjbHVaQtbwAtmkkccD9rQJQ4Db0QZjl-Cx-REFSK7DH9ikH0vIpmFJ4mST-SNJ1SxPiRYxYeOK9ZwOs85uvpm3TqKPtiyWyx0YwPbQmq3Q9YWsF87KvDnrSjigOhuB_BSI6tJdLGdGMvJaskjBRG-RQc4xuaZoRkVUjkrB1D18ATohfVN6Z7eSFiAJWwU364dHzKuc5_ucAyk_MCMg2IKXW3yO8WnhXtTbRlp2r3dzv6lQJd6x3ZQSqUNgpWv-6W_kEMeL7Gqo3MuPKr43IXQJS9ToXShc3l6Idr0IzY5z-hiZxBNVQpNi6g2u4UgnUw6jnL9i7JbjIkCq6NqYBUfDAFvURk87PL-jj1hh2zh7p7wNRrhnkvONi7GBPU-BuZln5VPi82do1ME4Ig9nSc1628Aphw8BfjttYQezOY06F08akTMX2Q8fvdDDxE4jZXhw-CO4VJu5-XVWPS45oNTHNuJpMTTqBRZmISCvj-t7w51oU-6aKbnBE2lIjLRh0KKsUSPdwSPAK6UkQh_XGgl_l9INCcwWsy_t41pRQed_6I2jDKn4=w1071-h632-no)\n",
    "\n",
    "![](https://lh3.googleusercontent.com/w1cWztVQ7Wzs0NyUmjXacLYBtSPOQCFXA-liHXg4BbUzFvBi9eFrpMZsj7o_7KFemrAXVLDev9rD444c8VGYF3m7FHi4x2USvis-MuWDnuSSPkAa-MFUCkbnBsrLIQat_-I9DCsJtUdYzlExg5Hj6PyFfWA8XDlXpKbAFp2gMMPjsHWvvAiHYXRSJ7dINBf7NMRaVs0Ke8sR645UoUdmg5C83Jxbfhe9ektjkpWFgGh_8bty8n7uqWl9DXfDHcyYvgMs4iU9JMsOXABdKRpNX59M5UgxJe6DWMMvEQb8y8s96ZCMATng4pjhPUnSgwI5EvU8ZWv7f3t5lr8xo3GQKmU83BAnnRPfXuiGXucvC0ZLmIoH9i1uthzjHRwLTs6DzQ3RMyBAv9caEY24igtsVMWz_nvrD_2DbpsJM1Mz7ZWFWiN5_SZ2ywBdPn6WgC9kPsqru2I91mv0EhKEy4rLEUVE6Pu0cWcf6fPbQoMp9MCK-W7viLcwQhj5ETIj8VmpzbywmZcFgqvvEYHbHyP9q15JOQlTpri3vIJk7pBb3V07I9KBx9pSdqE27daLgU2zqg6uoLohHdugorSv96sXQXd_M4DJ9Ehh3PIDPh-1u9I0GPO0hqP_FwmwvNR0CiH4hIIG1dAzcG6qUaWGOxHRfqOnyFUTcxD78u7NMA3rak9Y7bo5_dA_m_9k=w1082-h626-no)"
   ]
  },
  {
   "cell_type": "markdown",
   "metadata": {},
   "source": [
    "## Issues:\n",
    "Note $\\sum_{g'}$ in $$Pr(g) = \\frac{exp(\\beta_1S_1(g) + ... + \\beta_kS_k(g)}{\\sum_{g'}exp(\\beta_1S_1(g') + ... + \\beta_kS_k(g'))}$$\n",
    "\n",
    "- Recall: n = 30 nodes, there are $2^{30*(30-1)/2} = 2^{435}$ g's (less than $2^{258}$ atoms in the universe...)\n",
    "\n",
    "- **Sampling g's will not lead to accurate estimates(not just MCMC limitation)**\n",
    "\n",
    "- MCMC estimation techniques are inaccurate:\n",
    " - Can one compute parameters?\n",
    "- Consistency of estimators of ERGMs:\n",
    " - When are parameters accurate and how many nodes are needed?\n",
    "- How to generate networks randomly?\n",
    " - Counterfactuals, validation..."
   ]
  },
  {
   "cell_type": "code",
   "execution_count": null,
   "metadata": {},
   "outputs": [],
   "source": []
  }
 ],
 "metadata": {
  "kernelspec": {
   "display_name": "Julia 0.6.4",
   "language": "julia",
   "name": "julia-0.6"
  },
  "language_info": {
   "file_extension": ".jl",
   "mimetype": "application/julia",
   "name": "julia",
   "version": "0.6.4"
  }
 },
 "nbformat": 4,
 "nbformat_minor": 2
}
