{
 "cells": [
  {
   "cell_type": "markdown",
   "metadata": {},
   "source": [
    "# 3.4 Hybrid Models"
   ]
  },
  {
   "cell_type": "markdown",
   "metadata": {},
   "source": [
    "A hybrid model spans between uniform at random models and the preferential attachment model\n",
    "\n",
    "## Simple Hybrid\n",
    "\n",
    "Fraction *a* uniformly at random, *1-a* via searching neighborhoods of friends\n",
    " - What we're going to is we're going to have one fraction formed uniformly at random(a) and then the rest(1-a) fraction formed via meeting friends of friends, the second part is going to look like preferential attachment. So, that will give us an explanation for how preferential attachment might actually be working."
   ]
  },
  {
   "cell_type": "markdown",
   "metadata": {},
   "source": [
    "## Meeting 'Friends of Friends'\n",
    "- Find new nodes via others: Network-based search\n",
    "- New node meets *am* nodes uniformly at random and directs links to them\n",
    "- Meets *(1-a)m* of their neighbors and attaches to them too\n",
    "- The distribution of neighbors' nodes is not the same as the degree distribution - even with independent link formation\n",
    "- A neighbor is more likely to be higher degree"
   ]
  },
  {
   "cell_type": "markdown",
   "metadata": {},
   "source": [
    "## Relation to Preferential Attachment:\n",
    "- In a network with *half* degree k and half degree 2k individuals:\n",
    "- randomly select a link and then a node on one end of it - 2/3 chance that it has degree 2k, 1/3 chance that it has degree k\n",
    "- Suppose in a network with half degree k individuals and half degree 3k individuals, you randomly select a link and then a node on one end of it. What is the probability that the node found has degree 3K?\n",
    " - Following the procedure described, the chance of finding a node with degree 3k is 3k/k = 3 times of the chance of finding a node with degree k. Hence, the probability of finding a node with degree 3k is 3/(3+1) = 0.75\n",
    "- Randomly find a node, randomly pick one of the nodes it attached to(that's the sort of finding of friends of friends bit), chance of finding some node via the second part of this procedure is proportional to its degree: find it if find one of its neighbors..."
   ]
  },
  {
   "cell_type": "markdown",
   "metadata": {},
   "source": [
    "## Simple Hybrid\n",
    "- Fraction a uniformly at random, 1-a via preferential attachment:\n",
    "$$dd_i(t)/dt = am/t + (1 - a)d_i(t)/2t$$ and starting condition: $d_i(i) = m$, and the solution of this differential equation is:\n",
    "\n",
    "$$d_i(t) = (m + 2am/(1-a))(t/i)^{(1-a)/2} - 2am/(1-a)$$\n",
    "\n",
    "What this does is tell us what an expected degree is, at any point in time for a given node."
   ]
  },
  {
   "cell_type": "markdown",
   "metadata": {},
   "source": [
    "## Degree distribution\n",
    "Nodes that have expected degree less than d at some time t are those i such that\n",
    "\n",
    "$(m + xam)(t/i)^{1/x} - xam <d$ where $x = 2/(1-a)$\n",
    "\n",
    "ciritical i is such that\n",
    "\n",
    "$i/t = [(m + xam)/(d + xam)]^x$  where $x = 2/(1-a)$\n",
    "\n",
    "$F(d) = (t - i)/t$\n",
    "\n",
    "$F(d) = 1 - ((m + amx) / (d + amx))^x$ where $x = 2/(1-a)$"
   ]
  },
  {
   "cell_type": "markdown",
   "metadata": {},
   "source": [
    "## Spans Extremes\n",
    "$F(d) = 1 - ((m + amx) / (d + amx))^x$ where $x = 2/(1-a)$\n",
    "\n",
    "- As **a** near 1, so that all of the links are being formed uniformly at random, then this is nearly a negative exponential distribution.\n",
    "- As **a** near 0, then the x just becames a 2, and we're going to get our 1 minus m over d raised to the 2 power the differentiative, the density function, this look exactly like preferential attachment"
   ]
  },
  {
   "cell_type": "markdown",
   "metadata": {},
   "source": [
    "---"
   ]
  },
  {
   "cell_type": "markdown",
   "metadata": {},
   "source": [
    "## Problem Set 3\n",
    "Consider the \"Hybrid Model\" described in lecture 3.4, with m = 10. Let us compare the cases of a - 0.8, and a = 0.2\n",
    "\n",
    "At data t = 10000, consider a node born at data i = 20 and a node born at data i = 9999.\n",
    "\n",
    "Recall that the approximation of the expected degree at time t of a node born at time i is:\n",
    "$$d_i(t) = (m + 2am/(1-a))(t/i)^{(1-a)/2} - 2am/(1-a)$$\n",
    "\n",
    "Which option makes the following statement correct?\n",
    "\n",
    "At data t = 10000,\n",
    "\n",
    "a node born at date i = 9999 has a _______ expected degree with a = 0.8 than with a = 0.2; and\n",
    "\n",
    "a node born at data i = 20 has a ________ expected degree with a = 0.8 than with a = 0.2\n",
    "\n",
    "[Note: After this problem set is complete, there are two optional quizzes that you may follow. One will have you use some software to analyze real network data ( `Quiz: Optional: Empirical Analysis of Network Data '), and the other will have you use R to estimate and ERGM, (Quiz: Optional: Using Statnet in R to Estimate an ERGM']"
   ]
  },
  {
   "cell_type": "code",
   "execution_count": 18,
   "metadata": {},
   "outputs": [
    {
     "data": {
      "text/plain": [
       "expected_degree (generic function with 1 method)"
      ]
     },
     "execution_count": 18,
     "metadata": {},
     "output_type": "execute_result"
    }
   ],
   "source": [
    "function expected_degree(m, a, t, i)\n",
    "    ed = (m + 2*a*m/(1-a)) * (t/i)^((1-a)/2) - 2*a*m/(1-a)\n",
    "    return ed\n",
    "end"
   ]
  },
  {
   "cell_type": "code",
   "execution_count": 21,
   "metadata": {},
   "outputs": [
    {
     "data": {
      "text/plain": [
       "2-element Array{Float64,1}:\n",
       " 10.0009\n",
       " 10.0006"
      ]
     },
     "execution_count": 21,
     "metadata": {},
     "output_type": "execute_result"
    }
   ],
   "source": [
    "[expected_degree(10, 0.8, 10000, 9999), expected_degree(10, 0.2, 10000, 9999)]"
   ]
  },
  {
   "cell_type": "code",
   "execution_count": 22,
   "metadata": {},
   "outputs": [
    {
     "data": {
      "text/plain": [
       "2-element Array{Float64,1}:\n",
       "  87.5481\n",
       " 175.169 "
      ]
     },
     "execution_count": 22,
     "metadata": {},
     "output_type": "execute_result"
    }
   ],
   "source": [
    "[expected_degree(10, 0.8, 10000, 20), expected_degree(10, 0.2, 10000, 20)]"
   ]
  },
  {
   "cell_type": "code",
   "execution_count": null,
   "metadata": {},
   "outputs": [],
   "source": []
  }
 ],
 "metadata": {
  "kernelspec": {
   "display_name": "Julia 0.6.4",
   "language": "julia",
   "name": "julia-0.6"
  },
  "language_info": {
   "file_extension": ".jl",
   "mimetype": "application/julia",
   "name": "julia",
   "version": "0.6.4"
  }
 },
 "nbformat": 4,
 "nbformat_minor": 2
}
