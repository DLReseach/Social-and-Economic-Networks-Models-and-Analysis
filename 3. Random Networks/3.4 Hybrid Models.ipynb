{
 "cells": [
  {
   "cell_type": "markdown",
   "metadata": {},
   "source": [
    "# 3.4 Hybrid Models"
   ]
  },
  {
   "cell_type": "markdown",
   "metadata": {},
   "source": [
    "A hybrid model spans between uniform at random models and the preferential attachment model\n",
    "\n",
    "## Simple Hybrid\n",
    "\n",
    "Fraction *a* uniformly at random, *1-a* via searching neighborhoods of friends\n",
    " - What we're going to is we're going to have one fraction formed uniformly at random(a) and then the rest(1-a) fraction formed via meeting friends of friends, the second part is going to look like preferential attachment. So, that will give us an explanation for how preferential attachment might actually be working.\n",
    " \n",
    " ![](https://lh3.googleusercontent.com/bXSzTb6CNn1NuVDxqRUKpXRK0UWguMQtfgp9bJdGlSucZXosRmiDyvM33ZVpbeza4OT7auaQrUU19He9AdTwAkzXOtixEtF5O9IOf6mfnX3nkF7ExIRdnU5J3417v8QBX4KS3a7RDiOT9FbXShJaGS5F5wrVMmVBJZJgXiFrFNHVmln6O-wqSyP5I0x7Ba6lzZEk17qfoX2xsN_teFkLChlB3pD8zfizLJ6AiggxwiLHBtpVPv0AZ97D5zr0w_H5Q4iDxgZnFOoMn0ARe1yfljZYNtw3Og58dfaYOarF74kubrA1C3fnTPS5XfNRnBNHlRz06P9iMpOXhGP7Mb9aDGfIqRTYelcD2uXY6QkvVWM2O9F4n3gj2G8zMgQUyOYiU6CL7mV5TqH9wS9J2sBVNoMsknb7C_OT1wCVc3w-Zu637vEG-VW1eoayN_jDCNJJdf2uIicN0Fj9_jApxmaszqy8xUke9i-wO2k-UQpnfvx_ZFMFSbxSacJcJccPywPBhUyeH4aSQve5W9mBj8gprDrCGC49YTNhaPKD9U2uMAYKNDaPw48jUQolhI73z7fH5KPlw2Z1nAE9EtZnFIxplg_E0UlaFKdTdZXww7YJHM0qqgRdVvDcHpuEiRzrQX7uRsBhXlOIaHr7Cj38pzAtVIszHIL9E4EawOJpYkIn3YCD_S7w4RoDcgIm=w1101-h694-no)\n",
    " \n",
    " ![](https://lh3.googleusercontent.com/cOg66JOMdDsTjHi6BOIGj0k6QeGNThUFWPZ8Z7bWxTWyuBF4BmF6P8-vNv9d_LXvcPqXRqtIT2-q9XBjcYuANnG2qFj0RRIz4Yy0CyMNOZA_dWXRqoM8AvFXqnE0dYQEqNb2qNDbwebBb8IXyCUg25ywiB90rV5qdDTM3MFhiqbTaEtJMP51IFBA3mLwdtepn-9vyMkPrIq4p8Fh_LOS_R_FeNeq3bJcukKmhwU59oG8kF7hxqoGr1MNM4cxeYdb1kqfoaT6jlYw1uaOJeVfU1088KyMhKSHz4sZOVCye5Cy1Q3fFEKcrtM0Zzp-c0_hHV0bPe5zgshxkbyz-EhAZRqjJJor2sWIsQO9XIU4Jw-dHtraimGyc_WWm5PlxFOqVkWx1lwTVtQUZazpZ-8z2XEvX4Oyb9BhJOOA4E2ePjebWiw_PNUz3UWzXm0dzKe3P2ulMOHBIwSNzqkgcHxywGWnet7zHt36CAJK7Ghzv65ODtFbdKz4Y7LzpoRCKdhtE4TlN2aqIHe-tG8xFIOzjpk7rUBL-STpBPXcdZKFDr5xTaLbYP8hOp-7RPa_f7zsspfOt5VUUnhS8bncwCADE3bR-N7qO16i-te6K01LH_Fp0mkYrt3d90-o7XTgR4JFxhYlhkkn7T7gI9dsA5Pv3GTDG25BvwYNZs66A5bUAX1Uh1knFWZxcOlq=w927-h497-no)"
   ]
  },
  {
   "cell_type": "markdown",
   "metadata": {},
   "source": [
    "## Meeting 'Friends of Friends'\n",
    "- Find new nodes via others: Network-based search\n",
    "- New node meets *am* nodes uniformly at random and directs links to them\n",
    "- Meets *(1-a)m* of their neighbors and attaches to them too\n",
    "- The distribution of neighbors' nodes is not the same as the degree distribution - even with independent link formation\n",
    "- A neighbor is more likely to be higher degree"
   ]
  },
  {
   "cell_type": "markdown",
   "metadata": {},
   "source": [
    "## Relation to Preferential Attachment:\n",
    "- In a network with *half* degree k and half degree 2k individuals:\n",
    "- randomly select a link and then a node on one end of it - 2/3 chance that it has degree 2k, 1/3 chance that it has degree k\n",
    "- Suppose in a network with half degree k individuals and half degree 3k individuals, you randomly select a link and then a node on one end of it. What is the probability that the node found has degree 3K?\n",
    " - Following the procedure described, the chance of finding a node with degree 3k is 3k/k = 3 times of the chance of finding a node with degree k. Hence, the probability of finding a node with degree 3k is 3/(3+1) = 0.75\n",
    "- Randomly find a node, randomly pick one of the nodes it attached to(that's the sort of finding of friends of friends bit), chance of finding some node via the second part of this procedure is proportional to its degree: find it if find one of its neighbors..."
   ]
  },
  {
   "cell_type": "markdown",
   "metadata": {},
   "source": [
    "## Simple Hybrid\n",
    "- Fraction a uniformly at random, 1-a via preferential attachment:\n",
    "$$dd_i(t)/dt = am/t + (1 - a)d_i(t)/2t$$ and starting condition: $d_i(i) = m$, and the solution of this differential equation is:\n",
    "\n",
    "$$d_i(t) = (m + 2am/(1-a))(t/i)^{(1-a)/2} - 2am/(1-a)$$\n",
    "\n",
    "What this does is tell us what an expected degree is, at any point in time for a given node."
   ]
  },
  {
   "cell_type": "markdown",
   "metadata": {},
   "source": [
    "## Degree distribution\n",
    "Nodes that have expected degree less than d at some time t are those i such that\n",
    "\n",
    "$(m + xam)(t/i)^{1/x} - xam <d$ where $x = 2/(1-a)$\n",
    "\n",
    "ciritical i is such that\n",
    "\n",
    "$i/t = [(m + xam)/(d + xam)]^x$  where $x = 2/(1-a)$\n",
    "\n",
    "$F(d) = (t - i)/t$\n",
    "\n",
    "$F(d) = 1 - ((m + amx) / (d + amx))^x$ where $x = 2/(1-a)$"
   ]
  },
  {
   "cell_type": "markdown",
   "metadata": {},
   "source": [
    "## Spans Extremes\n",
    "$F(d) = 1 - ((m + amx) / (d + amx))^x$ where $x = 2/(1-a)$\n",
    "\n",
    "- As **a** near 1, so that all of the links are being formed uniformly at random, then this is nearly a negative exponential distribution.\n",
    "- As **a** near 0, then the x just becames a 2, and we're going to get our 1 minus m over d raised to the 2 power the differentiative, the density function, this look exactly like preferential attachment"
   ]
  },
  {
   "attachments": {},
   "cell_type": "markdown",
   "metadata": {},
   "source": [
    "# Simulate to check\n",
    "\n",
    "![](https://lh3.googleusercontent.com/6h_3nq-dWgJW6crnsKchIWyW4Y0xYIs7r86VRBBGXDrVrWORYeTFI8OSnUJhOfIoIrgrWokaGM3J-nN-sjfwYpoYWOcubgnl9qfQ5El61CDBVbsQxg_zWYY3tDxPrCNTDbD5Y3_2Qaj53DD7aOeINwv7K7mEZU8JsuHblQDQH1hE-ZUQfXpTiG9utvPT01Rz6W7lABX1GHKTJCcTN7vjrP63SzqKs3UnrYEwQgxwlleGTC_keE11JcanotXMX27E7KdBfq-e1qcp32_hFHAgCCSx3ZCMJSMrmYsaGhSe0pJ9gyzqIzVm9pyZGrAifpG6K8XvJp8_o9PN3vWhQWZHE2P4KknMD5eRG2qL4jw4_ggHSnP4ZSxIvsZslLBmVaMFF44C_RRMMcPEfE36BxaEThG3iXvFxBfWSCxVZUYEbGOVNT8bhL_hR2Cwl_TIrJcmROmHDkdGljY0AXZyRxiqmQhfYjwMkajYECKzfOguHD9HJMovlzgHDBnbIFfLOAfPt4hvWM3Ifa0BSMExFJtFdgVJ3TNqyEBBYsRs4mKVcw8wpzNhE2_nbkw07t5-lZMEKM0KQfdCrDW2CYEamdFAIsPPdTAg4B4-UF_6HSgiSRtc_0YJ02-GJ-qjQAguWWCYLQbmfpPFLXC0pM3R9L_n9y5zKjHN7-y_OQx1rJxqzvY8obAN_KPBjHlt=w810-h544-no)"
   ]
  },
  {
   "cell_type": "markdown",
   "metadata": {},
   "source": [
    "# Degree Distributions as vary the random/search parameter\n",
    "\n",
    "![](https://lh3.googleusercontent.com/2x3rk-20izMdKVPw6ijyADUFsmuMN7XE6x9Y6Fe--9QSlxUwsHVeW3uuLePbdRheMx9-WVrGUyS1PWpxdb_xULBB9XUYLBdLjQ9jDkCrz2VzygRc_qphG_CHtPHpH_TdVFN--IPzi8SPYP2J1fQMSSq3sFQPgSX9uGxmD5bSbiLSJSthjfwwLBroLrgMSOQ8nhR-zBa4JCJ-IFQixIeNkhAqnE579rXRrN_xLl82I5xY8qhe1gzrgULtRTkCmqC0ebfGfPwyQzWoFK8frWdZyY_lTmvcykYzLickNg_CFstiUXk068TQMa90u8DNcziQDqMoFm6M6qpo4Uug9bugNeQVeyO55DYLU1nQhOlZcrjkNhRPYfgM-o4fVm-z1kdtdMYYAx5dICXKxbtbTi57ry1AihNN-qwsTfhz3QLUUyuJtBMtGv7O3RgP_7Br9J-iAjZ9GYv1FNnUiewe-brZmALEeDKpGLMt1enW4creHVxDEeqph2jJrcD3bexAft9zZvq022aKwLBSIShgZxm73Z3-f_-Vu3oFuYfnq2pA8TosuR6tcp31vnutqq4k_I4DUhb_QyJWo-seRUGl_GV-y1D2R09DcEKTheMbnzvHSDKxCY4uZU9ScAVLQf3tyv6YyzfsfDqiG5fCVVBz3jWA4hk7JqvARLBuIfyWVXJCYvvJcNVksHyqRZII=w1120-h460-no)"
   ]
  },
  {
   "cell_type": "markdown",
   "metadata": {},
   "source": [
    "---"
   ]
  }
 ],
 "metadata": {
  "kernelspec": {
   "display_name": "Julia 0.6.4",
   "language": "julia",
   "name": "julia-0.6"
  },
  "language_info": {
   "file_extension": ".jl",
   "mimetype": "application/julia",
   "name": "julia",
   "version": "0.6.4"
  }
 },
 "nbformat": 4,
 "nbformat_minor": 2
}
