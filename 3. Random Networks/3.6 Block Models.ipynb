{
 "cells": [
  {
   "cell_type": "markdown",
   "metadata": {},
   "source": [
    "# 3.6 Block Models"
   ]
  },
  {
   "cell_type": "markdown",
   "metadata": {},
   "source": [
    "## Random Network Models:\n",
    "- Erdos-Renyi\n",
    " - Useful for understanding thresholds and how networks come to exhibit certain features\n",
    " - Miss many real-world features: e.g., clustering \n",
    "- other models link-by-link models\n",
    " - Watts and Strogatz, Barabasi and Albert, Jackson and Rogers...\n",
    " - Capture other features: clustering, degree distribution, correlation...\n",
    "- Stochastic Block Models\n",
    " - Enrich Erdos-Renyi to allow for probabilities to depend on node characteristics, attributes(or on latent - unobserved characteristics)\n",
    "- Popular set of models: ERGMs and new ones: SERGMs/SUGMs\n",
    " - flexible way to introduce various local features and dependencies\n",
    " - estimated statistically"
   ]
  },
  {
   "cell_type": "markdown",
   "metadata": {},
   "source": [
    "## Block model\n",
    "Extend the basic Erdos-Renyi G(n, p) model:\n",
    "\n",
    "Nodes have characteristics:\n",
    " e.g., age, gender, religion, profession, etc. links between nodes depend on the pairs' characteristics. So people of similar ages are more likely to link than people of different ages, people of similar religions and so forth."
   ]
  },
  {
   "cell_type": "markdown",
   "metadata": {},
   "source": [
    "## Networks with attributes\n",
    "![](https://lh3.googleusercontent.com/OHGZ8rowDXm4tUXqaAZc7_bxcX1iEFwnPb_93MhSbilDvnYwTKdb5FYf33NVdMR1KHgmxlu-PG00lBhsKIh7PGullFe2UmooT40asQrLeBbVFX5SmaM21ioFjnG8bGgfl90TwkykGgIB8AzwjKmhLPeXGUVQBzeRQOKZvC39DJwBBiarwjQiz4V_7EmQxqAHvzBcxHAJqplVnmmNSj8PD3Q-Xx2p69h04bPs8JHkny2R9y2ug3hJsw8nAC-Doxt3RywPSKE3jeQkGSTHMeMbVS9MrPStSBGIMSfACR2w8E0QELg1kK3jTLRMSEWFeLVUFFyVyBNWr4cAuMM-axIumeYT8ogqsO4hV6Hu6fALH3p8h_709MEu8wYNjANg1r3UO6-oRMfeZhckHI8KHfYfc0FKPU4Cl0jSxQARql0CpfDJMVQZyJQxNk4Gtoxb18IQj6bkYWbMrQeH-25mcgaFLjiYXVuBj-D5NFRPa-w9I62FKlikba7uBm9zHGhIpYy3fIM2Nh_OJK47C5rK5NM8Px3_KDUE_4WVtg_1Lj45fn5H9vOzYqRH_SXgUXsvsa08nSoIpQCnbbyNjjAC9iMrL2b8Ts6nOcJ2mgxMEGJlAZo7G822uf_iJgllpm0Ozf-VbbG2YwUlo5Dg4Qhhl1SKCQUgOYyqDM2Ks6gV56KLsUjmrepodQTToN4A=w712-h374-no)"
   ]
  },
  {
   "cell_type": "markdown",
   "metadata": {},
   "source": [
    "## Block models\n",
    "Continuous covariates:\n",
    "\n",
    "For instance, we keep track of age in days or in fractions of years, then we would have instead of just green yellow and blue, we might have people that are 34 and half years old and people that are 60 years old and so forth.\n",
    "\n",
    "Example: link between i and j depends on their characteristics:\n",
    "\n",
    "$\\beta_iX_i + \\beta_jX_j + \\beta_{ij}|X_i - X_j|$\n",
    "\n",
    "E.g. log of probability that there's a link between i and j compared to the probability that there's not a link between i and j:\n",
    "\n",
    "$log(p_{ij}/(1 - p_{ij})) = \\beta_iX_i + \\beta_jX_j + \\beta_{ij}|X_i - X_j|$ \n",
    "\n",
    "Now it's a more complicated stochastic model, but one that still very easy to go ahead and estimate, and you can use this in most any standard statistics package or allow you to do logistic regressions.  \n",
    "\n",
    "Could use this sort of model to test for homophily...\n",
    "\n",
    "![](https://lh3.googleusercontent.com/tpAIhNR8eR_5ssIBBQdY_K1pwpyQ3Gv5N4CU6w8xvI6pkiQzcD8UcCehMvv5TDdywQVTZLcPwNCwf8iS6FL06uM1s_JkEBVOpO7GtMIuLmTONTBLBxQZQ4B603Tm3xYRWt2X9I0ztaPDvfD1Kr8p9K00XcPGSnTgS8JywKhMjMPBRa9J095svNGLKWBvghNAnICZJnEOodO5G9yfEAhW6tu0TZayCiQGfv-Or765hMsT8B8MrWMrx5AntIBoF1YEzGQTr9RmCjj_8lSOXm6YndeyYdhOFGklIusECgMq25U5xqhickcFTYmT3L-xrkBSPJ7sR5oZHb8DKfQghEcAZQ4C4eQZuoftWyEDngRCfuLvcdC0I4pqOcoHDODVb_rMyKaQsXeo4vE0b2yxCujRSLg7fPOPP0j4RbYQsYJaO1i3rdDxVaVXrFmDuYlJCRgwRrpSH45cyFuEk-i0jfhVnfu2F8luJyTrJEo3NZSRrgRocu9BgmOp5SJnHVJT8PO92PEK3_LnF5-ZgZ0WlJZ67cR4dSBknrNsWf5lgMumc_JOr6crkKkhpT2zgLx8NxwUyZRQBd7eRmXwAIM9klBJRKMMGFI2d6HzODZ9TNj0ySyAsD0dKRRhMka_DxoBpZL4TVtjaxx7m6Hj0Qvk3bkvQZDhHb1XuOYsYGPvBWMxNjJyN_hJj8rpit9r=w692-h408-no)\n",
    "\n",
    "![](https://lh3.googleusercontent.com/3vYCHrTH8NQCFD1wVAhUSIVCYe5XtMd9uFLjUuEYZq29_KY3IVwRCDJO2F1usHU943Y-6G6pqkFNaUXtqf0NS5IWJYGivWT5qhSKxPZ33nQHd1KMJXNw9UPHtAiEC8qC3dWeNnxSvMyIoqh1Bh5F4CcvAB928iwtWNAm6zBK2O1Ux5vM6MsfJHmfl2O9R2XuwUsTcPatDGA5n-rXwC8ApH6TdHrNajqcLHdPbXUsrgZ-Sd10HuojYf9LDCfhcFMYZ6oq-XZTkf_gvnJURBEUqvyjBkohhXBYzqYt6b4eStSvnyLeHnm02aR7a6ncCclHC3EeXGv9EtXl28K1Kn1TvdFCfWRbxA4ZW-5mqJa_fePWs8fdT7zOtUR-Mdx8O-QGAma6zdVQciUvyQRCtRiXuLYnHd0jPTBQBpEWCLtpvLgvcvQlHMDIDnRvcGBkvdXb7So8QeI3oUB8w_7769rorBXiaFSu1e9RPHwe819dAv-eUja4ccbriF74gYviX_Bf0tOvWZwkVpHNjXyfTqhZ6KG-kbMuWiUsJj68Ok6giVYp8JXWbjMejQNCkkB10iENCylKI-gr3ZWHQiq4NkGkCzvFCmgKBsr31bH28RhsTlrkB_MJ0uqxpC_4OBs4FpkyngVNemTR3JtqrFDRn7s8WRJbeicPXt-pBKbGFKYQo60KS8TiILSF3Z60=w1231-h690-no)"
   ]
  },
  {
   "cell_type": "markdown",
   "metadata": {},
   "source": [
    "## What is missed?\n",
    "- Likelihood of link depends on node attributes (observed or latent)\n",
    "- also depends on whether nodes have friends in common\n",
    " - A and B both have a common friend C makes it more likely that they are going to be linked to each other than if they didn't have a friend in common\n",
    " \n",
    "![](https://lh3.googleusercontent.com/yBOcinUlJ-LZTxLl8klpxhbHPGaeaOSyOe3MjI6bXWFv141BAOyRaAOeJUatYrP9o2CSvYkRvs8aOO7KlqWUiXafQxxDFwkQYx65o9pee0m2BC0B1fNSQzs1aq4rxdBElLzFyGPCX5hFCHfXCrvmReUdRLDMCqTB3TTk75conC7yTZKb0EJeCYD7Ax6yXXIHlMTvg0VjYhAshxqOHv4VkSUAHvKFI1wJqvHEOaf7Ml0urz6h5A6KsdYV6iC52NC72Vd9-Kj4ry3O2vgn5KxqhvbC6tfMHHiQocLSLRf1KbKx9oSZl1zHdmy_IKWqb9Y1PIlcste5hL9GDILt7Gk29XHXwL24vMFD5NAPFVUyAhcppGnZkF12PQeh6xF7VB5_BhhI5ZHZI_MQGfv9lGe4UL1EQDyvmEsQjy2mhZPaU4vdoHpgkgaFlZTk242ZIfZzKV37wGLlG2BVe3jJ3PLPRp4VjuQB9ZtkAQLlcFP2QvkJlbXccwbAP9NJclq74p0EOdw7_bjnj6I8u6z5CEB7oQxb_qPcgjLQwj1pOdsUYyRJAAXcPjQk0kBhQp5ZfwDGjvKAfkFZa_SJ942lSaBzbsuCVcixKPSkncu63NSOoMTNwlDHdYC_ZBJeoQIDQJvkUrViKVGgSCYojANK2gGqQGF45Fco4rEHj2LEzqXPaybdwGVgaI_a1FdF=w344-h240-no)"
   ]
  },
  {
   "cell_type": "code",
   "execution_count": null,
   "metadata": {},
   "outputs": [],
   "source": []
  }
 ],
 "metadata": {
  "kernelspec": {
   "display_name": "Julia 0.6.4",
   "language": "julia",
   "name": "julia-0.6"
  },
  "language_info": {
   "file_extension": ".jl",
   "mimetype": "application/julia",
   "name": "julia",
   "version": "0.6.4"
  }
 },
 "nbformat": 4,
 "nbformat_minor": 2
}
