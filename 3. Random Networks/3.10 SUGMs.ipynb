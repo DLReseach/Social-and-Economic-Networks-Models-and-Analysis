{
 "cells": [
  {
   "cell_type": "markdown",
   "metadata": {},
   "source": [
    "# SUGMs\n",
    "- Subgraph Generation Models\n",
    "- Subgraphs are generated, network is by-product\n",
    "\n",
    "what the idea here is again we're going to be looking at, at ways to easily incorporate dependencies and networks and think about different kinds of sub graphs that might be forming and allow those to be generated and try and estimate how they're being generated. And the idea of SUGMs the, the, the terminology is quite simple. It's from subgraph generation model. So we think of subgraphs as being generated. Links, triangles small stars etcetera. Those are the things that are going to be generated, and then the network is a byproduct, right? So what's happening is people are forming different types of relationships, different kinds of cliques, and the network bubbles up from that.\n",
    "\n",
    "- Nature/people form $S_j$ subnetworks of type j each indepedently with probability $p_j$\n",
    "- May intersect and overlap, sometimes people form links, they also form a clique, so I end up partnering with somebody but I also form groups\n",
    "- We observe resulting network, infer the $p_j's$"
   ]
  },
  {
   "cell_type": "markdown",
   "metadata": {},
   "source": [
    "# Examples\n",
    "\n",
    "![](https://lh3.googleusercontent.com/IDHP-Gu2hisdtL8sVvXkT4ZXc4Br7ZnJf8BVj5b-4xG_XEipz_3hI7QpGIlDVtb-3Dw7QhqEUM39OG0HgR6RgW4K1E1hewPl9guFb2cALbPcpAnly5bnTYWWNXUmGl_6Xv2-1poJ5VcchSTk6zOxZkNOONlQAukZOqfkOA4sQc4Mj7MrlC-dSDTIdYMtrsubJQzPiokBy6R0A0Gu1Pg0GFqutJLPmB_b6hKS8JbDrAJUph1v0tNsC6cOxxDtYmAcxYAK94Bh4-5TTmtQQOIi6GrH4P67KS_oU6sQ8VnbFXSFc7HwcL_eUsADEuVrnM8-dimavoRYyFxK1knU4IQfmUAHHPugz28Uht783CmgveRK4OrTr8TqkKhJVcao3Gurz12WsXMSWwaEYNl2z0YdtRZhny14BAfik6FAR4GX2LfR4-8N2PRfIlSiPhltsVl070pju1k0WgwS-Lv7wo2JfivOywBkRQnSNfhg4Cuouw2f_Y-phT2PY8yHiHrLyINLp5nFkGmj-KsDUw_0JNyX2UMC6gnqMrhjw1XelO0SH3ZkmfY8IVkRPlNV2N8zdVsdW0Bkj6TypCydOY0Fv5o09DZqe1Yo2JhrA0fW19XajqJX0Vv7QJmFxCvNkwPEEkYyBWC25QRjsvjKM1PBAuawb6S1jv4FCmi5T8K8va2ckWZFO7ZcGCzWMg2A=w771-h510-no)\n",
    "\n",
    "![](https://lh3.googleusercontent.com/0YWySou5-bwNmdyU-sB6PZSJwcLDFvsYRMS1mKj_WDiXvqDee03zLlh8tQH4PJjn9Iv62qGtFBepyESqwstGej6rrNqMtCoLSds_YehtNyIARZ5TwneFBsMRjI3G0IbpWhbLVwyaYB0gyjckbabNc-KZwTL4mEktuI__1U7az2hpeRzAk1voLmp34L7m1kRH5PvWJeJ0idvyaamQ0hL6YPYauXqB3-YoPM7lOdjfLRvEHpHngmrp8Vp2o95qMJm5x2opkOIFEsTW8Rsop4rNcno1QgdX8cxDCgOsLOh1NQsXLc2L3KmxW2EnwigAhxKSZRMxfG_Wp8DDrj7oZFxJMKBuIjvyoBIOdeaEOZGm8L-MHa3cO9_Z9zF477VDV_H5lDR7KA_E9BjktGGYf_f2iLEduAwcnDuq8PB__MFl5YdD8kxGM3eLlVpnA_mZKsiNVL3a7xDpSuASrD6Z-vaMfbVxD_YtObWT7XrQfQ8wE_RP-Qp1lXP1P65YdARBDOj8rLrS6t0d1squtdBUwGaMB2Vd-pUy1lpHwDzqNX_HayZUauaNnyBI5ZXoHxHljuWabQEJUfsnYxww5lzKfAD-wSqRBqnt941mqmRBpZaNI-7BED5ehcBRQ7o3DoPQ1Q5tt0tiwxYPUHT1M6IOwF6VjDJrOnKN0u3XYiAiXOdynYM99ekB9ysqdkQW=w720-h528-no)\n",
    "\n"
   ]
  },
  {
   "cell_type": "markdown",
   "metadata": {},
   "source": [
    "# Links Form: Incidental Triangle\n",
    "\n",
    "![](https://lh3.googleusercontent.com/Bqe2N6516aNyZjuTfhbtcPyJLMfS2iBvd7G32JPYISDrdmxTtjLl-FVRCI2ruthMsO9-nk0yxnDDpDRia7ndY4uzpzJdqtoMhB72hEikLc5YjddJoxp9m_F-eIkJFpGaoXP7hFjRjWh6fRblw31M0NbVypGJzLwn5H3A3QGSMYbQH6nQDSXTmA4qg5ihIcGrGZMPFg0JxNzExiZBW7_knIjrRPEP3zx43886aGRmNudbG2EQBWrqjlx50BxjshzvbUb0f_g8TrVA-314nm92C0tDtD7VgUqxr7yywHOxtYPAMq3yCaU2SBkXDn3BC4WbJyRqyY-EjRTk1xqv0uBuVNXqydHp31CWYHc7EonAtZA3lagve2gkwtML4em-D9SSvJAu5sEi0pd_pWQO1yMVIEsTspslcI3KQfcVfrqvy6466pJDrN0v07-9pKY2sVs3kKdmCf5qpgs46kZD24mAW5tfbUlhyY_HIJcDSTe0jMPj5MI03C5IY71UkOBLuCrET4pnKtgM9EQedxpdnDQHj9Lle00eSB8omeflHWyzVq72S2oXQUOR4d0Q2SqmMz-pAfs0mINC1MEEPU5SY9kpTqYet_vwJ4-8E04nv1XZMZJBpWwnPam8Xk5bhbfMz-n-Rz9I8yvXiEV3ToDYic3qs32mA-mx1rxEjXeGW_TicIgB2Z7-W8IN9I5m=w716-h526-no)"
   ]
  },
  {
   "cell_type": "markdown",
   "metadata": {},
   "source": [
    "# We see\n",
    "\n",
    "![](https://lh3.googleusercontent.com/_PsxIpOWyV2AkQ1SOAmyfDKHHAyuf5A-LJ30_X2JcdzbsxysMRNtIdTCZ0I2NWpsSkTcUQrGWkHSH5OoxGvhU9srNrUS_4D_eiUieSPYiU1CG-FM3vUpr6q3xzzIQiKyhoqK36wqkeHH6T9Urr9xSThoTwNXItFcCoG5BydFZkLnMAEl3AOAZpwnqpR9jHLm0x6g9tB7dFXd4_eckScZnJs1MKiHyi-BmmUJWIoREC7Ae2zXgFAfmn-edswuq5FB2eJ_MCJwk-SPSE97ZL12EtN1fwFv5WBWelREDgNhVwuLlCKOX4gdH6rlZKHD0mONOvV7BV2LWa2LWvx38NeH5SQUz1i-58BjoYYA_DfgDG42__IiSVVCwk7sTNHTgfAaV_5QhaU6O5RchKgG8oxvDUOxzuRD8yzqe42wDmbA0krmny66zQwlSr-rOVBZs9IxxhU6ropEznVBlKxreKu_A1bq3JfrgvVkV1yWHHh1IVjguwvK8-fkFYrl8AVd8APvWmYhM5QFM4nRxCsYDECgpq-2t_fL_2yG5niHJ337dTVjzE-9yrAwI9V9pBNSIOFE4-jd8KsrEBambbXum_wcv-j7DETeGqo4PkfIcY8NN-LRN_wUoAdUEa5pR2-iZiP5o8PR0Obq-dE4BIC9h79D2bA5U_LLi9C_YE5pLMELfWLglb4U1dDRaKT7=w769-h524-no)"
   ]
  },
  {
   "cell_type": "markdown",
   "metadata": {},
   "source": [
    "## Relations: SERGMs/SUGMs\n",
    "- Can we view SUGMs as SERGMs?\n",
    "- Yes, and it motivates specific K's\n",
    "- The true counts of exactly how many triangles are formed and how many links are formed aren't exactly observable.\n",
    "- However, can get close to estimating them and observing them when things are sparse\n",
    "- So, sparse SUGMs define easily estimated class of SERGMs..."
   ]
  },
  {
   "cell_type": "markdown",
   "metadata": {},
   "source": [
    "# Theorem: SUGMs and SERGMs\n",
    "Consider a SUGM with parameter $p_j$ and let S be the true counts of subgraphs\n",
    "\n",
    "Then $Pr(S) = \\frac{K(S)exp(\\beta S)}{\\sum_{S'}K(S')exp(\\beta S')}$\n",
    "\n",
    "$\\beta_j = log(P_j / (1 - p_j))$ and $K^n(S) = \\prod_j \\binom{S_j}{\\bar S_j^n}$"
   ]
  },
  {
   "cell_type": "markdown",
   "metadata": {},
   "source": [
    "# Sparse: Few Incidental Triangles\n",
    "\n",
    "![](https://lh3.googleusercontent.com/i1Bu1LXDvGdQUfnxFZxTd_M9yYMEmXfVr2DGTKAYTiHWIZimJs2oKNfdurk_BB7xOiyYQuoRKqNlvGg6en0YEkjxFdZOMZI4LKDg3O2NJx0FEbhqHdDS15IAGn1mGRNM-bmiTDQD_cXSt2LNhbpO7zzgUzFLdTlner4di3CiEsn31yHySagomoi5Mule9ZxfBmETlO0v7k053O2RDrMmxvLZP30-eEElklM0uicu6LLOoz6TX8TOvzUB0EDmDwdQ4-HmYIAxSRSUNamUV8oAxLbMZr-I1haHsnNliJq4oud_UabfDQRG2Hz23z3fy7jg910MrHqWSVfQ6Oy_Nj3RIDOkg5FQ63JR7a1ziU-JDlJxgu4OGk5TxcBnIy0PyuWzvcJhr2io7mRzw6jfb_bqx9RAGlFHaPlTB6tThcG5Ph8LBHHBMqjCk2KP6Z5vLYPoIQ31J-acL6ALSCgF_iha6g7mxpzxromhe7VeNThXEuo6xgKGMtx7DIa1zbmIJw6hDksk3OFB1VmVei6yfwzJ6e7X2QNg-IwZAfDeDvfl15bash-d3RJNFr6rfMQGJZRObK7bn-QTp4PINMgmKVoQAJFD9UpdwgnCsh2Qjb0DxxepOiDNtRaehNdvvPAq64QwwCGHNAtzybOC3bI4kxbB0R7Bpr4xhwN_6X_x0JbXUzgkyoEv6Fr9P1TD=w460-h338-no)"
   ]
  },
  {
   "cell_type": "code",
   "execution_count": null,
   "metadata": {},
   "outputs": [],
   "source": []
  }
 ],
 "metadata": {
  "kernelspec": {
   "display_name": "Julia 0.6.4",
   "language": "julia",
   "name": "julia-0.6"
  },
  "language_info": {
   "file_extension": ".jl",
   "mimetype": "application/julia",
   "name": "julia",
   "version": "0.6.4"
  }
 },
 "nbformat": 4,
 "nbformat_minor": 2
}
