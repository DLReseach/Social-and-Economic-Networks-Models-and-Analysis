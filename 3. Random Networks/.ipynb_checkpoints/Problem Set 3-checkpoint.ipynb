{
 "cells": [
  {
   "cell_type": "markdown",
   "metadata": {},
   "source": [
    "---"
   ]
  },
  {
   "cell_type": "markdown",
   "metadata": {},
   "source": [
    "Consider the model of \"Growing Random Networks\" described in lecture 3.1 (so the first model where links are added to existing nodes uniformly at random), with m = 10m=10.\n",
    "\n",
    "At date t=40t=40, what are:\n",
    "\n",
    "(1) the expected degree for node 15 born at i=15, and\n",
    "\n",
    "(2) the expected degree for node 30 born at i=30?\n",
    "\n",
    "[Hint: Use the approximation for the expected degree at time tt of a node born at time ii, from the Lecture 3.1. Also, it helps to think about which of the two nodes has a higher expected degree.]"
   ]
  },
  {
   "cell_type": "code",
   "execution_count": 1,
   "metadata": {},
   "outputs": [
    {
     "data": {
      "text/plain": [
       "19.603140457073827"
      ]
     },
     "execution_count": 1,
     "metadata": {},
     "output_type": "execute_result"
    }
   ],
   "source": [
    "sum  = 10\n",
    "for i in 16:40\n",
    "    sum += 10/i\n",
    "end\n",
    "sum"
   ]
  },
  {
   "cell_type": "code",
   "execution_count": 2,
   "metadata": {},
   "outputs": [
    {
     "data": {
      "text/plain": [
       "19.808292530117264"
      ]
     },
     "execution_count": 2,
     "metadata": {},
     "output_type": "execute_result"
    }
   ],
   "source": [
    "# (1)\n",
    "10(1+ log(40/15))"
   ]
  },
  {
   "cell_type": "code",
   "execution_count": 3,
   "metadata": {},
   "outputs": [
    {
     "data": {
      "text/plain": [
       "12.876820724517808"
      ]
     },
     "execution_count": 3,
     "metadata": {},
     "output_type": "execute_result"
    }
   ],
   "source": [
    "# (2)\n",
    "10(1+ log(40/30))"
   ]
  },
  {
   "cell_type": "markdown",
   "metadata": {},
   "source": [
    "---"
   ]
  },
  {
   "cell_type": "markdown",
   "metadata": {},
   "source": [
    "Consider the \"Preferential Attachment Model\" described in lecture 3.3, with m = 10.\n",
    "\n",
    "At date t=40, what are:\n",
    "\n",
    "(1) the expected degree for node 15 (born at time i=15), and\n",
    "\n",
    "(2) the expected degree for node 30 (born at time i=30)?\n",
    "\n",
    "[Hint: Use the approximation for the expected degree at time tt of a node born at time ii from the lecture 3.3.\n",
    "\n",
    "You are encouraged to compare the results here to those in Question 1.]"
   ]
  },
  {
   "cell_type": "code",
   "execution_count": 4,
   "metadata": {},
   "outputs": [
    {
     "data": {
      "text/plain": [
       "16.32993161855452"
      ]
     },
     "execution_count": 4,
     "metadata": {},
     "output_type": "execute_result"
    }
   ],
   "source": [
    "#(1)\n",
    "10*(40/15)^0.5"
   ]
  },
  {
   "cell_type": "code",
   "execution_count": 5,
   "metadata": {},
   "outputs": [
    {
     "data": {
      "text/plain": [
       "11.547005383792515"
      ]
     },
     "execution_count": 5,
     "metadata": {},
     "output_type": "execute_result"
    }
   ],
   "source": [
    "#(2)\n",
    "10*(40/30)^0.5"
   ]
  },
  {
   "cell_type": "markdown",
   "metadata": {},
   "source": [
    "## Problem Set 3\n",
    "Consider the \"Hybrid Model\" described in lecture 3.4, with m = 10. Let us compare the cases of a - 0.8, and a = 0.2\n",
    "\n",
    "At data t = 10000, consider a node born at data i = 20 and a node born at data i = 9999.\n",
    "\n",
    "Recall that the approximation of the expected degree at time t of a node born at time i is:\n",
    "$$d_i(t) = (m + 2am/(1-a))(t/i)^{(1-a)/2} - 2am/(1-a)$$\n",
    "\n",
    "Which option makes the following statement correct?\n",
    "\n",
    "At data t = 10000,\n",
    "\n",
    "a node born at date i = 9999 has a _______ expected degree with a = 0.8 than with a = 0.2; and\n",
    "\n",
    "a node born at data i = 20 has a ________ expected degree with a = 0.8 than with a = 0.2\n",
    "\n",
    "[Note: After this problem set is complete, there are two optional quizzes that you may follow. One will have you use some software to analyze real network data ( `Quiz: Optional: Empirical Analysis of Network Data '), and the other will have you use R to estimate and ERGM, (Quiz: Optional: Using Statnet in R to Estimate an ERGM']"
   ]
  },
  {
   "cell_type": "code",
   "execution_count": 1,
   "metadata": {},
   "outputs": [
    {
     "data": {
      "text/plain": [
       "expected_degree (generic function with 1 method)"
      ]
     },
     "execution_count": 1,
     "metadata": {},
     "output_type": "execute_result"
    }
   ],
   "source": [
    "function expected_degree(m, a, t, i)\n",
    "    ed = (m + 2*a*m/(1-a)) * (t/i)^((1-a)/2) - 2*a*m/(1-a)\n",
    "    return ed\n",
    "end"
   ]
  },
  {
   "cell_type": "code",
   "execution_count": 2,
   "metadata": {},
   "outputs": [
    {
     "data": {
      "text/plain": [
       "2-element Array{Float64,1}:\n",
       " 10.0009\n",
       " 10.0006"
      ]
     },
     "execution_count": 2,
     "metadata": {},
     "output_type": "execute_result"
    }
   ],
   "source": [
    "[expected_degree(10, 0.8, 10000, 9999), expected_degree(10, 0.2, 10000, 9999)]"
   ]
  },
  {
   "cell_type": "code",
   "execution_count": 3,
   "metadata": {},
   "outputs": [
    {
     "data": {
      "text/plain": [
       "2-element Array{Float64,1}:\n",
       "  87.5481\n",
       " 175.169 "
      ]
     },
     "execution_count": 3,
     "metadata": {},
     "output_type": "execute_result"
    }
   ],
   "source": [
    "[expected_degree(10, 0.8, 10000, 20), expected_degree(10, 0.2, 10000, 20)]"
   ]
  },
  {
   "cell_type": "code",
   "execution_count": null,
   "metadata": {},
   "outputs": [],
   "source": []
  }
 ],
 "metadata": {
  "kernelspec": {
   "display_name": "Julia 0.6.4",
   "language": "julia",
   "name": "julia-0.6"
  },
  "language_info": {
   "file_extension": ".jl",
   "mimetype": "application/julia",
   "name": "julia",
   "version": "0.6.4"
  }
 },
 "nbformat": 4,
 "nbformat_minor": 2
}
