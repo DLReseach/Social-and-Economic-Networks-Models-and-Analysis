{
 "cells": [
  {
   "cell_type": "markdown",
   "metadata": {},
   "source": [
    "# Social and Economic Networks: Models and Analysis\n",
    "# Matthew O. Jackson\n",
    "## Stanford University\n",
    "## Santa Fe Institute, CIFAR\n",
    "www.stanford.edu\\~jacksonm"
   ]
  },
  {
   "cell_type": "markdown",
   "metadata": {},
   "source": [
    "---"
   ]
  },
  {
   "cell_type": "markdown",
   "metadata": {},
   "source": [
    "# 3.1: Growing Random Networks"
   ]
  },
  {
   "cell_type": "markdown",
   "metadata": {},
   "source": [
    "## What do they add?"
   ]
  },
  {
   "cell_type": "markdown",
   "metadata": {},
   "source": [
    "### Realism(?)\n",
    "Why do we care about having growing random networks?\n",
    "\n",
    "One thing to emphasize just from the start is when we build models. We know that we're not going to try and capture everything in the world. And so realism is not usually a good reason for building a model to try and match reality. The reason that we build models, is to try and use as few moving parts as possible in order to reproduce the world. So the only reason we want to add this feature of growing random networks is not because that's the way the world is, but because this richer model might capture something in the real world that was not captured in the static models. So you shouldn't judge models based on realism, they're always wrong, the question is are they capturing reasonable elements and so here. "
   ]
  },
  {
   "cell_type": "markdown",
   "metadata": {},
   "source": [
    "### Natural form of heterogeneity via age\n",
    "The natural form of heterogeneity versus age is going to be useful in getting out more connected nodes and less connected nodes, and starting to see power laws and fat tails.\n",
    "\n",
    "### A form of dynamics\n",
    "So we're going to get a natural form of dynamics, and in particular, we're going to end up with a natural way of getting different degree distribution without just building them into the statistical distribution. So we could just assume that there's a distribution that has the features of reality.\n",
    "\n",
    "### Natural way of varying degree distributions - not pre-specified as in static models\n",
    "We want to do is see if build a model that will end up generating features that look like the real world, and this sort of dynamics is going to help quite a bit."
   ]
  },
  {
   "cell_type": "markdown",
   "metadata": {},
   "source": [
    "---"
   ]
  },
  {
   "cell_type": "markdown",
   "metadata": {},
   "source": [
    "## Growing and Uniformly Random\n",
    "\n",
    "What we're going to do is start by taking **Erdos-Renyi** random network situation, this simple benchmark will give us an idea of some of the techniques, then we can enrich is to have different kinds of formation processes besides the uniform at random.\n",
    "\n",
    "- Each date a new node is born\n",
    "- Forms m links to existing nodes\n",
    "- Each node is chosen with equal likelihood"
   ]
  },
  {
   "cell_type": "markdown",
   "metadata": {},
   "source": [
    "## Degree Distribution\n",
    "\n",
    "- Start with m nodes fully connected\n",
    "- New node forms m links to existing nodes\n",
    "- An existing node has a probability **m/t** of getting new link each period\n",
    "  - *m*: the number of links being formed\n",
    "  - *t*: the existing number of nodes that are already there"
   ]
  },
  {
   "cell_type": "markdown",
   "metadata": {},
   "source": [
    "## Distribution of Expected Degrees\n",
    "\n",
    "Let's think about some node i that was born after the original m nodes that we started with that fully connected, and before some time t, now let's ask how many links has it, does it expect to have collected by time t?\n",
    "\n",
    "Expected degree for node i born at $m<i<t$ is:\n",
    "   \n",
    "   $m + m/(i+1) + m/(i+2) + ... + m/t$\n",
    "   \n",
    "   $approx = m(1+log(t/i))$ (Harmonic numbers)\n",
    "   \n",
    " the first thing is that it forms some \"m\" links when it was born. Then in terms of expectations, the next day after it was born, if it was born at time \"i\", then the date now is \"i+1\", and there's some new node which is born, and so it has a chance \"m/(i+1)\" of getting these new links. Then at time, the next state there's \"i+2\", it's going to a number of new links are formed, and so forth.\n",
    " \n",
    "Nodes that have expected degree less than \"d\" at some time \"t\" are those such that $m(1+log(t/i)) < d$\n",
    " \n",
    " \n",
    "so it is those $i > te^{-(d-m)/m}$\n",
    "\n",
    "The fraction of nodes that have an expected degree of less than d, is given by this formula:\n",
    "\n",
    "$F_t(d) = (t - te^{-(d-m)/m}) / t = 1 - e^{-(d-m)/m}$\n",
    " "
   ]
  },
  {
   "cell_type": "markdown",
   "metadata": {},
   "source": [
    "## Degree distribution of growing random network\n",
    "\n",
    "- Distribution of expected degrees is such that d-m is exponentially distributed (mean m)\n",
    "- What about actual degrees?\n",
    "- Good approximation for large t - need careful large numbers arguments"
   ]
  },
  {
   "cell_type": "markdown",
   "metadata": {},
   "source": [
    "---"
   ]
  },
  {
   "cell_type": "markdown",
   "metadata": {},
   "source": [
    "## Problem Set 3"
   ]
  },
  {
   "cell_type": "markdown",
   "metadata": {},
   "source": [
    "Consider the model of \"Growing Random Networks\" described in lecture 3.1 (so the first model where links are added to existing nodes uniformly at random), with m = 10m=10.\n",
    "\n",
    "At date t=40t=40, what are:\n",
    "\n",
    "(1) the expected degree for node 15 born at i=15, and\n",
    "\n",
    "(2) the expected degree for node 30 born at i=30?\n",
    "\n",
    "[Hint: Use the approximation for the expected degree at time tt of a node born at time ii, from the Lecture 3.1. Also, it helps to think about which of the two nodes has a higher expected degree.]"
   ]
  },
  {
   "cell_type": "code",
   "execution_count": 3,
   "metadata": {},
   "outputs": [
    {
     "data": {
      "text/plain": [
       "19.603140457073827"
      ]
     },
     "execution_count": 3,
     "metadata": {},
     "output_type": "execute_result"
    }
   ],
   "source": [
    "sum  = 10\n",
    "for i in 16:40\n",
    "    sum += 10/i\n",
    "end\n",
    "sum"
   ]
  },
  {
   "cell_type": "code",
   "execution_count": 4,
   "metadata": {},
   "outputs": [
    {
     "data": {
      "text/plain": [
       "19.808292530117264"
      ]
     },
     "execution_count": 4,
     "metadata": {},
     "output_type": "execute_result"
    }
   ],
   "source": [
    "# (1)\n",
    "10(1+ log(40/15))"
   ]
  },
  {
   "cell_type": "code",
   "execution_count": 5,
   "metadata": {},
   "outputs": [
    {
     "data": {
      "text/plain": [
       "12.876820724517808"
      ]
     },
     "execution_count": 5,
     "metadata": {},
     "output_type": "execute_result"
    }
   ],
   "source": [
    "# (2)\n",
    "10(1+ log(40/30))"
   ]
  },
  {
   "cell_type": "code",
   "execution_count": null,
   "metadata": {},
   "outputs": [],
   "source": []
  }
 ],
 "metadata": {
  "kernelspec": {
   "display_name": "Julia 0.6.4",
   "language": "julia",
   "name": "julia-0.6"
  },
  "language_info": {
   "file_extension": ".jl",
   "mimetype": "application/julia",
   "name": "julia",
   "version": "0.6.4"
  }
 },
 "nbformat": 4,
 "nbformat_minor": 2
}
