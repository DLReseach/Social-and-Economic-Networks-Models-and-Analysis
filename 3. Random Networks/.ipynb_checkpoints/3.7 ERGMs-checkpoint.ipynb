{
 "cells": [
  {
   "cell_type": "markdown",
   "metadata": {},
   "source": [
    "# 3.7 ERGMs\n",
    "Models of networks that allow us to capture interdependencies, these are often known as **exponential random graph model**\n",
    "\n",
    "## Random Network Models:\n",
    "- Erdos-Renyi\n",
    " - Useful for understanding thresholds and how networks come to exhibit certain features\n",
    " - Miss many real-world features: e.g., clustering \n",
    "- other models link-by-link models\n",
    " - Watts and Strogatz, Barabasi and Albert, Jackson and Rogers...\n",
    " - Capture other features: clustering, degree distribution, correlation...\n",
    "- Stochastic Block Models\n",
    " - Enrich Erdos-Renyi to allow for probabilities to depend on node characteristics, attributes(or on latent - unobserved characteristics)\n",
    "- Popular set of models: ERGMs and new ones: SERGMs/SUGMs\n",
    " - flexible way to introduce various local features and dependencies\n",
    " - estimated statistically"
   ]
  },
  {
   "cell_type": "markdown",
   "metadata": {},
   "source": [
    "> A pertinent form of statistical treatment would be one which deals with social configurations as wholes, and not with single series of facts, more or less artificially  separated from the total picture.\n",
    ">\n",
    "> Jacob Levy Moreno and Helen Hall Jennings, 1938\n",
    "\n",
    "We're looking at social interactions and people are interrelated, we're not going to be able to look at just binary relationship diads.\n",
    "\n",
    "![](https://lh3.googleusercontent.com/kM0Zf1a1wkPV_Cqqvz9E9jvsjC3TH2BywsdzrSqi84gfEpDhc6oyyVaR590pLOu7USu2DzPsNlqrA0DiriYRfydIwyyWQZygOMSsWzVt04-GOS5aRKqMVzWPXMDw2eK86q-UPgZ5a7TSnyBI0wN3lR0Xy_Rjc11AUWP6MaLjOa6vMT8L3cRGiHtzLWveGqgs251MbEtDN4Yd2xNoFwVVqxv4fw3_02jiqoUl5QW9TOCAv1Fbsz7f7cal0wghPm3AYZimKjzF8XktRwg-ZjJbXSeN02_rPViTKwsHgs3QvPzqjqnx6EsO0W7_fSTHcdWukkrXC3puQig70Y-uyAFRhLNQK2CKoto-krZOUoHog6yDktYwqiZUv78f2bJMCQBqpJEV3JXjDGjoNQG3rGTw88UqUmOWkS05VDGQk2W8GcvZqMR2SOnnSDyV_qjRgeRuUbfpo_dn8AeFwwMIZqVsRnZJvExoPLTrNhbns-TbGGbG-USkgVrT3hxi9FsYHJdI7_g6DNh0I5XM0e6Qz9g98_NDl7Wam3_X1q2uHqPD07IP5mjzMpS10wNf2fM5ONuqHduxEcI0rrx8lnvYCiRTzh_V8L9_Qv_JJXMcv98bUvE-3I8WllVq19vWIPi_SxJD5ILbyqIlf-pbdcaMJh_4Nl9o025EoAiMsXLwoXWK4fSPpGC09yvELhBI=w588-h342-no)"
   ]
  },
  {
   "cell_type": "markdown",
   "metadata": {},
   "source": [
    "## Markov, $P^*$, ERGMs"
   ]
  },
  {
   "cell_type": "markdown",
   "metadata": {},
   "source": [
    "- The previous models not sufficient for fitting data with clustering or other dependencies or testing many social / economic theories\n",
    "- Link ij's probability could depend on presence of jk and ik\n",
    " - The link between two individuals i and j could depend on the presence of a friend in common. Does j know k and i know k as well? That's something we want to capture, the difficult with this is, once we allow one link to depend on another link, then we open a Pandora's box, where now all the links could be inter-dependent. So everything gets put back together and so we have to specify all of the interdependencies.\n",
    "- But then things interlock and need to specify full interdependencies\n",
    "- Frank and Strauss(1986) $P*$ models (e.g. Wasserman and Pattison(1996))"
   ]
  },
  {
   "cell_type": "markdown",
   "metadata": {},
   "source": [
    "#  p* and ERG Models\n",
    "\n",
    "- **Example**: (studied extensively by Strauss (86), Park and Newman (04,05), Chatterjee, Diaconis (11)...)\n",
    "\n",
    " - Probability of a network depends on number of links\n",
    " \n",
    " - Probability of a network also depends on number of triangles."
   ]
  },
  {
   "cell_type": "markdown",
   "metadata": {},
   "source": [
    "# Example\n",
    "\n",
    "- Likelihood of link depends on node attributes\n",
    "\n",
    "- also depends on whether nodes have friends in common\n",
    "\n",
    "![](https://lh3.googleusercontent.com/yBOcinUlJ-LZTxLl8klpxhbHPGaeaOSyOe3MjI6bXWFv141BAOyRaAOeJUatYrP9o2CSvYkRvs8aOO7KlqWUiXafQxxDFwkQYx65o9pee0m2BC0B1fNSQzs1aq4rxdBElLzFyGPCX5hFCHfXCrvmReUdRLDMCqTB3TTk75conC7yTZKb0EJeCYD7Ax6yXXIHlMTvg0VjYhAshxqOHv4VkSUAHvKFI1wJqvHEOaf7Ml0urz6h5A6KsdYV6iC52NC72Vd9-Kj4ry3O2vgn5KxqhvbC6tfMHHiQocLSLRf1KbKx9oSZl1zHdmy_IKWqb9Y1PIlcste5hL9GDILt7Gk29XHXwL24vMFD5NAPFVUyAhcppGnZkF12PQeh6xF7VB5_BhhI5ZHZI_MQGfv9lGe4UL1EQDyvmEsQjy2mhZPaU4vdoHpgkgaFlZTk242ZIfZzKV37wGLlG2BVe3jJ3PLPRp4VjuQB9ZtkAQLlcFP2QvkJlbXccwbAP9NJclq74p0EOdw7_bjnj6I8u6z5CEB7oQxb_qPcgjLQwj1pOdsUYyRJAAXcPjQk0kBhQp5ZfwDGjvKAfkFZa_SJ942lSaBzbsuCVcixKPSkncu63NSOoMTNwlDHdYC_ZBJeoQIDQJvkUrViKVGgSCYojANK2gGqQGF45Fco4rEHj2LEzqXPaybdwGVgaI_a1FdF=w344-h240-no)"
   ]
  },
  {
   "cell_type": "markdown",
   "metadata": {},
   "source": [
    "## ERGMs\n",
    "Example: probability depends on: $\\beta_LN_{links(g)} + \\beta_TN_{triangles(g)}$\n",
    "\n",
    "Want probability of network to depend on $\\beta_LL(g) + \\beta_TT(g)$\n",
    "\n",
    "Exponentiate this formula($\\beta_LL(g) + \\beta_TT(g)$), so it's always going to be non-negative, it's a standard trick in statistics work with the exponential family:\n",
    "\n",
    "Set $Pr(g)$ ~ $exp^{\\beta_LL(g) + \\beta_TT(g)}$\n",
    "\n",
    "> Theorem by Hammersly and Clifford(71): any network model can be expressed in the exponential family with counts of graph statistics.\n",
    "\n"
   ]
  },
  {
   "cell_type": "markdown",
   "metadata": {},
   "source": [
    "## Example: Erdos-Renyi G(n, p)\n",
    "- **p** is the probability of a link, **L(g)** is the number of links in a given graph g\n",
    "\n",
    "$Pr[(g)] = P^{L(g)}(1-P)^{n(n-1)/2 - L(g)}$\n",
    "\n",
    "$ = (p/(1-p))^{L(g)}$\n",
    "\n",
    "$ = exp(log(p / (1-p))L(g) - log(1 / (1 - p))n(n-1) / 2)$\n",
    "\n",
    "$ = exp( \\beta_1  S_1(g) - c)$\n",
    "\n",
    "What it does give us an idea that you can convert a lot of other kinds of models into the exponential random graph family.\n",
    "\n"
   ]
  },
  {
   "cell_type": "markdown",
   "metadata": {},
   "source": [
    "If one fits an ERGM G(n,p) with just links, and finds a parameter $\\beta_1 = 0.5$. \n",
    "\n",
    "Based on $\\beta_1 = log(p/(1 - p))$, hence:\n",
    "\n",
    "$p = e^{\\beta_1} / (1 + e^{\\beta_1})$\n",
    "\n",
    "$= e^5 / (1 + e^5)$"
   ]
  },
  {
   "cell_type": "markdown",
   "metadata": {},
   "source": [
    "## ERGMs\n",
    "To be probability:\n",
    "\n",
    "$Pr(g) = \\frac{exp(\\beta_LL(g) + \\beta_TT(g))}{\\sum_{g'}exp(\\beta_LL(g') + \\beta_TT(g'))}$\n",
    "\n",
    "Now one other thing to make this probability of these have to sum to 1, so in particular that means that We have to normalize by what the probability of all the graphs are($\\sum_{g'}exp(\\beta_LL(g') + \\beta_TT(g'))$), to make sure the probability of one particular graph when we sum across all the graphs, this is going to sum up to one. \n",
    "\n",
    "$Pr(g) = exp(\\beta_LL(g) + \\beta_TT(g) - c) $"
   ]
  },
  {
   "cell_type": "code",
   "execution_count": null,
   "metadata": {},
   "outputs": [],
   "source": []
  }
 ],
 "metadata": {
  "kernelspec": {
   "display_name": "Julia 0.6.4",
   "language": "julia",
   "name": "julia-0.6"
  },
  "language_info": {
   "file_extension": ".jl",
   "mimetype": "application/julia",
   "name": "julia",
   "version": "0.6.4"
  }
 },
 "nbformat": 4,
 "nbformat_minor": 2
}
