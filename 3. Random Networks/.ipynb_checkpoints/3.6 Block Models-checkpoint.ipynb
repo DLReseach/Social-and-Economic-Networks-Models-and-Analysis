{
 "cells": [
  {
   "cell_type": "markdown",
   "metadata": {},
   "source": [
    "# 3.6 Block Models"
   ]
  },
  {
   "cell_type": "markdown",
   "metadata": {},
   "source": [
    "## Random Network Models:\n",
    "- Erdos-Renyi\n",
    " - Useful for understanding thresholds and how networks come to exhibit certain features\n",
    " - Miss many real-world features: e.g., clustering \n",
    "- other models link-by-link models\n",
    " - Watts and Strogatz, Barabasi and Albert, Jackson and Rogers...\n",
    " - Capture other features: clustering, degree distribution, correlation...\n",
    "- Stochastic Block Models\n",
    " - Enrich Erdos-Renyi to allow for probabilities to depend on node characteristics, attributes(or on latent - unobserved characteristics)\n",
    "- Popular set of models: ERGMs and new ones: SERGMs/SUGMs\n",
    " - flexible way to introduce various local features and dependencies\n",
    " - estimated statistically"
   ]
  },
  {
   "cell_type": "markdown",
   "metadata": {},
   "source": [
    "## Block model\n",
    "Extend the basic Erdos-Renyi G(n, p) model:\n",
    "\n",
    "Nodes have characteristics:\n",
    " e.g., age, gender, religion, profession, etc. links between nodes depend on the pairs' characteristics. So people of similar ages are more likely to link than people of different ages, people of similar religions and so forth."
   ]
  },
  {
   "cell_type": "markdown",
   "metadata": {},
   "source": [
    "## Networks with attributes\n",
    "![](https://img1.ph.126.net/TizMPtW0PbvpjqhPwN0w7Q==/6631619720540449276.png)"
   ]
  },
  {
   "cell_type": "markdown",
   "metadata": {},
   "source": [
    "## Block models\n",
    "Continuous covariates:\n",
    "\n",
    "For instance, we keep track of age in days or in fractions of years, then we would have instead of just green yellow and blue, we might have people that are 34 and half years old and people that are 60 years old and so forth.\n",
    "\n",
    "Example: link between i and j depends on their characteristics:\n",
    "\n",
    "$\\beta_iX_i + \\beta_jX_j + \\beta_{ij}|X_i - X_j|$\n",
    "\n",
    "E.g. log of probability that there's a link between i and j compared to the probability that there's not a link between i and j:\n",
    "\n",
    "$log(p_{ij}/(1 - p_{ij})) = \\beta_iX_i + \\beta_jX_j + \\beta_{ij}|X_i - X_j|$ \n",
    "\n",
    "Now it's a more complicated stochastic model, but one that still very easy to go ahead and estimate, and you can use this in most any standard statistics package or allow you to do logistic regressions.  \n",
    "\n",
    "Could use this sort of model to test for homophily..."
   ]
  },
  {
   "cell_type": "markdown",
   "metadata": {},
   "source": [
    "## What is missed?\n",
    "- Likelihood of link depends on node attributes (observed or latent)\n",
    "- also depends on whether nodes have friends in common\n",
    " - A and B both have a common friend C makes it more likely that they are going to be linked to each other than if they didn't have a friend in common"
   ]
  },
  {
   "cell_type": "code",
   "execution_count": null,
   "metadata": {},
   "outputs": [],
   "source": []
  }
 ],
 "metadata": {
  "kernelspec": {
   "display_name": "Julia 0.6.4",
   "language": "julia",
   "name": "julia-0.6"
  },
  "language_info": {
   "file_extension": ".jl",
   "mimetype": "application/julia",
   "name": "julia",
   "version": "0.6.4"
  }
 },
 "nbformat": 4,
 "nbformat_minor": 2
}
