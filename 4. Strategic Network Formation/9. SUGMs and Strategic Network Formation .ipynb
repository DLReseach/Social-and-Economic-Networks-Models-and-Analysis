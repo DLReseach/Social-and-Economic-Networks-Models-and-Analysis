{
 "cells": [
  {
   "cell_type": "markdown",
   "metadata": {},
   "source": [
    "Marrying the strategic formation models"
   ]
  },
  {
   "cell_type": "markdown",
   "metadata": {},
   "source": [
    "## Strategic and Random\n",
    "\n",
    "We've got utility from forming subgraphs, links, triangles, etc. But we're going to do is noise that up by putting in some randomness in the utility."
   ]
  },
  {
   "cell_type": "markdown",
   "metadata": {},
   "source": [
    "## Example: Social Pressure\n",
    "\n",
    "- Caste relationships\n",
    " - Are they more likely to occur \"in private\" with no friends in common\n",
    " - Or occur with same frequency in embedded relationships?\n",
    " \n",
    "![](https://lh3.googleusercontent.com/3GAp8SGUVJ3_7r0iSyC27j8iMGGTjSrw6hR8fgNOYeyR6Nlc7PcYgvuOPnf-F129Jk-2eA2ROc5Wzyp_JXONfgOXZh3lo0QY3czoz71FiHJoL5XNTGG5Thu3SKm2OWtKwKSY6-Trxr9OJDsIvuevR1tc8KmvRbaR-v7TPdpdzbxogrhJtZSI5GbGudnh27JcKnpH7T94-yjbeaO7sQhtDw89_IbJU-y__cIN6rOLL1au4AvwChz_kBxVpeXsDD8EmxS5twEfESkb0SohG3_8_9C1iq4obJ5UiYbLNCDf6cLLjZiT2cDgW9OASF35kON-TR6v4rFPnChvHre2-dDB5-gZ5aZEsAaF8OhyREc6SkkNQ-sEmVMyXt4AxIP4pnp1N66n6637rm3XNVo-BKQj2wPeMAMRuavb1TrcbJ8tm3Wl6ElVtbDElVVz3zw453o6heTXvIzGLi8ogsfQibUpgEn0lQlOvNpq9Ez8lwoL5UFklQ8_9IkRy8LhF8_tBADg4-73mPIVdxm6Nd-phNPUMRpnd_DeaTqemETiahLbSl7JbY6H39hi-z2krAqvCE3lRkF5ASSf3ZQCdzPClStYBF0FzFBJLmc_gN-f_7CkTNg2bCBfOCLbS4zsWFQeEol_NAuT99EFBFtaBDMcTzduh2uhUqc85nk9nQ_AvSmSsh7n6lLpjcYzk7bX=w502-h321-no)\n",
    "\n",
    "![](https://lh3.googleusercontent.com/0m4Omu_qQCwupmFJhZ7QQtiPUgbQtwya9AuEp1M0sQLcJjmLzKZhoZYo1a5VzIQyTqS215vVE6q2wXqy2EvzX51OeFfMHasGkfN-7OGSTxfiggeiAO92g5NPmVYkC0auzC5cCNKqi-H8uk7teiPPmVheawgj__PR6i8onFVEuhg3y_UQgJUKiRPXotWy9QjHA5W66ZzeAJE_95lCjXmTrB8BuMITax55rK7ZWd2YDgykNTdcXWUjFo-lyencKyCnBOuUwFt_ydiQyDBCMoTeQ20pkSvvM-SxlzG7Ly-V_nlPBvhYK5JcMuWLr8p6ERNPz4Os1GwAOjljk7d5Awexrg5UArYH-mDvGA60QqzX4EzkzR2RSapo2-c7ouTh0HOMYVF1yoIsvf1hUyqvGRT86GZ34dx2wDbHwfOfsEeST0kx0c9Xihntc-bGO_34GtGnCPqbl7vlkWfRl6gAkJ_qvJ-VkRuPU0lR05y94SHCDS-IWaCBTFRTan5XzS1MW6NPgow50bZKPM8K1DY48_P-1TAefl1AqA0GNDJmEJQcmM73jBjjX93rmVsIY7u9nNbtsahh28wZIdXWn-bikNwzVM8Ph0moyGLsEgG4bDSydZ77dR94wK-DTPZvoBLtP1QEErOEWlZp_FxwjqLfRQNggALFLQA6lfmjJDXFkcgPkIY_irGILxkQbJw9=w1192-h739-no)"
   ]
  },
  {
   "cell_type": "markdown",
   "metadata": {},
   "source": [
    "## Application : Social Pressure\n",
    "\n",
    "![](https://lh3.googleusercontent.com/98ZdfhYg6OgLi2zskn_Vst2gMa5rOq94VlMfOjLPgO7guS4VutknK8UN6cfNq8WyXnNcSkcGf82dgTbOFIxIxp3qMdeSiF40nL-VQKmxrh5QcatXiGdqHVV8WUnYslNzhn8QCEO966wvfrlOceCoSFoc6ugoWHnKuoyBhK1HTb0V4RIPmS43zt9rwSYTkNW-z0gTCn-TC26fm0C3trj8Q7ZKmiEVm8ZjCpMXSQmU92DnijoLcI4udh_En7MFa-HwnSYILp31JkA8_6_kop7fLC8RrzQHbu3mjAMqlJOvb5vcmz4or0nfR_M-RzNXSQsgwK8aF4kIG1xpbGnExRpxUrXyK87Nq-iCI_4EvqoHWLcZSHrdk9epj_OuQ0BPLHOLx7V6YNtD6qvR24_bkRKTrm6QsJtCl3dh64fRJwcg0bU6ARnBemJcgvwsHuhBdBqWwPWsdwk2fAkenxOv6jiugPOLKmAkNgMv6PtN5SlSzxq7DrCEeMbOIBouquab6HaRtxeWhWYMKzbGpTo7z3ovAd35lLHNyiXgXpFcTcQMJgzu5J0r74RlG0ACOiQHJivWpvZ9cGDeWNYBTz2b5AKz-3_TXKrE8zmW5KX3_UcmOUmN0gYnzWxQDS5lQlkLRettI-t6g1VGUcZab34SNPA4kOuMqAPxZuql_3DZNqxIUFxB8vFiiQGzKe4Q=w698-h451-no)"
   ]
  },
  {
   "cell_type": "markdown",
   "metadata": {},
   "source": [
    "## Preferences:\n",
    "\n",
    "Need more consent to form triad than dyad\n",
    "\n",
    "Need to account for preferences, otherwise will naturally find\n",
    "\n",
    "  less desired triads/more desired triads\n",
    "  \n",
    "                <\n",
    "                \n",
    "  less desired dyads/more desired dyads"
   ]
  },
  {
   "cell_type": "markdown",
   "metadata": {},
   "source": [
    "## Preference based SUGM:\n",
    "Probability of a link forming depends on likelihood that pair meets, and both wish to form it\n",
    "\n",
    "- $X_i$: i's characteristics\n",
    "\n",
    "- $U_L(X_i, X_j) - \\epsilon_{ij}$: utility of a link between i and j, based on their characteristics and other person's characteristics, and then something either unobserved or some personality or something else which then also affects that utility, so we'll put it in error terms($\\epsilon_{ij}$)\n",
    "\n",
    "- i benefits from the link iff: $\\epsilon_{ij} < U_L(X_i, X_j)$\n",
    "\n",
    "- pairwise stability: links form if and only if\n",
    " - $\\epsilon_{ij} < U_L(X_i, X_j)$ and $\\epsilon_{ji} < U_L(X_j, X_i)$\n",
    "\n",
    "- $F_L(X_i, X_j)$: distribution of $\\epsilon_{ij}$\n",
    " - prob link forms prop to $F_L(U_L(X_i, X_j))F_L(U_L(X_jX_i))$\n",
    " \n",
    "- assumption: the errors are iid, so the noise in the chance that j like i isn't dependent with the noise that i get from the same relationship."
   ]
  },
  {
   "cell_type": "markdown",
   "metadata": {},
   "source": [
    "## Triangles form\n",
    "Probability of a triangle forming proportional to \n",
    "\n",
    "$F_T(U_T(X_i, X_j, X_k))F_T(U_T(X_i,X_j,X_k))F_T(U_T(X_k, X_j, X_i))$"
   ]
  },
  {
   "cell_type": "markdown",
   "metadata": {},
   "source": [
    "## Application: Social Pressure\n",
    "\n",
    "![](https://lh3.googleusercontent.com/hU2SqMPJmKhBdj3vp08_gwYvusYkbBhtqYmJ6Uvhme6ctAbmlpMuX_vg3i53RrCd9aPBp3N1BeHeMfDP4hteFXNUZOLmsUaaI20sKvXr2WE_WAW23YUE0cvhPcFwZEl-ZWY73zndru2Q8Y6OFH8T5cWYG1Ahdd3RXPAaUJjEw8ay1wRCgLtCUhDQDJXEBPecnsgsJuqNl_kTLBn4pbplg2oGeoRzFkLgY8hbJUoHy4Q_PXkFgGzxTpOUnQkrYKC5ApXb_7cLqA6pkczTSzLvwc01-5kQpgT8W6oAYUseWP9nP-fdbzMfHOjbQBN2Gu0jshgC78NX583OyYDKeMQ-xB2AZb3ZLfZ9GOMpugRrzl5KMsuWj03MAEGcV_bCIChGVA6n7-kwORE36n_2f4P4Ovt5VUPC-idBuOouMkBpzlSFjAaJdujyu8-bTlluZ1nKldy4dn6MARKLXzthCeZysCKUOX8JejnHmD85GivuQsILcDCZTZpsAnlfNsx7xU9m2IulDQbkCh9wlY3WGjSmoVAJWsc8bnRq8kFYLkYOAej27CLls7w_kp0tNN4L-kijXRu1AybI_0mYMHpVvaDFw-2M_qu4KWDe9F0aSys2i5iDZxWa8HkQA9lgD4Qe0Gwk4sYV1DpmLU5smKmY3NqxnGc7yzDwyilfjTK_wPMjrj6cgv6UIEXmKZcl=w482-h369-no)\n",
    "\n",
    "![](https://lh3.googleusercontent.com/J-CMEvOWW3hemkTGi8rp2lS6ss98p73DrurMyXTlrxkUfioqZooO-RHyIoK8omYjM_NkI7T6_2mITaoxC8--2njw55L2mQi3rKu_BdWK1O41oZxhp5WyYFwaV7hzhOG5fN0UX-r4zLRyjjFWFc_I3lQEqsqQhhowz2iiilVs_f2STRG1Hl4e5rUK3BMxdB73JwBzkR4Ud2kR0pkPDjP0nmkSLue9azZhqTTTB5-IpBhf_uuKb18VjkQdZcWN8T-zK72vmdGCihjK-gYlD128nPhWjRC__z8sf3U8kRkJIuNE8pzLwv3fdKpGM8VoyY1eS9Hmiqx5OI2zDwE-beD0iwGZXfOkWH8JSMGRqZFBFIHwS6MBIiApxtCcEkWyzb2V5bcuGFIFRqJ_3bpkyPZgaASAo9u9Sgd-NPB3chELvhRpDnRGtKHckhBi81Uhmw-lIp2Oj5mWVuuYekZ4SfmxDf5ipzwWKOqCA9cuqmQWfNmsl_cI8p5sYwKK6wEND5_ahgoEFw63cWo_MgwDkTcBXvOXwkvZqK-VxSwVAAeI-Op3vXs4gHLIZoufUm1oSgF0dvZqnWwrjvqHocC6YMhXt8xRiIQJSFye8J0oipJVAzVOhKM7AVg5m220UVnRjGKYBeWHZTJFGsfxIBd8MbV7WYZrApCoAatbWhRiLzCeIkAE2mTC8eQjUrwV=w954-h405-no)\n",
    "\n",
    "#### So\n",
    "\n",
    "![](https://lh3.googleusercontent.com/P7_0YlEWcFhZrUvogO4t43mtUzSSCIL0WMq8IBkuoI-w8nntqCs2qEjVtgVZNN0tTeosXKWKiTuYhPy1n_RAF58EgShlCr0qymQ9FSZC1Hkq7SNxn9udqL6aTyXVLYJXKSGfHLjQEg_oqsfrvO3rzpPR5W2MZDF94HYFdG8m9ugKtdmcpWqgKyvvyyn9if9yPc2ckiVBcqsKrgYYRuUoTFvppJNqf7NAnIShC1ZRLjyVG8GJD0ClKtApTDPWDJE2ueowqHdbV3j0SGEO70wjjAld9e-Fgqj6Rj7_XncnFI2uscKVSjkF9Tjo8LiKzfSNJcJ2_9SckT0IBn8Uyxwp46S5Fy47Um2PWrTS1rYLhPNlGekY5hIHDZ5FH93m_H2Pfgt6UDINtH9IHEJxKxnLyGc4gqVeKoovY-vjcH5G4TnHjX83MekTh1bRA1BfPrm9Aq2ouB4gvyrrM_uShSqSHQYNK2lQX_26HqWHSBd6Y_4p3KmVRBW85MSN8U6V_WqyJsefFvlnkDtzF_cEQwZxa1_svLBEpi2ZTOkSiRVSVZX3eBB1fGbmJI1DtRYiFSYKR6-y-osWn6g_bE8dl8clbIeWwD0d7USZs1YlP7RTr_VMnaof5wZGZUhMAwvNu-ixod7zTxWtmI-qmsRbCtBVlL3eNdC1M8j3c5dVKkk6Jk93DVNIrgTPT4WQ=w1113-h438-no)\n",
    "\n",
    "\n",
    "![](https://lh3.googleusercontent.com/BfbEtHmkEpmazGVXR85KMSHH-ptOeEUXzRzPXCAKGbZLC8NRbUI4A2rkN5p5ZR8TRcrjtmWpOG2aAjlQb80yNrvFnMpiinSlII_7Hun_fntLvuJ_YD6bHf-Ysou6ZIuKL6P_O6j9DpF_POimQXOP8_GXMmA_kny8CyWXZ_pu6ycCZYSE1hK9_A9pWe3n0n2SfYojSnI8lFTjw8K6eToaek4hX9Bm2JdyTfceaXT1QmiuouawW0VKa3Th-TxVGCJ7vXXfbUPmpXydfD-ib5PZJVgJ3JCspqGMyri764qRmUkfAJ7m6fSDvFPexHCBnRIKnpbt60xrab0U1XFdAKfRCQbSagf9PNEqqVzNG6Athmbc8BPUbzI9HSEBzJu7eYiXizEsV836z0TaupESpCqpiO2Mko-bKUT0Pjzs5hn_zAMkjiIQ3lRynMDhopBed6d7WRaER66BG5CrxePZAYURZh4U3PrLCkNaPlECtzXRb7O4q4IYylJb3ax27gE2xS03gwt0hrbBjUwhtNi_m7qevi5xm7nHVe0HAtC3sYMJXY78L8Od4jHMXjRWzVxY-IhufGoTbSOiUaUHYa4s291SV-zhx6axaQ4pZvbr8w9WwuM_XIzsiPwajkEA2oPamXLxAHseedXYkw61R4ozavE6fmSUxkAWSyUB0FxQCjPsiGDENdYUHhHv5nHH=w472-h373-no)\n",
    "\n",
    "![](https://lh3.googleusercontent.com/wjL0KwW9cnzEODIyDcibv-EdbBBXEfpkCg4pQota1oxqcpxCz-cDvTUjbyVT8YQCEhRqKscvtDvT4j7ENYO1SOptbQeqyk8wODxSii4w1jYz2B8QckR85gZev6C4Vzknzr_5J6eB6s0tJZQSV9soVbHbMraZQd6tbZxqtOjvjkv0kKhoG1tTG3oQMj5OeJjLlOE_emGKNt1qlOpHKFrHT9On_DBzhcQA9N6Ir6yZh9U-8sPlGyi8Gxwil0KDW62mbdVdxzEKFr8jL_8L6CrQfv0Dsnbeouyr6aZitaSk9In8RvodFb2jEABCGF9FYSRtY4F70dYG57L3pPj_r4uD0meJMQ9QL85A-HzNEFmmsjo87IsOKZp9MtIDdnMai3wceXuE1CScUyiNEC5XgOKedmxf_ge-_xByv_8IrjZbd84S3tObb1_BquUjW5jPeQcnH82b-dGYWgFmgwbS1Q0_NJ9bykFzh8itVpCJ2tUdLZdV58y3IilXrsBEqZymy6LygfN-H6TAQu1JpksOkxDH5nsvbQGxS1Om1alk99iAUMtrZSbZMPsi0jm4gskk8FGh6eX4wD0J4-Vwqkw395BmJImRRvSnU77p1sTutAl8lwkKojNLJe5Y3CprF9_PkT5meuEdYexLP8gHQY44Hmd9Kqb7z9X4GGhQOyC-px-_Zf3135ESKNSP0pG2=w911-h729-no)"
   ]
  },
  {
   "cell_type": "markdown",
   "metadata": {},
   "source": [
    "## Social Pressure Conclusion\n",
    "- Reject the null hypothesis at the 99.9% level\n",
    "- Based on model, people show a significantly stronger preference for forming cross-caste relationships when the link is in isolation: no friends in common"
   ]
  },
  {
   "cell_type": "markdown",
   "metadata": {},
   "source": [
    "## Modeling Strategic Network Formation in a Statistical Model\n",
    "- SUGMs / SERGMs allow for strategic network estimation\n",
    "- Opens possibilities for systematic estimation\n",
    "- Subgraphs included, dynamic models..."
   ]
  },
  {
   "cell_type": "code",
   "execution_count": null,
   "metadata": {},
   "outputs": [],
   "source": []
  }
 ],
 "metadata": {
  "kernelspec": {
   "display_name": "Julia 0.6.4",
   "language": "julia",
   "name": "julia-0.6"
  },
  "language_info": {
   "file_extension": ".jl",
   "mimetype": "application/julia",
   "name": "julia",
   "version": "0.6.4"
  }
 },
 "nbformat": 4,
 "nbformat_minor": 2
}
