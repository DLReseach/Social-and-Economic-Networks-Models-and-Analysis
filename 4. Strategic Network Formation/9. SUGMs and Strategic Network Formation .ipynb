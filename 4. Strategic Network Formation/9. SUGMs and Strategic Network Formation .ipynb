{
 "cells": [
  {
   "cell_type": "markdown",
   "metadata": {},
   "source": [
    "Marrying the strategic formation models"
   ]
  },
  {
   "cell_type": "markdown",
   "metadata": {},
   "source": [
    "## Strategic and Random\n",
    "\n",
    "We've got utility from forming subgraphs, links, triangles, etc. But we're going to do is noise that up by putting in some randomness in the utility."
   ]
  },
  {
   "cell_type": "markdown",
   "metadata": {},
   "source": [
    "## Example: Social Pressure\n",
    "\n",
    "- Caste relationships\n",
    " - Are they more likely to occur \"in private\" with no friends in common\n",
    " - Or occur with same frequency in embedded relationships?\n",
    " \n",
    " "
   ]
  },
  {
   "cell_type": "markdown",
   "metadata": {},
   "source": [
    "## Preferences:\n",
    "\n",
    "Need more consent to form triad than dyad\n",
    "\n",
    "Need to account for preferences, otherwise will naturally find\n",
    "\n",
    "  less desired triads/more desired triads\n",
    "  \n",
    "                <\n",
    "                \n",
    "  less desired dyads/more desired dyads"
   ]
  },
  {
   "cell_type": "markdown",
   "metadata": {},
   "source": [
    "## Preference based SUGM:\n",
    "Probability of a link forming depends on likelihood that pair meets, and both wish to form it\n",
    "\n",
    "- $X_i$: i's characteristics\n",
    "\n",
    "- $U_L(X_i, X_j) - \\epsilon_{ij}$: utility of a link between i and j, based on their characteristics and other person's characteristics, and then something either unobserved or some personality or something else which then also affects that utility, so we'll put it in error terms($\\epsilon_{ij}$)\n",
    "\n",
    "- i benefits from the link iff: $\\epsilon_{ij} < U_L(X_i, X_j)$\n",
    "\n",
    "- pairwise stability: links form if and only if\n",
    " - $\\epsilon_{ij} < U_L(X_i, X_j)$ and $\\epsilon_{ji} < U_L(X_j, X_i)$\n",
    "\n",
    "- $F_L(X_i, X_j)$: distribution of $\\epsilon_{ij}$\n",
    " - prob link forms prop to $F_L(U_L(X_i, X_j))F_L(U_L(X_jX_i))$\n",
    " \n",
    "- assumption: the errors are iid, so the noise in the chance that j like i isn't dependent with the noise that i get from the same relationship."
   ]
  },
  {
   "cell_type": "markdown",
   "metadata": {},
   "source": [
    "## Triangles form\n",
    "Probability of a triangle forming proportional to \n",
    "\n",
    "$F_T(U_T(X_i, X_j, X_k))F_T(U_T(X_i,X_j,X_k))F_T(U_T(X_k, X_j, X_i))$"
   ]
  },
  {
   "cell_type": "markdown",
   "metadata": {},
   "source": [
    "## Application: Social Pressure\n",
    "\n",
    "Null Hypothesis:\n",
    "$\\frac{Prob.prefer.across.caste.triad}{Prob.prefer.within.caste.triad} = \\frac{Prob.prefer.across.caste.link}{Prob.prefer.within.caste.link}$ \n",
    "\n",
    "![](https://img2.ph.126.net/E1MjQynM_cWPN867PvfKOg==/6631497674749976645.png)\n",
    "\n",
    "![](https://img2.ph.126.net/6QJVojNpuebG17ABR1EK8w==/1946399464054646534.png)\n"
   ]
  },
  {
   "cell_type": "markdown",
   "metadata": {},
   "source": [
    "## Social Pressure Conclusion\n",
    "- Reject the null hypothesis at the 99.9% level\n",
    "- Based on model, people show a significantly stronger preference for forming cross-caste relationships when the link is in isolation: no friends in common"
   ]
  },
  {
   "cell_type": "markdown",
   "metadata": {},
   "source": [
    "## Modeling Strategic Network Formation in a Statistical Model\n",
    "- SUGMs / SERGMs allow for strategic network estimation\n",
    "- Opens possibilities for systematic estimation\n",
    "- Subgraphs included, dynamic models..."
   ]
  },
  {
   "cell_type": "code",
   "execution_count": null,
   "metadata": {},
   "outputs": [],
   "source": []
  }
 ],
 "metadata": {
  "kernelspec": {
   "display_name": "Julia 0.6.4",
   "language": "julia",
   "name": "julia-0.6"
  },
  "language_info": {
   "file_extension": ".jl",
   "mimetype": "application/julia",
   "name": "julia",
   "version": "0.6.4"
  }
 },
 "nbformat": 4,
 "nbformat_minor": 2
}
