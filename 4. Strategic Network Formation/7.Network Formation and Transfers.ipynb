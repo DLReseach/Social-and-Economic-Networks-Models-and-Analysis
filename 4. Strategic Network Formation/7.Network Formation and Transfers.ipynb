{
 "cells": [
  {
   "cell_type": "markdown",
   "metadata": {},
   "source": [
    "## Strategic Formation Models:\n",
    "- Saw conflict between stability and efficiency\n",
    "\n",
    "- Can transfers help?\n",
    "\n",
    "- Modeling Stability and Dynamics, etc\n",
    " - Refining pairwise stability\n",
    " - Dynamic processes\n",
    " - Forward looking behavior\n",
    "\n",
    "- Directed Networks\n",
    "\n",
    "- Fitting such models\n",
    " - Introduce heterogeneity\n",
    " - Introduce randomness - meeting processes"
   ]
  },
  {
   "cell_type": "markdown",
   "metadata": {},
   "source": [
    "## What are Transfers?\n",
    "- Outside intervention, taxing or subsidizing relationships - e.g., gvt support of R and D relationship\n",
    "\n",
    "- Bargaining among the individuals involved in the realtionships\n",
    "\n",
    "- Favors exchanged among friends...\n",
    "\n",
    "So the idea is whatever those utilities numbers we're dealing with some of that could be moved from one node to another. Either by some outside entity saying I'm going to tax some people and subsidize others or by individduals bargaining and say look, I'll give you something if you're willing to do it."
   ]
  },
  {
   "cell_type": "markdown",
   "metadata": {},
   "source": [
    "## Modeling Transfers\n",
    "- We're changing the base utility to the utility plus some transfer, where this could be either a positive or negative number depending on whether somebody is making net payments or getting that receipts as a function of the networks.\n",
    " - $u_i(g) ==> u_i(g) + t_i(g)$\n",
    " \n",
    "- E.g., peripheral players pay center of star in connections model to maintain connections because they get value from the other players.\n",
    "\n",
    "\n",
    "## Transfers in Co‐author ‐ equalizing works\n",
    "![](https://lh3.googleusercontent.com/U2-tcp5S9MFvEUI9Y83w4RN9EOIEzfXDVjg12FCHO2u1GqOm01YDEmiysDwjB4wSc4SBcoUQ4ILv1IWArgFuffz16NSmLMWnFvHn-OEgmJCnLTQD-RFqhFdC4MMNgyiOAupem1DeUEoboUqy5kF6vt_YmT4vt-zioanbYPMniHPBscIqYFJ80jJMSJ4oReYw663Kgl7vMokAythBJ64dBifOHkKUfpigLLPcdkNSTzLrSfvw2gP0QKTQgNJao5EwIEKmgUH06Q2hER_Ya8UcisxPZGT6OlEhF2WOZOxvGUec2TkiJNIPnZiUBYj6QeEPrtx5kQYubyKQoEibjsk7r-_0sjhUvlEYVnBuJ6c8SudDGgBL2VKwVmuGeDU9ZMwnrgOc35Dg3lHn4XA1kh1LR1g-ytwBLYcTYMsQAE7xgvjOD4WJGFpvgtuXHFMhTZ4l3bCeKzZoM-X3eFRv0T3xw_kgSKBpPjy1AYUy1n9-FdwL7WHUJadIoQhbD6rN42kzOv3xhN_SLMKylvN2yRMJXyTeGWkIzZ0zoLr6R5oiHCmcerDLXJEdKe27MRiiJD_jK6QhahhQKbiN2aLYTN65GwfiOSquWPwW5dS4tlNMlCHsehNEdlOhBlZ_XwuWxWzaSXw3gN3ShmEDiuJ05Il2wYFh8FYNB3LgmD2jO_zLorGfcabOSjOVTLGd=w992-h412-no)"
   ]
  },
  {
   "cell_type": "markdown",
   "metadata": {},
   "source": [
    "## Egalitarian Transfers\n",
    "\n",
    "- Set $t_i(g) = \\sum_j u_j(g) / n - u_i(g)$\n",
    "\n",
    "- Then $u_i(g) + t_i(g) = \\sum_j u_j(g) / n$\n",
    "\n",
    "- Now every agent has societal incentives\n",
    " - Now everybody in the society has exactly the same incentives as a utilitarian planner would have, because now everybody's utility is just one nth of the total utility in a society($\\sum_j u_j(g) / n$), so now the utility anybody gets is exactly proportional to the efficiency of the network, so ones that are more efficient everybody gets more value. Ones that are less efficient, everybody gets less value. Now the most efficient, so directly out of this we're going to get the overall efficient network  is going to be pairwise stable.\n",
    " \n",
    " - we've solved that problem of  efficiency being pairwise stable, by just equilibrating things and making sure that  everybody is an equal sharer in the pie. Okay, that's wonderful.  it works well, but it, it, it could involve a lot of transfers.  It could involve a lot of spreading money around.  And in particular or spreading utility around, it could involve.  making transfers that are going to violate some fairly basic conditions.  "
   ]
  },
  {
   "cell_type": "markdown",
   "metadata": {},
   "source": [
    "## Tansfers can Fail\n",
    "\n",
    "- Put in some basic requirements on transfers and see if we can still achieve full efficiency in that kind of setting.\n",
    " - completely isolated nodes that generate no value get 0.  \n",
    " \n",
    " we're going to put in some very basic requirements on transfers and we're  going to put in two, two requirements. one is that completely isolated nodes  that generate absolutely no value get zero.  And this is a condition which you can think of as one that's going to make sure  that the society doesn't want to sort of split up and, and, and fragment and  secede. So, if somebody's not generating value,  other, other people don't subsidize that. So, this is a you know, somewhat  controversial condition, but it's one that says it complete, people who aren't  generating anything and are completely disconnected, don't get payments.\n",
    " \n",
    " - nodes that are completely interchaneable get same transfers\n",
    " \n",
    "  Second condition two nodes that are completely interchangeable, meaning that  they generate the same value, in different, in any time they're in the  same kind of configuration or interchangeable in a configuration.  So, people that are completely interchangeable should get exactly the  same transfers. "
   ]
  },
  {
   "cell_type": "markdown",
   "metadata": {},
   "source": [
    "## Transfer cannot always help (JW 96)\n",
    "\n",
    "![](https://lh3.googleusercontent.com/EE9yim2xCUJVaX-F8gxvT5ZTPY_rgBA4FdFuFRh6wtem5D20aUmvPevb65FFF9OifaAQK0UAt3iEjP_LYjO9rsoUwIDh7htQqFW5Pc2kWCyEeq5HR7B_A8cVtFryX2-zwX1ZaUNICEAzX1Ws0Sz4qH0643zRKPe1725YVfgWS98nKNNJTccFiL-_RjzwDz0Jh3BSU3uAgUiUcQVaNG4WerOFDUPKbXwmAGmEQpfWFea6IjjoCCJ79ayLXExyrJWxQ663l5WPnY6WlD1W1gqEZDYc19CpeqRSXAN6xItPL2-8XTeD2a62T83uK82QEPkKvoC-eRW1YmHvpU7YPsRyqpFpOzCRGHrJbryxz9jK_YWUsE8nliYwAg8g2vlFyGtaSfffgBJd7u4KLYaJgOzhL7EGIjNo6YEozTHDy4Ff_AISPKmwFDDLgm9EjdMPKrHxEbX0M2I1PSo4FHP-O-l1kvkIWup5pohTMGuvd4ujlw_P7EaGvZzqHF3AkzTuKXpIHUeiydPmjnNZ48Nfla-DjvCBUCRC-UsMJFXQ4mmyv3S0q6wdLeP49hFokTyS6l6TGOffYr0E-h8jZaQJhAfF5_ERIqkfOUvg9DBI98dZKScUX_X3i-Jq5qGH0ObH_HAoC-QmVn5UZpQT63caG1B44R-usRHcmCjmIrfOYNcswhAXu6_geAuesM2I=w1096-h541-no)"
   ]
  },
  {
   "cell_type": "markdown",
   "metadata": {},
   "source": [
    "---"
   ]
  },
  {
   "cell_type": "markdown",
   "metadata": {},
   "source": [
    "![](https://lh3.googleusercontent.com/NyfGS0C1mAWd91ySxQln1yB926D7fCJVnNLYz588c11s8sBOVPhDv-MLhlkgKRxPXOob8QaNAp_DOlnOXEroVW-u6XRQOc3ZFcN9IJEVf3QXk2NFyVXwdbLettw7b3JJfZ-_oc_DmStnXnNv6ceRcRlrT5OpuB5hnPl4-zzeWJtC3CRnrpV_wfBicRI16CTVIc6_0_a1wfECeGkD_skxt8SWE27VDb4nRQJV6lkCZ_OFfRjzuGt0RwBeT2Rkksy3PHSuDjLOZ73Xh1ipp0SwA4Et9cYezAKv6kNbOJzhMfStFuj8NwftcqMFKYNZ-vhbJxW_sv7DlJpY6VROXP-kBV5dpwMDeyuPN9RcZ8_K4wST_y9ZRD5X0FF9b42rGIlxezj36mxC9ew_rRhsKHnBVG9UrGB14KkoNqHP8yd06f4vN7-nr4gVIZvlHv7EW_xiPdOQVqPn8E4cuIhxfi7sTOGalSIUydK79eWbRIQKcqONKHOzUc0_fWEWn16pllvsdvVC8MDOEq3EIMoMy_FHrDXsr7Bw77n9wS_ynxG5Qb78eaTEsYZRanfSSAf13L-Pq1wV2vsI9XXnOWhqSPSYaFgK7T6bRDMlzlMqgqWyu4PdzzqQstMH1GdZrJBSMp4XL-3VDrNrEuUi_uBJ8xP6Y0BZ2863iPjioDXWiKSiEvDTzSF_NgmxPzCT=w1197-h571-no)\n",
    "\n"
   ]
  },
  {
   "cell_type": "markdown",
   "metadata": {},
   "source": [
    "## Intuition\n",
    "- Coase: without frictions, transfers can solve inefficiencies\n",
    "\n",
    "- What is special here?\n",
    "\n",
    "- Combination of multiple externalities that all need to be handled at once\n"
   ]
  },
  {
   "cell_type": "markdown",
   "metadata": {},
   "source": [
    "## Efficiency and Stability\n",
    "transfers can be helpful  sometimes but not necessarily always, it depends on the circumstances so network setting introduces a sort of an interesting problem, it's not necessarily entirely correctable with bargaining or transfers. It's going to depend on exactly what kinds of transfers we allow, and what situations and sometimes there'll be ways out of this and sometimes there won't"
   ]
  },
  {
   "cell_type": "markdown",
   "metadata": {},
   "source": [
    "## Summary So Far\n",
    "- Efficient networks take some simple forms in a variety of models\n",
    "\n",
    "- Efficient networks and pairwise stable need not coincide\n",
    "\n",
    "- Transfer may help, but not always without violating some basic conditions"
   ]
  },
  {
   "cell_type": "code",
   "execution_count": null,
   "metadata": {},
   "outputs": [],
   "source": []
  }
 ],
 "metadata": {
  "kernelspec": {
   "display_name": "Julia 0.6.4",
   "language": "julia",
   "name": "julia-0.6"
  },
  "language_info": {
   "file_extension": ".jl",
   "mimetype": "application/julia",
   "name": "julia",
   "version": "0.6.4"
  }
 },
 "nbformat": 4,
 "nbformat_minor": 2
}
