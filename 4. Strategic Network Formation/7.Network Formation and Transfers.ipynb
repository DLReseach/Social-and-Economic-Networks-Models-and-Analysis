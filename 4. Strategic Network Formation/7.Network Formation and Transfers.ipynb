{
 "cells": [
  {
   "cell_type": "markdown",
   "metadata": {},
   "source": [
    "## Strategic Formation Models:\n",
    "- Saw conflict between stability and efficiency\n",
    "\n",
    "- Can transfers help?\n",
    "\n",
    "- Modeling Stability and Dynamics, etc\n",
    " - Refining pairwise stability\n",
    " - Dynamic processes\n",
    " - Forward looking behavior\n",
    "\n",
    "- Directed Networks\n",
    "\n",
    "- Fitting such models\n",
    " - Introduce heterogeneity\n",
    " - Introduce randomness - meeting processes"
   ]
  },
  {
   "cell_type": "markdown",
   "metadata": {},
   "source": [
    "## What are Transfers?\n",
    "- Outside intervention, taxing or subsidizing relationships - e.g., gvt support of R and D relationship\n",
    "\n",
    "- Bargaining among the individuals involved in the realtionships\n",
    "\n",
    "- Favors exchanged among friends...\n",
    "\n",
    "So the idea is whatever those utilities numbers we're dealing with some of that could be moved from one node to another. Either by some outside entity saying I'm going to tax some people and subsidize others or by individduals bargaining and say look, I'll give you something if you're willing to do it."
   ]
  },
  {
   "cell_type": "markdown",
   "metadata": {},
   "source": [
    "## Modeling Transfers\n",
    "- We're changing the base utility to the utility plus some transfer, where this could be either a positive or negative number depending on whether somebody is making net payments or getting that receipts as a function of the networks.\n",
    " - $u_i(g) ==> u_i(g) + t_i(g)$\n",
    " \n",
    "- E.g., peripheral players pay center of star in connections model to maintain connections because they get value from the other players.\n",
    "\n",
    "![](https://img1.ph.126.net/7aH2poneL0277eEg5lwelw==/2040412106276018269.png)"
   ]
  },
  {
   "cell_type": "markdown",
   "metadata": {},
   "source": [
    "## Egalitarian Transfers\n",
    "\n",
    "- Set $t_i(g) = \\sum_j u_j(g) / n - u_i(g)$\n",
    "\n",
    "- Then $u_i(g) + t_i(g) = \\sum_j u_j(g) / n$\n",
    "\n",
    "- Now every agent has societal incentives\n",
    " - Now everybody in the society has exactly the same incentives as a utilitarian planner would have, because now everybody's utility is just one nth of the total utility in a society($\\sum_j u_j(g) / n$), so now the utility anybody gets is exactly proportional to the efficiency of the network, so ones that are more efficient everybody gets more value. Ones that are less efficient, everybody gets less value. Now the most efficient, so directly out of this we're going to get the overall efficient network  is going to be pairwise stable.\n",
    " \n",
    " - we've solved that problem of  efficiency being pairwise stable, by just equilibrating things and making sure that  everybody is an equal sharer in the pie. Okay, that's wonderful.  it works well, but it, it, it could involve a lot of transfers.  It could involve a lot of spreading money around.  And in particular or spreading utility around, it could involve.  making transfers that are going to violate some fairly basic conditions.  "
   ]
  },
  {
   "cell_type": "markdown",
   "metadata": {},
   "source": [
    "## Tansfers can Fail\n",
    "\n",
    "- Put in some basic requirements on transfers and see if we can still achieve full efficiency in that kind of setting.\n",
    " - completely isolated nodes that generate no value get 0.  \n",
    " \n",
    " we're going to put in some very basic requirements on transfers and we're  going to put in two, two requirements. one is that completely isolated nodes  that generate absolutely no value get zero.  And this is a condition which you can think of as one that's going to make sure  that the society doesn't want to sort of split up and, and, and fragment and  secede. So, if somebody's not generating value,  other, other people don't subsidize that. So, this is a you know, somewhat  controversial condition, but it's one that says it complete, people who aren't  generating anything and are completely disconnected, don't get payments.\n",
    " \n",
    " - nodes that are completely interchaneable get same transfers\n",
    " \n",
    "  Second condition two nodes that are completely interchangeable, meaning that  they generate the same value, in different, in any time they're in the  same kind of configuration or interchangeable in a configuration.  So, people that are completely interchangeable should get exactly the  same transfers. "
   ]
  },
  {
   "cell_type": "markdown",
   "metadata": {},
   "source": [
    "![](https://img1.ph.126.net/29djy5bEniLo-BurOFbMCw==/6608188028238600253.png)"
   ]
  },
  {
   "cell_type": "markdown",
   "metadata": {},
   "source": [
    "---"
   ]
  },
  {
   "cell_type": "markdown",
   "metadata": {},
   "source": [
    "![](https://img2.ph.126.net/FUc6w0hAOO8enNzk3npLAw==/6597754762403065253.png)\n",
    "\n"
   ]
  },
  {
   "cell_type": "markdown",
   "metadata": {},
   "source": [
    "## Intuition\n",
    "- Coase: without frictions, transfers can solve inefficiencies\n",
    "\n",
    "- What is special here?\n",
    "\n",
    "- Combination of multiple externalities that all need to be handled at once\n"
   ]
  },
  {
   "cell_type": "markdown",
   "metadata": {},
   "source": [
    "## Efficiency and Stability\n",
    "transfers can be helpful  sometimes but not necessarily always, it depends on the circumstances so network setting introduces a sort of an interesting problem, it's not necessarily entirely correctable with bargaining or transfers. It's going to depend on exactly what kinds of transfers we allow, and what situations and sometimes there'll be ways out of this and sometimes there won't"
   ]
  },
  {
   "cell_type": "markdown",
   "metadata": {},
   "source": [
    "## Summary So Far\n",
    "- Efficient networks take some simple forms in a variety of models\n",
    "\n",
    "- Efficient networks and pairwise stable need not coincide\n",
    "\n",
    "- Transfer may help, but not always without violating some basic conditions"
   ]
  },
  {
   "cell_type": "code",
   "execution_count": null,
   "metadata": {},
   "outputs": [],
   "source": []
  }
 ],
 "metadata": {
  "kernelspec": {
   "display_name": "Julia 0.6.4",
   "language": "julia",
   "name": "julia-0.6"
  },
  "language_info": {
   "file_extension": ".jl",
   "mimetype": "application/julia",
   "name": "julia",
   "version": "0.6.4"
  }
 },
 "nbformat": 4,
 "nbformat_minor": 2
}
