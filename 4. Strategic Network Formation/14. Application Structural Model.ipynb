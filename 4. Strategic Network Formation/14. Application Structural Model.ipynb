{
 "cells": [
  {
   "cell_type": "markdown",
   "metadata": {},
   "source": [
    "# Hybrid Network Models\n",
    "- Most networks involve both choice and chance in formation\n",
    "- What are the relative roles?\n",
    "- Random/Strategic models can be too extreme\n",
    "- Can we see relative roles in homophily?"
   ]
  },
  {
   "cell_type": "markdown",
   "metadata": {},
   "source": [
    "# Application - Homophily\n",
    "\n",
    "- Group A and Group B form fewer cross race friendships than would be expected given population mix\n",
    " - Is it due to structure: few meetings?\n",
    " - Is it due to preferences of group A?\n",
    " - Is it due to preferences of group B?\n",
    " "
   ]
  },
  {
   "cell_type": "markdown",
   "metadata": {},
   "source": [
    "# Currarini, Jackson, Pin(09,10)\n",
    "\n",
    "- Utilities specified as a function of friendships\n",
    "- Meeting process that incorporates randomness\n",
    "- Allow both utilities and meeting process to depend on types"
   ]
  },
  {
   "cell_type": "markdown",
   "metadata": {},
   "source": [
    "# Revealed Preference Theory\n",
    "- Common to Consumer Theory\n",
    "- Use it in mapping social/friendship choices to!\n",
    "- Different information than surveys on racial attitudes"
   ]
  },
  {
   "cell_type": "markdown",
   "metadata": {},
   "source": [
    "# Model\n",
    "Types: $i \\in \\{1,...,k\\}$\n",
    "\n",
    "$s_i$ = # same-type friends\n",
    "$d_i$ = # different-type friends\n",
    "\n",
    "$U_i = (s_i + \\gamma_i d_i)^{\\alpha}$ utility to type i\n",
    " - $\\gamma_i$ is the preference bias\n",
    " - $\\alpha < 1$ captures diminishing returns"
   ]
  },
  {
   "cell_type": "markdown",
   "metadata": {},
   "source": [
    "# Individual Choice\n",
    "- $t_i$  number of friends -- proportional to time spent socializing  -- i is \"type\"\n",
    "\n",
    "- $q_i$ fraction of friends that will be of own type\n",
    "\n",
    "- $t_i$ maximize $(q_it_i + \\gamma_i (1-q_i)t_i)^\\alpha - ct_i$\n",
    "\n",
    " - Solution: $t_i = (\\alpha /c)^{1/(1-\\alpha)}(q_i + \\gamma_i(1 - q_i))^{\\alpha/(1-\\alpha)}$\n",
    " - Add noise for particular agent a of type i:\n",
    "  $t_{ai} = (\\alpha /c)^{1/(1-\\alpha)}(q_i + \\gamma_i(1 - q_i))^{\\alpha/(1-\\alpha)} + \\epsilon_\\alpha$"
   ]
  },
  {
   "cell_type": "markdown",
   "metadata": {},
   "source": [
    "# How to identify preference parameters from data?\n",
    "\n",
    "- $t_{ai} = (\\alpha /c)^{1/(1-\\alpha)}(q_i + \\gamma_i(1 - q_i))^{\\alpha/(1-\\alpha)} + \\epsilon_\\alpha$\n",
    "\n",
    "- This is observed directly in the data and will vary with $q_i$\n",
    "\n",
    "- If $\\gamma_i < 1$ then this is increasing in $q_i$, so more fraction of people I'm meeting of my own type, I should form more friendships, and so that's going to allow us to begin to fit what $\\gamma_i$ is. So the idea is $t_{ai}$ should be a function of $q_i$, and how quickly it varies with $q_i$ is going to be dependent on what $\\gamma_i$ is\n",
    "\n",
    "![](https://img0.ph.126.net/GsWiVyVZejepXuqPlfBM1Q==/6608207819448659013.png)"
   ]
  },
  {
   "cell_type": "markdown",
   "metadata": {},
   "source": [
    "# Meeting Process\n",
    "Where do $q_i$ s come from?\n",
    "\n",
    "Randomness in meetings, but also have $q_i$ s determined by the decisions of the agents"
   ]
  },
  {
   "cell_type": "markdown",
   "metadata": {},
   "source": [
    "# Bias in Meeting Process\n",
    "$q_i$ rate at which type i meets type i\n",
    "$1-q_i$ rate at which type i meets other types\n",
    "\n",
    "$q_i = (stock_i)^{1/\\beta_i}$\n",
    "\n",
    "$\\beta_i = 1$ \"unbiased\": $q_i = stock_i$\n",
    "\n",
    "$\\beta >1$ meet own types faster than stocks"
   ]
  },
  {
   "cell_type": "markdown",
   "metadata": {},
   "source": [
    "# Meeting Process\n",
    "$q_i = (stock_i)^{1/\\beta_i}$\n",
    "\n",
    "$beta_i = 1$ if $stock_i = 1/2$ then $q_i = (1/2)^{1/1} = 1/2$\n",
    "\n",
    "$beta_i = 2$ if $stock_i = 1/2$ then $q_i = (1/2)^{1/2} = 0.707$\n",
    "\n",
    "$beta_i = 7$ if $stock_i = 1/2$ then $q_i = (1/2)^{1/7} = 0.906$"
   ]
  },
  {
   "cell_type": "markdown",
   "metadata": {},
   "source": [
    "# Equilibrium Conditions\n",
    "\n",
    "- $t_i$ maximize $(q_it_i + \\gamma_i (1-q_i)t_i)^\\alpha - ct_i$\n",
    "\n",
    "- $stock_i = w_i t_i / \\sum w_j t_j $ fraction type i in the meeting\n",
    "\n",
    "- $q_i = (stock_i)^{1/\\beta_i}$ meetings determinded by stocks\n",
    "\n",
    "- $q_i^{\\beta_i} = stock_i$ and $\\sum stock_i = 1$ imply that  $\\sum q_i^{\\beta_i} = 1$ (balanced meetings)\n",
    "\n",
    "- atomless population (ignore individual errors)"
   ]
  },
  {
   "cell_type": "markdown",
   "metadata": {},
   "source": [
    "# Fitting the model\n",
    "\n",
    "- $t_i - \\epsilon_i= (\\alpha /c)^{1/(1-\\alpha)}(q_i + \\gamma_i(1 - q_i))^{\\alpha/(1-\\alpha)}$\n",
    "\n",
    "- $\\sum q_i^{\\beta_i} - \\epsilon = 1$"
   ]
  },
  {
   "cell_type": "markdown",
   "metadata": {},
   "source": [
    "# Eliminate (unobserved) costs\n",
    "- $t_i - \\epsilon_i= (\\alpha /c)^{1/(1-\\alpha)}(q_i + \\gamma_i(1 - q_i))^{\\alpha/(1-\\alpha)}$\n",
    "\n",
    "- $(t_i - \\epsilon_i) / (t_j - \\epsilon_j) = (q_i + \\gamma_i(1 - q_i))^{\\alpha/(1-\\alpha)} / (q_j + \\gamma_j(1 - q_j))^{\\alpha/(1-\\alpha)}$\n",
    "\n",
    "$t_i(q_j + \\gamma_j(1 - q_j))^{\\alpha / (1-\\alpha)} - t_j(q_i + \\gamma_i(1 - q_i))^{\\alpha/(1-\\alpha)} = error$ "
   ]
  },
  {
   "cell_type": "markdown",
   "metadata": {},
   "source": [
    "# Fitting Technique\n",
    "Search on grid of biases in preferences and meetings ($\\alpha_i, \\beta_i, \\gamma_i$):\n",
    " - For each network (school) and specification of biases, calculate an error in terms of total deviation from fitting equations ($t_i, q_i$)\n",
    " \n",
    " - Sum squared errors across networks (schools)\n",
    " \n",
    " - Choose biases to minimize (weighted) sum of squared error"
   ]
  },
  {
   "cell_type": "markdown",
   "metadata": {},
   "source": [
    "![](https://img0.ph.126.net/HoRhhlxOAZguvyxOJDodzQ==/1928103590568588531.png)\n",
    "\n",
    "![](https://img2.ph.126.net/TxAX1GF_cqHcYWHvveYBTg==/1901644942757662331.png)"
   ]
  },
  {
   "cell_type": "code",
   "execution_count": null,
   "metadata": {},
   "outputs": [],
   "source": []
  }
 ],
 "metadata": {
  "kernelspec": {
   "display_name": "Julia 0.6.4",
   "language": "julia",
   "name": "julia-0.6"
  },
  "language_info": {
   "file_extension": ".jl",
   "mimetype": "application/julia",
   "name": "julia",
   "version": "0.6.4"
  }
 },
 "nbformat": 4,
 "nbformat_minor": 2
}
