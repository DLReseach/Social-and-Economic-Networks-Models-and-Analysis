{
 "cells": [
  {
   "cell_type": "markdown",
   "metadata": {},
   "source": [
    "Okay, so we've got some basic ideas behind strategic formation.  And now, we're going to talk about modeling how we measure efficiency and  also how we can model people's decisions form and delete links.  And so, in terms of modelling incentives and you know, just sort of keeping track  of these things, let me just first make a very simple point.  so let's think of a world where we need consensus to form links.  So, two individuals have to agree to be friends, and I can't form a friendship  with somebody else if they don't agree to be friends with me.  Now one way people might think of doing, of modeling this would be as just  modeling it as a game. And the simplest possible game you can  imagine is everybody just announces who they want to be friends with.  And then if both people, if two people both announce each other, then we form a  friendship between them, and if they don't both announce each other, then we  don't form a friendship"
   ]
  },
  {
   "cell_type": "markdown",
   "metadata": {},
   "source": [
    "##  Modeling Incentives / Equilibrium\n",
    "- What if model as a game where each agent announces who they wish to link to and a link forms if and only if both agents name each other?\n",
    "- Nash equilibrium: no agent can gain from changing his/her action\n",
    "\n",
    "Nash equilibrium would be a situation where nobody wants to change  their list of announcements given the set of announcements of other individuals.  And so, let's just talk through why that is doesn't really work so well as a model of network formation in these kinds of settings.  And imagine that we're in a setting where they're just two individuals.  And if they're separate, they get a value of 0, and if they're connected, they get  a value of 1. Now we have a game where they  beat, they simultaneously announce whether they're willing to form their  relationship. well both of these are Nash equilibria.  \n",
    "\n",
    "In this case it's a situation where if I don't think the other person's  going to announce me, that doesn't matter what I do, I can't get the  friendship anyway, so I might as well not announce it.  So, there's an equilibrium where neither person announces the other, because they  can't you know, add or really change things.  There is also an equilibrium where both of them announce the friendship and then  it firms. And so there is two nash equilibria and  in this case that's somewhat problematic as a model here.  Because this is the simplest possible model and it predicts anything it could  happen in terms of linking to forming or not forming.  And yet, any reasonable, communication among these individuals should lead to  this link for me. Now there are ways of dealing with this  in terms of the Game Theory. We can put in stronger solutions concepts  and trying to do things that way, so instead of looking at Nash equilibrium we  can allow for slight errors by players and see what happens.  Or, but there are other examples that aren't quite as simple as this one which  give other solution concepts trouble. So what we're going to do is instead of  using off the shelf non cooperative gain theory, we're going to model incentives  using a very simple concept which we'll call pairwise stability. So the idea here is simple.  What we'll do is we'll look at a network and we'll say that it is stable. \n",
    "\n",
    "![](https://lh3.googleusercontent.com/iFmY5t8Out9ZE5dYFokruEM8tyzfnRbeI9m6bFq7x3dP2nGD8nms4QHrOEYssl1wCNcDhqEnPczOYtamiHgPSWtwqRtAkTKIf9_IRXwJYpmrKRVetjO-VkzKJbb5bdH9LvbmMmHnIRLVqU-C0KDVAy5xM8bGmU4EGCRsm7MK-gUEFb16ubUfEWOhOm56fzABAyUDMh5FepK3A8WcoLogKrfcFt7FJU1hMA9K7YNcYzduVJb8ufy6rgVaCy-LOnHEoLBL649rJMDCbHisL0TGPQ7Xnza8Es6EDNPi-SUTq0tmWgJDQ0H9AJeWYkOQeUbGTN6gy5XhKoD5TkGJdC7dnOm9P80iPFo-FPMpFcQnD4V7Wb8zZt6LRNIxs9R9Sd3d76xLvI1QBnuEf_mDLbMGPd1zWbeozN3wKlExipTQ87V5FpY31GxHzmBIDE-YgcjeJ-ryRZLcdeD74OmV5oq1bjEGUVSx_ML_RiJe322ZuZm4DcfH3NmuL6A1gWKCSiQiLwl14kvpRj_PWXRVqYIPOYldSFDxyG3pFr8l8M-awaQonSF5-LaCnqxM-6N0R67P6zuKI0mI0GGaAzNHaeJZ4pvMVJF5m6rixmairwa4exgABFl--0JeymblPGNKPpArE_aX1jcFhRTM-VoDk2wNudQxwbR0PEfYkWxPm-P79NjY2FXtBSdpOh_7=w600-h230-no)"
   ]
  },
  {
   "cell_type": "markdown",
   "metadata": {},
   "source": [
    "## Modeling Incentives: Pairwise Stability\n",
    "- no agent who's involved in some particular relationship would gains from severing a link - relationships must be beneficial to be maintained\n",
    "- no two agents both gain from adding a link (at least one strictly) - beneficial realtionships are pursued when available.\n"
   ]
  },
  {
   "cell_type": "markdown",
   "metadata": {},
   "source": [
    "## Pairwise Stability\n",
    "- $u_i(g) \\ge u_i(g-ij)$ for i and ij in g\n",
    " - no agent gains from deleting a link\n",
    "- $u_i(g+ij) > u_i(g)$ implies $u_j(g+ij) < u_j(g)$ for ij ij not in g\n",
    " - no two agents both gain from adding a link (at least one strictly)\n",
    "- a weak concept, but often narrows things down\n",
    " - why is it weak? Well, it's only looking at pairs of individuals. It's only looking at one link at a time. And it just makes sure that there's no single link that would be better deleted, and no link that's not present that would be better to add.\n",
    " \n",
    "\n",
    "![](https://lh3.googleusercontent.com/y36FtHwLYZ04WJrq2EwKxRYYP0NrItMn50t8VD0YyKM8I5cAXpCd7ekvsWqCDzX5DCUe_cCNBE6PcWyD-fOuWtXvjydR4VZXSXfFD-QN8iam321qwVQM8q3KBxrZ4Cj10YXZDNRmcxn4Uk5WSK5PdxEeQ-2m5n6DZSJi_V98fWpKdh7qMMHw_dfXSJhwLdCHj9djRDFztZtfk4YBeM1dTjk4t8H7GgVlhPPKjIGRQfl4NQ0cfjl3plbFtTmUSkIoYHYhFAPdfFB4LlQeF9ipoBUqmpguMuIrOlucW4i3-IdP9L0rnK8jieicEqEor0_7jUybfOvU8vCB8HIWaFy3B1D0qR_MR7D3-oyczKYBHMBkaeW7PMXVy4O5yklkdsJkznrbq2KM1rYneam8O6ryypnA54-HhLrxZhv9d82XQHxJwRRG_RuVNyLgelf13TFmp-QA1lWA8aMZFxKuILTJxnEUJS4Jg5COl0OdtD6tismbxIF_ncY0cSktjI4eur59IBBVHRBJHRQOZN5wPpKdRERgYZjEy6EqGTeIPV9Qiefp-mPvtPRP_5fzgHEUcG6PRF8w3Pgj0ZBiJsLz5cmYm7FYIbbQU-y_UWqQa4mzoqhx3C4VmULsVuFt5oM9YkSU9Qyh5QmU6mgP4EY1WoITeCnczUEgwORFzKF60liC-SWcjV_Mkgf3hFHM=w905-h362-no)\n",
    "\n",
    "Just dyad(`1-1`) is pairwise stable, so both people would gain by adding this pairwise ability just says that this is the only stable network.\n",
    "\n",
    "![pairwise stability](https://lh3.googleusercontent.com/utvjUZ9bnqrg4VUVjfrvdgdPbvn9SEtqdIsGV3WfZ6jqGeP5bMGbjZmGjTuQ46VrAcYpDlTnwlG1ow3w7FtLS_ZZ7N-khL3qGDtxaCAbOC0g5dK52DJqdRUfst-B3THZGyESvQQR1-F5KBpPjGxB4DAmE497XQRn7wxG4XdzksSxsEvgjgAt5CRDfW9W85k3W7NVXV-yeILD2Dnp0Lcn456ckPJJiHXH93MweqOTgoCZmXXsuaT8uzyMhYGvMMb9_b4FNSolFMxiPsZcx-DaSbhDi1MCXNR2YV5H9pQQfy5SqEauwgNpZyk-INfnZbyEvSk-pbi5LHE_Fh4Xen1--oOsipwM-kvfaeMR1_CZek39ftpxs47cEujgeoSenQ884UmAzzQ5VtwuetswWHFLmaBPk2fNHqCc8A7_4eGzCPiamxnggBFBrrzrvWCV2gM7ogeScTAs8mZi58VHOF_6HTAS-RjHCIvdGburTW_xa-6Dl5fhhbY5XIWHkEOWNVKQc-CVUBjkPg0vEIAb44nbSrvdbgT6PpuSrWYBew1kGOOZKEn_HTu7w4lZ1pg9TPe2MnfqcTDJNINLkWwzh-MeNjJYvnAI6Ttsz9ng9RUY9tRxK0AFZFs8W9AlADoKt-FUNtHMYRy3aO8kkXLD7em9-8YtIPqzzL6mKG-cB3vyN2A2yqcHWJaAU1RP=w1081-h588-no)\n",
    "  So, we'll just normalize payoffs with no connections to zero.  Let's suppose that if you form a relationship with one other person, you  get a value of three each. So, if two people form a dyad, they get a  value of three. So, if both sets of people formed  relationships and we have three to four people and we have two relationships, and  everybody gets a three. if, if we add a link to this network  where these two individuals now decide to form a link together, then their payoffs  go up so now they have two relationships each.  They get a marginal benefit, a bit little more, they get 3.25.  But lets suppose these people are jealous, they don't like their friends to  have new friends. So this is different then the connections  model this is a situation where now I'm, I'm losing time with my friend because  now their spending more time with somebody else so they get a value of two.  now these people if they connect to each other, they get more value.  But then these people are losing value because now their friends are spending  time with other individuals. So we can think of this, this will come  out of a collaboration network where if people I'm collaborating with are  collaborating with other people, then that means we spend less time together, I  get less value... So this is one where we've got negative  impact of other people forming new relationships.  And so you can go through and, and have different paths here, and here, you know,  when these people now form a relationship, their value goes from 2.5  up to 2.78. But these people are, go down from 2.5 to  2, so they, they're losing more time[INAUDIBLE] and so forth.  And then these people form a relationship.  They go up from the 2 to 2.3. And so forth.  Okay, so this is a very simple setting. And what we see in this setting.  In terms of the, value. the arrows represent.  Moves from one network to another network.  Which would be improving, or it would sort of means that this, this network is  not stable because the individuals here would gain by adding a link, and then  this one's not stable, and this one's not stable, right?  So each one of these is pointing to a new one, and we end up with the only pairwise  stable network for this set of payoffs. You, given all the permutations of these  things you're going to end up with everyone connected and everyone getting  2.33, okay. So, that's the pairwise stable network in  this set. Okay.  Now the interesting thing is well, they, they're getting, they're worse off than  they would have been had they stopped here.  The difficulty is, this is not stable in the sense of individual incentives.  People who have incentives can move on from there. "
   ]
  },
  {
   "cell_type": "markdown",
   "metadata": {},
   "source": [
    "## Efficiency\n",
    "- **Pareto efficient**: there does not exist g' s.t.\n",
    " - $u_i(g') \\ge u_i(g)$ for all i, strict for some\n",
    " - What does Pareto efficiency mean? it says that a network is Pareto efficient if there is not some other network for which everybody is at least as well off, and somebody are strictly better of. So there's not something that one can do which is unambiguously better for everybody. Nobody suffers and some people are made better off. So if something is not Pareto efficient then society really has unambiguously better options. If something is Pareto efficient then it means that if somebody gains by move, by some change, somebody else loses.\n",
    " - So Pareto efficiency is a weak notion of efficiency. There can be lots of Pareto efficient outcomes but it does rule somethings out. So it's going to rule out things which are just unambiguously bad and you can do better by\n",
    "- **Efficient**: g (Pareto if transfers):\n",
    " - g maximizes $\\sum u_i(g')$ i.e. the overall sum of payoff.\n",
    " - When we look at a stronger notion, instead of just keeping track of well, some people are just better off or is everybody better off or not. Sometimes we have choices to make, that some people are going to be better off and some people are going to be worse off.\n",
    " - This would be Pareto if you allow it for people just to move utility back and forth. You can make everybody bettor off by making appropriate transfers. But more generally this is just going to be a notion which is known as **Utilitarianism**, which means that you care just about the total utility or some weighted, in this case the equal weights on all the individuals, of the utility in this society. So this is utilitarianism with equal weiths on everybody, I just care about total utility. So this is a stronger notion that will narrow things down a little bit more.\n",
    " \n",
    "![](https://lh3.googleusercontent.com/Q3I79aEPICX3XcN9AbwKjThKJ_rzAz6R-0ipuD3FE2KrOgJjIjQr-b1H-WYqvw1tCqo6YIrbLVsmszFFTloy1U4cBdH4Ndo6KsMQUGeuqialJXjjbuZrqbFunvZ0YOg9BxLIgQlwbnBQ7RLFuJBnTLMMaY3-Xg_E0GDNJRY-iT33x4WSdxE26kdwkehAqpF22YvSlZL6wLWJtG3_2WFcWeO_ztHW346c8mU0QPy6U9TPOxaeGMqDxSYKQIoi2BN8_1IC55CiC06okaCQ_kRHohcJtBGM7eIUD62Emdw854P8_rwS_t21q6BOkv9AhO8PKJ3w324nKslKvIjiDRT59p-VC29lQ12xerVdRqZGMBhQ1Sg4hiVlF0cWIDDFeb85zlplbv8FTj5MLd8CdfkYx0Aaec18gTz_Cxk0vkNX2MjjHoMrOXLQvExBA8VH9rU2soSgYxEWAQH3UD_BzewpIXEuzfikHqw-W9fICsOcy824jC1aiNA2bRVuSOfQHmgBXEZ8NABalqoR36yTe-JySU_eeTDH8OG-8PQUPPT-NovM3ul0MMUjh-P1vYDlE5Hf50hQJdnCal-SnwMpumjJ6gltRkhR25K3pEbsFPfqEYR8RjImF1O9EXvr-MGKm1wOe0uw94t4AT5KW-7WwChaL-QHCInrIgqn_4Y6xQ9hjobPLahCfE3-vJ-4=w699-h392-no)"
   ]
  },
  {
   "cell_type": "code",
   "execution_count": null,
   "metadata": {},
   "outputs": [],
   "source": []
  }
 ],
 "metadata": {
  "kernelspec": {
   "display_name": "Julia 0.6.4",
   "language": "julia",
   "name": "julia-0.6"
  },
  "language_info": {
   "file_extension": ".jl",
   "mimetype": "application/julia",
   "name": "julia",
   "version": "0.6.4"
  }
 },
 "nbformat": 4,
 "nbformat_minor": 2
}
