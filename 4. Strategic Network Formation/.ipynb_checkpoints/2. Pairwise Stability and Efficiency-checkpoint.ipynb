{
 "cells": [
  {
   "cell_type": "markdown",
   "metadata": {},
   "source": [
    "Okay, so we've got some basic ideas behind strategic formation.  And now, we're going to talk about modeling how we measure efficiency and  also how we can model people's decisions form and delete links.  And so, in terms of modelling incentives and you know, just sort of keeping track  of these things, let me just first make a very simple point.  so let's think of a world where we need consensus to form links.  So, two individuals have to agree to be friends, and I can't form a friendship  with somebody else if they don't agree to be friends with me.  Now one way people might think of doing, of modeling this would be as just  modeling it as a game. And the simplest possible game you can  imagine is everybody just announces who they want to be friends with.  And then if both people, if two people both announce each other, then we form a  friendship between them, and if they don't both announce each other, then we  don't form a friendship"
   ]
  },
  {
   "cell_type": "markdown",
   "metadata": {},
   "source": [
    "##  Modeling Incentives / Equilibrium\n",
    "- What if model as a game where each agent announces who they wish to link to and a link forms if and only if both agents name each other?\n",
    "- Nash equilibrium: no agent can gain from changing his/her action\n",
    "\n",
    "Nash equilibrium would be a situation where nobody wants to change  their list of announcements given the set of announcements of other individuals.  And so, let's just talk through why that is doesn't really work so well as a model of network formation in these kinds of settings.  And imagine that we're in a setting where they're just two individuals.  And if they're separate, they get a value of 0, and if they're connected, they get  a value of 1. Now we have a game where they  beat, they simultaneously announce whether they're willing to form their  relationship. well both of these are Nash equilibria.  \n",
    "\n",
    "In this case it's a situation where if I don't think the other person's  going to announce me, that doesn't matter what I do, I can't get the  friendship anyway, so I might as well not announce it.  So, there's an equilibrium where neither person announces the other, because they  can't you know, add or really change things.  There is also an equilibrium where both of them announce the friendship and then  it firms. And so there is two nash equilibria and  in this case that's somewhat problematic as a model here.  Because this is the simplest possible model and it predicts anything it could  happen in terms of linking to forming or not forming.  And yet, any reasonable, communication among these individuals should lead to  this link for me. Now there are ways of dealing with this  in terms of the Game Theory. We can put in stronger solutions concepts  and trying to do things that way, so instead of looking at Nash equilibrium we  can allow for slight errors by players and see what happens.  Or, but there are other examples that aren't quite as simple as this one which  give other solution concepts trouble. So what we're going to do is instead of  using off the shelf non cooperative gain theory, we're going to model incentives  using a very simple concept which we'll call pairwise stability. So the idea here is simple.  What we'll do is we'll look at a network and we'll say that it is stable.  "
   ]
  },
  {
   "cell_type": "markdown",
   "metadata": {},
   "source": [
    "## Modeling Incentives: Pairwise Stability\n",
    "- no agent who's involved in some particular relationship would gains from severing a link - relationships must be beneficial to be maintained\n",
    "- no two agents both gain from adding a link (at least one strictly) - beneficial realtionships are pursued when available."
   ]
  },
  {
   "cell_type": "markdown",
   "metadata": {},
   "source": [
    "## Pairwise Stability\n",
    "- $u_i(g) \\ge u_i(g-ij)$ for i and ij in g\n",
    " - no agent gains from deleting a link\n",
    "- $u_i(g+ij) > u_i(g)$ implies $u_j(g+ij) < u_j(g)$ for ij ij not in g\n",
    " - no two agents both gain from adding a link (at least one strictly)\n",
    "- a weak concept, but often narrows things down\n",
    " - why is it weak? Well, it's only looking at pairs of individuals. It's only looking at one link at a time. And it just makes sure that there's no single link that would be better deleted, and no link that's not present that would be better to add.\n",
    " \n",
    "![s](https://img2.ph.126.net/UXwAum4G9U5qWwiVLSEKVw==/193936259054190563.png)\n",
    "Just dyad(`1-1`) is pairwise stable, so both people would gain by adding this pairwise ability just says that this is the only stable network.\n",
    "\n",
    "![pairwise stability](https://img2.ph.126.net/niVH-0Vg-_6_e-Hl9T8QKw==/6631738467796270526.png)\n",
    "  So, we'll just normalize payoffs with no connections to zero.  Let's suppose that if you form a relationship with one other person, you  get a value of three each. So, if two people form a dyad, they get a  value of three. So, if both sets of people formed  relationships and we have three to four people and we have two relationships, and  everybody gets a three. if, if we add a link to this network  where these two individuals now decide to form a link together, then their payoffs  go up so now they have two relationships each.  They get a marginal benefit, a bit little more, they get 3.25.  But lets suppose these people are jealous, they don't like their friends to  have new friends. So this is different then the connections  model this is a situation where now I'm, I'm losing time with my friend because  now their spending more time with somebody else so they get a value of two.  now these people if they connect to each other, they get more value.  But then these people are losing value because now their friends are spending  time with other individuals. So we can think of this, this will come  out of a collaboration network where if people I'm collaborating with are  collaborating with other people, then that means we spend less time together, I  get less value... So this is one where we've got negative  impact of other people forming new relationships.  And so you can go through and, and have different paths here, and here, you know,  when these people now form a relationship, their value goes from 2.5  up to 2.78. But these people are, go down from 2.5 to  2, so they, they're losing more time[INAUDIBLE] and so forth.  And then these people form a relationship.  They go up from the 2 to 2.3. And so forth.  Okay, so this is a very simple setting. And what we see in this setting.  In terms of the, value. the arrows represent.  Moves from one network to another network.  Which would be improving, or it would sort of means that this, this network is  not stable because the individuals here would gain by adding a link, and then  this one's not stable, and this one's not stable, right?  So each one of these is pointing to a new one, and we end up with the only pairwise  stable network for this set of payoffs. You, given all the permutations of these  things you're going to end up with everyone connected and everyone getting  2.33, okay. So, that's the pairwise stable network in  this set. Okay.  Now the interesting thing is well, they, they're getting, they're worse off than  they would have been had they stopped here.  The difficulty is, this is not stable in the sense of individual incentives.  People who have incentives can move on from there. "
   ]
  },
  {
   "cell_type": "markdown",
   "metadata": {},
   "source": [
    "## Efficiency\n",
    "- **Pareto efficient**: there does not exist g' s.t.\n",
    " - $u_i(g') \\ge u_i(g)$ for all i, strict for some\n",
    " - What does Pareto efficiency mean? it says that a network is Pareto efficient if there is not some other network for which everybody is at least as well off, and somebody are strictly better of. So there's not something that one can do which is unambiguously better for everybody. Nobody suffers and some people are made better off. So if something is not Pareto efficient then society really has unambiguously better options. If something is Pareto efficient then it means that if somebody gains by move, by some change, somebody else loses.\n",
    " - So Pareto efficiency is a weak notion of efficiency. There can be lots of Pareto efficient outcomes but it does rule somethings out. So it's going to rule out things which are just unambiguously bad and you can do better by\n",
    "- **Efficient**: g (Pareto if transfers):\n",
    " - g maximizes $\\sum u_i(g')$ i.e. the overall sum of payoff.\n",
    " - When we look at a stronger notion, instead of just keeping track of well, some people are just better off or is everybody better off or not. Sometimes we have choices to make, that some people are going to be better off and some people are going to be worse off.\n",
    " - This would be Pareto if you allow it for people just to move utility back and forth. You can make everybody bettor off by making appropriate transfers. But more generally this is just going to be a notion which is known as **Utilitarianism**, which means that you care just about the total utility or some weighted, in this case the equal weights on all the individuals, of the utility in this society. So this is utilitarianism with equal weiths on everybody, I just care about total utility. So this is a stronger notion that will narrow things down a little bit more.\n",
    " \n",
    "![](https://img0.ph.126.net/itGDRhIWnL5BTq3W_aWu4Q==/3871688304755605353.png)"
   ]
  },
  {
   "cell_type": "code",
   "execution_count": null,
   "metadata": {},
   "outputs": [],
   "source": [
    "zonghelou 2 lou "
   ]
  }
 ],
 "metadata": {
  "kernelspec": {
   "display_name": "Julia 0.6.4",
   "language": "julia",
   "name": "julia-0.6"
  },
  "language_info": {
   "file_extension": ".jl",
   "mimetype": "application/julia",
   "name": "julia",
   "version": "0.6.4"
  }
 },
 "nbformat": 4,
 "nbformat_minor": 2
}
