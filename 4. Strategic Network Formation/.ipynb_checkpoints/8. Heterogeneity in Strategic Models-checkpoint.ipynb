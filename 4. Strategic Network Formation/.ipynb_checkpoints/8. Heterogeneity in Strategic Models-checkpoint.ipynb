{
 "cells": [
  {
   "cell_type": "markdown",
   "metadata": {},
   "source": [
    "## Enriching Such Models\n",
    "\n",
    "- Cost depend on geography and characteristics of nodes\n",
    " - easier to be friends with neighbors\n",
    " - easier to relate to people with similar background\n",
    " \n",
    "- Benefits depend on characteristics of nodes\n",
    " - synergies from working together, trading, sharing risk, exchanging favors...\n",
    " - complementarities: benefits from diversity..."
   ]
  },
  {
   "cell_type": "markdown",
   "metadata": {},
   "source": [
    "## Can economic models match observables?\n",
    "- Small worlds derived from costs/benefits\n",
    " - low costs to local links - high clustering\n",
    " - high value to distant connection - low diameter\n",
    " - high cost of distant connections - few distant links"
   ]
  },
  {
   "cell_type": "markdown",
   "metadata": {},
   "source": [
    "## Geographic Connections\n",
    "\n",
    "Islands connections model:\n",
    "\n",
    "- J players live on an island, K islands\n",
    "- cost c of link to player on the island\n",
    "- cost C > c of link to player on another island\n",
    "\n",
    "Result:\n",
    "- High clustering within islands, few links across\n",
    "- small distances\n",
    "\n",
    "![](https://lh3.googleusercontent.com/yLY1rG-pcH87upTkbnrP8mxZBx7faJ0AaruypGiFz4msxaoulE4L_gl2dJAgK7oXeXItI4mq3TQLfwEtHn8ONr62h-os1tp-pzQpk877zJGJelRbvyTOjKV0uw1KchrrnYK8bZrN19-LqfxXA1cKjMJwJdBrqy6DCEeMnXl-2_pxXZ_32k5RlwNsEtDFiag3hYJR8F1FW4ySVWQ1br9QVZHlvebuvvUsW0RcUb-Vg0TozPridSGjYNA4NEWBvGjaFhGTfAPRXAtgIrNIDkOIBCNWuqfW-TxUgwcpJCDwyWrgMzaB1aUpD690358uOCF-ULLqCtSADvn2FF5yj1cCrw0WYiLpk7VFvtfsWc0OtuHnUDPS3fe-7hqee-jjHVA5miGC9G8jhHhx4jTAlNQt-4HeTs7CNJKqu6kKcwAx90sZUg5l1O48pSuTq9kh4BHqwBigJRxOIlkAdPrGTNGTbKbu1lSgJEQ5wgh1P-uP63HKIT2zPD4ffq0e6asa_dSaX7m9bVxSHQjTLa_3hM8YrEtfXJd--tPgYyVs1qktmUqKdqe8YCeHzveXiaGOXRhr03PKig9HhIpZ4sAbq-W3PY-hkz_5i7CSnudbsRE-So8ZsAy7I7I1-E58c-yipe_wf_d-kp5LTT3-1r69RfOQKJlWLXYhWbNlF3jf_dwfc5MEkSd1wdkxu2WT=w894-h545-no)\n",
    "\n",
    "![](https://lh3.googleusercontent.com/Do7NT8kJqZYFTVN1WzdhKo3EH6lfdU71W72up9zLB9BHZfr06rj7FJf_a9XME2tz3sRyXOy4lGQ2Ys7dq62pVJPNtYg7cOhQne-qXQRR0Z3PfWhlzrSNtHHpHDeptufyhNw8US9CIzwDGoUfAGGBHXJHQmQQdjWBpVXdEzICCcrgYF8BMXJ3v9A9L-MypLOy9W8OtJwi0_k7448qdrXPI0nD6_8QVcPOKlOEKXchwrW9MRi2ZpJKcobJ0plmxvJWwE7pSntz9UZudegYkx8MZSgndVaAgLucI6qXJ32lHlhWgOU-AiXkC4D1xMRPvkp1ccH1tZW1mEE3Ja5md16We0mMmNe4dR1wBwwmFBbH7gvizDTGyf-zrqJy5KrGjJyMwixkXdp2Y_GA_kSMCKKWagj2BWk1paw8a44st0LQSkaFfWLQ55SCtVSvUkS1-5SRuM5_zYYubILG1Zyn_lFfSjZ8u_Hg7DhxKQFJpB6I4YSN2J_EapVGnaBx-NHWfm2RSoMvqNty4YkyThTu_gw0KSDKCIUoXkySkECtzEVB-MY6iH_EnZdC8kBpo4rC3duJHEr5oiJYbMC5bQBrhZpvWL4XW8-xCFTtlzKugtEkyVcox9FpmmNS4vT8MZlVSRh2qjsl_dd6p1LLfcxYK0mcw1EaadHqlpUa1_JySsgAEa2WU04JYw8bjy6v=w890-h533-no)\n",
    "\n",
    "![](https://lh3.googleusercontent.com/0H3YkROT07gKc5NfSEbGFdlEkCrnLq6qpx7EcFgxLC4OyCBjYLibj_m4sQ7nTywJcmfGD9uPH1swgF3I7SnBSlFOh3pt4JpIEVXkwZNEBWM6PCbypwttOrQx-iAWRmNow38EUQwjU-SZQOcwhBBInL5VqugyiyQJP45vRmKcP3XZ7k4LgsSmFuLUV1V4nxwLBq__rUiXUDl_3yOxTiLx6Ks9yAyWYNdaijMFv_11CcTllQWEddXj3COfDN70oHvKqmwVyDSFAqG1jxQxpLjKECVLsMnHLunniZJhO1o3O3Ve_RIE84ky4hEhx_edNnDVSPmDeicdVgeNKyFFM0v7QxpeKNFtUxPbYgi5tB8OKI0yYGxR-8jxZrmGgB_eW3jgXEHedhZaEmZh7bPEE26sW7Mf0UG2aDd7ZG-AGLLNQKMY6zZ0FEkkW9utDHdUuVcAR2ScUNElp1NAloHcWUSEmGnf2yK0OsuYidn7VJkfoMNRrKxHUqy4qfdUt5tZPNBeJ0JlepPhJqAaJcS0x6r6PPSd4Dvb3N38oF8TGH26EE4na5iYGfNt3nGFb7nDCHUeM-LgJfvtkVpt5sKvBKdWb9StyF_-8Fusiiot5tr8OrCt0-n4PcyDXKXxrQOMaXOnOmWJQjyRxft37OMaTikmI97daQEQCItSfkzAy0ZLY2uNATJJwTcdnnLi=w875-h561-no)\n",
    "\n",
    "---\n",
    "\n",
    "![](https://lh3.googleusercontent.com/zeuf7p0PFDrmf9vJjhlUE2mYaEOkLSs6CBKVyuo_uPpkp7XXjPhVqevEiqNG1yUVyZXEVE9rp8Xk4jumEeIhev7GDPLgkUdFdz8Ri3zlunCUsx_iNQa7VK1LDx4nTl6SkS8i0kQWwdSYaJxC1yP0PVcj5X3HXsUJWmTRJBMXH1RRkILssLwc2rn7GsZoXDkMJ-4TT6-WVN5odF4irGotiOmCAafVfX1HLpEcXreAy_X8oKQPDAQcNOPSkQNqNatpyptiPy578JmtFopB6WrDj8VjLyM3gyMaLLeBvunAUaHu-ajS4HWGMJVNNktWLaHEFExeprdUW8HbjaZdLhWDCYPMSC8cwEcBGD8Jlx7BErfuMcgmHMunyiZz3NUf3afdOkSOSYNdh7rbW4TEFXB0grkxOZ2P1DVkYw-2yR5nvk2TmHqTd3YHi-IVeRmOpKqO2cdn_JvmZM0fDzGUR6AzLtbNstXyEcA1-jptn3SIQhCYHjwIiYvhJ60k_oI9cRzD8B2KjOIjc2kpN_adbulxwbFYat6a2rldh4al5V8SN6SqhqQIyu-htOJDTyBYrZ0SvjrQfE7bcEF-RfiQ8ZFDS6V3DQbT6wKtDKmzcrms_WKlUPNCxmieaoRM9g7PzPw0Fvo0T8G8Y9npdG84tqOu99C4DcArlmjPo0lbVzsTYjT1nG4Q3LKWO4ow=w906-h556-no)\n",
    "\n",
    "![](https://lh3.googleusercontent.com/cgboEVzCW1LWX0UFbuxH-D-QdSyVwBUL7CLzP7CTs8EmhDkAFPJkXke1R1uZJhXDTXrGSQln3atfPKb1odcR8nwlDWQGThADqo-rJPGrfLCbvObPOJPKu7mfEYdcHK4oalt_7s0ih4sexKhoE08Enmn6Eu-JZ_4XV6zpTTmAEHumrvCpmG-0Mm6dZKHVjWLvl1gTv7lmcRP9HBo2lhd0cvY79ScuAA0PMQNfVGgdca81ag_3fMj_NmKCxxwOIs07IkLUu6Qcgwj58sfuzBX17o7vlBq_C1g92gfurYY1swr5RqrAaH8eW_q8plNitasF-cyBH-pminPSNuHW_VDwEsGkD5F0JD673ghyywEkgpG2EdjNMVa0suR0_IlQQ9YOn4Br4yxa6QWLWDoPC3ODwxekEJt9RlOuS5VpDjH_Kv43L1boQELB5iSx_J3EgOpCEDkRHNJLLq3PqH3lPic4PHd_ufaTGhVluYausdgVeaVI3NBx7w5Hvsywug8bQd2WGLRUmkYF9guaDaanLsmCienKTyGVh3gk_SFI8hzAM4KAV59aW3UqS1oAkV2mcxQtnhcMSazKq7KX_p0Cf2nF2UoM481Ul5x8os3RZCfZPWl27b6ZyHuQezI3sVRphjbPzOs7GE1tSwLzniHVegBfP1RMJJrB5noOdX1kSSGkwVCm3g0hhkKFq6TF=w912-h551-no)\n",
    "\n",
    "![](https://lh3.googleusercontent.com/llGzuxtNse6b6tkASWA_hnooIAWgkGYESeMzZgE-r3IRd6_R3IEL2f8kR-yQFPgifLW2-r2zQcgr8WdkYNE6ATdhrDIzb4YSwBJANTTg-gvDGtq2COMrjcX8s3t-nSt4bDVGGupTFSrCgy9QJOhg75wLTTdtFhvV-JKstDFzLY9POGXafbMmMNi22clmLMEaP0RoeBS10oeuUX2OizWpcOk3EmZM6sivYNqdRjmBMV8aUt6GPf-yP3T34JeqH_kT5YsLuDBFvDeqGuPbG092RjBNbhR6YinY9z7FUf386dfliVi2PVPKGY6ZbZ4n1LsJcqN0mJN3U-L_X-0iGhLhlANcP0RWMGqygpvNFSVwElJN7s1BRwZaohxznHJURSRewxtNiZ9DRXuRkgp0JF1L-peUNV4pDGrWZbR3m4oGEGLWtzrMuZxycu6sAZYwhUgYD26uAS12xRaE9Pzh3nXC5BjD_cXY7A7cKUhwzXKpjx9AuogCOmRHnuDPGUI4EotD_sROFx2MrpM1ZOR_8ASqeCHVf2-GYOR0OHsShaq60g4tgF3Gzh58UPWcjuhWjVTcfp4K-HxPtCL5lNbOFCe5g7jXQ_04cI6Q1GqFh7i-pmw1cXq3DroxDjH0bpbE24RUSqqY3tRl6aIc2GWzGSNcnNcyoCiox1oxsO7_a8A5PI-XyWFuUANGD-Cc=w963-h564-no)\n",
    "\n",
    "---\n",
    "\n",
    "![](https://lh3.googleusercontent.com/8XWY9yJvXMPptYOaSAl0HXUJwZgao-yszzy7gqLVqaTjqm2OdwJh2BQFxxaBfPEWDF_gE1pnfbnWyFAn3LNqNb_sCHulXjqCzce5ifrNN2tX7Jx95e7IlCyvebXHOGGHi1IxpVQmw7ZyAlwheH13CKwpqswKejKEr9DTDqA5zqE8Hs9yjz-Edtse47UA4h8MERa2q1VfOTtjZuXkxhGe-9GJK9SZtCVZDmJmU99sdSRjR3Z58XhYFfPu8Q1tCKYGNQNLqPrhZQMekbsD6ttn9uSwjBKjzZzE2_TPG1dx3CgHXU07A1mniYHn8CMd8ZRIL2kyfKKiK0Wc0DJm6g96jkO45ZKRMU2nfzDWaT2OG3PyURgr_4PEBNqr9BwZh8K5kxwHd5ypV_wVNRLG2ZgVm6VzHrR3qNufMGSdEGQI7tH7pN4lLz94lNfudz0rtcAWpPthFhhhnYCHG6g3bpBKKzUNBdi_EeEtagRMoXGWhjCor_CPbuLXbHh7QmwGL_rJHGpobSU0utSiJp5ELatop_YuQOt7onQt9dmctQV7JlDBvMtYSIlXoKEkb3w8c7drb6mtVupcOfDH3CPEFmA3rkKSxLxqVs_dehexe6u9qO08fcS2Byg0UDdCKGpWk7Kj1UADidvaPsrNQRGR8UtDyMEtReGM0YoHE_ZmcRPcR11opODhKNC21w1c=w917-h711-no)\n",
    "\n",
    "![](https://lh3.googleusercontent.com/XI8wu_az4-GwwpX5Z0U_NJQC8tiFvKgLA5vs_2QZujeHVf1F6Bw0RaOze4Y0PeLLvbXp3s6vUUSVIjOlEIQZ4vwkw5f4kTh41POcOKrJy0OqCwrFqbphG53jk8zusYSAbRK4oT4hG0ShOuBWBwwvYK8XuTwcX5bH059hwfgs5gsigyrCJz1ubjIgt2XtKfnK6k1fAaJXOQk9OEppPg0UojdDUfvGn336L5xDIEnbFMKPfkGUvzv5IYCC2X9cXy3LRTbR5eVl0hja9qsu0eMEGidTUYLbweQGRLJ1zLD5ksaeYOWK4RaTSPJwotoVRBTyNQa1Vstdwv6js3vdGHpM_yJceAd0eb3o-ete1axpZN3XKAVkn-vGwM8Z4U4uySGu9B3OoLunpgWFxzn5LGVkAKOIKcGrm8tSjDJco_B2jCceUoQvcxFQw1opLRh6JewX6_15v0AwbPDENEkwZWaeQ3C3yumzo_PfnAGMkon0pObOcJrYCK7OL1RfhcXPlUMhwD9p9SusucBPO2FH0heaP0i-N_JokFDs1e2kjXkEV4nMaO8jMeg1Lp1aPzKvTGa6MskJsPx4ZIBMOxGDoShIYjzCcBrOx64JyuTzylhd2QIMfZhA3ktQ2tC56tS8M_yz4xE2LuTwvDkdq0axuI-8C4oFhFi0m8AWNPWaKViolkA8ra78mlNkG3xA=w944-h607-no)"
   ]
  },
  {
   "cell_type": "markdown",
   "metadata": {},
   "source": [
    "## Proposition JR04\n",
    "- Truncate connections:\n",
    "$u_i(g) = \\sum_{j:l(i,j) \\leq D} \\delta^{l(i,j)} - d_i(g)c$\n",
    "\n",
    "- If $c < \\delta - \\delta^2$ and $C < \\delta + (J - 1)\\delta^2$ then\n",
    " - players on each island form a clique\n",
    " - diameter is bounded by D+1\n",
    " - $\\delta-\\delta^3<C$ implies a lower bound on individual clustering is $\\frac{(J-1)(J-2)}{(J^2K^2)}$"
   ]
  },
  {
   "cell_type": "markdown",
   "metadata": {},
   "source": [
    "## Summary Strategic Formation\n",
    "- Efficient networks and stable Networks need not coincide\n",
    "- Need not coincide even when transfers are possible, and with complete information\n",
    "- depends on \n",
    " - setting\n",
    " - restrictions on transfers, endogenous transfers...\n",
    " - forward looking, errors...\n",
    "- Can match and explain some observations"
   ]
  },
  {
   "cell_type": "markdown",
   "metadata": {},
   "source": [
    "## Strengths of an economic approach\n",
    "- Payoffs allow for a welfare analysis\n",
    " - Identify tradeoffs - incentives versus efficiency\n",
    "- Tie the nature of externalities to network formation...\n",
    "- Put network structures in context\n",
    "- Account for and explain some observables"
   ]
  },
  {
   "cell_type": "markdown",
   "metadata": {},
   "source": [
    "## Challenges to an Economic Approach\n",
    "- Stark (overly regular) network structures emerge\n",
    " - need some heterogeneity\n",
    " - simulations help in fitting\n",
    " \n",
    "-  over-emphasize choice versus chance for some (especially large) applications?\n",
    "\n",
    "- How to identify payoff structure in applications?\n",
    " - relating network structure and outcomes, payoffs"
   ]
  },
  {
   "cell_type": "markdown",
   "metadata": {},
   "source": [
    "## Models that marry strategic with random are needed\n",
    "\n",
    "- Weaknesses of Random are Strengths of Economic approach, and vice verca.\n",
    "\n",
    "- Mixed models\n",
    " - allow for welfare/efficiency analysis\n",
    " - take model to data and fit observed networks\n",
    " - do so across applications"
   ]
  },
  {
   "cell_type": "code",
   "execution_count": 1,
   "metadata": {},
   "outputs": [
    {
     "data": {
      "text/plain": [
       "2.52"
      ]
     },
     "execution_count": 1,
     "metadata": {},
     "output_type": "execute_result"
    }
   ],
   "source": [
    "0.9 + 2*0.9^2"
   ]
  },
  {
   "cell_type": "code",
   "execution_count": 2,
   "metadata": {},
   "outputs": [
    {
     "data": {
      "text/plain": [
       "0.08999999999999997"
      ]
     },
     "execution_count": 2,
     "metadata": {},
     "output_type": "execute_result"
    }
   ],
   "source": [
    "0.9-0.9^2"
   ]
  },
  {
   "cell_type": "code",
   "execution_count": null,
   "metadata": {},
   "outputs": [],
   "source": []
  }
 ],
 "metadata": {
  "kernelspec": {
   "display_name": "Julia 0.6.4",
   "language": "julia",
   "name": "julia-0.6"
  },
  "language_info": {
   "file_extension": ".jl",
   "mimetype": "application/julia",
   "name": "julia",
   "version": "0.6.4"
  }
 },
 "nbformat": 4,
 "nbformat_minor": 2
}
