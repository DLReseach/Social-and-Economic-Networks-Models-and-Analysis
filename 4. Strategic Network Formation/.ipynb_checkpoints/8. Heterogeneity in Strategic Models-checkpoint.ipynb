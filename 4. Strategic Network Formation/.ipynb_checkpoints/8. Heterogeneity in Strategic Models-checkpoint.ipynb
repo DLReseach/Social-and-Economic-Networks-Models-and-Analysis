{
 "cells": [
  {
   "cell_type": "markdown",
   "metadata": {},
   "source": [
    "## Enriching Such Models\n",
    "\n",
    "- Cost depend on geography and characteristics of nodes\n",
    " - easier to be friends with neighbors\n",
    " - easier to relate to people with similar background\n",
    " \n",
    "- Benefits depend on characteristics of nodes\n",
    " - synergies from working together, trading, sharing risk, exchanging favors...\n",
    " - complementarities: benefits from diversity..."
   ]
  },
  {
   "cell_type": "markdown",
   "metadata": {},
   "source": [
    "## Can economic models match observables?\n",
    "- Small worlds derived from costs/benefits\n",
    " - low costs to local links - high clustering\n",
    " - high value to distant connection - low diameter\n",
    " - high cost of distant connections - few distant links"
   ]
  },
  {
   "cell_type": "markdown",
   "metadata": {},
   "source": [
    "## Geographic Connections\n",
    "\n",
    "Islands connections model:\n",
    "\n",
    "- J players live on an island, K islands\n",
    "- cost c of link to player on the island\n",
    "- cost C > c of link to player on another island\n",
    "\n",
    "Result:\n",
    "- High clustering within islands, few links across\n",
    "- small distances\n",
    "\n",
    "![](https://img1.ph.126.net/aOjtdz4u25VrhAneb5qxIw==/1669991036924930278.png)\n",
    "\n",
    "![](https://img0.ph.126.net/dcoQT9QvjUP8XVivV2QB8g==/1885882344061908327.png)\n",
    "\n",
    "![](https://img0.ph.126.net/ARNQv65ycfmQs83Nc6vZ8A==/2174112720213574575.png)\n",
    "\n",
    "![](https://img0.ph.126.net/xfj9KPhPAdewgb8nP5wqnQ==/6597684393658890975.png)\n",
    "\n",
    "![](https://img0.ph.126.net/dY3UvfdF0KJqxPeaw3NSnQ==/1922474091034302735.png)\n",
    "\n",
    "![](https://img0.ph.126.net/BABfHGMIv9i4qavdfvMNJg==/6631643909796468873.png)\n",
    "\n",
    "![](https://img0.ph.126.net/MusN21WJyWnlQN57lcA3ag==/1659013512833098182.png)\n",
    "\n",
    "![](https://img2.ph.126.net/x2ZWzVUsi3HqxRNVzZBdvA==/6632717033142578987.png)"
   ]
  },
  {
   "cell_type": "markdown",
   "metadata": {},
   "source": [
    "## Proposition JR04\n",
    "- Truncate connections:\n",
    "$u_i(g) = \\sum_{j:l(i,j) \\leq D} \\delta^{l(i,j)} - d_i(g)c$\n",
    "\n",
    "- If $c < \\delta - \\delta^2$ and $C < \\delta + (J - 1)\\delta^2$ then\n",
    " - players on each island form a clique\n",
    " - diameter is bounded by D+1\n",
    " - $\\delta-\\delta^3<C$ implies a lower bound on individual clustering is $\\frac{(J-1)(J-2)}{(J^2K^2)}$"
   ]
  },
  {
   "cell_type": "markdown",
   "metadata": {},
   "source": [
    "## Summary Strategic Formation\n",
    "- Efficient networks and stable Networks need not coincide\n",
    "- Need not coincide even when transfers are possible, and with complete information\n",
    "- depends on \n",
    " - setting\n",
    " - restrictions on transfers, endogenous transfers...\n",
    " - forward looking, errors...\n",
    "- Can match and explain some observations"
   ]
  },
  {
   "cell_type": "markdown",
   "metadata": {},
   "source": [
    "## Strengths of an economic approach\n",
    "- Payoffs allow for a welfare analysis\n",
    " - Identify tradeoffs - incentives versus efficiency\n",
    "- Tie the nature of externalities to network formation...\n",
    "- Put network structures in context\n",
    "- Account for and explain some observables"
   ]
  },
  {
   "cell_type": "markdown",
   "metadata": {},
   "source": [
    "## Challenges to an Economic Approach\n",
    "- Stark (overly regular) network structures emerge\n",
    " - need some heterogeneity\n",
    " - simulations help in fitting\n",
    " \n",
    "-  over-emphasize choice versus chance for some (especially large) applications?\n",
    "\n",
    "- How to identify payoff structure in applications?\n",
    " - relating network structure and outcomes, payoffs"
   ]
  },
  {
   "cell_type": "markdown",
   "metadata": {},
   "source": [
    "## Models that marry strategic with random are needed\n",
    "\n",
    "- Weaknesses of Random are Strengths of Economic approach, and vice verca.\n",
    "\n",
    "- Mixed models\n",
    " - allow for welfare/efficiency analysis\n",
    " - take model to data and fit observed networks\n",
    " - do so across applications"
   ]
  },
  {
   "cell_type": "code",
   "execution_count": null,
   "metadata": {},
   "outputs": [],
   "source": []
  }
 ],
 "metadata": {
  "kernelspec": {
   "display_name": "Julia 0.6.4",
   "language": "julia",
   "name": "julia-0.6"
  },
  "language_info": {
   "file_extension": ".jl",
   "mimetype": "application/julia",
   "name": "julia",
   "version": "0.6.4"
  }
 },
 "nbformat": 4,
 "nbformat_minor": 2
}
