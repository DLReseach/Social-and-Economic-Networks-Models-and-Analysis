{
 "cells": [
  {
   "cell_type": "markdown",
   "metadata": {},
   "source": [
    "# Hybrid Network Models\n",
    "- Most networks involve both choice and chance in formation\n",
    "- What are the relative roles?\n",
    "- Random/Strategic models can be too extreme\n",
    "- Can we see relative roles in homophily?"
   ]
  },
  {
   "cell_type": "markdown",
   "metadata": {},
   "source": [
    "# Application - Homophily\n",
    "\n",
    "- Group A and Group B form fewer cross race friendships than would be expected given population mix\n",
    " - Is it due to structure: few meetings?\n",
    " - Is it due to preferences of group A?\n",
    " - Is it due to preferences of group B?\n",
    " "
   ]
  },
  {
   "cell_type": "markdown",
   "metadata": {},
   "source": [
    "# Currarini, Jackson, Pin(09,10)\n",
    "\n",
    "- Utilities specified as a function of friendships\n",
    "- Meeting process that incorporates randomness\n",
    "- Allow both utilities and meeting process to depend on types"
   ]
  },
  {
   "cell_type": "markdown",
   "metadata": {},
   "source": [
    "# Revealed Preference Theory\n",
    "- Common to Consumer Theory\n",
    "- Use it in mapping social/friendship choices to!\n",
    "- Different information than surveys on racial attitudes"
   ]
  },
  {
   "cell_type": "markdown",
   "metadata": {},
   "source": [
    "# Model\n",
    "Types: $i \\in \\{1,...,k\\}$\n",
    "\n",
    "$s_i$ = # same-type friends\n",
    "$d_i$ = # different-type friends\n",
    "\n",
    "$U_i = (s_i + \\gamma_i d_i)^{\\alpha}$ utility to type i\n",
    " - $\\gamma_i$ is the preference bias\n",
    " - $\\alpha < 1$ captures diminishing returns"
   ]
  },
  {
   "cell_type": "markdown",
   "metadata": {},
   "source": [
    "# Individual Choice\n",
    "- $t_i$  number of friends -- proportional to time spent socializing  -- i is \"type\"\n",
    "\n",
    "- $q_i$ fraction of friends that will be of own type\n",
    "\n",
    "- $t_i$ maximize $(q_it_i + \\gamma_i (1-q_i)t_i)^\\alpha - ct_i$\n",
    "\n",
    " - Solution: $t_i = (\\alpha /c)^{1/(1-\\alpha)}(q_i + \\gamma_i(1 - q_i))^{\\alpha/(1-\\alpha)}$\n",
    " - Add noise for particular agent a of type i:\n",
    "  $t_{ai} = (\\alpha /c)^{1/(1-\\alpha)}(q_i + \\gamma_i(1 - q_i))^{\\alpha/(1-\\alpha)} + \\epsilon_\\alpha$"
   ]
  },
  {
   "cell_type": "markdown",
   "metadata": {},
   "source": [
    "# How to identify preference parameters from data?\n",
    "\n",
    "- $t_{ai} = (\\alpha /c)^{1/(1-\\alpha)}(q_i + \\gamma_i(1 - q_i))^{\\alpha/(1-\\alpha)} + \\epsilon_\\alpha$\n",
    "\n",
    "- This is observed directly in the data and will vary with $q_i$\n",
    "\n",
    "- If $\\gamma_i < 1$ then this is increasing in $q_i$, so more fraction of people I'm meeting of my own type, I should form more friendships, and so that's going to allow us to begin to fit what $\\gamma_i$ is. So the idea is $t_{ai}$ should be a function of $q_i$, and how quickly it varies with $q_i$ is going to be dependent on what $\\gamma_i$ is\n",
    "\n",
    "# Larger Group = More Friends\n",
    "\n",
    "![](https://lh3.googleusercontent.com/vdnZx5FEOM78E3Ij_jjes_2OF1301SOztOKqPTLMg490TSyf_ewIrHLOTN3zyKG0UCQ-l2CuiZY5tLlfftROSDz7h3Q2Ec5TWPKqZmgppXtI-jafrldb6-4Tv9z8XuoNucLxdX4UQoS4V2nvNSQjjTSeWttfarXam4FiwkHVHOqV5RUqzckvRE1RPtpVOkoGdQ2GrpytPGYIcFysAVeaR_T8GwD2Ces_IP8edOD1sTQTc7_zjYgNI1zIObYZdD5sbjbidnNv47Cz7TRkR5ZC0d80SxRUVqnrCn55ViLVnWda1SYwyeP_8bRe6XYbHxA27CCi2LNgbfpZttpfTZVSLEnyvvmOJ3xr7pdnuUGv-BAhEZgDTtBFhYZGSIpnrmsMSbGa1vnp7SFmNYhteSqaDkIRjDttbBHYCfu1xXMp3yjmjWlV6IrXas0VvHcFwE1Fy8f8Dq_ye1TbAcMA0aZ27BYPJiMZXfUB7J_Hji8GElMP__vrxaop-NWAov0dUPSOAANIwrjlcamWZ3bfFzbTOVo8KFt_7hqL5iT8BNvZllT-jD0EIoYNVSqHHHnfpbQUtYkh9u7VUSHm13rCYChJbyirPP_jIX3StY6XuJTKxxDgIyJBZ7LP6e_2M-tlKpYwdU0B1-LPOREOmru5VackZbGIsnEQZe5-YUXTmvCLvAyBf-uIrQTrGofC=w987-h568-no)\n",
    "\n",
    "![](https://lh3.googleusercontent.com/iQewlddc4Lo0fTw8V6FlCMT_u0-CXrEXY8rZ8aPxzyUHv12YRuRy7tSrsHPu_28U204_GF0Z3qLiZXAkeYY36NZJXDDd5INRNzvBILnUR4glLP6QJH9v36h9T1EMb1lmaGrTgG3Dhqgzjm4qTLZ7F4zgpqlELqIOdLgtMe6UwT9bP63ZPWlPr5A9VU161rwTg0P3qFT4eyH-y-UV0ZC43ufomy9-HQ2gFrxmAInPieVbgYJzqGlOY9II6uvX-WtSFCj6b8PCMf70fiSlh5grd_QpjN2zDxxzcXvxauAO1k1Pi39SOUk9t0fw3PlkbyyZTPnfNHOjwyUKJSE0mqCEiZ1ZUXxDCtMLg0-ldAu3eVLi0AxmsN39U4011V-xLS0OknYnG20GzdxY82Da7dZ5wrvkum75pXqOlR7ncUuSa7JsMY50RgLg-W1Mkafl9vE_mEizpCCxU630vvyyrIPENVpF-Ax5MU2VVs1pZKrkLRTDnczUs7-Ohcqob2liSkpwmCpyiXsIuL3i8kITIYYPWMQ0BH6PmWSil-zJYO_Y-nusIEFdHy7wHBVCZJ8CMfd3fQlmad9OeVG6A06N7Bmw0PQ6ULYM-VC1KuQ-ZkPiFJw-0ebJKgchl2Be6SdJn0JqhhzjI4XAYiaUraMMRk0A4a0K44hsyN98B5s9EB4cxyAnc6VwjjzPmA7J=w433-h342-no)"
   ]
  },
  {
   "cell_type": "markdown",
   "metadata": {},
   "source": [
    "# Meeting Process\n",
    "Where do $q_i$ s come from?\n",
    "\n",
    "Randomness in meetings, but also have $q_i$ s determined by the decisions of the agents"
   ]
  },
  {
   "cell_type": "markdown",
   "metadata": {},
   "source": [
    "# Meeting Process: \"Party\"\n",
    "\n",
    "![](https://lh3.googleusercontent.com/xLIWeJb0KURxLkd_WEztNutYg_PPl-49MpnaBfcAxULCRwCJWq0fsKf8vJK3nAVBTK9PZGyRo8E4Q7d24OricUzShCj-_a7xmjNgdAYaOnmsM9NqXSexWJH1LX9q3crS_EpCjX7IINVl3mWciVLHLFg8oVnIOrYJwGcety7ndux-ANqXqLR1nuG216YX_eVxHoywgD0XYee4QYN1UKGsowNpThd3hxxOq9S5uMrUdzqsCJgy3iPffPwx6vW8G5AWvXGdJwq2EzSjegF3ZJCYowXPF739XAEU-YExA9Z2bRfa6uMEsOWggwC3oyUW65KxuPInl_WtZTvNHC-nu4H3wRKs7QbBqsZiwk_D1avIe9apqEG11y4gx0kKX0kbauJR94VOMfiUG9pNva_WULYzjef-Whc_ubbLN7BIe-Td4FbgQiN09MYPBsptnBSA3ShazEe_edfA2_k0DXfD7oYFfhOFJcCiDXy1s61evGqcK3ThUXv8zGUwA2n4-fhfap9WtBFy1cMcNxlyu9bodFhoFEk6aCJft1x9hcUKjhUMQ_NyTlcRpWgsCYqfJWusrkLypbX-k_DzQUy2AMcajtX5q_O8h-KX-H-TEwJkPNHlADacGNW-eMnxeGZe_nPBLTyrZSdWYDxiqYNnhCTdznkdGaLBPvqMIrT1J9E303U4TAt1JJY6fx1FZnQr=w690-h286-no)\n",
    "\n",
    "![](https://lh3.googleusercontent.com/Vxnm2qtnY2sEs65Aw31PvR7GZrlyNThENBtckwQDHo_EW9EQxLjIfZqLytqbKwG7Qi78UmLwCGQjXQyaLU_zNA_N4wU0Kbx2eGjD8gxX9sUdc6ZyHeF-OBaP48I2RVAlwm3ORznN7Jnph_ZKgsyOIubCLNY5e1BDSI12NzCYV2Y_LgBCczCkA-QZfDxVHMweS3eWmWrtAWG-s4exh022K_iPQyfbEb-CixaPin4gCrKTrGXY4tzLZcrX8Xk0kO3F3lSGaib65IVv_p-2qS66YokCpZgBpwckqhVsDKXcAQ7yPCHZLHnEfDscqjiT3Nz2mW-QTZbHxvzlPH0RdYjH_P5M3dv0DJeC7y7yJwsgSeAkqfZhhWXVcuxC0ipRGcZ_RV_sYheKjRVLkRW6lftKbqhjLh_ZHigSg-wMHxN2vjMq4JY2wKLAscrod4PYUMDVTMZTB-wVyNRoKQ2uhVdHKei6OZRuWBN47lviVhwmp5soksCg_Is1BoZ3kgmOhp2URJCEKV28ngcSFkD7GMlknz13lCcNP1Bc5YVAx_Tb8XXiLWAX75aCtrJ2YkRAhkAD-dRXsuiQlWEC9cPCMsCSs5OQvo4Ur_ysGRKncbWSY9k2E4NZGh6lRFh5TPLq3lnW_HwWanuqzrUTCEfnrVKT6msSsf9wnyZhQ4I6GAlSX3p1_OGeg0AXbicC=w1196-h469-no)\n",
    "\n",
    "![](https://lh3.googleusercontent.com/hZIM2Z5i5O_MeVvfpG0Ywy6LdHXMHykUk9rKRJD0oHrZx6DLPC3OajMqFsa94mNqeY_UjujaweyetyTbHTzBBtzvSimv7uubeSTCOgCpqXcn-ZsbNkvbj-5rInwUE8DWuhdretLBirzJrAoK4wHQnbj4l79R6U_wY1SsBpinWykc6YbGALE2FYYNhtilNUOG-QTmyKm1Eazn-i192_XhhE-OZ4zZdzjnN7Ke_N-baKuT5aR3aY9Ds6Df-bUG9K4pekCzWEN0STuxfT9H81F99SHUVbpQQ0_Tm3pWANEtCU3EyoySY0lgJR6Egtp2XRj61_vBRzvZT_RHCMESfMXMvWytKqVqoouqJMIIBnJTSJkwQ_9WCNx0KW1423w3OBkVFooKUuzawHm29nJqefONf-CPTvKrviTDHj-PzuZ8wjsuJ9zciNbPO_gBJ4ZwU3jnCmtitc47QNz7Mt1W9tlQvh_61N0G6Gxi3mDnjkEW9W25POsWzKt8w5r3OcQykPw_mCMPhQFLSyTFWq-cSAPjXStEfxZR4Qf5tDREn-OLamoXbmbm8Fm_QlAPPK2Sal3lj9pa2Bh74ClfTmgNVL_P6DFjVT606lDg_EVzd99KWvLE8kHPKIbFulkqJLyz1zn-7pgZ4lKFwTLQyXMsm9GHeNhvVtehxkEjXucZnkiJyp0LLBsmDeRn9Wrp=w1171-h497-no)\n",
    "\n",
    "![](https://lh3.googleusercontent.com/TYQo3wApvr3-THYyM72FTCqZERLMiAX2vAwQtgu12vjL-aludcuNlQfOXXS4eUDhrxI319QbhwUa6K1I5ZnRPnv4Mh9gAfQfbx4MG5D8VK2S0haX7K4mRMGuY3LMgVU_afcDaCCBzfbMTAK1iHXZ2Qk7Aha5ZM0P6ydv-Y-q6t5yW4SFxpO7-eR4BfDIexU8c6fyangbk5uWLPd66lpa4SQZaacdJnXkaLKVbdal6fOPsSwKTR7aJlRSdW9lHetHUwiScW0iY-yeLKsuJwWQTvBmyngz40URSneIXpcCb2_kMhPcxL0IcZvg2rVSh5MhGdTFYE9K_ICWOBE0eyXK-iz8SBB9Y9lVYPniDcJ4o3oDFdw-1vTbxpbFpQXr9iTXgrlZytfgcCEDs9ThyGkaK_5zEfewiql_BQyNbIWHCwpbu6VsVJK-yRnUc3AiGvLPRAYM69Kjmdfqy4NkLIJQtv2pNMXsDLkp8d_kTxZz9Y7s63EFapr7zZw3uuhfJqodbtWNoOVGTj99oXJys3LsuPm-Wk5egBEpgaJIsrgJQbN9ue9-MJlzAZG3mut_mC5puTT3EVIXYmbH596WR7HG004gUebnJIlISu0BKoJpOA77E2JxGaHuD5VFUiICum_YrF2bSDDC5MrZZGT72OuudNYgPEscO3NUPkIJZq1QtZlLf89zhNmlmFrV=w1171-h477-no)\n",
    "\n",
    "![](https://lh3.googleusercontent.com/Wp3hTV0ndsWz2wQQ-O3NNHhtzxiuAPUiHiHsH6EMMn7Ur3gpuIuXRUirzq9fKSsBJSkYfzJZP4_FSqhzwWgAGY_V6RP4Vr-8BSbCneDzAB95FbsttCFTQeLGyUkereeIFyyNkfGXzmhPlIskuDGReuBK--WxS5q_6dZFVC6uEygNiTeEgeMHFMzMvw8M0cJFo-UhQ2X3biRxn34NISyWpmtXo074EaM3WWx6KJvaigUNilNYgkZUGrvxfaLKUbVjFNV7VmepLUKbMjrTs6CX2fCkttw6AfpwBcQVVJ4hIeoWR9_ji5Cu9b2aTVugg9wPrjkZuogsnDDZ3eVwj-K7OM36yopW-AKe0VP7OCOua48AHREtfOq7cGr6MUtcI6qO2Qn9ZxTLjbpHXc2GFHVMmR2nqgG4xBGsRAva4UXZwCawW_4wqfuiywQHOEovyNblNMItJzzCtNhl7SnV085JzzmcUAtjaMhl8OmPBHcLAPtOjD2JZ8hIXFn4eVm_TcEVRRCxTnZhInCaF_P-6lnP4exzbJUs8H_OU2-0aMXWf4KpVfiR5ztefm3cjDGhOVfIwxwa5_XmSk40owOJJtMhfWY7OiznnOB04oaeTNZC1lnv2okBUQ0Os0v2JOt1R0L7ZELBD49iFzbQhEe2qFsGovXSFk9Nqm7OmN92YPRqLC6zns8fCFP-gRS0=w1193-h470-no)\n",
    "\n",
    "![](https://lh3.googleusercontent.com/yFnZbVo8fW3cboyI207Gy7JntcKTXFledeY3ECwfpqNw1AzuBX2YwWLzpA1B2f8ZROGWHD7aX53JaT5O_Qb40DT_qhCNMN5N11EehAc5DdYS3lKxnlk2GgGH1Np43dluxFPyK1Au8kSWMlYtmxyS2tlmJCZqPEVZiBefjODrCf0FddYVdG0M1VOhN1PyzocT8AcKHU6f1w6lbsHDf3Zb9G83kBGz7RJbqwweL2n1Hvn8T7ZlK5-SDrhHxMMLSPW-gjVJQ1SOkqGcXYE5vMRG2N0KP7amaFLFKK6lLOnQHHYSt5iaIYgzr9kmBKZynHH-8_p3YH_9a00IR9KuLyVWqIBgAKVbWCZrqei168UmWjY_Tk8XzFygQ2_wyYuaGE8eHIgbM3Bnpjc2tvbE_suTEkVM-zgA0MZOTe_c_hqR87GSdKDLsFr143hycAXteuvQjiiyY9sdV12LodGNhP_xqItMqN-Sa96eOQU7KJPi5u84WHBsPX0l3-cJPv5xHKRvIt7CfqbhtRGtBXETCLH633Wc-0ajui0mFPq-s8kzreVWh_HH-W8SNkk2R_mTU75l59bSXWnTDOJY4_xyqlijEFlOVAG36VfIzbYZfKQzFU8bbXkOjTfi4txCDoKszqO8Dn-pypCgNrNS2DPh7jbytXrdo5tq9YPSFcuyzLgYeHjyOpAtU_qYKNrm=w1157-h500-no)"
   ]
  },
  {
   "cell_type": "markdown",
   "metadata": {},
   "source": [
    "# Bias in Meeting Process\n",
    "$q_i$ rate at which type i meets type i\n",
    "$1-q_i$ rate at which type i meets other types\n",
    "\n",
    "$q_i = (stock_i)^{1/\\beta_i}$\n",
    "\n",
    "$\\beta_i = 1$ \"unbiased\": $q_i = stock_i$\n",
    "\n",
    "$\\beta >1$ meet own types faster than stocks"
   ]
  },
  {
   "cell_type": "markdown",
   "metadata": {},
   "source": [
    "# Meeting Process\n",
    "$q_i = (stock_i)^{1/\\beta_i}$\n",
    "\n",
    "$beta_i = 1$ if $stock_i = 1/2$ then $q_i = (1/2)^{1/1} = 1/2$\n",
    "\n",
    "$beta_i = 2$ if $stock_i = 1/2$ then $q_i = (1/2)^{1/2} = 0.707$\n",
    "\n",
    "$beta_i = 7$ if $stock_i = 1/2$ then $q_i = (1/2)^{1/7} = 0.906$"
   ]
  },
  {
   "cell_type": "markdown",
   "metadata": {},
   "source": [
    "# Equilibrium Conditions\n",
    "\n",
    "- $t_i$ maximize $(q_it_i + \\gamma_i (1-q_i)t_i)^\\alpha - ct_i$\n",
    "\n",
    "- $stock_i = w_i t_i / \\sum w_j t_j $ fraction type i in the meeting\n",
    "\n",
    "- $q_i = (stock_i)^{1/\\beta_i}$ meetings determinded by stocks\n",
    "\n",
    "- $q_i^{\\beta_i} = stock_i$ and $\\sum stock_i = 1$ imply that  $\\sum q_i^{\\beta_i} = 1$ (balanced meetings)\n",
    "\n",
    "- atomless population (ignore individual errors)"
   ]
  },
  {
   "cell_type": "markdown",
   "metadata": {},
   "source": [
    "# Fitting the model\n",
    "\n",
    "- $t_i - \\epsilon_i= (\\alpha /c)^{1/(1-\\alpha)}(q_i + \\gamma_i(1 - q_i))^{\\alpha/(1-\\alpha)}$\n",
    "\n",
    "- $\\sum q_i^{\\beta_i} - \\epsilon = 1$"
   ]
  },
  {
   "cell_type": "markdown",
   "metadata": {},
   "source": [
    "# Eliminate (unobserved) costs\n",
    "- $t_i - \\epsilon_i= (\\alpha /c)^{1/(1-\\alpha)}(q_i + \\gamma_i(1 - q_i))^{\\alpha/(1-\\alpha)}$\n",
    "\n",
    "- $(t_i - \\epsilon_i) / (t_j - \\epsilon_j) = (q_i + \\gamma_i(1 - q_i))^{\\alpha/(1-\\alpha)} / (q_j + \\gamma_j(1 - q_j))^{\\alpha/(1-\\alpha)}$\n",
    "\n",
    "$t_i(q_j + \\gamma_j(1 - q_j))^{\\alpha / (1-\\alpha)} - t_j(q_i + \\gamma_i(1 - q_i))^{\\alpha/(1-\\alpha)} = error$ "
   ]
  },
  {
   "cell_type": "markdown",
   "metadata": {},
   "source": [
    "# Fitting Technique\n",
    "Search on grid of biases in preferences and meetings ($\\alpha_i, \\beta_i, \\gamma_i$):\n",
    " - For each network (school) and specification of biases, calculate an error in terms of total deviation from fitting equations ($t_i, q_i$)\n",
    " \n",
    " - Sum squared errors across networks (schools)\n",
    " \n",
    " - Choose biases to minimize (weighted) sum of squared error"
   ]
  },
  {
   "cell_type": "markdown",
   "metadata": {},
   "source": [
    "# Fitted Values\n",
    "\n",
    "![](https://lh3.googleusercontent.com/kwo57dZxof_toQOlvGrLBw2SZt3XVI-VsA1u2Qt9FPlImK0KqcTLameNIs6ALLl9I2MUM6u3eprclxU4qrEP4XvmV1-9P4WsHi8sbX1ciNRYu8wz_6XdcWdmnZ-fl1Jb_IddRqc3DNnyCLZaM5RMARxGp0fqYWC_aSf6c7Kcf80kd0APcn-S7dD9NzYLnv6VkNkbXAEbisSx7V8Zj6467iHO94VSIGC8yRJ1ZS9jbEOJpzo3LnnBzzIKfQ_rhoz9afjTs2u5DO60G9O4dvIQzm8Ea0QFxj5_G0xIFyJU68Fk_umGesjR4mD-8b6e9EoGSIvImWDpaBhYgVPGAOLJ8r1z_I_QrvnaHOaDznkpdqfftgzjJB8P_7BmNgmeW5tuHgc44y9_QCTu0nS3n8BLK1wx6l_xvVbHz05gIyuA95hBsGhDIU9rH6mfjaHai8C2wYQ-NIMKdNNyDILSc07Z2JVJXstP2OPUkisO0f6zH35bn8dva_Ub4YA1F1jKW8Pc1iBFN_cuCd0HrFvFY-dObdUKvjQEIuCc4XhbS1QMKeDWYsNRT02lUJ6Ts_lg5fD6aSjJoZVrqSWSbJ8q-MQbQYog7tZwlUBr73Fk4LZY9zPER2xWIPtG98TEdgW9QmXKUsfACxaOzS54-2wmYoJuUuNpW6nGnxCbj-ymh8j7UMzVNjRqD87LHtV5=w1034-h399-no)\n",
    "\n",
    "![](https://lh3.googleusercontent.com/XJy_zjVH_JR9hSsXgunfBTdjPD0riwzIizv2jnOlOhgqHU-X4Fi6u5RVb9QUQ65gMNQIat9oQqm_bmk8wE5bbtco4Hd2S3ELF3zEseU3TgwPVwqJzeyrS-Av6vopT_qBCpuXIpYxuhXoQvd6x7TsXHtKakENvd7PnyoTLi3YFvZv859Wb0I-zS6URrWAa_tdZ0zjd_7udxHl3DSEaRZlVTnDj07zhtuUzxvuqSn2m1XOWFSzKMd07_wsuc9rVEioisqTkt_RnhiaURt0XgayUUTcFPWXPgo6lE7x5vvC8cUYnI8IO8wLmtPlwGnkX1590jiDM0pmXymgwLk4evDEQiic9l_K-duzwswC1XBOBJ7yKcZGCU-0IdEoFShOKGRGgOySAkwHCzvWec5C8dTP4-UfTQyIw0Q-kHw1fQWGHuK5yChkx4WQ2ozOpx-GtAStT3mdkOM0tbnB01A_-FNtIuSSo5dQ-3EItwEBgt1c3DsG_2S6uf_MoEgRML-dRjrRncuu0Clh51-NlXIm38-cmsCn3WG6BNBhiQfFAgvJGIj-BTQaTKjZS4TIeOnkf1d8LnG8MRDLdf16vhRTdA-J68uZIL6aftO1VGazOJhzpIzz3ki93YPC-Zw2DeiIXuuqNoGRbSMOixH2YOcUaW_txJr56IewntQR6f591Fh2HTMBcdLr4prtjZWt=w569-h329-no)"
   ]
  },
  {
   "cell_type": "code",
   "execution_count": null,
   "metadata": {},
   "outputs": [],
   "source": []
  }
 ],
 "metadata": {
  "kernelspec": {
   "display_name": "Julia 0.6.4",
   "language": "julia",
   "name": "julia-0.6"
  },
  "language_info": {
   "file_extension": ".jl",
   "mimetype": "application/julia",
   "name": "julia",
   "version": "0.6.4"
  }
 },
 "nbformat": 4,
 "nbformat_minor": 2
}
