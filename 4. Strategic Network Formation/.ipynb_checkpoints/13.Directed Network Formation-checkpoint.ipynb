{
 "cells": [
  {
   "cell_type": "markdown",
   "metadata": {},
   "source": [
    "# Directed Networks\n",
    "- Formation game easy\n",
    "\n",
    "- Players simutaneously announce their preferred set of neighbors $S_i$\n",
    "\n",
    "- g(S) = {ij : j in $S_i$} keeping track of *ordered* pairs\n",
    "\n",
    "- Nash equilibrium"
   ]
  },
  {
   "cell_type": "markdown",
   "metadata": {},
   "source": [
    "# Flow of Payoffs?\n",
    "- One way flow - get information but not vice versa\n",
    "\n",
    "- Two way flow - one player bears the cost, but both benefit from the connection (link on internet, phone call??)"
   ]
  },
  {
   "cell_type": "markdown",
   "metadata": {},
   "source": [
    "# Two Way Flow\n",
    "\n",
    "- Efficiency as in the undirected connections model, except **c/2** and link in either direction (but not both)\n",
    " - we have half as much costs being born, so instead of having **2c** per link, we're going to have **1c** per link, and then in term of what that does for the efficient calculations, is it just  factors everything down by a factor of 2 in terms of the costs. So the efficiency in this model is exactly as it was before except for we've divided through by 2\n",
    " - low cost: $c/2 < \\delta - \\delta^2$ ==> \"complete\" networks, \"complete\" in quotes, because complete doesn't mean that every link in both directions is present, it just means that every two nodes are connected, and in this case, they're connected by only one link. It doesn't make sense to have links in both directions because you bear twice the cost and there's no added information flow in this situation.\n",
    " - medium cost: $\\delta - \\delta^2 < c/2 <\\delta + (n - 2)\\delta^2/2$ ==> \"star\" networks\n",
    " - high cost: $\\delta + (n - 2)\\delta^2/2 < c/2$ ==> empty network\n",
    " \n",
    "- Nash Stable:\n",
    " - low cost: $c < \\delta - \\delta^2$ ==> two-way \"complete\" networks are Nash stable\n",
    " - medium/low cost: $\\delta - \\delta^2 <c <\\delta$ ==> all star networks are Nash stable, plus others\n",
    " - medium/high cost: $\\delta <c < \\delta + (n-2)\\delta^2/2$ ==> peripherally sponsored star networks are Nash stable(no other stars, but sometimes other networks)\n",
    " - $\\delta - \\delta^2 <c < 2(\\delta - \\delta^2)$ complete is efficient, not equilibrium"
   ]
  },
  {
   "cell_type": "markdown",
   "metadata": {},
   "source": [
    "# One Way Flow\n",
    "\n",
    "- Keep track of directed flows, and in links are not (always) useful"
   ]
  },
  {
   "cell_type": "markdown",
   "metadata": {},
   "source": [
    "# An Example\n",
    "\n",
    "- Bala and Goyal(00) - Directed connections model with no decay\n",
    "\n",
    "- $u_i(g) = R_i(g) - d_i^{out}(g)c$\n",
    " - where $R_i(g)$ is the number of players reached by directed paths from i"
   ]
  },
  {
   "cell_type": "markdown",
   "metadata": {},
   "source": [
    "# Efficient Networks\n",
    "\n",
    "- n‐player \"wheels\" if c< n‐1, empty otherwise:\n",
    "\n",
    "![](https://lh3.googleusercontent.com/CzuU_vrpxOtyYdfbDt4nnNAvIi33xlI7wJkwcQqC_3cNUZpoBugOiTTYbQyRoGlG8ABe8Vmt56LsUZvB2nfh0yBG4rRbpQp3yXu3yMB8UlW9skVU0AdVy5kB439sZfx8kpjlPACtkkIPfJvhS_Nu_iLiK8fUYw3HvAbFwHozMTPlQAPnISgOfy31acrx_bBTZrCdDTfvTX2S6Rv0FVoktL_yI-0jPtsOET35-kPzW7G1ZI6hvDJHJGg0Qya0CIA5j9hEmqCJuO9iCBZIkivw5cIEma6JHYAFM_RoPRMTOQ-2p3Zt0kjZ_eIkL4TioRbv6haMs62ilMKTN1LAXTH8EeRAfwJwWIi_M-8XIPMyIN2xw1HF7C0zox-pUeyLbfJniou01R_kAsowvnlifHO0w8C0uFFJBtyJkvmEPoAMKwkLYYc2ceAwp82bUSi51MbA9_5NhiDt2prCyyZUJsUjdotFTq2jFlJolssmDXgh-kjWdzAsYMson6lRdl8ixzw6KK93BCf_CjvLPSniIcS-R1qF21kDSyFCVLjzkgd-hEz2Vokcd8kXSOZVPEQPaJ_BLGZYOGU4bKp3dD2QFlY3iluMhiyRbSwehhoNRhVQcEyy_p26u-kM4ND0QZ_W801A4-vK93hpdzsruRAD7U5ZeJ_kXFDYmovJJuBun2zFeINbuoGlwDIrAc9z=w395-h285-no)"
   ]
  },
  {
   "cell_type": "markdown",
   "metadata": {},
   "source": [
    "# Stable Networks\n",
    "- if c<1 then n-player wheels are the only strictly Nash stable network\n",
    "- if 1<c<n-1 n-player wheels and empty networks are the only strictly Nash stable networks"
   ]
  },
  {
   "cell_type": "markdown",
   "metadata": {},
   "source": [
    "# Strictness\n",
    "\n",
    "- Nash Stable, but not strictly so: 1 is indifferent between switching link from 3 to 4\n",
    "\n",
    "![](https://lh3.googleusercontent.com/lcpoZaJNw28llQNOtff-07ZaYVpGFdruBLRbPEeiTKUcKzDI-cQDXbY5xTMtMEGcG_xClg11oO7y2_n_FNPEwm5-EsklpxsDoP5QL0roS-ezwaCuoykOYfs_FB7-mzRSpjAkDINzhHAnBJTyFmwtlBdDN24ZcKQ1ennq0s0p6L8Gwser0JslHFDXA0rkhY5-DWkaOgYKnoaZ5cESSn-VzNUWBJhf8r3kwtgaUIIP4Gh3rIasql_bnauTCUmwYtR0y6reymSXoAJfdETRWKUGQXdxl_m8qmJPgjbUZSxSGkwezCa-tNMOuhh0nJW1kbSizMKKqIUOiut95P98HHl6UoPgUoUT8fxqj-A9AiykWWSLTHUOTehP-9icngCDOy6dSCRHbKQLcWq1KDP8RU6-evP1naC1_iHZ-MXADkdXKe7QjQ-zi1kXxCkAvm0Dj1yYgTn4PexzYf7ZuopdQjEfoaARweaPkznCUixZ27A5nPuzx9zBEzI0qAMNXEvR6zKWaqFMsO6byyrqqk4TUJyoMkr8KNW8HrroX44UhPzZcIFZCzIvtBHLK3i48FprQx-6IMi_8-zHGA3rv2VZBVb7Kt9x0OZeGAR-EiMEEhc84X8P8P6uBbQv2_0iMKPWAZ02qXBdCUAhBr3VQG4yEeq8-iurUorVUIFA18zrtDNK4LPI1mKTzEujwN77=w565-h265-no)"
   ]
  },
  {
   "cell_type": "code",
   "execution_count": null,
   "metadata": {},
   "outputs": [],
   "source": []
  }
 ],
 "metadata": {
  "kernelspec": {
   "display_name": "Julia 0.6.4",
   "language": "julia",
   "name": "julia-0.6"
  },
  "language_info": {
   "file_extension": ".jl",
   "mimetype": "application/julia",
   "name": "julia",
   "version": "0.6.4"
  }
 },
 "nbformat": 4,
 "nbformat_minor": 2
}
