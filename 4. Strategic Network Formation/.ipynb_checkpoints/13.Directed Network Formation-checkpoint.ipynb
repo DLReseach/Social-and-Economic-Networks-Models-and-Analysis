{
 "cells": [
  {
   "cell_type": "markdown",
   "metadata": {},
   "source": [
    "# Directed Networks\n",
    "- Formation game easy\n",
    "\n",
    "- Players simutaneously announce their preferred set of neighbors $S_i$\n",
    "\n",
    "- g(S) = {ij : j in $S_i$} keeping track of *ordered* pairs\n",
    "\n",
    "- Nash equilibrium"
   ]
  },
  {
   "cell_type": "markdown",
   "metadata": {},
   "source": [
    "# Flow of Payoffs?\n",
    "- One way flow - get information but not vice versa\n",
    "\n",
    "- Two way flow - one player bears the cost, but both benefit from the connection (link on internet, phone call??)"
   ]
  },
  {
   "cell_type": "markdown",
   "metadata": {},
   "source": [
    "# Two Way Flow\n",
    "\n",
    "- Efficiency as in the undirected connections model, except **c/2** and link in either direction (but not both)\n",
    " - we have half as much costs being born, so instead of having **2c** per link, we're going to have **1c** per link, and then in term of what that does for the efficient calculations, is it just  factors everything down by a factor of 2 in terms of the costs. So the efficiency in this model is exactly as it was before except for we've divided through by 2\n",
    " - low cost: $c/2 < \\delta - \\delta^2$ ==> \"complete\" networks, \"complete\" in quotes, because complete doesn't mean that every link in both directions is present, it just means that every two nodes are connected, and in this case, they're connected by only one link. It doesn't make sense to have links in both directions because you bear twice the cost and there's no added information flow in this situation.\n",
    " - medium cost: $\\delta - \\delta^2 < c/2 <\\delta + (n - 2)\\delta^2/2$ ==> \"star\" networks\n",
    " - high cost: $\\delta + (n - 2)\\delta^2/2 < c/2$ ==> empty network\n",
    " \n",
    "- Nash Stable:\n",
    " - low cost: $c < \\delta - \\delta^2$ ==> two-way \"complete\" networks are Nash stable\n",
    " - medium/low cost: $\\delta - \\delta^2 <c <\\delta$ ==> all star networks are Nash stable, plus others\n",
    " - medium/high cost: $\\delta <c < \\delta + (n-2)\\delta^2/2$ ==> peripherally sponsored star networks are Nash stable(no other stars, but sometimes other networks)\n",
    " - $\\delta - \\delta^2 <c < 2(\\delta - \\delta^2)$ complete is efficient, not equilibrium"
   ]
  },
  {
   "cell_type": "markdown",
   "metadata": {},
   "source": [
    "# One Way Flow\n",
    "\n",
    "- Keep track of directed flows, and in links are not (always) useful"
   ]
  },
  {
   "cell_type": "markdown",
   "metadata": {},
   "source": [
    "# An Example\n",
    "\n",
    "- Bala and Goyal(00) - Directed connections model with no decay\n",
    "\n",
    "- $u_i(g) = R_i(g) - d_i^{out}(g)c$\n",
    " - where $R_i(g)$ is the number of players reached by directed paths from i"
   ]
  },
  {
   "cell_type": "markdown",
   "metadata": {},
   "source": [
    "# Stable Networks\n",
    "- if c<1 then n-player wheels are the only strictly Nash stable network\n",
    "- if 1<c<n-1 n-player wheels and empty networks are the only strictly Nash stable networks"
   ]
  },
  {
   "cell_type": "markdown",
   "metadata": {},
   "source": [
    "![](https://img0.ph.126.net/YOr241IBeIyh-XyqezkpQA==/2115847400034457758.png)"
   ]
  },
  {
   "cell_type": "code",
   "execution_count": null,
   "metadata": {},
   "outputs": [],
   "source": []
  }
 ],
 "metadata": {
  "kernelspec": {
   "display_name": "Julia 0.6.4",
   "language": "julia",
   "name": "julia-0.6"
  },
  "language_info": {
   "file_extension": ".jl",
   "mimetype": "application/julia",
   "name": "julia",
   "version": "0.6.4"
  }
 },
 "nbformat": 4,
 "nbformat_minor": 2
}
