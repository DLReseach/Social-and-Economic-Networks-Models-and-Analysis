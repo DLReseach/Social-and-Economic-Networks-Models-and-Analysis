{
 "cells": [
  {
   "cell_type": "markdown",
   "metadata": {},
   "source": [
    "Add some dynamics to the process instead of just a static look at what's stable, and looking at these dynamic processes we can think of adding dynamics for different reasonsm"
   ]
  },
  {
   "cell_type": "markdown",
   "metadata": {},
   "source": [
    "## Dynamic Strategic Models\n",
    "\n",
    "- Explicitly model dynamics and incentives\n",
    " - Realism(?)\n",
    " - Refine static stable models\n",
    " - Incorporate forward looking nature\n",
    " \n",
    "- Very different approaches:\n",
    " - Myopic and error prone\n",
    " - Fully forward looking and calculating"
   ]
  },
  {
   "cell_type": "markdown",
   "metadata": {},
   "source": [
    "## A Dynamic Process\n",
    "- Even if some pairwise stable networks are efficient, might not reach those\n",
    "\n",
    "- A.Watts(01): link is picked uniformly at random\n",
    " - added if it benefits both player (at least one strictly)\n",
    " - deleted if it benefits either or delete it "
   ]
  },
  {
   "cell_type": "markdown",
   "metadata": {},
   "source": [
    "## Endpoints\n",
    "Resting point must be pairwise stable\n",
    "\n",
    "Proposition (A.Watts(2001)):\n",
    "\n",
    "Consider connections model where\n",
    "\n",
    "$\\delta - \\delta^2 <c <\\delta$, so that a star is efficient and pairwise stable, once a process hits a star, it will stop there. As n grows, the probability that the above process stops at a star goes to 0."
   ]
  },
  {
   "cell_type": "markdown",
   "metadata": {},
   "source": [
    "## Proof \n",
    "- In this cost range, once a node is connected into the network, they're always going to be connected into the network.\n",
    "\n",
    "- $c < \\delta$ so a link is a net benefit, nobody severs a link that would lead a node to be isolated.\n",
    "\n",
    "- If reach a star, let's relabel the nodes as 1, whatever the center was, and 2 through n are labeled by the last date at which they connected their link to 1, so we ended up with the star formation, so n is the last person who added a link to person 1.\n",
    "\n",
    "- n could not bave been attached to another node when 1 attached to it to form the star, or n and 1 would have been already been at the distance of 2, and would not have formed the link. So n was never attached to before attaching to 1.\n",
    "\n",
    "- induct - same for n-1, etc.\n",
    "\n",
    "- So must form star directly\n",
    "\n",
    "- If link ij is first one identified, then next one must involve i or j to get a star.\n",
    " - there are 2(n-2) such links\n",
    " - there are n(n-1)/2 - 2(n-2) - 1 other links\n",
    " \n",
    "- So the chance that even take the first step to forming the star is no more than (2n-4)/([n(n-1)/2 -2n +3] which goes to 0 at rate 1/n\n",
    "\n",
    "- Chance that actually form a star is much lower than this: on the order of $1/n^n$ since the same is true on each step..."
   ]
  },
  {
   "cell_type": "markdown",
   "metadata": {},
   "source": [
    "## A Dynamic Process\n",
    "- Natural dynamics: link is picked at random\n",
    " - added if it benefits both players( at least one strictly)\n",
    " - deleted if it benefits either or delete it\n",
    " \n",
    "- Will find pairwise stable networks (if they exist)\n",
    "\n",
    "-  Even if efficient networks are pairwise stable, may have low chance of reaching them..."
   ]
  },
  {
   "cell_type": "markdown",
   "metadata": {},
   "source": [
    "## Next\n",
    "\n",
    "enriching these models a little bit further, we can even add noise to these and that will give us higher predictive power in terms of which things we might end up at when there's multiple stable networks."
   ]
  },
  {
   "cell_type": "code",
   "execution_count": null,
   "metadata": {},
   "outputs": [],
   "source": []
  }
 ],
 "metadata": {
  "kernelspec": {
   "display_name": "Julia 0.6.4",
   "language": "julia",
   "name": "julia-0.6"
  },
  "language_info": {
   "file_extension": ".jl",
   "mimetype": "application/julia",
   "name": "julia",
   "version": "0.6.4"
  }
 },
 "nbformat": 4,
 "nbformat_minor": 2
}
