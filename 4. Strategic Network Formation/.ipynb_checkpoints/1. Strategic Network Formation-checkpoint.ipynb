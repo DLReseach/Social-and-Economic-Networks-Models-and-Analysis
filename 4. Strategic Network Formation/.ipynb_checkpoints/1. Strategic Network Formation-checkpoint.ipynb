{
 "cells": [
  {
   "cell_type": "markdown",
   "metadata": {},
   "source": [
    "# Social and Economic Networks: Models and Analysis\n",
    "# Matthew O. Jackson\n",
    "## Stanford University\n",
    "## Santa Fe Institute, CIFAR\n",
    "www.stanford.edu\\~jacksonm"
   ]
  },
  {
   "cell_type": "markdown",
   "metadata": {},
   "source": [
    "The strategic aspect means that they have to worry about what other peopleare doing. And they care actually about things  beyond just the, possibly the direct relationships they are involved in with.  So we end up with a rich context in which to analyze network formation.  So in terms of our outline of where we are in, in the course, we've gone through  and we talked quite a bit about random network models.  After we did our background and fundamentals. "
   ]
  },
  {
   "cell_type": "markdown",
   "metadata": {},
   "source": [
    "## Economic Game Theoretic Models of Network Formation\n",
    "\n",
    "Now we're moving into the course where we're dealing with, again, network  formation. But choices of individuals and then, once we've got this behind us, we'll start looking at how networks influence  behavior. So in order to understand it, network  Economic game theoretic models of network formation, this idea that people are  making choices. \n",
    "\n",
    "- Costs and benefits for each agent associated with each network\n",
    " - The basic techniques are, we're  going to think of, of nodes now as actors that are actively making choices.  And there's going to be costs and benefits.  I'll often refer to these as players, so they could be nodes, they  could be players, agents. \n",
    "\n",
    "- Agents choose links\n",
    " - And, it'll be fairly vague, because  sometimes they might be countries, sometimes they might be people, choosing  friends. Sometimes they might be researchers  choosing collab or a, collaborators. Sometimes it might be firms choosing with  whom to have a research and development agreement.  you know, it could be a whole series of different entities.  It might be an employee thinking about a company to work for.  so the, the ideas here are that this could be fairly rich, but the main item  is that there's actually choice.\n",
    " \n",
    "- Contrast incentives and social efficiency \n",
    " - And what we'll be doing is contrasting  the incentives of the individuals to form relationships with what might be best for  society, what we'll call social efficiency.  What's the overall optimum in terms of networks compared to what people will do  when left to their own devices to form networks.  So that's the, the basic underlying theme. "
   ]
  },
  {
   "cell_type": "markdown",
   "metadata": {},
   "source": [
    "## Modeling Choices\n",
    "- How should we model incentives to form and sever links?\n",
    "  Now when we once we go in this direction, we've got all kinds of  modeling choices to make. So how do we model the incentives to form  in several links. \n",
    "  - first of all there is consensus needed,  is this directed or undirected, network. So, you know, does somebody have to say  yes to need to be my friend? Or can I just be friends with somebody  other wise. Often in things like citation networks, I  can sight somebody else without having their permission.  but forming a friendship, an alliance, a calibration agreement, we're going to  have consensus. \n",
    "  - can people coordinate changes in the  network, so can we at one time say, okay look, I'll form an alliance with  you. But only if we can also ally with someone  else at the same time.   - is the process dynamic or static?  Is it sort of are we going to think of a lot of people coming together, and  forming friendships at the same time or is this on going.  \n",
    "  - How sophisticated are agents? Are these people who are calculating you  know, in the case of international agreements, you know.  There people calculating what's the value of these, how should they structured or  are these. You know, people you know, kids in high  school bumping into somebody and, and you know, forming a, a friendship.  How much are they forward looking about this?  \n",
    "  - what do they know when they're making a decision?  Do they know a lot about the structure?   - Do they make errors?  What's going on? What's generating value?  I mean, where are people getting value from this?  Where are the benefits coming from? What are the costs?  \n",
    "  - Can people compensate each other? So you know, if somebody's a very  valuable friend can I do favors for them to make it more worthwhile?  \n",
    "  - are there different intensities of links? Are we going to think of zero one? \n",
    "  \n",
    "  There's all kinds of modeling choices which come up and which are very  interesting. A lot of these different things have been  looked at in the literature. I'm not going to go through all of these  different things in detail in the, in the short time that we have together  But, instead I'm going to give you some basic feeling for how these kinds of  things are modeled, and what the issues are.  And then you can, you know, dig into the literature as you see fit.  in seeing, you know, how people have dealt with a lot of these things.  So, we'll do some examples of different variations of these things.  But we're not going to go through all of the different issues that you can think  of associated with this.  "
   ]
  },
  {
   "cell_type": "markdown",
   "metadata": {},
   "source": [
    "## Some Questions\n",
    "now questions to keep in mind as we are going through this. \n",
    "- Which networks are going to form\n",
    "- Are some more stable than others to various perturbations, are ones that form going to be the right ones from  society's perspective. If they're not, are they way off, or are  they pretty close? \n",
    "- Are the networks that form efficient? if somebody wanted to come in and improve  the networks, can they do so? So, for instance, if the government  decides that there's not enough collaborations between firms in terms of  research. And development, can they subsidize  things to make more of these research and development alliances come true.  \n",
    "- How inefficient are they if they are not efficient?\n",
    "- Can intervention help improve efficiency?\n",
    "- Can such models provide insight into observed characteristics?  So these will be fairly stylized models so we can actually say something about them. Can we take these to data?  Is there, are there ways of enriching these to the point that they begin to be,  data friendly. "
   ]
  },
  {
   "cell_type": "markdown",
   "metadata": {},
   "source": [
    "## An Economic Analysis: Jackson Wolinsky(96)\n",
    "Okay, so what I'm going to start with is  just a basic approach in terms of how we would represent this stuff.\n",
    "- $u_i(g)$ - payoff to i if the network is g\n",
    " - what we're looking at is we're actually going to have a network now  generate some payoff to given individuals.  So we'll keep track of a utility that a person I or noda I gets from graph G.  So an agent I is going to get a payoff, if the network turns out to be g. \n",
    "- undirected network formation"
   ]
  },
  {
   "cell_type": "markdown",
   "metadata": {},
   "source": [
    "## Connections Model JW96\n",
    "- $0 \\leq \\delta \\leq 1$ a benefit parameter for i from connection between i and j\n",
    "- $0 \\leq c_{ij}$ cost to i of link to j\n",
    "- $\\iota(i, j)$ shortest path length between i, j\n",
    " - $ u_i(g) = \\sum_j\\delta^{\\iota(i, j)} - \\sum_{j.in.N_i(g)}C{ij}$ \n",
    " \n"
   ]
  },
  {
   "cell_type": "markdown",
   "metadata": {},
   "source": [
    "## Symmetric Version:\n",
    "- benefit from a friend is $\\delta < 1$\n",
    "- benefit from a friend of a friend is $\\delta^2$,...\n",
    "- cost of a link is $c>0$\n",
    "\n",
    "![](https://img1.ph.126.net/AuwSHSLYywJxzKZnCUerrg==/1399212109329180037.png)\n",
    "\n",
    "![](https://img1.ph.126.net/_ziTFDS0aDOD4YPeJjI_ZQ==/5717542927807845295.png)\n",
    "\n",
    "![](https://img1.ph.126.net/JuflVUM96FKiFcjW7elGxA==/6597377629914865024.png)\n",
    "\n",
    "![](https://img0.ph.126.net/XSklFPGyktLi-WMfYuQ5Fw==/6631598829819277470.png)\n",
    "\n",
    "![](https://img0.ph.126.net/P8TmxDgRFu_5XVZjDLVf1w==/3281716753570032324.png)"
   ]
  },
  {
   "cell_type": "markdown",
   "metadata": {},
   "source": [
    "## Questions:\n",
    "- Which networks are best for society?\n",
    "- Which networks are formed by the agents?"
   ]
  },
  {
   "cell_type": "code",
   "execution_count": null,
   "metadata": {},
   "outputs": [],
   "source": []
  }
 ],
 "metadata": {
  "kernelspec": {
   "display_name": "Julia 0.6.4",
   "language": "julia",
   "name": "julia-0.6"
  },
  "language_info": {
   "file_extension": ".jl",
   "mimetype": "application/julia",
   "name": "julia",
   "version": "0.6.4"
  }
 },
 "nbformat": 4,
 "nbformat_minor": 2
}
