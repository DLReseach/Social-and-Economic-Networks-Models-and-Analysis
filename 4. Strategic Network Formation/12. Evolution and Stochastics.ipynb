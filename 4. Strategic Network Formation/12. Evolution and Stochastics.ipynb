{
 "cells": [
  {
   "cell_type": "markdown",
   "metadata": {},
   "source": [
    "## Improving path\n",
    "\n",
    "- Sequence of adjacent networks:\n",
    " - Link is added if it benefits both agents, at least one strictly\n",
    " - Link is deleted if either agent benefits from its deletion\n",
    " \n",
    " ![](https://lh3.googleusercontent.com/ETfJU6z1hSceSaTU-cfJyKplzIgzIGAgLuyXRxWfLznU01fH3PjFn5JHJ-AWu9OVbyo05ajYqg7SvymMkhaHMB2w9LM3R_7eMOw9icdJOKQ9wG1z2QMr1UYyV7g_go17Pu8EpOe8dSBvCFBxG6KT-_s495UfIwjYVw5hH9evuxXfDeQyMRLSOqJ0-Qq16Mp7ZQdGvt06tYcxezD3GHjonaW2WsgmjRAXcHGSYPovAGtpocRF1tXKGHTJRcDW6a1H8IVbt4aofR2gEqDdVhor5bAec9cf70voG1D1CalKKqri2C2V9JgM_4IZkxmtj9hDTucL_mbyb5EmD2Z-yYUVWC80Opzu480fRH_Z8vbxNPFc02hF6oiZQbM-mV051Wt5oRa40eAIue_yOqDQp4YoXY4rGv0EeOsxZ2UanoIXN7Yd7oAylNtSF5R8LxRnM6OTaSzqQPggbRWT5iHLgv550X4OqWjliFV-DUtOO6EAfg9az-jp0TMe4opK_M7xnEN-98N8l4l1butCBBUjyrKUOHz-Rv3n9soE5diAQNI0WdzMEnxltVgHTiUlwC9Z3stNHKPlshgH0Q67Tn0WeIz8-LmhI-MIYRh44VFjexegXWqqA5C7wYMCkpg5stYoe8djfGgV2TmShGvrCbIZrcPMKV6leWHbihDfdg9nR_9cx9Jd7-8L9Sm7eM1R=w471-h342-no)\n",
    " \n",
    "## Two PNS networks\n",
    "\n",
    "![](https://lh3.googleusercontent.com/b1q0AKmB6xW-W9sjuED3PC5IRJRcWok5ToiFYleJ-O-fbuzHP6mNYKtE4lZ4wx2UkJZHOtimWTwtY_O0PpkNvcDGtahX1E5a8oWd7LAH0JgYx_KRRsbUAr7FGh2V8_7obZRv-FA0DWyA69C7k-vyKAdPzfR6ocKzdu2Bo7X6c0CVjwBt7PqOGpFU2QnG2veAQOLGj-boMViA6KEOMU55S-_aVffCA5suHIdl66z79mnt56uo2GRSF6mNMLn20zz_LVpCWbVsLs8ICJMAX-Pd-0Zqt6zs0BcUxtpdJZ--EdYk-1dowaYT6fHevIrCVAcxjQA02EgsL4Pv8OXvhBo68qoGoucal1fUyuSzLmRcW_EtJWFoHvqaK7rLjxylAOb5cQHI6YEo-DyvfMMKhwbsSYwjZOh6ufSUxE46n7XKJioB_tfR5-JQLzhOvwtzRIUBXlRnk-VEdtmEAKteTnNV0k-2SCmcEWUFsMTvf-KLcZE2beIO9gHXiQblJC7uO3vePwwMxBmXvQ-FWRpS0aqogDZPeyTFQXcjSupJA_quMO4epOnvgNRIe_zrMmI5clveA_CAvIzyRqTfjAdGBv-1ilbqdXSA7O9NzbEZgizNCtsLEDrx5PSvuV_s9bRZMCkACPXMjjrYB5EYGVGX-Wz5MGcZTlCvX2OkCum8w9mDDf1u-1KlTMr75eqO=w789-h580-no)"
   ]
  },
  {
   "cell_type": "markdown",
   "metadata": {},
   "source": [
    "## Stochastic Stability\n",
    "- Add trembles/errors to improving paths\n",
    "- Start at some network and with equal probability on all links choose a link:\n",
    " - Add that link if it is not present and both agents prefer to add it(at least one strictly)\n",
    " - delete that link if it is present and one of the two agents prefers to delete it\n",
    " - Reverse the above decision with probability $\\epsilon >0$\n",
    " \n",
    "- Trembles/errors: $\\epsilon >0$\n",
    "\n",
    "- Finite state, irreducible, aperiodic Markov chain\n",
    "\n",
    " - You can get from any network to any other network through a series of errors and improvments. There's a finite set of possible networks you could be in, it's irreducible, in the sense that from anyone you can get to any other one, and it's aperiodic. You could move in odd cycles, even cycles, so this is a very nicely behaved Markov chain. It's going to have a nice distribution over how much time you'll spend at each.  So, pro, given epsilon and we'll have an idea of how much time you would spend at  each network in this process over time. There's a steady state distribution which  gives us the long-run distribution of how much time you'll spend at each one of  these networks.\n",
    "\n"
   ]
  },
  {
   "cell_type": "markdown",
   "metadata": {},
   "source": [
    "\n",
    "![](https://lh3.googleusercontent.com/El_CCyU4yOSGTUnY8AFqC1iLvKpVPM07AIVxvncpWMCH2Z7Iejxd5Fd8-mu9NuZk2dvfymEcmKAQfITDIzGbBKxpc1sx4uTsUCNed4KlE3SgcJ6U8R6MXhZZi5LgJTa7TecfCiv3A6y2z4xf1Nq4buc9MJAhWz1v-HmnKmcsPfIjbtRddLZ9g-7TLul2AmOaqkQQy71MRnrsttvIa1RcyZf85tgBrbSh-j0FgLYbm8Tu7oCXiK_Im5rk3bAVUb9jLc8ecnTM5-4AKtcZMfmlyGcjYMACwmsGErF5_OHIVjhkTm9mer8HyatazXPEIS0lvK-1TPe0vMIsE2zZVrhnGXmf6-Y07MwyPB15MFuS5vv0nIyBLrF6UxvN6SNClzh2syVdg4WaFu-Xz7Xubi9Bg1uAIlnnw62d9Ju3hAPZglf5Q_vhe0qvPtDhKdw6J7gZjOO43Iegct0_xPoHlcNkrMpsKF-PGhaZ2Y-YgKa97bsLcmoBG8XRxyMOPrTzddMhAaogKbRGtMGqdOUI6TiQrATu9JU_FSSd-LBjDpxidq4usV_91dNowJuvP0d6PwwFz-J--JU20HcO2LcwoNHRP6KjFJkfx76MAA88Qu8S24du6fek_MKSY9x9xZN4O4_lWof8xooqAbFwfoH4DWxdKgcyWMP7_ey_fidoRprX23w-D4uaBh2fnkMg=w750-h421-no)\n",
    "\n",
    "So, what's going to happen is, if we  recognize a link, they don't, it doesn't want to be added but with a probability  epsilon it would be added. So, there's a probability of one third  epsilon that you would end up recognizing this link and adding it by accident.  There's a probability one third epsilon that you would move here.  And a probability one third epsilon that you would move in this direction.  So, from a network with zero links there is a probability of epsilon that you go  from zero links to one link. And there's a probability of one minus  epsilon that you'd just stay there. Okay?  And, and so forth. If we're here with two, two, with three  links. Then there's a probability epsilon that  you go from three to two and the probability of one minus epsilon that you  go from three back to three. And so forth, okay.  And so from, from one of these networks there's a one third times one minus  epsilon chance that you go to the complete network.  There's a one third chance times epsilon you go and delete a link that you wanted.  one third chance times epsilon here and so forth.  So, for each one of these things we can figure out what's the probability that  you move from a network with zero links to one with one.  From one with one, to two, and so forth. So instead of keeping track of all of the  networks, let's just keep track of them in terms of how many links they have. "
   ]
  },
  {
   "cell_type": "markdown",
   "metadata": {},
   "source": [
    "# Associated Markov Chain\n",
    "\n",
    "![](https://lh3.googleusercontent.com/BOgiobjNiPqjqAC_uXxz5PrDavOcT4pv6r7pCQuPEVqBwvIrjmixMd5MYFSZQvf3dxpHjOeyYY50actyOhKNMCmUpOfFraiVkXD9xjwQErAnqWlAg-ZDQeUcT_hoRm-ioczVfIHtLvmwTWMt0rFHNPZdP8rYPyo-3euuUBpTonK28X6ZwoLBunBcQl3qFbS0TJz3ST2x8s5_zF72N1tl4RfjAKo-CIOhDDZU7gumrpByyh2YrD3DiHZNJ7SmPU3XQKPupeMD98nuxmIfyZ_0350gkxAFCCfzoLXUuhWyGuBg7qRbD1RDxjQv8yZJODvvo6q_RESM66PbEQXTxHcnS7E99iIIIeBemsiMsjufxBK9YK5r7qhfYllu8LldWaULy5YPz7F7PIzBTWxK26Rvs8aZE8rwCMNJcb6pMh2T-LnrNcqnXegIJ6i_c_9eqR_y0brmpu1NHdJzWVxxiWTstiXPR6eyvEgclZSJ_WWhWUQSMqZ3CiK9BiNcaWpm1NOsTCj--qX3svkRSqKKVud6jNwEkgYDFBQw_c424cltZPLbgkHJTSiR907BFdTL97fOzS4LthyFnGlYlFh96OpWCQ047NMj4tNJta_04JvyOTe0SJknVQ5C2sn8ObrZhM1M-D-aCVFdgGuHzSXSs6t8Up-pf66-a52aRx7zVyy571UcBMMjBSSCLm89=w739-h319-no)\n",
    "\n",
    "That's a well defined Markov chain. And, given this, you can figure out  what's the probability that you're going to stay in every state.  So there's a solution of how much time you spend in state zero, how much time  will you spend in state one and state two and state three.  So what's the average frequency of the number of periods you're going to spend  in each one of these things? That's a well defined Markov chain  problem. You look for the steady state  distribution. In this case it happens to be the left  hand side unit eigenvector of this matrix.  If you don't remember things on Markov chains or if you haven't seen Markov  chains before you can find detailed things on on the internet.  Also, I have some pages in my book that just goes through the basics of Markov  chains. There is lots of sources where you can  find information about this. the important thing is that once we've  got this process, it's a well defined dynamic process. \n",
    "\n",
    "And we can figure out how much time you are going to spend in each different  state. In this case when you look at the, the  probability, that, the fraction of time you're going to spend in zero link  network, in a one link network, in a two link network and in a three link network,  this is the answer to that unique steady state distribution.  And you can find this by just checking what the left hand side unit eigenvector  of that matrix was. \n"
   ]
  },
  {
   "cell_type": "markdown",
   "metadata": {},
   "source": [
    "\n",
    "# Unique steady state distribution\n",
    "\n",
    "![](https://lh3.googleusercontent.com/xb86VzDu2QVyzycwlw5ov47fSTLxUo2u0SLyMP7bCKxIwZAXbjBasBmNTv1kVEFrdcU0zFXicc2WHiBIjGTdzIw3Kas5CScFIQhhfHMgQSINtIIlwg0hSSQzQofa4YBY-cGG75h-eF-OsXzNUIAlIucmWroiWR9z5bOd3HH7KCMCir-ejmYV7tBUKyS5knfeYWiZY4g4UH_ovT3Q-13lnHobE2-rRI0i_tHcOvqv740yMzRHpHnyP8DYKvkat-xCZ41qCYwlhQc6j0zToAv9I-GN8V2WidGZN1Dgh0FBi9t1jPrCWjQ84LSVORAqcoGgZE35gb1iLZOTunK4CYDx2kKXQEZGfF-2vEHki_2il5OoEgBdP1Kzoj4qpy6vCUWD_jQ78FmN47PXCm4ukZ_WvCkzljyTGgG9Y-dxuyGO-q1mB5YIR6gDd9fQ-xxjmyVsbiBbsV5DtrDVaowbK4dcvwTY_XV_BoiLb6hpTUX0UbrhS1WJinJn3yFJbX9LRF7qDYDMhAn8zJMKUux0xRycVP8093osZXzYrailDVmMWCz6TGSvqQ2fBCj5kzw-PgdAJ6iN6_ropFU8M3tUxuzeU4aoKM0vjkxiH3AqkFx5GRH_fPZv6cv30Pp7CJ3gQbJqW6wI21sT_5GYO7IEb6Vl50MM6k4ymmgn3eiDcGL6QSXJDomdRFoouzrP=w614-h342-no)\n",
    "\n",
    "So what's the interesting thing about  this? Well the interesting thing about this.  Well, the interesting thing about this was we had two Pairwise Stable Nash  Networks. The empty network and the complete  network. And if you look at the amount of time  you're spending in each one of these things, as epsilon gets very, very small,  right, as epsilon goes to zero, this approaches one.  \n",
    "\n",
    "This term ex, approaches zero. This term approaches zero and this term  approaches zero. So, this process is going to spend more  and more of its time in this three link network over time.  So, even though both of these were Pairwise Nash Stable.  This dynamic process is going to end up spending, as epsilon becomes very small,  most of its time in the three length network.  And so you can look at that by looking at the limit of this unique steady state  distribution. This is what's known as stochastic  stability in the game theory literature. It's a technique of, of refining  equilibria that has become quite powerful.  and Alison and I used this to, to, to develop methods of, of working through  dynamics in, in networks. And here it consists of prediction of  which network is going to be visited most often and stayed at for most of the time  in this process as epsilon becomes quite small.  And one thing to notice is that, as it's placing probability one here in the  limit. That's not the same, as the steady states  of the limit process. So if you actually look at the process  that had zero errors in it, you could have ended up in either the empty network  or the full network. So the steady states of the, of the limit  process, where you have no noise, is different than the limit of the process  with little bits of noise. So the little bits of noise here are very  important in making predictions\n",
    "\n",
    "**Limit place probability 1 on the complete network, not the same as the steady states of limit process - which are any with probalility on both the ocmplete and empty**"
   ]
  },
  {
   "cell_type": "markdown",
   "metadata": {},
   "source": [
    "# Two PNS networks\n",
    "\n",
    "![](https://lh3.googleusercontent.com/3c5VVKVTe6EadG1IqNIzmCVKcScUbyNIjopzvO-BxSgVbw625Rx-0loDpwsu8n57aq3f0fLDGD2vyFrHzRNrWGjpqKzBsRNnHe13RcjjKw9ZfaTRzsCqOc1UM2oReAuUKSFcxFljzeXsMZZNdN8ZAkcsBHS1M8oYXL5Ybb-BqxEvwr6mtDppsVwQMLA0c45z1C2jaGNYibUdQV_hmwVL-XuM10aOMfRadyf5xGu0utz7EqdwOn4yiQWYSIljQTOue2-u8csy7tC5il9h6UZXIsdGI-p0MS75ikOuOP0yvQGw-Eae6AIkPCAvMCR610V19a5DmF35s3JCg5rpzPFtZsUUFpVqwLxTR3ctxf2QomBVSPeJZPAF04OwhxiWYMWA_ODsn7A8xdK_vETzGZuojCrHFL0MFFBFz8GGNH3h6nA-FRl0keiCo8eZm3cQY9GSx1opb3AHL4ymfVGS_oHciOZSmXa8z1fVqmysfNoYjBtQhGwj57cQXPks-1YRlMiFHWReTZ2mgIak-KTX3gTEoo43FZVFXyIbA2o4h6WHWq7L9ZfPiVVIjhcS7Kqr56bPcM0fDFXuKDo6Uf66YFV40yvC3oXpulNNRTiulCMu9P3a0BidcgssjqsK4Ig-Ci1R7kqK3uKqGOsm88i89zhamgASHYHK1fPTZoyUqVmthexKc8yb7os68jQ9=w750-h420-no)\n",
    "\n",
    "\n",
    " So, if we suppose we're at at the network with three links.  Well, we can make an error. If we make an error and bounce to one of  these, so there's probably epsilon of that happening.  most likely it's going to come back. You would need two errors in order to get  to a point where you might get to to the other network, to the empty network,  right? So you'd have to, you'd have to make two  errors in a row before you could get to a point where you're going to find a  network which then naturally sort of has a tendency to lead back to the empty  network or the other Pairwise Nash Stable Network.  In contrast, one error on this network leads you to something which then leads  naturally to the, to this. So when you've got errors, it's much  harder in some sense that this stochastic stability notion means this is a more  stable, the full network is a more stable network.  It's harder to get away from that network.  And it's easier to, relatively easier, and it only takes one error to get away  from the empty network. And so, what this does is, is it begins  to look at what is known as basins of attraction.  When you look at these dynamic processes, this one has a larger basin of  attraction. If you get to any of these networks, you  can get back to this one. To get to this one you really can only  get there from, from a smaller set of states.  And as, as you begin to look at this, this process more naturally gives you a  complete network than a smaller one. So, this is a powerful tool for looking  at dynamics. you can simulate these things so once,  you know, this we can solve for explicitly with, with only three, three  nodes. And relatively small number of, of  networks. As you begin to enrich these kinds of  processes, they're going to get more complicated, but you can begin to analyze  them by simulation. So the "
   ]
  },
  {
   "cell_type": "markdown",
   "metadata": {},
   "source": [
    "## Ideas\n",
    "\n",
    "- More errors to leave basin of attraction of the complete network than to leave the basin of attraction of empty network\n",
    "\n",
    "- More generally need to keep track of basins of attraction of many states (via a theorem of Friedlin and Wentzel (1984))"
   ]
  },
  {
   "cell_type": "markdown",
   "metadata": {},
   "source": [
    "## Turn Game into Markov Chain\n",
    "\n",
    "- Much is known about Markov chains\n",
    "\n",
    "- Can leverage that to prove results\n",
    "\n",
    "- Can be difficult to get analytic solutions in some contexts with large societies, but can simulate"
   ]
  },
  {
   "cell_type": "markdown",
   "metadata": {},
   "source": [
    "## Modeling Stability\n",
    "\n",
    "- Beyond Pairwise Stability - Allowing other deviations\n",
    " - multiple links by individuals\n",
    " - coordinated deviations\n",
    " \n",
    "- Existence questions\n",
    "\n",
    "- Dynamics\n",
    "\n",
    "- Stochastic Stability\n",
    "\n",
    "- Forward looking behavior\n",
    "\n",
    "- Build transfers into the formation process"
   ]
  },
  {
   "cell_type": "code",
   "execution_count": null,
   "metadata": {},
   "outputs": [],
   "source": []
  }
 ],
 "metadata": {
  "kernelspec": {
   "display_name": "Julia 0.6.4",
   "language": "julia",
   "name": "julia-0.6"
  },
  "language_info": {
   "file_extension": ".jl",
   "mimetype": "application/julia",
   "name": "julia",
   "version": "0.6.4"
  }
 },
 "nbformat": 4,
 "nbformat_minor": 2
}
