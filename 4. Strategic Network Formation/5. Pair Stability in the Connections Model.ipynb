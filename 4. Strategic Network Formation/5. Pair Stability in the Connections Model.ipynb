{
 "cells": [
  {
   "cell_type": "markdown",
   "metadata": {},
   "source": [
    "## Efficient Networks in the Symmetric Connections Model\n",
    "- low cost: $c < \\delta - \\delta^2$\n",
    " - complete network is pairwise stable\n",
    "\n",
    "- medium/low cost: $\\delta - \\delta^2 < c < \\delta$\n",
    " - star networks is pairwise stable\n",
    " - others are also pairwise stable\n",
    " \n",
    "- medium/high cost: $\\delta < c < \\delta + (n-2)\\delta^2/2$\n",
    " - star network is not pairwise stable (no loose ends)\n",
    "  - What does \"no loose ends\" mean? It means there's no individual that's going to want to connect to some other individual that doesn't bring them any indirect benefits. They'd rather sever that link because they're only getting a $\\delta$ here and it's not worth it. So that certainly means that a star is not going to be worthwhile. The center is not going to be willing to take these other individuals who don't bring them anything besides themselves.\n",
    " - nonempty pairwise stable networks are over-connected and may include too few agents\n",
    " - $\\delta < c$, basically what it means is \"c\" is bigger than $\\delta$, so the cost the only reason you want to have a relationship is if it's bringing also some indirect benefits with it. In that case a star is still efficient but a star is not going to be pairwise stable.\n",
    "- high cost: $\\delta + (n - 2)\\delta^2 / 2 < c$\n",
    " - empty network is pairwise stable"
   ]
  },
  {
   "cell_type": "markdown",
   "metadata": {},
   "source": [
    "## Inefficiency\n",
    "\n",
    "![](https://lh3.googleusercontent.com/F2IPAqSYbFDZsHgpp06zp4vGxQkNqhtJYqTQW-1N5H2ILU8M4FikqV_2-AsW14hm-2j7a9TkCynyPuJG9twB5A9AUL06J4dZIftZfx1F2EgT6koGF7iIBJKmJzTAjufWWBmkabpq6O5oIDJ4CS_x86lgpXdcGqGu2SyWO_FM4X1oLWT4TYEsf_ZfQHxeAJ4uVFZAGYP7nw8cGrpPqEXbKnXsEeZRxCdNazZzMBRIS3ToySBv6AB5gA231SvlwV5tfg33CEhOAg42U0TNWokBojcFD4eIqrtlw6M6OdPyyxIAjgE3q00yUNoUZk5dvz1CeQxnSbMGbbsiaBkZC7dfTnBsMdJxte-3SSgB66QL4w4ndqsgIA5uDqWHsWw7srDtQ0muDVbDqWA5wMBu7A3LmYE4n8bs6Wu-zL-FBUXAEkL5gc_px-sl_CjTbY22WIZW2M41x6mtGOtv3y1d1xyZLZfyPalU6eEsf6XYHx-r7PHlTehhADAAKxGYMVoOYN7XgpW_nlw0mtxdsrnfVZZt9pqoyyGMo-GnqRhLfgpf8qFH2GsfC7T0zGgejcFvSQ-KXlBCbVfUM7ro6KzIyg9UJsZOuWCRZFdv8qJVtGkzKJPSOyScP3KLsoPcllgRJaI4aEkaILSACR9NLjon099A3fT5k8QDugiZI7EMAa0sSr9jtsZkwscz3DLG=w290-h200-no)\n",
    "\n",
    "- payoff to center:\n",
    "\n",
    "  $3\\delta - 3c$\n",
    "  \n",
    "  not pairwise stable if \n",
    "  \n",
    "  $\\delta < c$\n",
    "  \n",
    "- Overall payoff: \n",
    "\n",
    "  $6\\delta + 6\\delta^2 - 6c$\n",
    "  \n",
    "  Peripheral players gain indirect benefits \n",
    "  \n",
    "  Center player does not account for them"
   ]
  },
  {
   "cell_type": "markdown",
   "metadata": {},
   "source": [
    "## Example: Pairwise stable and inefficient\n",
    "unique nonempty pairwise stable network architecture if \n",
    "\n",
    "$\\delta < c < (\\delta + \\delta^2 + \\delta^3)(1 - \\delta^2)$, n = 6\n",
    "\n",
    "![](https://lh3.googleusercontent.com/PqzEttdPS_CC5-vKNiWMhd8cMlSKiL9qSES0ZWQusNbkc-odxnUnaVYjuog4bQBfSGP4QvdebF9CSAe-v_YXzvAF2Y7G4tNw-YHCf0-zQwIBDyLYsq5wAPT6xXk5jgwAYG4Ca46EWwndVbn3ZeGnhy9eIHgo7CNjNDEgQ9qmCnt_oFhkytF2yT3dRvoxz3ZfjwgL-qxFy8U7ALO_GymUTDF7cmV0Kxj3E4U4K7uys5OAoH3F368vxbrMb-m4o0BXkzus04aqJMTQZE7T-ueKl0lsOpTGhHXiI0XMgcTxCjeEy-ShKKvu62dInMiw5bBIOksr4gufN39ofpR-ZwQOCr3RnsBIST4RtWKcyZXxmQlKaMDMxUehArt_izQa1XwJJ4rg7D11K-QTTkhg340QCm7Azr8wEVZFVuH7x1JO5Ylu350wmxzbIuqHzZ_5x7sIIgH1VIXi3wekg4l5n2b2GX57DWokGQwxJRzTFZaO3gLnF8Assdc4aA0u05P4a21d_W_gOaG0zu-n8-_RhhsUJo4eSnoLt_a0o5B7282T4TZ7APxB29iTZCcKNSxxAvRobTWMGKQ_8qsaoKHyxyiTw4AlGHD6ojIuDziN9GCQvMBXeyQfcCX3KxaiyDyAPynLIorQkliDN4bpsa_hXSY_2Oy_qATLNqGyiwcSVGGM9gVIRaKBMuBEFImk=w342-h263-no)\n",
    "\n",
    "Here's an example, you can play with this example if you like.  Let delta be bigger than c and, in this case smaller than delta plus delta  squared plus delta cubed, times 1 minus delta squared.  six individuals, and there's a unique non-empty pairwise stable network  architecture, which looks like this. So it doesn't look like a star, it, it  actually looks like a ring or a circle. And the idea here is that each individual  is willing to have these other relationships even though c is bigger  than delta. So c is higher than delta, but that's  because they get indirect benefits from having these.  So by having these they, they get indirect benefits as well and that makes  it worthwhile and it all hooks together. Nobody wants to add any extra links  across because the value of, of adding that link is not worth the cost.  It doesn't change the indirect relationships to anybody else but adds an  extra cost. And it's not worth shortening that path  from a delta cubed to a single one. So this, in this setting you can check is  the unique pairwise stable nonempty network and we end up with something that  is not a star. "
   ]
  },
  {
   "cell_type": "code",
   "execution_count": null,
   "metadata": {},
   "outputs": [],
   "source": []
  }
 ],
 "metadata": {
  "kernelspec": {
   "display_name": "Julia 0.6.4",
   "language": "julia",
   "name": "julia-0.6"
  },
  "language_info": {
   "file_extension": ".jl",
   "mimetype": "application/julia",
   "name": "julia",
   "version": "0.6.4"
  }
 },
 "nbformat": 4,
 "nbformat_minor": 2
}
