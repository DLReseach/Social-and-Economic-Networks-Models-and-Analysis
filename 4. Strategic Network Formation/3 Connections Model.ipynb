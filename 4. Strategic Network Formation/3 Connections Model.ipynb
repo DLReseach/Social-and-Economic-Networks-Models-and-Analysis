{
 "cells": [
  {
   "cell_type": "markdown",
   "metadata": {},
   "source": [
    "## Connections Model JW96\n",
    "- $0 \\leq \\delta_{ij} \\leq 1$ a benefit parameter for i from connection between i and j\n",
    "- $0 \\leq c_{ij}$ cost to i of link to j\n",
    "- $\\iota(i, j)$ shortest path length between i, j\n",
    " - $ u_i(g) = \\sum_j\\delta_{ij}^{\\iota(i, j)} - \\sum_{j.in.N_i(g)}C{ij}$ \n",
    " "
   ]
  },
  {
   "cell_type": "markdown",
   "metadata": {},
   "source": [
    "## Symmetric Version:\n",
    "- benefit from a friend is $\\delta < 1$\n",
    "- benefit from a friend of a friend is $\\delta^2$,...\n",
    "- cost of a link is $c>0$\n",
    "\n",
    "![](https://lh3.googleusercontent.com/yEWRtHkIkoalNi2z1M--DrlGLDAJyzUjr4sTR53FXNvVYCAEgkS1TEgNT1MoGzXCuUwI_i6Kx8167zkdJEw_a_SkFKmufCZFm53PXlS97GLFFfFx0lSA4kYi8ijz2RUgxtN7Cq-xe6QfX4EZFVQqdpLmuSDbgnKREpqYbzJhfcBW5G4FqTZtWpBAR55jipXOdHqVAcUBwe4R0ztfuzNeQwCXRjVlx4RvZHwu3tzAzwybjbXqWon6A8HlNbmm9k3ky6brt95e5ojG4phxPA3czKdchyOfc-creYzBiYd2QH73E3PTAnnstLEb9lUk7gIHbvOMWLunqOcCqTDEj4Aec9wyCDQdI4nWZK_KfY3M0SpfC_DbBNETCEEs2B0LETdPDmn75BwgRD66SAErWMCHBnCzxVi2aW73BQQ4viv6gKG2Y-96NJ2EuZXlgZ70yh0EjbivCCFda-SoZbGiXLG4OOMEgtR4iPLD3400vNtVlbGj3Q-desYycUvPr4EIu8n4GMY9B67yQnOW5h_gcbsP6EeEG-kMF6_iCdUsTn2nc3355mnZBv7GNJO_6arT2prLNCUI0KFqvBJHDFBSsi0DIEmo092uyVUuAnJbn_9XhQFsjrNQ7jzvU4t_LYmmYP2fCKGLyeqTm0i9w_dkXta-WWZUIJObDe3rWOgr1Wew7CiqBql55P5cVpAg=w1037-h290-no)\n",
    "\n",
    "So, one nice thing about this type of approach is that once we've specified utilities and welfare calculations for each individual. Then, we end up having the ability to evaluate networks and say which ones are good and which ones are bad, directly by doing calculations in terms of the welfare properties. And this is something that's very different from the random network. \n",
    "\n",
    "So, is a network formed by preferential attachment better than a network that is formulated at random? Well, we have no idea because we didn't have any specification of what that did for the individuals involved. A . We value indirect friendships at a certain level, and once we've done that, now we can assign values to these things and then make welfare evaluations. So, it's not only that by doing this we get predictions about which ones are going to form, but we also can evaluate them and so that's an important aspect of this. \n",
    "\n",
    "And one other thing to say in terms of pair y stability and this idea of forming networks strategically. It's not necessarily true that each individual has to be Machiavellian or, calculating about all their friendships or I want to form this friendship because it's beneficial and that one because it's not. \n",
    "\n",
    "It's more just that what's necessary is that individuals will tend to form things which are beneficial and when things aren't working out, they tend to get rid of them. So as long as their pressures in those directions. Then we can talk about dynamics, and so forth afterwards. But that'll give some push towards these kinds of networks, and these are ones that are going to be stable, in the sense that nobody then has an incentive to move away from these. So they'll be rest points of different processes, where people don't have to be so calculating, but at least pushed in the right directions, and eventually reach these kind of networks. "
   ]
  },
  {
   "cell_type": "markdown",
   "metadata": {},
   "source": [
    "## Efficient Networks in the Symmetric Connections Model\n",
    "- low cost: $c < \\delta - \\delta^2$\n",
    " - complete network is uniquely efficient\n",
    " - that's going to be the situation where it's more beneficial to have a direct relationship. This is the value for direct  relationship($\\delta$) compared to an indirect relationship of distance 2($\\delta^2$). So shortening anything of distance 2 or even further, the gain in changing that is bigger thant he loss in terms of cost of adding a link. So adding a link is always going to be beneficial and the complete network is going to be uniquely efficient in that setting.\n",
    "- medium cost: $\\delta - \\delta^2 < c < \\delta + (n - 2)\\delta^2/2$\n",
    " - star networks with all agents are uniquely efficient\n",
    " - So the only architecture which is going to be efficient is going to be have somebody in the center and then everybody else have that one link to that person, and that's going to be the thing that maximizes total sum of utilizes necessity, and the only thing which maximiazes the total sum of utilies.\n",
    "- high cost: $\\delta + (n - 2)\\delta^2 / 2 < c$\n",
    " - empty network is uniquely efficient\n",
    " - it just makes sense that nobody should connect any links, just too expensive it doesn't make sense to have anybody talking to anybody. So for very high costs the empty network is uniquely efficient\n",
    " \n",
    "So the meat of understanding this is really going to be understanding this middle part(*medium cost*) because the other extremes(*low cost and high cost*) are going to be fairly.\n",
    "\n",
    "As long as you get a higher benefit from a direct connection, and a lower benefit from an indirect connection, and a lower benefit from things. There won't be anything special about it being $\\delta$, $\\delta^2$ and $\\delta^3$, it just has to be some value, some value for two distance, a value for three distance, and you'll see that everyghing we say in all the proofs and so forth would go through if you just separated put in, subsituted something else for the $\\delta$ and so forth"
   ]
  },
  {
   "cell_type": "markdown",
   "metadata": {},
   "source": [
    "## Why Stars?\n",
    "What's important is the indirect benefits that flow through the network generate extra value\n",
    "\n",
    "![](https://lh3.googleusercontent.com/S_VLYYfXKIULw5_WVtVlFZ5HP07vB_ViGcqXrNpP-NL9XdP9C7OlSguGA1R1wK8VjrULNDG6BdBHFFh65MKqgtXCG070wD57TrL8SJZ17CTg0je5xiZtoSwIp2-E6LhjSWot-uZjU9v_5tNyj8qUbf-GhHgKUKbBqJqWfv1Ag1Gg0U7x-kHihBjEF_txmEHXjUurloojj0srOfs1s4KH9vBo8M6It2LWjfgdU4Dp2RzyKA4Mz6xjcvpO26ixJByMeI3DqUl0LXACcIiJ1pqoE_aPtaFaVI7yq7DwooqMlZIyRntcYns8aaQ_5NFXg6sUr3qq_qE-mrphw8nGOoP6vBWh7FgYwgA982fumC0Yt00URw74OGaRlFbzrGDsVzS99vmRqQwZHdQfXnwbfv8-uAY8Op_Qt0TPp_5t75HgbIOhkTt2EZlkFVw2HVKn4byqLePZi6dojW8YBpoSE78c-fsUhaO5mn9IzVsx9F1p2gnZun5K7KrqzCrBNW_5UPksc6Kzj1sKIMhbx0Jk3dGuboWp23xeIM39urOIadkBCrjZmGBAudSeDcuej8O-5S2qzvhQHa-0UcuCRT0vTSHrbqEpU1cLv5-qZoUJkkz81QeVcwkgUX7_BdETWNdB_oh9TKfQEdxdDd0Awy8PEwOFI9wJtXWlqnuVUkkIBoTd_IEm0AYsBU9shKj4=w870-h308-no)\n",
    "\n",
    "![](https://lh3.googleusercontent.com/ZSuCb3n_V3MKHvYA5iloVPXeXmDY4UNeRrGPbir5ThjTEymmQBIgXzjBLHWliv5bEpVNyZxHcbiSQk78DGBx4xWUyfHpFpuGUVpYbYO84Znb0PyQ4NMwJTYEGXaOgMuJ-KoE7aDUfNcNyADmopIkudjS2R3TzHBvlyh0rR5BSMpU54Kcd-jCEsfomWyuatEAYZVALM4MaOC2Ok6CRarBZOQ4ff-NWooU64WroduJs2IgzcvD4aqcrGMo54T5qwWBgQRp-Q-CvnvgPDWPc3mmelcetd2y9nIj1zC10OM0WWFLUsc5fG5k2yoLhBenHCADBEcV0a-SQwWk6uGMGaayqhsOpKLPSnlBxaW6R3Su6JHBFFz5gxRDJm5tciFNii2o5R4HQUoe3opTKxBjPA5ydE4phxEhrBB9T9YQ9QLvF_9RY_zAdH1GRf8wBHSnh8AX4jk7HM-_ZX9fXfEf9UKPldMgMsmhwt_R5jm6CAGyB6MdbkPXfGPcJBRxEOuCzGJjhTLm1zEDC-Hi81fNOOfpb9Uv4saVzmokVR7-SbVkqjEfzlDbN5tAPUhDv02EzbYbQqTvJunhusxnzeTxS5gbPTr4w8Z2_PdBKiP5ZHOQWkMlRjIibq1C46Ts1APw3_q_ra-vA9XJnqOGW6Yf1bI1hKea5FH7DZl2CAiprLg6KOfhQ8pKJREV-YvU=w1092-h320-no)\n",
    "\n",
    "![](https://lh3.googleusercontent.com/vM-1ikkJ2vStFmMKO4fxOIv9kZ6R_uVWYR64ukHIteJXHonwk2xKaC9cnrTftAGGkzD8K0EjsGxpWP7_FuRj0LRVucKzFZeZPOCzpnhiAYbaOVs02m-JDSjVN2tXIfE0jPJ9M_V7JOZnjLk8C_K1FvRD8URmkMPFnBQK14Owwchafd1Tw_2TpGV1qxT9tblz8cUWIWwQOc6UbtGb7-mPfAZohnYE4eDVlR5wxbbFPzQyvmn_9yb0dv6beYl76v3SFLjluhcI3Uw1QvuXZoyTddGcGC-6d1EqbJBhm7-UAAF3u21jWpef79TTYp-dnPF_urvd-sm9DYgjiOq1ZFYemW0G-AlIf6ZsZn1JmuoA3gjFy0ME4bHEO-cWWJBlyIEZnfV8wjrsPfBk1B1E_OkOg1XkNUhWj7GqVZ1VrCXMrh4kfvLT8DwkC2FqM2PKLlUhEOhaqc8f8XnYU1XexRn9IqGmQmVQcaU8FjTnbGs25O3UfmIdXjVMMGIIlvR6m8rK2t4HExfWoVDwSGiTc5SLRqgTU1sGRkBmv3wD8zFDjlNavJSwSNSt_AsrJp8KlzExicsizuNxoEryEiN48g4eKKsdKnLu5D7iTWxmC7fb4jMa4NK1C3cgSnhCLhGY9uWbnXJI6duK-W0WoxSL1y6RnkObzxDUV-1mE2QxBn_tV0-MZNMeQIlcXqEd=w1166-h346-no)"
   ]
  },
  {
   "cell_type": "markdown",
   "metadata": {},
   "source": [
    "---"
   ]
  },
  {
   "cell_type": "markdown",
   "metadata": {},
   "source": [
    "## Star versus Complete:\n",
    "![](https://lh3.googleusercontent.com/kBKXdMjle1CcGtTIZBZLS-gGLlyiCIDlwPV-4RjKNEDFD-pi2SITgD1e7yhRd-5KQGH7aCIIs-cCRcVeXaJ0TnyvtPxZci1VP1tksmaV-cAqZp2jYRr5F5VxXhvMVjxbcQgvitpZ_wdMJKZmI9qyS0iwa3NMd9FxphYPv5AgKxZPWF3aFcTnPHweZGKqsb5g6lsg3jcMXpkBMWM9qBUdL2M5WMstwmBzIY1fQF6rT8NliRhpTlXqM_qa6RuttAZHsLV0U40XQMOVg2PuPCHPvIUINYmjxUTAMO6RFSx6A4VJIIDm58O5KDuSF_Ql-4PrC6bUnK3WwRdsO55rL1zffW3kHUEiI55WYeJMR8gMtXD9-_JGvZVcGXpM1W2nLcVC-kRIoVJn1aU-tGp50DV6WCYJ15OadX1HMcJrJQ1zlQ2KFSvxoNi3yKGD3iDAgkRU-aoyKG1_JMyCUHeLBKfQf4Lor7RPomdb9xxZ7IzR5uADvQxG63ZnU5UJobTkxxU8s7YYbYc2I2N6kINMkL1B9q9IEfwektdwjV3hdr4jd7_NBzrnQ-iQPyjPgbm4l0dM2sOy6tMxJn4kWfZe1Ph7ccyQfM2kAo-bBOSKoAeuJHZywviFvDdeSiR9nh7Nyx0GoYap84VklMSLMUzFFVraPc8eiOnL16jGDbWhrBgtjI_K3F0Y1GLY9w4E=w518-h268-no)\n",
    "\n",
    "So what we've done is we've moved some of the distance 2 things, over to direct connections, but we've paid a couple of extra costs of maintaining links to do so"
   ]
  },
  {
   "cell_type": "code",
   "execution_count": null,
   "metadata": {},
   "outputs": [],
   "source": []
  }
 ],
 "metadata": {
  "kernelspec": {
   "display_name": "Julia 0.6.4",
   "language": "julia",
   "name": "julia-0.6"
  },
  "language_info": {
   "file_extension": ".jl",
   "mimetype": "application/julia",
   "name": "julia",
   "version": "0.6.4"
  }
 },
 "nbformat": 4,
 "nbformat_minor": 2
}
