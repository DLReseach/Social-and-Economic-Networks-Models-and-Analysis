{
 "cells": [
  {
   "cell_type": "markdown",
   "metadata": {},
   "source": [
    "## Efficient Networks in the Symmetric Connections Model\n",
    "- low cost: $c < \\delta - \\delta^2$\n",
    " - complete network is uniquely efficient\n",
    " - that's going to be the situation where it's more beneficial to have a direct relationship. This is the value for direct  relationship($\\delta$) compared to an indirect relationship of distance 2($\\delta^2$). So shortening anything of distance 2 or even further, the gain in changing that is bigger thant he loss in terms of cost of adding a link. So adding a link is always going to be beneficial and the complete network is going to be uniquely efficient in that setting.\n",
    "- medium cost: $\\delta - \\delta^2 < c < \\delta + (n - 2)\\delta^2/2$\n",
    " - star networks with all agents are uniquely efficient\n",
    " - So the only architecture which is going to be efficient is going to be have somebody in the center and then everybody else have that one link to that person, and that's going to be the thing that maximizes total sum of utilizes necessity, and the only thing which maximiazes the total sum of utilies.\n",
    "- high cost: $\\delta + (n - 2)\\delta^2 / 2 < c$\n",
    " - empty network is uniquely efficient\n",
    " - it just makes sense that nobody should connect any links, just too expensive it doesn't make sense to have anybody talking to anybody. So for very high costs the empty network is uniquely efficient"
   ]
  },
  {
   "cell_type": "markdown",
   "metadata": {},
   "source": [
    "## Proof \n",
    "- $c < \\delta - \\delta^2$ then $u_i(g+ij) > u_i(g)$ if ij not in g. \n",
    "  \n",
    "  Also $u_k(g+ij) \\ge u_k(g)$ if ij not in g for every k, thus \n",
    "  \n",
    "  $\\sum_k u_k(g+ij) \\ge \\sum_k u_k(g)$\n",
    "  \n",
    "- $c > \\delta - \\delta^2$ first, show that the value of a component is higtest when the component is a star\n",
    "\n",
    "- value of a star with k players is \n",
    "\n",
    "  $2(k-1)[\\delta - c] + (k - 1)(k - 2)\\delta^2$ (expression A)\n",
    "  - one in the middle, k-1 other individuals out, so we got k-1 links in total, each one of those links give a value of $\\delta-c$ to each of its participants, there's two people in it, k-1 links, so the direct value of connections is $2(k-1)[\\delta-c]$\n",
    "  - then the indirect values that we're getting are coming from the fact that each one of these indirect people, there's k-1 of them, they have k-2 other neighbors, each at 2 distance of 2, so each of these k-1 people have k-2 neighbors, each one of those gives a benefit of delta squared.\n",
    "  \n",
    "- value of a network with k players and m links ($m \\ge k-1$, in order to connect these k plays together) is at most\n",
    "\n",
    "  $2m[\\delta - c] + [k(k-1) - 2m]\\delta^2$ (expression B)\n",
    "  - the most you could be getting indirectly is you've got k players, k-1 other people that they could be connected to, 2m of those connections are direct connections. So the remaining indirect connections is [k(k-1) - 2m]. So this is the maximum possible value we can imagine for some other component with m links\n",
    "  \n",
    "- difference between A and B is \n",
    "\n",
    "  $2(m - (k - 1))[\\delta^2 - (\\delta - c)] > 0$ if $m > k - 1$\n",
    "  \n",
    "  because we're in a region where $c>\\delta - \\delta^2$, so $\\delta^2 > \\delta -c$\n",
    "  \n",
    "  so the first expression A is more valuable than the second expression\n",
    "  \n",
    "\n",
    "- If m = k-1 and not a star, then some pair is at a distance of more than 2, so less value than a star\n",
    "\n",
    "- value of a star with k players is \n",
    "\n",
    "    $2(k-1)[\\delta - c] + (k - 1)(k - 2)\\delta^2$\n",
    "    \n",
    "- value of a component  with k players and k-1 links that is not a star is at most \n",
    "  \n",
    "   $2(k-1)[\\delta-c] + [(k-1)(k-2)-1]\\delta^2+ \\delta^3$\n",
    "   \n",
    "- Star is better"
   ]
  },
  {
   "cell_type": "markdown",
   "metadata": {},
   "source": [
    "---"
   ]
  },
  {
   "cell_type": "markdown",
   "metadata": {},
   "source": [
    "Check that if two separate star components each g nonnegative utility, then one star with all those pla generates higher utility\n",
    "- Separate: \n",
    "\n",
    "  $2(k-1)[\\delta - c] + (k - 1)(k - 2)\\delta^2$ + $2(k'-1)[\\delta - c] + (k' - 1)(k' - 2)\\delta^2$\n",
    "  \n",
    "  = $2(k+k'-2)[\\delta-c] + [(k-1)(k-2) + (k'-1)(k'-2)]\\delta^2$\n",
    "  \n",
    "- As one star: \n",
    "\n",
    "  $2(k+k'-1)[\\delta-c] + (k+k'-1)(k+k'-2)\\delta^2$\n",
    "  \n",
    "- second expression is greater...\n",
    "\n",
    "- So efficient networks are collections of stars or empty networks\n",
    "\n",
    "- So, either a star with all player or empty\n",
    "\n",
    "- Want a star if its value is >0, so when \n",
    "\n",
    "  $2(n-1)[\\delta-c] + (n-1)(n-2)\\delta^2 >0 $\n",
    "  \n",
    "  $c < \\delta + (n - 2)\\delta^2/2$"
   ]
  },
  {
   "cell_type": "code",
   "execution_count": null,
   "metadata": {},
   "outputs": [],
   "source": []
  }
 ],
 "metadata": {
  "kernelspec": {
   "display_name": "Julia 0.6.4",
   "language": "julia",
   "name": "julia-0.6"
  },
  "language_info": {
   "file_extension": ".jl",
   "mimetype": "application/julia",
   "name": "julia",
   "version": "0.6.4"
  }
 },
 "nbformat": 4,
 "nbformat_minor": 2
}
