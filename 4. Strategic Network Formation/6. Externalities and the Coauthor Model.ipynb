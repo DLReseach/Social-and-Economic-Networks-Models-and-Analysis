{
 "cells": [
  {
   "cell_type": "markdown",
   "metadata": {},
   "source": [
    "## Externalities\n",
    "- Positive:\n",
    "\n",
    " $u_k(g + ij) \\ge u_k(g)$ if ij not in g for every k $\\ne$ i,j\n",
    " \n",
    "- Negative:\n",
    " \n",
    "  $u_k(g + ij) \\leq u_k(g)$ if ij not in g for every k $\\ne$ i,j\n",
    "  \n",
    "- Inefficiency in connections model due to positive externalities - \"no loose ends\"\n",
    " - The star wasn't willing to maintain these external relationships was coming from the fact that those weren't giving that the center of the star any value. And yet there were positive externalities to the other players that the center was not taking into account. So this lead to the fact that there weren't any loose ends and it led to either complete failure or nothing formed, Or over connections in the sense that we ended up with people having to have, multiple indirect paths before they were willing to or indirect paths before they were willing to link with somebody.\n",
    "\n",
    "- What about models with negative externalities?"
   ]
  },
  {
   "cell_type": "markdown",
   "metadata": {},
   "source": [
    "## Example: \"Coauthor\" JW96\n",
    "\n",
    "- Agents get value from research collaboration\n",
    " - value for each reslationship depends on time each puts into it\n",
    " - plus an interaction term, which is product of the times spent\n",
    " \n",
    "$u_i(g) = \\sum_{j:{ij}.in.g}[1/d_i + 1/d_j + 1/(d_id_j)] $\n",
    " \n",
    "$ = 1 + \\sum_{j:{ij}.in.g}[ 1/d_j + 1/(d_id_j)] $\n",
    "\n",
    "it's what's known as the Coauthor model.  And it's a very simple, another simple variation on, on something you can  imagine generating value for individuals. And here people are going to be involved  in research collaborations. And the value from each relationship  depends on how much time people put into those relationships.  And we also get an interaction term which is going to capture the some sort of  synergies. That if I spend more time collaborating  with somebody, we have more time to brainstorm, get better ideas, and that's  going to be valuable. So, in particular, what we do is look at  all the friends that a given individual has in a network, so look at all the  ij's. And what is a given individual get for  each relationship in a network? Well, they get one over their degrees.  So, if I have four people that I'm involved with, I spend one fourth of my  time with each of them. So, for each one of them, I, I sum up one  over my degree, okay, so I split my time. I also get a fraction of their time, so  they're putting something into it. If somebody is, that I'm linked to has  five relationships, then I get one fifth from them.  \n",
    "\n",
    "And then the value of this interaction term, this synergy is coming, is  proportional to 1 over di times 1 over dj.  So, if I spend all of my time with somebody, I'm going to get more synergy  than if I spend one quarter of my time with somebody, then I only get one  quarter of the synergy. And I get something proportional to how  much they, time they put into the relationship.  So, the more they drop it, the less productive it is.  So, this is going to be maximized when we limit these things to one, and then when  we put them as two, three, four and so forth, the value of the synergy is  going to decrease, okay? So, if you add these things up, then what  do you get? You get a value here which just the, the  sum of 1 over di is, is going to come out to be a 1.  So, basically what I'm getting is, I look across my coauthors, I get one fraction  of their time. And then the synergy term, which is  going to be proportional to how much time invest in different things.  Okay. So, that's a very simple value.  here we didn't, we, we, the benefits, the costs are implicit in this model.  We're not going to put in explicit c's or costs to links.  The costs from adding extra links come from the fact that you're diluting your  synergies with different collaborations. so here, you're just spreading your time  out and the more thinly you spread your time the lower the value from any  relationship you get, okay? "
   ]
  },
  {
   "cell_type": "markdown",
   "metadata": {},
   "source": [
    "![](https://img0.ph.126.net/wuiHQrSRmYy-3LdigD4cGg==/6631562545936302330.png)\n",
    "\n",
    "- no direct costs to links\n",
    " - You can go through and analyze pairwise stable and efficient networks in this \n",
    "\n",
    "- n is even:\n",
    "  - efficient networks: pairs\n",
    "   - efficient networks is easy to check, they're always just going to be having individual pairs. That's the best way to do things if n is even. If n is odd and you've got three individuals and so forth, it gets a little more complicated. Generally efficient networks are going to be just splitting society into pairs. \n",
    "  - pairwise stable networks consist of completely connected components, but there could be some separate components, and what's true is that if there are more than one components, they have to be of different sizes, and each one has more than the square of the number of nodes in the other in order to work\n",
    "  \n",
    "  - by adding a link, dilute existing synergies, only add if new coauthor brings comparable worth\n",
    "  \n",
    "- basically what we're seeing now is negative externalities. Again, there's a difference between efficient networks and what people are going to form and now we're seeing people forming too many relationships. Because they aren't taking into account the harm they're doing to other people. Before in the connections model, we saw possibly too few because the center of a star might not be willing to maintain a relationship even though it's beneficial to other individuals.\n",
    "\n",
    "![](https://img2.ph.126.net/3ArA5tEzhbQUfTn3b7zOUQ==/6597939480356625284.png)"
   ]
  },
  {
   "cell_type": "markdown",
   "metadata": {},
   "source": [
    "## Stable and Efficient only coincide in special cases\n",
    "- Can transfers help in other case?\n",
    "\n",
    "- What can we say about when conflict exists?\n",
    "\n",
    "- What can we say about when transfers improve efficiency?\n",
    "\n",
    "- Are transfers in players' interests?"
   ]
  },
  {
   "cell_type": "code",
   "execution_count": null,
   "metadata": {},
   "outputs": [],
   "source": []
  }
 ],
 "metadata": {
  "kernelspec": {
   "display_name": "Julia 0.6.4",
   "language": "julia",
   "name": "julia-0.6"
  },
  "language_info": {
   "file_extension": ".jl",
   "mimetype": "application/julia",
   "name": "julia",
   "version": "0.6.4"
  }
 },
 "nbformat": 4,
 "nbformat_minor": 2
}
