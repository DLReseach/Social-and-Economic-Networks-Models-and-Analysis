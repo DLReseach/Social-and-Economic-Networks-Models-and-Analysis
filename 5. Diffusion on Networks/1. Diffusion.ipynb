{
 "cells": [
  {
   "cell_type": "markdown",
   "metadata": {},
   "source": [
    "# Networks and Behavior\n",
    "\n",
    "- How does network structure impact behavior?\n",
    "\n",
    "- Simple infections, contagion - diffusion\n",
    "\n",
    "- Opinions are being formed, informations being processed - learning\n",
    " - How do people process information? How does information flow? What happens in terms of forming opinions?\n",
    " \n",
    "- Choices, decisions - games on networks"
   ]
  },
  {
   "cell_type": "markdown",
   "metadata": {},
   "source": [
    "# S-Shape Adoption\n",
    "- Diffusion over time and space\n",
    " - Griliches economic story: variation in cost effectiveness by geography\n",
    "\n",
    "- Initial adopters\n",
    " -  Who are they? High degree? Innovators?\n",
    " \n",
    "- Increase in speed\n",
    " - Word of mouth, observations of neighbors\n",
    " \n",
    "- Eventual slowdown\n",
    " - Saturation"
   ]
  },
  {
   "cell_type": "markdown",
   "metadata": {},
   "source": [
    "![](https://lh3.googleusercontent.com/aE8nbf8-F-b01PSntIVghrVK9GuCvV5K2rQ6pIqkUt1O-9tjPDYR3eo76Q0qaGLaczMGkUSrX4jva9773Daqs41gYGPh-k9fpTDDN6SkmogFaMDrAMoa1yvzsCqydlvNnSiqnencoXXlq64Ub9HrbgJUmPvC1AzWyaj2Gj9NPbygU5VFzr3mfVv1jw2S0SXKb-IkjBUm4Or52C2vYnjlKSgr_FS0NYP20K512ntJLxuO788pEI12kUmDR_X_4Lbho19J3PXdoG7mL1ietjvGriUdkxCkZUk6KZM1uN1OpQ8xueZcFT_uY6hUdX9vqWdDLVZTipbpwp2fdU-fkl3R4xfPmBQTepOjzIWdz7p35C1TcL7Yv1Sx5u9gPkFobf6546pntxBRwaxQiCQZQFkr_E2BySF2K1gahaNWkrcGWtXIdHDrNWvAkveOFJRzrYOS7N3vRmpEysyQogBaFkc3ZDlyo57sIlNqzhQG-N3_2bhO7o0jRu7reb_ImZvS2SLR4AE2T39cW-OBTKxtAyW251MRfP4jLYvP4yQCRIwzQ8tYGoYVvKCVhC8hWOFjA9xYgLJUtjQAu9ABtDOql1iDV8qti2Sajyp3374tcmgwek18oCBP548328Q8wm2ZFDAG6TWoNQsiZgGU5nfUCHks0-tum_pA_pluUlpHbIh2FXuvlNmc_srffXrb=w460-h318-no)\n",
    "\n",
    "![](https://lh3.googleusercontent.com/EDja9yLQJ9vWR7athwhMCj4FjgY4cQwhwGUBjEVYD1cpd4jwRGaVOSVlOR5geOSdrlyxolD29LTo8qI6xPrzf7HRzkK9klywiPTZG7AeaY4cClyQrkpArJtTg64bNTmeZ4jdY4sF4jmvjABg1oVhgq9El3X6eKcz6e3Fhy9wh64OrQxKu6QCmYBBcT8AavjT_woeHNeFiupPQzBMw9m2wtP9zuWoRWHp5XlGQgTsy3E865t7Vj_tgCGxjr7yTJjxBU9CCfwqI5j44-FpsIzXOv43VUItodTMiufqu9ELbckRlk89CAMrrL_RHhklTp2KpzYYP5xI-hhMcqKj-c3eSnmukfYR-5MZOGFqmR42--_jle-0c69l-BLFNCAA_CewrNA0regAabpOgtI4SdmbIxvlGXjooSvgDbnidsBGwSbYuuKbDWDUgRpI4bh_UlafQjKi4dcVJ4Sgz_SMJSpyA40aNVa57KNVYXT7FtJ0ceZLfNIKaBI-Bh7YLztYcR3pOPnyXcS9LhPrx3c3e1SlDVEy9H2pGb8SzupTG_J9z01fr0stqyDtzQg1e71v_oXmrzgzDkWXbThmahAJ9SuXOXeHZ8iica4SxOjnY9BYqgGTJ6Vn3wSYJqhTfSZuK7rYG3A7vbsdC30pGrARrNu8JvurKrJ9UDDlEEauvnyTJScytXmCStW0xlXr=w1175-h705-no)\n",
    "\n",
    "![](https://lh3.googleusercontent.com/fuD3p_P5E95HGkQEmVBvUbOb5-TYIrCH5gQ_MgIM_nXGMUQJOuSO1sHP6yHRqYlvDBzXpGcGd2o0xly0wZbGqpFwXYxvYW-Hp7ISBet89N9vXSmdnv4V4UG8YJ2Cn3jso_kG6N_xa6iL20RMWXvL_BrdwUyIOI_ajKBo_a7SFR8MxPax0i38-tticeI0Jg1eIGIc8wPMzqLDhkCkWgtlOvfekSnbCCnpoPr2TeEP4BSXR2SgpH8v0C1F7emoLfqi2XJpElZcLgvm3CbShGR5xL3K40bopHJYfwb7rR1U0Py9ErlI5Wkuthprwd1tOdq8HmW59Kdxg2u8tRECQzg7dHeQS21iH6ApagzCKM8Pt-x7lcebBfX825MdPkF7-wyFcNqLUhRT8q3UGwAoKWuWxl9HVhVijlmacFddX78mKMz9QwpdrmpdYp0e1X7gGfvTomHoEvUlSNX3yrs1eV3dhqZLmru7EyHYTuOGPU82G-NbgCgFysqFtn3Jb5fXkhABN0FQ6c031RoiG2d3R0W9HxzHP-2cWTD9RZGAglLrYAozuHNOSYISRTLEn2Uav8z6fxxG2acP6D39akVcNzZs4chgW-20PtUtzy76p0jRtqcUcC22M5jCh1g3FsI9PQmjgk3x8VSFMvPS3ypbXBVehAb_nPkk-h_KP1t3tF5t-OApUvsD8KOf8iyI=w1221-h717-no)"
   ]
  },
  {
   "cell_type": "markdown",
   "metadata": {},
   "source": [
    "# Questions\n",
    "\n",
    "- Extent of diffusion?\n",
    "\n",
    "- How does it depend on the particulars of the process as well as the network?\n",
    "\n",
    "- Time patterns? S-shape?\n",
    "\n",
    "- Welfare analysis?"
   ]
  },
  {
   "cell_type": "code",
   "execution_count": null,
   "metadata": {},
   "outputs": [],
   "source": []
  }
 ],
 "metadata": {
  "kernelspec": {
   "display_name": "Julia 0.6.4",
   "language": "julia",
   "name": "julia-0.6"
  },
  "language_info": {
   "file_extension": ".jl",
   "mimetype": "application/julia",
   "name": "julia",
   "version": "0.6.4"
  }
 },
 "nbformat": 4,
 "nbformat_minor": 2
}
