{
 "cells": [
  {
   "cell_type": "markdown",
   "metadata": {},
   "source": [
    "# Explore Contagions\n",
    "\n",
    "Simple model of Elliott, Golub Jackson 13:\n",
    "\n",
    "Companies are linked to each other via various contracts: debts, promised deliries, equity,...\n",
    "\n",
    "That exposes each company to others' investments and values\n",
    "\n",
    "\n",
    "\n",
    "First, let's see how to use networks to model exposures\n",
    "\n",
    " - We are going to work with just sort of straight equity values. But we're just going to first start to see, how it can be that, if I know what percentage of the value of some other company that I am exposed to and I have got a whole of series of these things. How can we keep track of the ultimate exposure that we have in the economy\n",
    "\n",
    "An organization has direct investments:\n",
    " - Fraction $c_i$ of value accrues directly to them\n",
    " - Fraction $1-c_i$ is owed to others\n",
    " \n",
    "Also hold obligations of $d_i$ other organizations:\n",
    " - Have claims to those other organizations' investments"
   ]
  },
  {
   "cell_type": "markdown",
   "metadata": {},
   "source": [
    "# Model\n",
    "\n",
    "- ${1,...,n}$: Organizations (countries, firms, banks...)\n",
    "\n",
    "- $p_i$: price of investments of organization i"
   ]
  },
  {
   "cell_type": "markdown",
   "metadata": {},
   "source": [
    "# Cross Holdings\n",
    "\n",
    "- $C_{ij}$: cross holdings: fraction of org j owned by org i\n",
    "\n",
    "- $C_{ii} = 0$: (don't own yourself)\n",
    "\n",
    "- $\\hat C_{ii} = 1 - \\sum_j C_{ji}$: fraction of org i privately held"
   ]
  },
  {
   "cell_type": "markdown",
   "metadata": {},
   "source": [
    "# Value of an Organization\n",
    "\n",
    "book value:\n",
    "\n",
    "$$ V_i = p_i + \\sum_j C_{ij}V_j$$\n",
    " - $p_i$: direct asset holdings\n",
    " - $\\sum_j C_{ij}V_j$: cross-holdings\n",
    " \n",
    " \n",
    "Vectorize:\n",
    "$$ V = P + CV$$\n",
    "\n",
    "Leontief calculation of book value\n",
    "$$ V = (I - C)^{-1}P$$\n",
    "\n",
    "Market value-value to final (private) investors.\n",
    "\n",
    "$v_i = \\hat C_{ii}V_i$\n",
    "\n",
    "$v = \\hat C(I - C)^{-1}p$\n",
    "\n",
    "$v = Ap$\n",
    " - $A_{ij}$: fraction of the investments owned by org j that ultimately accrue to private shareholders of i"
   ]
  },
  {
   "cell_type": "markdown",
   "metadata": {},
   "source": [
    "# Example\n",
    "\n",
    "- Two organizations: n = 2\n",
    "\n",
    "- Each owns half of the other: $C = \\begin{vmatrix} 0 & 0.5 \\\\ 0.5 & 0 \\end{vmatrix}$\n",
    "\n",
    "- Implied holdings by private investors: $\\hat C = \\begin{vmatrix} 0.5 & 0 \\\\ 0 & 0.5 \\end{vmatrix}$\n",
    "\n",
    "- Final investors' claims on assets: $A = \\hat C(I-C)^{-1} = \\begin{vmatrix} 2/3 & 1/3 \\\\ 1/3 & 2/3 \\end{vmatrix}$\n",
    "\n",
    "A means that 2/3 of the value of the investments of organization \"1\", actually end up going to the owners of organiazation \"1\", and 1/3 of organization \"2\" goes to organization \"1\"'s owners, and vice versa\n",
    "\n",
    "Basic structure in terms of the ownership:\n",
    "\n",
    "![](https://lh3.googleusercontent.com/t7Ahqq6cG_6WfLAT8R_o499Z5L4BGC2mCjzRFWfGHZEMlXdGCZeU8EAHxRqsdMUh970_JqKO-EQ9U4ZxbNiYeJxz64qPk2AMkDYBwY-R2VtxlV3stQgU5jkHHEoafhNBxe0sBE_kI4gGqeQBSKzyZjHR-7FGyAwaGqhR_4VD2AcFs1Ok3BXIRUxHuNCwLnYRChTn74MRzCTNZChSRT4uqDGII9J0B6dAibYpKQHmO_dmIjFqRW54oi_GTLbFozBBHzkM-B-ZBoG2PKrEnugINjAqXX86ILBbddNot7rsFRDdNJZoiDWxt3MXKkZ53mrOB8hNkIxhUvB-dZRAouT0LzYV-0n9ib5bzbl-4924-XvBV8P7xRNDmy_oZUaO67jPnFwdusFMLMYdU3w9NqFQ4vFcrG7vRqZAb9WyKDJ4qVrlQ1_YCTCO6JQyfs8yGQ_-ZjDIqzeXS5v4nN_lCb68Qgw3X_YFq3hKUWYepEbKt1WFEQJeRMYG_CMMBM2jiC490J9qqYDMpoCZz6O-f-oh1hDfgRpRPJv-iuuquBUpzv31e1CaKgXUUJS51jfO_sIrmTOgt2-4UFYIn5cONtzuhKcqY9-aGGHQkf3oJ1KGRaYNLp5oAnQUfTyWPJX-zUrod3tg7SgCId8aVT9_pTXh59kVGD-qUkFSg-YZUy10rH9yyC5hpbumKzzz=w1141-h425-no)\n",
    "\n",
    "Let's figure out where this 2/3, 1/3 came from:\n",
    "\n",
    "What happens to \\$1 of investment income to 1?\n",
    "\n",
    "![](https://lh3.googleusercontent.com/Rh1cNpjDG_fpA35BhBuixku4ziihk16Vo_cYGvFbcqYANFTKGpg3OsxvcLWfhf2hXHiv6q6szpsN_SCLa8Nga_FrXzMrD3HaihOrlddXfINCmgqFVZLav3UIO_hUpyTXYzbJc_jLgRDMuh2qMnQgzIstL5Dfl4kRHlp4elRLhVjrQVnI6M50B336M_ge-wkFFme69spEbs6fb5x5h2ErQEMpAZfyWQCn4-QeoTl4WgGaYQCQou4Tf0YmVH-Mmvs2oj_eUpzkNaqxcZ3XmEGZq3GuIkcvYpF9vXSCQU9luh13v31pYrqiAhTvKtGN_wYqe6fAa-xG86uJIBGqwonjjAvJ7kaU1PerkUBTUzdgq1_-JGUfjAJhnoY4sI5OJyqasYiYpNGkfgjojDjvJH2vFERA8DpSBX26U-KTt_u8abCGAzNIXidwhLLPGV3wlWlG6S99R6Zuh7vCnkH3ux8jMGIaajGDk4D2VnIU0DmTlsO7tH4PXyTnM3EU8Vl_38sUe9t-Vpqj8aJtXqeLvrhJTLB-pv0eclK0L5Z_dbgXp5_hapMfkdRNCiId5BVwWDEN3KqiVxamYDBEPSsL121FcszFUZ1BuRAlLXzy9lhjpUw0OoxKCgZ201jaEYYoCgKqu9_Ghwl7sEMV3IdOSdyn2gnWI7E-JuhcrXfy8hpXfh6ADFYvyU7UODIY=w713-h263-no)\n",
    "\n",
    "![](https://lh3.googleusercontent.com/JUlC0WErCsXx3YAkCey_ySQFrcUF1Ote1o5sScCq9e5llbyJHgdHM4Na4ttj1CeNZt7RhQu3k3MMXa2Wfwwp_HQdfxZDAMBezVyuVA_64GtufyWOq2R2svNyeQg-TOUFUvgDPZ__Rpb69PGOYWULL_AHWMNui9ZwU_N79OmGYBDqk2UqA-05OI_JWY9dz1UGJcnSn9fKuzoXgHIxWiPn8VYKywSiLT3KaZ87QbG7O3g7-dFc2SLmKn3yclrgDN_6YijDzX3DLqJ-9R6Y103Qfyl-FDcp3j95rzsXqxeE2APXdCmyD7fstyt0bwHBZk7UDfy15CfPwK_7_iwlWq8P3goukXWBt8b2NCb6dPRAIE_M0XOgnu2xjzRFgkS_vACcO6SZlaBREDAcWdDE0FNSShEbmDsL-1kQeJPMq_d25EgbSA3yvvc2oz8agTl8nW088Mywwi7LA9hBdse19V8M55CsSUj513dErHJwWrLiwklGUI1KDAsrY7JQDT3J4LjEPCmgmw9C1Y85jTA1DiC4feCNJTsFWCuE9QsXQRNuiCYU71dreFMjSURF6GXsTOKZHqm7HV1WTVU51lrkelaT4CVBpcjpgsOoC3vxud-E5-fM24PEh6UKLv6t3iHg0pjP1JB7iz0kF143aV1BpfX5BaeetlcqZF3Di0sw7upbW3utPn-T7HU5_C1L=w1082-h370-no)\n",
    "\n",
    "![](https://lh3.googleusercontent.com/JUlC0WErCsXx3YAkCey_ySQFrcUF1Ote1o5sScCq9e5llbyJHgdHM4Na4ttj1CeNZt7RhQu3k3MMXa2Wfwwp_HQdfxZDAMBezVyuVA_64GtufyWOq2R2svNyeQg-TOUFUvgDPZ__Rpb69PGOYWULL_AHWMNui9ZwU_N79OmGYBDqk2UqA-05OI_JWY9dz1UGJcnSn9fKuzoXgHIxWiPn8VYKywSiLT3KaZ87QbG7O3g7-dFc2SLmKn3yclrgDN_6YijDzX3DLqJ-9R6Y103Qfyl-FDcp3j95rzsXqxeE2APXdCmyD7fstyt0bwHBZk7UDfy15CfPwK_7_iwlWq8P3goukXWBt8b2NCb6dPRAIE_M0XOgnu2xjzRFgkS_vACcO6SZlaBREDAcWdDE0FNSShEbmDsL-1kQeJPMq_d25EgbSA3yvvc2oz8agTl8nW088Mywwi7LA9hBdse19V8M55CsSUj513dErHJwWrLiwklGUI1KDAsrY7JQDT3J4LjEPCmgmw9C1Y85jTA1DiC4feCNJTsFWCuE9QsXQRNuiCYU71dreFMjSURF6GXsTOKZHqm7HV1WTVU51lrkelaT4CVBpcjpgsOoC3vxud-E5-fM24PEh6UKLv6t3iHg0pjP1JB7iz0kF143aV1BpfX5BaeetlcqZF3Di0sw7upbW3utPn-T7HU5_C1L=w1082-h370-no)\n",
    "\n",
    "![](https://lh3.googleusercontent.com/ZiLkLrpzABfCluhf6ijHK-x4XoJP1JMLSM4iI5BwvnrxUI9X0UVekBQeUswgfc0KOi_r6bgUdDI839VxoNPDm0q5xFgXPHm95_vx_JsJ7JeVK8evFWxdleNO96AC1-0Z0a7eNhxuURLsmRAUfjyT_U7UZsdiKxa6SUH65xbBxWaTS4jlkgAY6Ja5Cr_MvYUuZibtubXOCdGXnc1D9-lsbDFaFPNKrK2McoY554HptgLod8-alWJVVWiM_YYNClLYSLmj2R3hafrx8u8Rw_h6HAvYBVboFP2z4-OdA_4c5gS1Wz0pLiuAfRD5FMUbnVKDgWk68GtCX8T-KzDaYkZUPDxNVUqZlUMyUmLaZuHEp3RijILEaGnjNw880YGLlyJ7oEWZeKE5ApGiF5Nw8sZY6dwZg0y1lMA7pvdIr-z6DpL1Mn2APBWUBmAqC1HN7JzWUlRZ-0R-f7PTeI0MiXvk9Ra3OW08m1um0v-gEDRbam03c20tjVCELxqjsbdVfi6_DCiVsWqVsmq_ar79egCIaZuL-KltzcKCUljjJbP0Gyo0c_RSUixlyRy6mI8wrp81aLYu9npRsaJvC8BJ2g9owguyriuVouin36TiYADkDUopLbiTuNC0CGDfp49P3eCpcL4MwsHb-4JlXSP1E3LjDcQMEK3IaG7ZoV-cWU3MRoaHDy5Oftsuk0bM=w1075-h374-no)\n",
    "\n",
    "![](https://lh3.googleusercontent.com/DbSG8bE4lG4lhcjeRehQF8hi0iCyT-qawyAFOeU3P17bq831VvUhWqsK3ueaHuc4npRx4hk3FyfcXwq7qCf7yy-UobbTdrmb8AzRFxE_r0azLt_6ntMUbFCLtw0bAjUL8Q3LNdIhT8B6_Eb8SMtb0fsrQY5J1MoWsfQm14nXiAB1yq6MTfzNHlHY7UOJZmntahUVkV9TfzeKpuJG6bTEVPV4V0fLgITiNcAXJ1KvvvCGVl6kGCFIs1UJ6i6y0pjUANLM4-UTuIxxPS1-e9NR1hc4kfAW535AH7vJnXVIZ2IhFk60XIx6QFZcLDK-HXY-kjRGp8YJrWibGv7_Z-XsG2kf96TCmLtpla3mWvlix6fQRNfSlCR7vAA-VJwm_4JMXhWM9pNtvbIBpV_5RDjJpicZojqscIW_4EnIYZl1oeBmvg1ewZQfOroiJhu7H2eJ1TXuhv7wOTMu0AU9fGVaVuJer7WniJVwLyPqi2U9rp-gwsXLGT2j-Q1Sz8j-s5Nd9v6pLhvFs4bvhNUi8hfgJjTJEetMq18IaU3wp66X9XVNvUafMC5n59Um2on2ai5ttdfDJORwzSRMJcnq1gdFxc9KsZ4EKva10RWVfc30tIEnksH_HUNM9kkrg8t1Xlc-efTfCnJP1BpseFGCG9c5spblnjBouKJVALyR6m82lwZ88vqC9-msUWPd=w1148-h384-no)\n",
    "\n",
    "![](https://lh3.googleusercontent.com/90mFE_iffys-gZ4srfd93xLvEx06niH8_iLjQBDhmllVBFFYcEApQNHSGB57eaE2cZ2z-napkDbaxEdplmwsvYEUAWdJVinEZmXw98DDThVqqQjclf6RQVm8YnmNH0kQ7a5YpsocQ8Nvm7bsvy-mcH1ryKfRRjwgC_M-HZWbTf5bhTBXGAPigNqjj4bVMh25FdoyQdaae7ty03C5jyzu-ts1NbV15JjLvTk8HxNiNZRtG4UguUzHlXkYQMX-wnctxtqRXVxdKUVWL2DXK8ASFS_2xanNZ1Gbpg7nLtM12H3nkk2b2n2wgzLmRH0r-llZGgjmLAbXN5CPUqE8Kb0hKdHuk6HHOdjJ0aGcie6b3xnH3BLAtiw9-NX4ppEL8DpcRxOktV5yvn3KMCvCnJ2Rss2aXGO8kgBGNzxARHI3atJvOWkrzTjdbsetCyaAfOznth1XXcvm48ul3dWzHayxPJoQjPxhCRU26wuptIEogOl2uvhFMAm14rjQb0c36U2GstuFK-qhKcTy7-Hs1cr1ct-iwz3bfUarpKQHCeSLLki9SVqt5uNokw5XkvheSWYZQcXW9g1323KBzoMyLNeDTaqCuDKs5sH0NCTZAV-JCf-cNmkh9zG4efbRQvLW61FZfKgIVg6XtsqOJzli6mkQxqk8I60JhLvqNxnTzjFa98Wm1LRxpFRjhjdf=w1175-h405-no)\n",
    "\n",
    "![](https://lh3.googleusercontent.com/29ytH0a9NvDHRFH1KIWNWj3O1swXE-XMTzZcaspttbWnfHa9qCd4lrO55afAu2QIxZPdhi4OSqRgsO__vHuMkiH5_ctpOhxykW_eA9OAmoTHahI1ArV-I39x3H2wHDhy8DyUzpyPjmN_Q_j8oA0hCFl2Q_Qnr1zianxvZVvuDO6919tWmXhSiSQsdsE82BhPlsO8cq9gsvwMVTKVRAFU9H987ayPzDV4mZ-vD14fIgiV_h4yxSYGi9EXwOEGPR10qA9BcTe0E0F_sMCJ0gxXMd_qz3vky5JpTol68Jxt7UlTi4cPHwP6YNh8wZ91yGwG9xWQGcpIbsHsURaDoTsU_diy9bSO0i8wTYULRH8wE1rzsaUbwjHW0crQmnMWmwRDOMC5ltMz0QN-eJBYqvwCFKKCDlSiWkSTpVEuF5YKmS9Utkr_dzGLUfZ3wzdYTkyyEIjNwRjn999VVfSEJFbMgYKz_uoNoiI__qykWNA05LqoQR7Mgf7FgDaBkzTdIafFWd0srTNiV87W_9DFg15tDuSjfzET8M1u5xakV1jR8s9o7TLIhzaA3qHv75x-58DwPgrMpY6IKnwQgSgLncrQV7itwE7zUDDiBltmuEfeS_tyk7WgVv2ffJ6yZy4vRALoBWQd3YZ2GfvTehFES3Lq_SdYZIuAmCkuKvSgrtSW7CvxlnJR__ONPkOu=w1190-h400-no)\n",
    "\n",
    "![](https://lh3.googleusercontent.com/rB6sdDoAR64v2pXUAB-_lp6LbNMPDkpjvcNSFBgn9logpRIe5ZoAl8q-ofydiWkVejB4n_3kz148jCQzcUQaZM8TlCYZoT7UBGj7iL-a7PZXwanz1kSxvDRMmRuyoOxTZeVO2JViXCwnRFSmNaLaj2GUS8myopTxtgcgX8HrrATH3oVPYWJSuJoB2rUH5YzB3Q1LYRiZ-CFXhj9ZqMf_4IDqR0L26sHfAAHV_6puOD-edwiiEX0o4NwTw0qFboz3CLo9RJrx_EBO1gHR6XY7yiNRJ9L4Mmzx-snOtVINegBrMOwNqHDolCSR_nYMCuoYwKb9C4BsS8lmHuzVdXeidKC0frXhHI5efFkG0tx8Cx-g3IaaVw94yphdBxwriaMLKDOqouIrPqDV0J6jx3dLZb9yR-uMn5RInKLiEYB3wTLhLvf3h9xCU-jy5ZiaiFFmLqwp_k7E6MRCjZVA2IG6dtzzVUWR-tzF6QPlJejH3MgMTehn_uP91V0m1T-F9oPkW9B7YR-2HuWYM8xVS5sNMhOx08bUcO0ma3N_GnBOsQqdxUAZ8zsvqLONC2HT18zLN4m0XPTTe4_KwVGOvQqa9QZ7mgJDFJiI1m1jn6AneOxiMy7jBh_K_k1IlsUk1UNyEGEm4ob5nZ5qKNTw3IlpCKWc9ad_rAoqaYEiWPU4QqhplAAreBNoNlX0=w1165-h393-no)\n",
    "\n",
    "![](https://lh3.googleusercontent.com/sEHUZDHIrF3l10OndElM-ugAtpe5tD8gWwLwZGBFqsd2MeWN9RSH2uV644ffR-qMBD4PXydYLizA136NA1VVi_oMDJrHYEGa3y1vFFYhQ5ZU7UQ5-Vj2yaqryUbYj_nxJYvrW3_EesP4LaG3cqC1Jex6kDgBAepoz7hlLbyLqRCKTQM32AiorhGTgs4IreheQEc6Vs4usxfTVEkKCJIRfdphgTHJRxmUI1UZmS3lSYlQ5nB7_ONfcV2gM0GnU3nYaxQ5mEdl9YCpl0P_e1wJ1FCN52xw4mVva3tLaBPOpK64QSVzA4VKEGfzCLy5UFBO5Y3X49AcsV2ehEE6DxSvkBZ-5OCXSQlcRWjXcLqRIJ-ImeWCZK3LDVvzKqPJ9gW4YWRkV0fSYPO-78kZb9sNtcmxYDATEC2LNupMRH0DXE9ozmuYjYKPuFIWBGDFoHcCnvzvgpoh8KXfmbch4ivA_tPVYEFZJtJyMGUZHnUyX60loYQhU6uU131D6GxdKWhey55eebFhgZX2XDEqlnggESbh7RSQ8etvwwYBTPR49TzWxKRkCm6W3HDn6b7KAtm5vf0cqG79X5U5JODhgPSyuIIquzCZKjjEDO2y8fDVNLfrSd2DEjJyqWx9tR1wbBGnTuM19AGY1X5yaZ_pj6MgE7McaI-j2y0-QKfnG-zoM26V2n0i5Try73iB=w1209-h372-no)\n",
    "\n",
    "![](https://lh3.googleusercontent.com/torTXKClCj7v4OOs1ejut6xDJWx5-dL0EsDKnCW71nCtZPSQSnlQnFSJkZvoJhkqNCrpYQOKKTjmMHBABKjUoax-bvRXiwnNWHvgHBd56I2ybGVluZVTJh-7YwjZyyIaJ6b7ILHzsTFfe39tTDeyrhXLWVQ_SPslQwldxG6jdcAozShssBnd3FdsRRRnDbw9eYe_qzZQdO_bob5zQHw9xH7hNOpdDe-o2CPQ0qRTlY9Ajqrn-gHCjnmvJ1BsuvzsqzPmE0ZSjfwPIi9PCo57UVc7CuQLfHSprVOgAewCMateHE5WaihGWij0AhOBww1_LYfZBMM19nMxBXc1KxiKT_a2oEIsA_SG0BXqAok3ulyJC29PgVBMoWuYtxrp0G1Qy2KuLi4dmBlCKi_QlzlY1kB07YxkNSwCZGZTbA348fZ-Cy-r5SoKMbVyT2y11v9jxvWJetjC34t3Uz7BTv02zxEldR57XS3zEiXEMZCIoOOpc8EI3aCluATftRh9wOLTL9aIuykpb23WOGPz2x75rBkUE-ssW7AayKGCj15zTXCTE__Q-lfAE-QPQJBDfn6JMN7pmUQcSIJJPkQ9g2cojA9BOhyN6Lltkm_Rhld0Mr0hiiw478nb7WrbVGdWINNi1Qr3N9FZItWm4GpvxGHGuzg74ZU7ZpwxyAaIHgc0Cv2LAKjglQoGEFE-=w1201-h400-no)\n",
    "\n",
    "![](https://lh3.googleusercontent.com/9AVAJvgi1zw2C4EBNxi4Lzt204rftVSbo3LgV3PSbPV9FABGxO2hb5TDm21HX0rZDRHTEp0_plvV6qDgDnyTECvN3uhPtXYImRxAq5iG6xrts8YQ7v8i6DAnC5eMPBamfU2Lw3qWJ74oBQLCfCVi-c1q9WbrUpWWjlInZzXEP8l-jfXZhfKiGnY6MaybQxDBJxAxgbgIOeV7f689Yiiu9qChZugo7TP8Gi55QKI2IlFLROhGWoHxVU5K5kKViiu0ZBO3XR3zLf7wCm_UCUmuI_9eFbWmu0ZS34juRgPQNydAxWzJ74219aswGkUpkweYukRSwuPBrcFDl1KzP6dSvxEpDRDtSxVuudR7XyUHcR--j6V13ENpIcgp_gTTBNfaTGe1laV6uTJTS1C5HmlE_ZAbpf30ZJCdsHg45We4gcc2NwxmE3uECBO9XEm7_M4uUpAuzbIgY6QiEYaCXoiiCfh4PeLMr75G8qN55InnhaYwD4UGoSfdxQ3w5k1IQxJ4L5XrLSODsN7-hWean84bmmMEdfRpxwxH8UuQmUddeABmnWW2xkZls1JPt6hPH0zndk5_Zgs8PJgGvWW25gyLjFcEj-EIicMxk_veCG-B8YHwAE1t2iL1qgk4TuusKrjeavNH6yd3q7hmOW-z0C2BicrVD_gx6JSHZYm27Z2kJX8_TosDuwuxuj2l=w1193-h398-no)\n",
    "\n",
    "![](https://lh3.googleusercontent.com/8ohPuc6qyv0SdYlSan48NuvJQ17YipgHlDPqGkIjfzBEdUR3pyZrRwRHaEjn4ZOCcvIC9BYYgP-fQO4Ow5ngKvQZNPJUv1eEDBBMowueDmVTS6gTqs0MI89CKkSvUv1lb6ZAn1WtkIMRo0TXFfJSD48-Ofl0IU4CVp61cwbhb_UwKqyIfI65l2LefoHJ2Ku-8bvCHiKzG67a50Iz1GocG-xmt-zVHOyQShcgdOogDhnXl4r_g5hND4usw7E2pWX2pOC8tF8uP0NcOkWZHEuWS4mEFjT00DCQFRdNGL2kmRCVZN5yzjRAtaaF_1AsdqtCy0oxx0XA952UUHIm0FfzVYWHn9YzyJQBaRMcv-t1J5yh-zNGxkxBBPAOLmNay3RFR_M2_3VOLHAbTj6U1WrxCeuNXxNh_d7XVG-4f8CD_JvzttZdGSVJ1kg5A7AMdA6pGSy3OF_oeOZmjMZ0QJhpbE4tnHa8v5tTgYgcjA2GnxaDn9QwaGaXym_wDDATPBMMQyOa4PPJrE8LHQvTg1QYtpN-Xz-6B0adJ_ojN4mUPmfH7mAaNkrU3zcoJQWZuyPQVcYPtKk-hJgwYqBct9fmHUR9PfsGkywTHQ3eaY3iZcYmnjZd49v4acgLJatJovxKIRaKryxMOlJEMDTfjuDJjjhxpkAppYDNYOn7KW-GBn5Q5Mid5oQtSapH=w1207-h467-no)\n",
    "\n",
    "as you keep iterating this, eventually 2/3 of that went out one side, and 1/3 came out the other side, and that was exactly the calculation we got for the \"A\" matrix.\n",
    "\n",
    "\n",
    "![](https://lh3.googleusercontent.com/PVK3qh44LSQPNYaBIw1MNYnPkBoFbBtjLet2hfraH3J_LMAu52UswkWOGRdjH5C5Vz_LjjlH7wp4VkPNAoPoCu_ZaNYV33eWz-MnrDaZT6W3crkNBkXfvaOFnGIwagdGhQ55jMiNtTF5G-1GqbNTIALGHG0Q0N4sTCZh7vJWXYuWkqFKIHcZKXk3tQw8P0HD2L7p81rO3I1ORsJsTda2ur6ENAypkp51IBR2k4ObSkO3U5ptVa1J9HlJzSZJUA7h7qf1IDuXJFG5xM59XQzH_0p0UM83Us6qRxELH7H2hN7FMkXJrdbaH030AQGDBjJkHCBjsnb3CZrTWG6HgoDfHWBrKNgOZ_5ZtKRKxHlouM4__7071KUa_zqEkreiSRiKUbTapYlBZrgPVTEqvSIkrhNlptfF0DU2H4O0fI-20YfioImshtWaer6P3al50bIfsvrmfE0SGy_ch7MBMXtsmnUq18FZfsu5yB7e8cvw6Vi7vrSAY-J8FMSVkeTirnjFKcT1A2Wg9VWqhFkOnjo63fUj9K1xSezJJg3G7_L2pLaP_DfTSJDBV8YjBGiwzzruHoCpScp3DIU7zdElwjTCtTWH8LZo5zAaY9Tl3-OH031E6Ws4YfTFkJIIn3XH2nZQSopTXGMf16qVIv2Eu-fUxF1jYIoWB3qaqzA1jtDoUiOwKQI6K5Hn9kXv=w558-h334-no)"
   ]
  },
  {
   "cell_type": "code",
   "execution_count": null,
   "metadata": {},
   "outputs": [],
   "source": []
  }
 ],
 "metadata": {
  "kernelspec": {
   "display_name": "Julia 0.6.4",
   "language": "julia",
   "name": "julia-0.6"
  },
  "language_info": {
   "file_extension": ".jl",
   "mimetype": "application/julia",
   "name": "julia",
   "version": "0.6.4"
  }
 },
 "nbformat": 4,
 "nbformat_minor": 2
}
