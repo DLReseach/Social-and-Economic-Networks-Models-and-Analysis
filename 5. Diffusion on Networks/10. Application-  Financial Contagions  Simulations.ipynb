{
 "cells": [
  {
   "cell_type": "markdown",
   "metadata": {},
   "source": [
    "# Explore Contagions\n",
    "\n",
    "Simple model of Elliott, Golub Jackson 13:\n",
    "\n",
    "Companies are linked to each other via various contracts: debts, promised deliries, equity,...\n",
    "\n",
    "That exposes each company to others' investments and values\n",
    "\n",
    "\n",
    "\n",
    "First, let's see how to use networks to model exposures\n",
    "\n",
    " - We are going to work with just sort of straight equity values. But we're just going to first start to see, how it can be that, if I know what percentage of the value of some other company that I am exposed to and I have got a whole of series of these things. How can we keep track of the ultimate exposure that we have in the economy\n",
    "\n",
    "An organization has direct investments:\n",
    " - Fraction $c_i$ of value accrues directly to them\n",
    " - Fraction $1-c_i$ is owed to others\n",
    " \n",
    "Also hold obligations of $d_i$ other organizations:\n",
    " - Have claims to those other organizations' investments"
   ]
  },
  {
   "cell_type": "markdown",
   "metadata": {},
   "source": [
    "# Simulation Setup\n",
    "\n",
    "- n = 100 organizations\n",
    "\n",
    "\n",
    "- Random network g with $Pr(g_{ij} = 1) = d/(n-1)$\n",
    " - set the probability that there's a link between organization i and j to be d, which is going to be the expected degree of n-1. If we do these with probabilities, the expected number of connections that each organization should have in terms of other organizations that they own should be d. This is the expected number and we'll think of that as a level of diversification. So if I'm not very diversified in terms of the number of other people that I own, then I just own a couple of companies where I have.I'm dealing in terms of the people that owe me things\n",
    "\n",
    "\n",
    "- d = expected # other organizations that an organization cross holds (**d = level of diversification**)\n",
    " -  I'm dealing in terms of the people that owe me things, it's only going to be a couple of companies. As I broaden that out, I'm going to be diversified, I'm going to be getting things from many different other organizations and so things that are owed to me are coming from a wider range of things rather than just one. So I think of that as diversification. \n",
    "\n",
    "\n",
    "- the separate thing is there's some fraction **c** of org cross-held (evenly split among those holding it), **1-c** held privately (**c = level of integration**)\n",
    " - So if C is very high, then it means that most of an organization is actually owed through the economy to other organizations and less of it goes directly to its private holders and otherwise it's more privately held and not very well integrated into the economy.\n",
    "\n",
    "\n",
    "- So, claim i has on j: $c_{ij} = cg_{ij}/d_j$"
   ]
  },
  {
   "cell_type": "markdown",
   "metadata": {},
   "source": [
    "# The Exercise\n",
    "\n",
    "- One asset per organization (their investments), starts at value 1\n",
    "\n",
    "- Pick one organization's investment to devalue to 0\n",
    "\n",
    "- If an organization's value drops below $\\theta$ of its starting value, it fails\n",
    "\n",
    "- Look at resulting cascade"
   ]
  },
  {
   "cell_type": "markdown",
   "metadata": {},
   "source": [
    "# Diversification and Contagion: 93% threshold, c=.5\n",
    "\n",
    "![](https://lh3.googleusercontent.com/AfSOxH0lahgYI5VrUsgoppKUQbP7sa-dJhLAVZ1VNsYkbH0VzZErDmB1ChM3A7tk3QC8gz_jrujL663Qxskk0M5jz7CTzc03qnafvyRT-GuVKQQIpuLrsE10S5NnAxldc_nxuYAcT9ic93M5LPlXCVyaukxBJHSd8R5EH1ORUa_cW7kI1eo8z8_N9_v889ck68U1hJfqhFiQYYZ3KQZaxmJEDI6huD6-oGRetVAICsbKq0Ur0qGPzbBTPB-U7l5JBbZ4WwmQKjiQ-yWBDwS_4AYPgrbGD1anmPbTPkuiFkzJOqAzIBVHYhIrSWnIZUi9aFDgzx5BbJB6aWVFQcjM5k1RJXaOqfaxVRdgYRvTaUTw4M-WxPuu3vZ8z90dNuvz9sB1RCUMSsRavxoz8ksrDO1dQ4r3ITgBeuyqB0FV50BEcZQqGqcX2npk9R5LvRd9hLNApdiylQBnrQ7xeUGuN-4ZUt18TTx8R-ru-HMnS0AqRp5D7gn4ZFpLAFi5WIo9Et37oZnqWsgYX14EjHIZgps95ElKsRBH6crpRMKVAn-lwSqPN2EgSqk_bFo6BswapLp541uxBCmOgFw1_ck-vYfV8_2EMUWHWfxbaHT2CDxke_NiHPjo3zCmmmvKsuCuUMfOy8YhWgewx66jbtjLve3YzCYmfTu9rgWC3-o3L5c-dZ-_UtX1_5zo=w566-h357-no)\n",
    "\n",
    "\"Diversification and COntagion:93%\", so if you lose 7% of your value then that triggers bankruptcy and a situation where half of any company is owned by other companies ($c = .5$) and half is ownded by pivate shareholders"
   ]
  },
  {
   "attachments": {},
   "cell_type": "markdown",
   "metadata": {},
   "source": [
    "# Diversification and Contagion: Various Thresholds\n",
    "\n",
    "![](https://lh3.googleusercontent.com/3erJE0fPzLViQaIWRydX8w2V5gEeL42vXBWwiLsWkNvBST2_uAeg6qrN9vyoEPs3BxKRJ2ELGBxc2t2ULbDOGq3NadxR9Cfm6PZvUI-4Ruaq06NkfJ60to4PSSjmtGZupqlGUE3HYF7ZC6zFyk3A1Cv5DYGbx0u66fcrj70bSXiJ11wTQp8y6qSTMyLpeL3Ka7Jw89mYZqRce1v5Qwt8VQoY1UslsXfJfq78dJjX_FXJA7I7FtK0rf0rLdylm-tgN3lcEs8m6ruoUTd1NaSUTPqQwE1_blonDYbRUiSgdL3cSaq5bbVFtjkjadxoBxDPrBxmizNEW2-bgD5lb0rUr6phM56Sb17CGqN8ZNNHSMaTaYhQikYqZwXPtyNeA86rEFeKUdI_J4kkf8KzTQGUYO23AGsUOAFnCv4PaTURO_cBkFBuABwOTyPEO1zL5Yq3me-eiGITosT5ZSeHK04XSBdxdEgry84_IuPos47lxS1B_hYg3GeZTPwxXYWbd-nZkM3FkOe-RBxwMCEY7gwcEVqMzKX1GOXGG-ie-f9v66RsWTUqNefqXTmtxe_Jig4cV-9lx7u_Nba-XJj7hTzkdhrZqElBtZiG2g2FiLwmBAQpvh2ZGKoW1-GYp1uu2LpgstBKtPJ6N2zlqAqJGEEyzD5Z4p6oMpUCXq9PVA2GM5oi4X_2PiWYrcpi=w597-h342-no)"
   ]
  },
  {
   "cell_type": "markdown",
   "metadata": {},
   "source": [
    "# Intuition\n",
    "\n",
    "![](https://lh3.googleusercontent.com/JbyjKiOh7lblLyANWCZTb-uIskfSJ8DMwCnvjyBWGyWVcckBAqIhrtBCaBE0PTm2XOYLx4vSIW_3eI8sIWsq92pLr5VFZSq7yB28FncaZypyq0hfXkJq4UMmVsivQeGuzn8wYpOj3xoMsJqKtdGOn8X319zJXD7WbjdqMKpiIZA3pCxqyq7YarVAf47HqA2lJLWLQYs8XeIw5MveQzwjPo25z8amK6sdvij010pcu7qgJKNiQnCcuaBmmoBpmoGoo2DEXOexz5SV0GCPut_NiN4WqzUVruq9bi-dIO8Al12TID8cqsnZwLv2RjpTiYSXqSVy1JLmN-YrEIbcb3zOG6FVjSsRpoXrYWXKoq0ZfaFlmkZ2LO3-aZwTxy4A4Hes0MiCCucvhc76ZcQHIAg9ufRuIWRDbOjQiBnGZz1frtdYhc7xU51Kso9ky3f_CFvJkilHnvefokAZVh2uYqoI08CW-ixM9yBu0bggZsrsy6A_csYQHrTRM_K47jPwBtf8Z4kYgTVF-HTvJHPgRezJUlYLYU0FOBXokSyiesMWGFBp7vXGFB5pCd9uNDl1lJ6yUMpL-h4cgiFVwTWG8AVJOA5GMKgDvx8muyxY736dAG0KClrwQXEE8zfvkZJcv2j-YEtufGC9Beu6YvsTVRObDP0qcKGi_g5vOe8oCilVZu9oK3kEw64ePdQC=w848-h327-no)\n",
    "What's the intuition? With very low levels of d, we're not getting much contagion. Why not? Because not many of the organizations own each other so there's not much of a chance for contagion. So if this one goes bankrupt, it doesn't affect anybody else. If this one goes bankrupt, it affects a few but not very many. Once we get to medium diversification. Now if somebody hits it has a chance to actually hit a number of different nodes. Once we get to full diversification it could spread a lot but what's different here is now this organization is basically part cross held or owned by just two others and in this case with low diversification they can be substantially exposed to this. So when you've only got a few partnerships, if one of your partners goes down, that can be devastating. And so here the fact that we've got connection but also low numbers of partners means that everybody is substantially exposed to a few people and that allows things to spread. Once you get high diversification you have that chance for things to reach more broadly, but now everybody has lots of partners and so the feeling of any one partner doesn't necessarily represent as much of a change in terms of your own holdings because when you look at that A matrix now I'm not necessarily exposed to as much of that particular organization's assets"
   ]
  },
  {
   "cell_type": "markdown",
   "metadata": {},
   "source": [
    "# Diversification: Dangerous Middle Levels\n",
    "\n",
    "- Low diversification:\n",
    " - fragmented network, no widespread contagion\n",
    " \n",
    "- Medium diversification\n",
    " - Connected network, contagion is possible\n",
    " - Exposure to only a few others makes it easy to spread\n",
    " \n",
    "- High diversification\n",
    " - Little exposure to any single other organization\n",
    " - Failure do not spread\n",
    " \n",
    "So what does this tell us? It's a very simple point here but what it says is you begin to use these simple network models by using the A matrix by beginning to look at this. We can begin to see how these things spread and under what conditions we're going to get broader ramifications of some failures in the economy and what conditions might it be more isolated."
   ]
  },
  {
   "cell_type": "markdown",
   "metadata": {},
   "source": [
    "# Integration: .93 Threshold\n",
    "\n",
    "![](https://lh3.googleusercontent.com/_EdKZ25b_XrQtjZxkHcT34dT8gOxgIAuNx2TnxloyHr9VrKTtxQnyDtsyi0AJzPMpjU9fRt4UDXKOoON0qbR_M65f6bZntKxv1j2emcUNKDAni6d0vx3e3cNM3b1WX8-EhBcHUaZ_DIiFqvRCsD0_udCxCozFRzQCOusglm_vUyRLxc850NCXUewjrmHdssTEmblUP0RFFWBERPijbtyQfSxmvGIffTNAolUERq35b0_BxprKsXxQ5BEM-Dcvvwixw8hrfNU3Xi2t79vM-HLiW5ooLTT3FBYRRP804x5hKRuaHgDj2WXAQQ_Q_CpCuffuge8MkBqTVmJdpWkrKrO_6LLVN32Ug6sXAqEm1qmkx5ciiyOr4YSHD_gXBmM-LYNiCrFpuLxzSI8sHa8xME96S0R8SQo-7PW0J1Y9oPghSruzwDl4jCMQPEKy8hziyfAOdMe2tWTCIyu_cmRBxQ5Ecw8so2Mzw09VhW0KJlvu5xiy9_bikuUlcr8uftUsKQE8rgXuR0uGD1ELf4SLlnarOZcIsBRueH7mv_ppqI44iqVsMWZbEaFtdEoySZlvgjFJsiO2R2iKqI4rCGoXBgZZgTKacFyF6V3x3vrf5O-9psqirNfMUhYOKD7EoeGLyZCegzDcLyCB7xDVcWS3vofuTnANOxth6iQXBQwZTIQE2bLL2b7NnmV5X1b=w735-h442-no)\n",
    "\n",
    "![](https://lh3.googleusercontent.com/msuQv7fmt9NNmGj_0j8XHjo3SZgzseNmNmIikhiQBJu8u3s1I5FWG-hp5kldhAhZ6dyQSTJqnbKKB2jfiGtaIIXDnoz3uGG7yz7MsXpFjvs5qlO5-Gtk3-hYzBKCb0cBlX_sQPOR-i0x_BIx5BEHXPtugVtSY-wLuErkMYpu2MRpY5PZKH_ZcS6hMraqHTsY38cgY5jybE3v-IwcDlVvnYoWTfruwaI24vLeGEt55LJE_H85aaHmZ7xISDdeBjp7qJxaN-4_-v1_8wuRiojNvReBS2wFyArB2NAFm5sspkg5VhZIqeLZfOl24nfPMdBcJ9-0vh3-JeUXLwy4R97nD2lTPyN59_Bd8qp-qVsDcfV2SJtjctQhy_fsB9dOJ6bF7CLdqSEeLBGHNtDQCDoBrxhYPuz8eYPsMTjqJnyP8RTCAyHU_6HTZMNQ9O-9bTuhP9HQigkscw5hkP9khg1Dd8Wy1QMruZoKg5vQJ6Mzt02kiIhq4CERvQzv6cCuI4LXAClrKVKm8xNkofB-zhJ3-dwGuLrZ0NoHQtKcNgaBtkMvo9dPT3SzKxB66wai2Qbi5Cj-h0AqqooxFaDIgmrZB2PzY04Sd9k5I460DrfjmtGxdT04uapx-B2Lc7u6rEZBmXF4H1LbsWhkJsVhTTwqxduOndntnAAliihndaF8FbQwYDXUulSxjlr7=w896-h578-no)\n",
    "\n",
    "As you increase the \"C\" parameter, you're getting more exposure, now more of what I own is in other companies and now if one of those goes bankrupt I'm more exposed to things. Ultimately, if you increase it even more, if you keep taking it way up, it starts to drop back down again.\n",
    "\n",
    " Why does it drop back down again? Well, now everybody is exposed to everybody else, but I'm not exposed as much to myself, to my own holdings and so if I have a failure of my own assets that doesn't necessarily cause problems for me because I'm well integrated in terms of the other organizations in the economy. So you're getting non-monotonicity here in both cases. So low integration, low exposure to others, failures don't trigger others. Middle integration, you have substantial enough to trigger contagion and then high integration, now, it's difficult to get any first failures because the ownership of your own assets doesn't necessarily trigger failures. Things are well integrated in the economy. You can analyze much richer kinds of networks in this model."
   ]
  },
  {
   "cell_type": "markdown",
   "metadata": {},
   "source": [
    "# Integration\n",
    "\n",
    "- Low integration: little exposure to others, failures don't trigger others\n",
    "\n",
    "- Middle integration: exposure to others substantial enough to trigger contagion\n",
    "\n",
    "- High integration: difficult to get a *first* failure - failure of own assets does not trigger failure "
   ]
  },
  {
   "cell_type": "markdown",
   "metadata": {},
   "source": [
    "# Analysis\n",
    "\n",
    "- Analyze richer networks\n",
    "\n",
    "- Understand indirect holdings and how valuation/devaluations spread\n",
    "\n",
    "- Understand effects of diversification, integration, size of shocks, correlation of shocks, heterogenetity in networks!..."
   ]
  },
  {
   "cell_type": "code",
   "execution_count": null,
   "metadata": {},
   "outputs": [],
   "source": []
  }
 ],
 "metadata": {
  "kernelspec": {
   "display_name": "Julia 0.6.4",
   "language": "julia",
   "name": "julia-0.6"
  },
  "language_info": {
   "file_extension": ".jl",
   "mimetype": "application/julia",
   "name": "julia",
   "version": "0.6.4"
  }
 },
 "nbformat": 4,
 "nbformat_minor": 2
}
