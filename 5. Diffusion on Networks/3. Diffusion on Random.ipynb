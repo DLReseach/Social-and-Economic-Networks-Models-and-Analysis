{
 "cells": [
  {
   "cell_type": "markdown",
   "metadata": {},
   "source": [
    "# Diffusion on Random Networks\n",
    "\n",
    "- Idea, disease, computer virus spreads via connections in the network\n",
    "\n",
    "- Nodes are linked if one would \"infect\" the other\n",
    " - So in this kind of situation, ultimately what's really going to be important is when we think about a relationship or a link between two individuals, we should think of two people being related if one has a chance of passing something to the other in whatever our diffusion process is. So if we're thinking about the flu, then we would think about, okay, I'd be connected to all the individuals who I might infect, and so that might be a very broad range of individuals. \n",
    " - Whereas, if we're thinking about a political view or some new technology that I might tell somebody about, it might be a much narrower set of individuals who we might have that kind of interaction. So, nodes are going to be linked if one would infect the other. And one substantial simplification we're going to make to begin with is that this is going to be sort of an independent and identical probability across links. So, each person has an equal chance of infecting any one of their neighbors. Whereas, that might not be true in reality where you might spend more time interacting with some individuals than others, and have more of a chance of a diffusion process proceeding across some links than others. So, we'll define the links by the interactions that are necessary for diffusion. \n",
    "\n",
    "- Will an infection take hold?\n",
    "\n",
    "- How many nodes/people will it reach?"
   ]
  },
  {
   "cell_type": "markdown",
   "metadata": {},
   "source": [
    "# Questions\n",
    "- When do we get diffusion?\n",
    "\n",
    "- What is the extent of diffusion?\n",
    "\n",
    "- How does it depend on the particulars of the process as well as the network?\n",
    "\n",
    "- Who is likely to be infected earliest?"
   ]
  },
  {
   "cell_type": "markdown",
   "metadata": {},
   "source": [
    "# Component Structure\n",
    "\n",
    "- Reach of contagion is determined by the component structure\n",
    "\n",
    "- Some players or nodes are immune, some links fail to transmit...\n",
    "\n",
    "- What do components look like of those who are susceptible and given links that work\n",
    "\n",
    "- So understanding what the component structure is will help us understand both the probability of starting and the eventual reach conditional on that\n",
    "\n",
    "![](https://lh3.googleusercontent.com/i7syCAZFTAKNl795ZqIaAmLpzW6qu0pJwkUXSVvF8foEb5i5eOWiBAS2ZWQewkx3TItv8IH81giTCLGuswZM3coTgarbip1fOv5QanGL5HeK0kWBxPfHKqAmBbPkG5aIMDtWr0bWYGeUwfM0X8jrfvrz0rWdSmRDFDL2SL3SdAgo9zC5-aeuAMI8XFChGofPO75K5aB4W1xXpCyUR883YmEwmnLbFCljKB7odBZyEXOkyEZax8EoVepm2B7N6XtfWpRYa3bECyAmudLuyjGsqq0Ym0jFrcTtGl8N_43o_LiXiA7ARB89KJT60jOM-_VbZ90jyvlAWnqMaM47QeJsEfPIvJeHCCYJRODFWaa0rvq8HLgiPX5Q5PeuSFQBib6jnCqpGMDLB6_OH8rGR_kzlEJ_EwDV24dQhBZv_9eorcs5YaiSVI3cZrKZUm6MmfG4SGuACRACBjxuM-ZJcFz6OXOTgNc-DpUC_c9Lcs0eO4n3NRz83rz3Rfmb39jK0FOc3RrhLpIkjDGLkcPFKJ37LOJuF-aYgvQZDYphNz8viYxFspLejX_2GE525bHpZKs6qTDy4yVaBKtuI0fBs7ZvjLvBKd-E5VqI0Ep834oK_w6tZ1rmygyYd-CTXMrb7ODyV0XhCBoMPItjWaeZu-SYRxtLzuaqTTUDk6zE2lpzR6fJyilnh35GFr9y=w590-h342-no)"
   ]
  },
  {
   "cell_type": "markdown",
   "metadata": {},
   "source": [
    "# Extend of Diffusion\n",
    "\n",
    "- Get nontrivial diffusion if someone in the giant component is infected/adopts\n",
    "\n",
    "- Size of the giant component determines likelihood of diffusion and its extent\n",
    "\n",
    "- Random network models allow for giant component calculations\n",
    "\n",
    "what we can do\n",
    "\n",
    "- Simple example of such a calculation\n",
    "\n",
    "- Work with Erdos-Renyi random network\n",
    "\n",
    "- How big is the giant component??"
   ]
  },
  {
   "cell_type": "markdown",
   "metadata": {},
   "source": [
    "# Size of the Giant Component\n",
    "\n",
    "- How big is the giant component when there is one?\n",
    "\n",
    "- Size of the giant component when $1/n < p < log(n)/n$\n",
    "\n",
    "[know that if p << 1/n all isolated, and if log(n)/n << p then all path connected]"
   ]
  },
  {
   "attachments": {},
   "cell_type": "markdown",
   "metadata": {},
   "source": [
    "#### Poisson  p = .01, 50 nodes\n",
    "\n",
    "![](https://lh3.googleusercontent.com/kB2xQ37s6uEpXH1jiEJm-pf_-pUlobMDfLGxDDNpbRhj87dxLsiDFQ7zYQQ9oeu9NBWVFiFj5vHudLiU_9AsHhqj-6ZEbGO1m15BRt7Wj220kmG_7TtIxXmqEqUpcgnfM0c716Z7gT4qrwI346wdLHn1wSREowYZw3sHkribRkdO1dvQJt6Yim4dvNWQLnum-leNoe6p3Y52AM23YSRWM1V9OeX0giX0lpLcfv1s3jOjUHA62xrDw7KzqgCW5X5XRAGflrq8RZ3n3QPufUDOVKmIEvTzAviiejfVHwTFvKL8m4vVTzlCwXmKdSsWzj0BmLJZEAwvIMFIEBQu_OcaGuoY0R2W-THBYTv870CMbv4a3zip2L-BOoQUnDKJkDarJQ9jedZSrrPdTeKjXZFEFbDiOfi4ue7MdYQ3W16fiEaC_c7zkcEwoJ0l0j_YQV9WrkFZtYR7tyzkoXeOG8mtOkcuHCzcqDLsIRtzbux4ZdZAYPBHMp1XsDygVtgd-FZWkY3K79UKM_iYsK5k04-dLusA7IN7b2q2l8AOTiWFRKuPNVxUqVTII_0T4tuy65BxcmmS3VrRyNTmg0qbjAQI__Mu2DJ95GyNm3DHxh6OOsKko57WfLCzHzAczE5Go3iVpcd1iyEnlz8COzUqX9ZdVZ1WwGV_lL95F9as6deXuMG2bezrQLJQ3ozt=w749-h389-no)\n",
    "\n",
    "#### Poisson  p = .03, 50 nodes\n",
    "- .02 is the threshold for emergence of cycles and a giant component\n",
    "\n",
    "![](https://lh3.googleusercontent.com/_5DT7aRp5fod3683iAdjwTfFRh8IalMoSUrFR4QcELu7Cud-6rthSzjbEWtqJFcCZ3iy4b8KpYnnb6Wp0HJzMJj6ptYuDUWugwdEOTTRKK9ZSvka4VXRTPNnT_UtHOOe5d9q1IG1dCrzm2dYZt0kcArpeCg0g5BAD4L0wmanvqt_vR9aoqjmpvnXKkllVp08LdYHae9TnYNWHEJQJ9p7nwi7Gri739hgLMylaNRjvcJaV8JxsrMSIXyFK6pEOv-NA1L6O4Rgp0pGYhrP3d-8R8ys3nSegrXgcDcOJbM7QNzUKsac0y699vn8G1wQZsYf2-0meyT2Tx_NwQ-fI5Lh5I_JstAnGtENIKJ_UL3bsynvOLvqHrDRmzu5nIVeBYDDn4PntCi8fH_mTvRSPS6jQ3S477FNtNnMzRjrJABTCkBBCeLaPRYIuCUaQzyfKdGuBXVmDbz4dTKqWev7vZcnAZDu6zplF3lBTpvJ6T2v_28JSfd8hU-L-8VyxL_swNPjBfMFsTTrVJlYUD3Faq-tW7xBx5VOLmz5p-T2ajFrtKg6lqxfVKimsg_myd5du7hY2S0MhjKeEcvytEP__IgUv38jo3mOaIG-1bmU9V2YXjJC9mfhEfhIeOlr9Jj7d6FS1k6j_q6anhsUveG-iboNzMBp2wlGBpsNSsVQWgw17nw1OnU4auvEMGTd=w633-h342-no)\n",
    "\n",
    "#### Poisson  p = .05, 50 nodes\n",
    "\n",
    "![](https://lh3.googleusercontent.com/OYC1NSxuIZo7y-GhJbTyUvRh4XBwoCK9tWzBKAQvjhwdlIyjvRRiuSsd1m_ukBeDZckjYTqvK-ds7pn6-3fFa1eHQJx7ThpXUCUbTOty18b1lB3RrXiyWpm1V0WHCb9v-g_WMYYXsbuDB-1j6CtDle3EL1Zb_Pe1pd-LcaQM0NpXTtraVEydaVcCeCZCVLyHq_PL9DsHP5hvFIhYdIj3gtlX-pLtWlf8qk9gtFa6I7i2SZhtCT03dIY4JnxTjaF8zhyxNEq3NCbLhhgiTT1LRK-T2TroNIMvHc9HW7TU_TGi9s6_Ikf7lc-qrsimubdUN9kaclk6Bxr-6MmLFQ4wLUe2jhUP0no9Pj-TMoiw--ZYgDd-2IyKTOMiNaaOfyyfepAclRz61bQG7J2MQFSmgwld-n5fK70gfBc6j_3Jvce7Sq7YsHSdVvD84_E0zxDcpGuqLXZLhfbNCFB_cCYwvUdOg-tGaUX_ZOE780Eks55ZBykD6CsyYddaQXuJIZqquxKqAaANt5aMqcLuXQbqozB5Ljb3PWvIbr5ct8ipM-QCMu9wRzXdJ5vXO5bMGSknH2mYSuzsQVcBbe35BtFU3lZDeUvNQieR8LqoCvjqCtl4YUCYvJnGg5U1D60JU6xKmevI0wIMo2vQ95fUp5mf8n-CKJK1ciIg0aOEDW6Vh2xEX7qiflpUjmwx=w838-h453-no)\n",
    "\n",
    "#### Poisson  p = .10, 50 nodes\n",
    "- .08 is the threshold for connection\n",
    "\n",
    "![](https://lh3.googleusercontent.com/FbEU3vuZF9FIlGMvoXupH6lEZ2A_h6R6OorWAKVl_TUfDGm_DGHQBqoUhQ0BPRYKzkePcpNsTEzftusXjYPGM4xknllIk8khowxtXAtivZHLwlTAdDPklYo9sF7dKS6ygz_DM9w61ISCm5apqZu8NZlLintXSezOOGLkRO-XfjEmzQegNgimt5YrgI7tbb5_cWH8P0Qyyi4fPwel-tO1pzNJr7oYQuPGI6V0zEdsEtl_OOMnAhUnPL0NMm4jTweXCegWGLrScoahIr2vohvZogdUsRs1g5wPU39-jRyKZQxQ5AquevaCu4A9p_pF3it_NvkbIix9r-F1kPvo7CqmQKr5YPLrYOfWDVQ7zBGDNRRSzA9c1RCbLVCanmIcNyaplFAP2fuml4cKRI5gtq1w3L6qzWOR2MjriP4buImGbubLuNx0l_TtxHtkKnp4odFTQ5ehO8gWOYr22nIUfZdUWRITHNymEfoVk9A3q9S6eALXP-5W0MsHnBfei8JEzmhanvBvxFy-D4bVpZuxVV2XaBezImOGYDL6osgSlG8HFMtCNlwcmOc28m8t0KoKHKrlKMBy7Y0zckPPDAZtC59dXqgroF3MYVzs2FWP4gFInZkAjgXiNRTs-YEpMxDCSFu7pcZDW4XdsfmKbh9M8P-iaUoASjrtFDEy9ltx9Df0l7Z9BeZC25gJ3EZ2=w631-h342-no)"
   ]
  },
  {
   "cell_type": "code",
   "execution_count": null,
   "metadata": {},
   "outputs": [],
   "source": []
  }
 ],
 "metadata": {
  "kernelspec": {
   "display_name": "Julia 0.6.4",
   "language": "julia",
   "name": "julia-0.6"
  },
  "language_info": {
   "file_extension": ".jl",
   "mimetype": "application/julia",
   "name": "julia",
   "version": "0.6.4"
  }
 },
 "nbformat": 4,
 "nbformat_minor": 2
}
