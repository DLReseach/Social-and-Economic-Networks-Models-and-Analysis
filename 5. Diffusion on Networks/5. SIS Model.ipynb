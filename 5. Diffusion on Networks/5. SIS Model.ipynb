{
 "cells": [
  {
   "cell_type": "markdown",
   "metadata": {},
   "source": [
    "# Susceptible Infected Susceptible (SIS) Model\n",
    "\n",
    "- An extensively studied model in epidemiology\n",
    " -  So, the idea here is you can recover. So you can catch something you become infected so, you're susceptible, you could catch it.  You get it, then you recover and this is something which you catch overtime, so it  might me something that I erase a virus from my computer, I'm susceptible again. And I can catch em when new one comes, I  catch it again, I erase it and so forth. So, I go back and forth from this process of you know, realizing that I have a virus, getting rid of it, and then catching it again later in time. \n",
    "\n",
    "- The key thing is allows nodes to change behaviors back and forth over time\n",
    "\n",
    "- Model of catching some recurring diseases, who to vote for, etc\n",
    "\n",
    "- Nodes are infected or susceptible\n",
    "\n",
    "\n",
    "\n",
    "- Probability that get infected is proportional to number of infected neighbors with rate v>0, plus spontaneous $\\epsilon$\n",
    " - so that you can catch things as in the Bass Model\n",
    "\n",
    "- get well randomly in any period at rate $\\delta > 0$\n",
    " - this is like the Bass Model, except here you can actually reverse yourself and get well, and that's going to happen with a rate $\\delta$ greater than \"0\"\n",
    "\n",
    "- Let $\\rho$ be the percent of the population that's infected any point in time.\n",
    " - So what then I want to do is make predictions about $\\rho$ as a function of the network and these other parameters of the model.\n",
    " \n",
    " \n",
    "- Start wih benchmark where all players mix with even probabilities\n",
    "\n",
    "- Randomly meet an individual each period\n",
    "\n",
    "- Large Markov chain\n",
    "\n",
    "- Steady state mean-field: $d\\rho/dt = 0$"
   ]
  },
  {
   "cell_type": "markdown",
   "metadata": {},
   "source": [
    "# Mean-Field\n",
    "\n",
    "$d\\rho/dt = (1-\\rho)(v\\rho + \\epsilon) - \\rho \\delta = 0$\n",
    " - $(1-\\rho)$ is the susceptible size of the population. \n",
    " - you catch it from a given individual with $v\\rho$, and $\\epsilon$ is spontaneous rate.\n",
    " - $(1-\\rho)(v\\rho + \\epsilon)$ looks lot like the Bass Model did, it's the new infection at this rate\n",
    " - $\\rho \\delta$ is the people recovering over time\n",
    " - We look for steady state, $d\\rho/dt= 0$, so have $(1-\\rho)(v\\rho + \\epsilon)$ and $\\rho \\delta$ to balance\n",
    "\n",
    "solve the above expression, then we get the solution:\n",
    "\n",
    "$\\rho = [(v - \\delta - \\epsilon) + ((v -\\delta -\\epsilon)^2 + 4\\epsilon v)^{1/2}] / 2v$"
   ]
  },
  {
   "cell_type": "markdown",
   "metadata": {},
   "source": [
    "# \"Mean-Field\" drop $\\epsilon$\n",
    "\n",
    "$d\\rho/dt = (1-\\rho)v\\rho - \\rho \\delta = 0$\n",
    "\n",
    "Two solutions:\n",
    "\n",
    "$\\rho = 1 - \\delta/v$ ($if >0 ==> \\delta < v$)\n",
    " - if $\\delta > v$, the people recover so fast that this thing will never really take root, no infection stays.\n",
    " - if $\\delta < v$, so you can catch things faster then you can recover from them, then $\\rho$ can be positive.\n",
    "\n",
    "$\\rho = 0$"
   ]
  },
  {
   "cell_type": "markdown",
   "metadata": {},
   "source": [
    "# Where's the network?\n",
    "\n",
    "- so far uniformly random interaction\n",
    "\n",
    "- missing heterogeneity in degree\n",
    "\n",
    "- missing local patterns\n",
    "\n",
    "- we can at least address the first concern..."
   ]
  },
  {
   "cell_type": "markdown",
   "metadata": {},
   "source": [
    "# Explore Degree Distribution Influence\n",
    "\n",
    "- random matching with $d_i$ matches for node i\n",
    " - each different individual might have a different degree($d_i$), and their degree is just going to tell you how many matches per unit of time they're going to have.\n",
    "\n",
    "- $\\rho(d)$: fraction of nodes of degree d infected\n",
    "\n",
    "- $\\theta$: fraction of randomly chosen neighbors infected\n",
    " - If I'm meeting a random person in the population, so each period I'm meeting some number of people, $d_i$, say this is \"4\", I'm going to meet 4 people per unit of time. What's the chance that any one of those 4 people is infected? and $\\theta$ is going to be that fraction.\n",
    " \n",
    " Now what's going to be important, is the fraction of people over all that might  have something in their population, is not going to be the same as the fraction  of people I meet. Because I'm more likely to meet people  who are meeting lots of people. So, some people have lots of  interactions. Those are the people I'm more likely to  meet. Those are also the people who are more  likely to be infected. Okay?  So, so that's the process that's going on. "
   ]
  },
  {
   "cell_type": "markdown",
   "metadata": {},
   "source": [
    "# Chance that meet an infected node\n",
    "\n",
    "- P(d): fraction of nodes that have d meetings, i.e. degree distribution\n",
    "\n",
    "- More likely to meet someone who has high d\n",
    "\n",
    "- likelihood of meeting node of degree d is:\n",
    " - $\\frac{P(d)d}{E[d]}$\n",
    " - look at the fraction of those people in the population, but we have to re-weight that by what's their relative degree compared to the average degree in a population($d/E[d]$), because that's going to determine how many meetings they have and how easy it it to find them, when you're bumping into people in the population.\n",
    " - this's an important thing, and this's a critical thing for understanding contagion processes more generally.\n",
    "- So likelihood of meeting infected node is:\n",
    " - $\\theta = \\sum_d \\rho(d) \\frac{P(d)d}{E[d]}$"
   ]
  },
  {
   "cell_type": "markdown",
   "metadata": {},
   "source": [
    "# Mean Field: Pastor-Satorras and Vespignagi\n",
    "\n",
    "- $\\theta = \\sum_d \\rho(d)P(d)d/E[d]$ fraction of infected neighbors/random partners\n",
    "\n",
    "- Steady state: for each d\n",
    " - $0 = d\\rho(d)/dt = (1-\\rho(d))v\\theta d- \\rho(d)\\delta$\n",
    " - $(1-\\rho(d))$: the fraction of people of type d that are currently susceptible \n",
    " - $v$: the infection rate (at which uninfected node gets infected by an infected neighbor);\n",
    " - $\\delta$: the recovery rate (at which each infected node recovers from infection);\n",
    " - $\\theta$: the fraction of randomly chosen neighbors who are infected.\n",
    " - $\\theta d$: the number of infected individuals per unit of time they're likely to meet \n",
    " - $(1-\\rho(d))v\\theta d$: the rate at which there going to gain infections \n",
    " - $\\rho(d)\\delta$: they recover"
   ]
  },
  {
   "attachments": {},
   "cell_type": "markdown",
   "metadata": {},
   "source": [
    "# solving\n",
    "- Steady state: for each d\n",
    " - $0 = d\\rho(d)/dt = (1-\\rho(d))v\\theta d- \\rho(d)\\delta$\n",
    " \n",
    "- $\\rho(d) = \\frac {\\lambda \\theta d}{((\\lambda \\theta d + 1)}$ where $\\lambda = \\frac{v}{\\delta}$\n",
    " - so $\\lambda$ is the relative rate at which you get infected compared to the rate at which you get better\n",
    " - The steady state infection fraction $\\rho(d)$ increases in d.\n",
    "\n",
    "- $\\theta = \\sum_d \\frac{\\rho(d) P(d) d}{E[d]} = \\sum_d \\frac{P(d) \\lambda \\theta d^2}{[(\\lambda \\theta d + 1)E[d]]}$\n",
    " - $P(d)$: degree distribution\n",
    " -  $\\frac{P(d)d}{E[d]}$: likelihood of meeting node of degree d\n",
    "- Steady state infection rate of people you meet is the solution to\n",
    " - $\\theta = H(\\theta) = \\sum_d \\frac{P(d)\\lambda \\theta d^2}{[(\\lambda \\theta d + 1)E[d]]}$\n",
    " \n",
    "- What can we say about how this depends on the \"network structure\"?\n",
    "\n",
    "- How does infection rate $\\theta$ depend on P(d), E(d)?\n",
    "\n",
    "![](https://lh3.googleusercontent.com/d6iEyEM4IfNNWGugt-qcnZO6aLyPlmtroZhUBS0Ia7QJRYZQ5TK4MD6qATuqZaNEsxxcrQGNVMkxUgLWHUWyHMPO7xpOk7Q89uNQpZsUCAbWnlzxtufVbDEhIS7ZyO0449Rdf12tGo7bQcZAB8GWeewhf95iCRg_o97NJVsuh1Q6gQwEmL-Mcd0CsFNBt--Ec97O-2SRodkIa25Mu_icV-vgn7Jm-F05Ell0zleRYVuqd4qhBkBcSCxm2xxIRehijB7bquWQPskz1wFYshVjVKccaBS7wAPvN4xakpnNGN8VptffjROfZIKh7rfDdMIYjrP8Np1xjhxUUjEWBL_4RHgedl06a9KguKUfNE_qFNJtDazmHyJ_YrPESHWTFNhSwZfuNMaMs_y-yzboYequBQCbtecU8m_LWvPuIo3-kP7I9-4jIg9IaoghRUmDfvL0gF2tduepa0k5jB8ggBa_OLUXx2wQ002qptMldPFNTjd_-IADb6u_7EopBeCz9CHXoTrgatT09oDOJy-kBs_VPMiSeTp25tkks1Z20KxYybHl9_HuyG60VWLED98wCgapw4msNmfjTAq0IC1dBBPQxNrOyyuAdoFh0h2T_ZO3JEn5qIrrpjMQvDl-_iJuZ1ZtFitL_mjjHti67SyQf8n-qahTZk-dzJFTbcQ6rxHfNAApc6gJ4w_w9hT2=w479-h297-no)"
   ]
  },
  {
   "cell_type": "code",
   "execution_count": null,
   "metadata": {},
   "outputs": [],
   "source": []
  }
 ],
 "metadata": {
  "kernelspec": {
   "display_name": "Julia 0.6.4",
   "language": "julia",
   "name": "julia-0.6"
  },
  "language_info": {
   "file_extension": ".jl",
   "mimetype": "application/julia",
   "name": "julia",
   "version": "0.6.4"
  }
 },
 "nbformat": 4,
 "nbformat_minor": 2
}
