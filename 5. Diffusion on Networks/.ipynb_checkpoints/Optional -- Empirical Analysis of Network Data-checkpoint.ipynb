{
 "cells": [
  {
   "cell_type": "markdown",
   "metadata": {},
   "source": [
    "# Based on course:《4. Giant Component Poisson Case》"
   ]
  },
  {
   "cell_type": "markdown",
   "metadata": {},
   "source": [
    "![](https://lh3.googleusercontent.com/8ed6mMVhbtiddsCBbM2gHV4DL-DsgTasz418WzbKvsW559vm2XyXBCd3XcNHHisVLQk42x52Xi7CXBXX8qUTvC4bAZA5h_JF5HYz2y5jOjqnIlMQpfavIlhGZl2NUGJs0u2X0hW44Se5_0r2hOWJBaddjtXCKoHBP9ovKsjx8aBu8W2s9ORiTLwlh4rJLwqrIyQNpUl9toEb5rsxfja8bbgze_5Vc_VTzWdSDsqndqfZfvXS62S2NWreCdNY3zwaRVOfYacCfBQhznXO9MsYWNrVj0R6NTLMIA8m3gEFgdRcN6IWR_Kj8BZG-bJj_xbb7Mo3BPTN31DF7klGjnwbBMawFaUYUcCtcFqrZnPnQKvb7BLSD1JY2LAlZvjzaDzqR-XUkUpPHfEgDo3tyHn_Bs1LmrDM0O2gYuaRFf3u97M-DRin7_QykgQFqZnIcylmgb4Ad6ap4i1YHA0loKIuu6eyN8HZLolgo2Z29bAhCF8FDYo4eK_mY-S4vKo3KAg44PEeAfOhQ_NdCLtjtZaVJW-rkFhm_vRZlH5wgCQ-ylikm3NPNG4LxxxFJptbpZg3tKHxosgS75XwYBbSlDy42RXusklVzTJhVUGDv_8eAvd50vLGguKWRm6WO-lpZo1swmmK14PRxUmE9JjpPXbpPtY9j4K_cF-YghLSBsrmLsfFgm0g30IN_ABl=w729-h620-no)"
   ]
  },
  {
   "cell_type": "code",
   "execution_count": 2,
   "metadata": {},
   "outputs": [
    {
     "data": {
      "text/plain": [
       "6.333333333333333"
      ]
     },
     "execution_count": 2,
     "metadata": {},
     "output_type": "execute_result"
    }
   ],
   "source": [
    "# run \"statisitcs\" - \"Connected Components\", then get the above plot, the max size in x axis is about 380, means the \n",
    "# number of node of giant component is 380, the second largest component is 50\n",
    "380/60"
   ]
  },
  {
   "cell_type": "markdown",
   "metadata": {},
   "source": [
    "![](https://lh3.googleusercontent.com/evev-vNsl9xLuRVvn8Pd856KqnIzGlcqFC_JINkeRCYComumkXcwWr-XmXeyloB0Ci1C4UOwJxwBuA8MFZ3chOFKyorhsBUV008x8ApDTAKjfsr-eoD26O0AWko50KNjYchuV3LOY_kvB4Mas9ZZj8ZOONWNICu6foGjqxjaLckAq700vCDNyu5lFl7SOYnawgYp41VBfZYC8h3rqnbTAhqBOCTe7fhyaYfTLK1wWmX4IZMRat49YsRu3Z5s5pyM5nPUFDXF6GzbPzyNtLeqO-kg_DCvVqHIX98anfkpBM1sQNwT_FbpMnNdiIg8hGUa1oWiAMStJ2rfY6z2v8fupRCFX0RmIcHWiF9jZT2hk2d9woWWKi_jfXhZd3crMfV1iXDx6YK519UIWn4F0g9EnRVObZX67YspYA7I_6nfTxaYUp8DIRV7C89ClwSHGa-nFi_IcPwt4pXoxb1rT1t38_QmxfEVQna8sGrIaSgheFPX1p4D1CqX3foqYxR09F2-aUlhjj4TTBTgxHFAkvs-o5RjqIi60U716Eq7mn3k9E19ocTKq_bjnbJmaNHJtZKmVsB6WF2NaQvI1dbyzrjGuS8Bw8GIAve-HiMtPDtI3tY_YO0fPYI5adqP7rpMImKMst0zlmvbBR2Nv075oJ7vhyOwyp5m_ft3Lh-znIRs1pPbCD0l36pyHaR4=w422-h349-no)"
   ]
  },
  {
   "cell_type": "code",
   "execution_count": 3,
   "metadata": {},
   "outputs": [
    {
     "data": {
      "text/plain": [
       "275.0"
      ]
     },
     "execution_count": 3,
     "metadata": {},
     "output_type": "execute_result"
    }
   ],
   "source": [
    "# run \"statisitcs\" - \"Connected Components\", then get the above plot, the max size in x axis is about 380, means the \n",
    "# number of node of giant component is 380\n",
    "# the second largest component is 8, in \"Data Laboratory\" - \"Component ID\", count the second largest component nodes number\n",
    "2200/8"
   ]
  },
  {
   "cell_type": "code",
   "execution_count": null,
   "metadata": {},
   "outputs": [],
   "source": []
  }
 ],
 "metadata": {
  "kernelspec": {
   "display_name": "Julia 0.6.4",
   "language": "julia",
   "name": "julia-0.6"
  },
  "language_info": {
   "file_extension": ".jl",
   "mimetype": "application/julia",
   "name": "julia",
   "version": "0.6.4"
  }
 },
 "nbformat": 4,
 "nbformat_minor": 2
}
