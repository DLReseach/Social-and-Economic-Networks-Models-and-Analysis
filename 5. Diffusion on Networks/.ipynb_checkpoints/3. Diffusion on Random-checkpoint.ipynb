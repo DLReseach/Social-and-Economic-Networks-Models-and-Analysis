{
 "cells": [
  {
   "cell_type": "markdown",
   "metadata": {},
   "source": [
    "# Diffusion on Random Networks\n",
    "\n",
    "- Idea, disease, computer virus spreads via connections in the network\n",
    "\n",
    "- Nodes are linked if one would \"infect\" the other\n",
    " - So in this kind of situation, ultimately what's really going to be important is when we think about a relationship or a link between two individuals, we should think of two people being related if one has a chance of passing something to the other in whatever our diffusion process is. So if we're thinking about the flu, then we would think about, okay, I'd be connected to all the individuals who I might infect, and so that might be a very broad range of individuals. \n",
    " - Whereas, if we're thinking about a political view or some new technology that I might tell somebody about, it might be a much narrower set of individuals who we might have that kind of interaction. So, nodes are going to be linked if one would infect the other. And one substantial simplification we're going to make to begin with is that this is going to be sort of an independent and identical probability across links. So, each person has an equal chance of infecting any one of their neighbors. Whereas, that might not be true in reality where you might spend more time interacting with some individuals than others, and have more of a chance of a diffusion process proceeding across some links than others. So, we'll define the links by the interactions that are necessary for diffusion. \n",
    "\n",
    "- Will an infection take hold?\n",
    "\n",
    "- How many nodes/people will it reach?"
   ]
  },
  {
   "cell_type": "markdown",
   "metadata": {},
   "source": [
    "# Questions\n",
    "- When do we get diffusion?\n",
    "\n",
    "- What is the extent of diffusion?\n",
    "\n",
    "- How does it depend on the particulars of the process as well as the network?\n",
    "\n",
    "- Who is likely to be infected earliest?"
   ]
  },
  {
   "cell_type": "markdown",
   "metadata": {},
   "source": [
    "# Component Structure\n",
    "\n",
    "- Reach of contagion is determined by the component structure\n",
    "\n",
    "- Some players or nodes are immune, some links fail to transmit...\n",
    "\n",
    "- What do components look like of those who are susceptible and given links that work\n",
    "\n",
    "- So understanding what the component structure is will help us understand both the probability of starting and the eventual reach conditional on that"
   ]
  },
  {
   "cell_type": "markdown",
   "metadata": {},
   "source": [
    "# Extend of Diffusion\n",
    "\n",
    "- Get nontrivial diffusion if someone in the giant component is infected/adopts\n",
    "\n",
    "- Size of the giant component determines likelihood of diffusion and its extent\n",
    "\n",
    "- Random network models allow for giant component calculations\n",
    "\n",
    "what we can do\n",
    "\n",
    "- Simple example of such a calculation\n",
    "\n",
    "- Work with Erdos-Renyi random network\n",
    "\n",
    "- How big is the giant component??"
   ]
  },
  {
   "cell_type": "markdown",
   "metadata": {},
   "source": [
    "# Size of the Giant Component\n",
    "\n",
    "- How big is the giant component when there is one?\n",
    "\n",
    "- Size of the giant component when $1/n < p < log(n)/n$\n",
    "\n",
    "[know that if p << 1/n all isolated, and if log(n)/n << p then all path connected]"
   ]
  },
  {
   "cell_type": "markdown",
   "metadata": {},
   "source": [
    "![](https://img0.ph.126.net/P1lYGFoeWIsj4P6mqmTEWg==/6632634569770504971.png)\n",
    "\n",
    "![](https://img2.ph.126.net/24cTS0i8iC3sepTUvEzg-w==/6597623920519366697.png)\n",
    "\n",
    "![](https://img0.ph.126.net/wCC-MfTKFLrffs9nRxgHhg==/3332945199331434138.png)\n",
    "\n",
    "![](https://img0.ph.126.net/S_TsjSj8l5lvLxCT9llO-A==/6608272690633854147.png)"
   ]
  },
  {
   "cell_type": "code",
   "execution_count": null,
   "metadata": {},
   "outputs": [],
   "source": []
  }
 ],
 "metadata": {
  "kernelspec": {
   "display_name": "Julia 0.6.4",
   "language": "julia",
   "name": "julia-0.6"
  },
  "language_info": {
   "file_extension": ".jl",
   "mimetype": "application/julia",
   "name": "julia",
   "version": "0.6.4"
  }
 },
 "nbformat": 4,
 "nbformat_minor": 2
}
