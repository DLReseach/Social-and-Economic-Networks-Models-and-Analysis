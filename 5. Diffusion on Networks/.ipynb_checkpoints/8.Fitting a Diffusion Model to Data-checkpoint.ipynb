{
 "cells": [
  {
   "cell_type": "markdown",
   "metadata": {},
   "source": [
    "# Estimating Models\n",
    "\n",
    "- Banerjee, Chandrasekhar, Duflo, Jackson (2013) Study of Diffusion:\n",
    "\n",
    "- Map network structure via surveys, observe behavior\n",
    "\n",
    "- Model diffusion and fit the model from observed networks and behaviors"
   ]
  },
  {
   "cell_type": "markdown",
   "metadata": {},
   "source": [
    "# Questions\n",
    "\n",
    "\n",
    "- What determines behavior:\n",
    " - Pure access to information (no strategic effects)?\n",
    " - Complementarities (strategic affects)?\n",
    " \n",
    "- Are non-participants important in diffusion?\n",
    " - Model information passing by participants (usual contagion)\n",
    " - Information passing by non-participants too\n",
    " \n",
    "**Estimate structural models of diffusion and behavior**\n",
    "\n",
    "kinds of questions we could think about is you know, what determines behavior generally. So when we think about a diffusion process where individuals are making some choice, do I adopt a technology? Do I buy some new product? In this case, do I end up taking out a loan from a new possibility in terms of micro finance? when people don't do it, is it because they don't have information, just basic information, they don't even know the opportunities out there, or are there complementarities between individuals, so that I'm more likely to do when a friend ends up doing it for, for various reasons, because either I learned from that or I feel peer pressure or may be there is just benefits from both of us taking out loans and then we could end up learning from each other and, and having useful interactions from that. So that's one kind of question. \n",
    "\n",
    "another question that we, we'll actually look at here is the role of non-participants in diffusion processes. So, so sometimes you see this in the epidemiology literature as well. It could be, so when we think about something like the flu, generally to pass the flu on you might, you have to have the flu. But there could be people that are asymptomatic who don't actually come down with the disease who could still catch something and transmit it. And in this case, we could ask, is it possible that somebody finds out about the availability of micro-finance loans? They hear about it from friends. They end up not taking out a loan, but nonetheless they still pass information along and are useful process useful in the process of diffusion. So what we're going to do is, is model, take our network model seriously, and then fit that to the data. "
   ]
  },
  {
   "cell_type": "markdown",
   "metadata": {},
   "source": [
    "# Modeling diffusion\n",
    "- Know the set of initially informed nodes\n",
    "\n",
    "\n",
    "- Informed nodes (repeatedly pass information randomly to their neighbors over discrete times\n",
    "\n",
    "\n",
    "- Once informed (just once), nodes choose to participate depending on their characteristics and their neighbors' choices"
   ]
  },
  {
   "cell_type": "markdown",
   "metadata": {},
   "source": [
    "# Background\n",
    "\n",
    "75 rural villages in Karnataka, relatively isolated from microfinance initially\n",
    "\n",
    "- BSS entered 43 of them and offered microfinance\n",
    "\n",
    "- We surveyed villages before entry, observed network structure and various demographics\n",
    "\n",
    "- Tracked microfinance participation over time\n",
    "\n",
    "![](https://lh3.googleusercontent.com/4MrUzRK3-TUs6uD0cJ1iyyzJWUy4U5O80Gf-_7TPqPat7KOiNeqUkoK5BRoSwkP4mBBvEfpok4O-mecJLRP8kn71E8vWmKHaPpJiu-e7Oy8KHgkTEMhQXhpbwiL-jko2WYtqGjAGgUGlfmcRprjSeJbguv88fSnckW9S6fAEEU-TnH0MYy29WNiQ5V48EkRsk7MLVk0-gD2f3mrLTagaGJSCPR4takRX2wEiWuFU87j-VOsshbVog03r4WnJCNf5-3-1OFhuUZ4Gjk4tMGfTwnyl9-4IVsMFATAcYEC4JKqVDyhNbb150rhW8QnuJEAi7vcV_MO5HN6eProxDJyBhfP4wlphJXvdQXfdntoZgeuj2Hxf4egpuqfuE2HPz5rvpu1oXsDwe-aw2bsrnWz388RRLY-ly6ssfBbBchhc8LculZrn2E-AjrmCCPnIjtJGRRMQz-UOMsaVLIqKhd0p6WwRXlgv540tAm-CuSxUnvTtVnGKp-H2XxlxB-g7Z64AP-Ci-AE55celPFJcw_6wqaEJD6Cr1ezpF_FrjRavyL2KFT9xqqYR6zsxsWHFHEOEQXn_KovhjqJWdiPlsj1MYuooh7IxR2nkpGHQn2b1arYWZOyPm3_5FVcgg6nLSV3frnEuDA4YW0iO70q0Me3fYEe9wGoGcE-dj2LkWnujBgamTG9akSDvNE8V=w426-h334-no)\n",
    "\n",
    "\n",
    "## Background: 75 Indian Villages - Networks\n",
    "![](https://lh3.googleusercontent.com/LZ6xBF_rRwJ8gS0Z2KNcgfXOCMSYg3DGnb9VRmDKjjqf8mP1nplYHSonknt1ro2cqWk8gWg0pqaBBw-3dK3l24b8OO1JSLEeRv-HhTmHkX6F1Wtg3BGHt4-l5mjNZvySWM-G_ofmAsxN3fGMC9wMOPWdgPsI54w7WKMvgxkdb7AN_SneKHNmDZ8EYzl4OUZeOtJC7n1nMnIKJBP2sfXEq2G37vuC1J6FzGs4KM1bEJFnk8vuOOgxBOFTdPwVsX_-1xCGyeYJAA2r6Nys4AFMSAjfAYVKOP_rs-JidkpIekPlt8Xcob-s60YifLE5zOuOhoWRhkRTQLlhH7fOCQyUE5UCHFTvbVLLcxsjLEOgWYeDfVP8XrkHkYLLaZ00ID5UbmAg7SkgzaAYBs91-3rEuLAqoEdV5lKdzsk-OOwy1HDun8_e4NW-tlCoyiQgt6_Wxt1C0tL2WBNIzNfqDF3oSNbiumF4eCvbpAkk5IB69bCCKzx9-i-ir3V8GunqhSyaPvEmZU1HJSzedfb25nT24dSbzOT4jk62R39VBqjVIm8KeTG75UJ1Vtxpu7pWKa1JfAOpXYcBcy3YYUEEWuuPZAKwZQNxl_p_ZJ7Tga2r7LJPIh8HOdYKfBCkLcoR9PDmCFDDNlz9YMZjgNio6-4OrPrGHnB4jLIeK-YjFpT-_iwrLEmIWjRbkKPA=w1214-h524-no)\n",
    "\n",
    "![](https://lh3.googleusercontent.com/CaUguf8nO8Q47V6G0r_sSCIZ2SW22dsEiSAXhpmjDP6r0EW8TTPNxr-PSBnxjWsZ2ICoSt0m3zK4KPglWge3B50NdXGuX4q5yvq3GCuZcYhWc8EJxtB19AqbqGvkYJYj1oRrfoV4ZBM0rRoCE7WGxtzail3o5hNWGuuTcmjK0MuRGQYyCrQVrEmLBiQypmFgpsl9WhOQqPNrT9lWJizt8RUlVG9c9nGO2nazkQpGylcKlS-BG5V5d40XeqLN4ieqSwD5pm5dCGzTWOHegjMKgdVwbuUVkpH8Q3BYnDaUUdyxue9P0E5ru8SsrMTgSEvxYWD8O45poJg_4C__2ySLwHaLPKakQmL854AqG4M4nXRVq96URVw4HESlPVOIv14A9vs8ZM0RnRlQZWQ5nociWfkNsFDatjaN_C-FNePHGKPkrUwXLFpEFadTTMy7BvLJAp-yuIkwXbb6XRK7XMnOHV_no0FZOspi9LJC_w5JAegDXkOfTw37MkRY70GamsdStWAw7dfvcVMsy8ARyt4CSfuAY7-Bo7QrcscARKZZMwRki1TeCtvn3b8Ytsna4XnOES8-rCU3b1J1ZJyN6DkbMvW4hcJWo4XF5BAfjMKd_OXsULFv7kc0GD2urApkz6RzA5DNvCJb1D2TYRT5pYdr_QdBH1qIoMD-V6NM8Da9x0MS-XWS0Kg4UTqd=w732-h311-no)\n",
    "\n",
    "![](https://lh3.googleusercontent.com/8HBcNTxqYdNGeu-xR5oMo-GCs3aNCPitev3Cu-XMO-nwz27xhpZjaaODyW35_wFUlja1lJseCMfFxoDbgSzGqxZOJsWW4NsTI9mN4FsuIewxB1fZk8TwB26upuiwyxKSQQv7_lFIzO5RDaH4h3pIirvLyIEg2lcZOugKbiY_BpnUWBnM4OpdxY40GUH_C8AwfD38nlOxz-PXF19IaQZbs2Tsg4546iZgKb12oz_WuX7NdDOhystH8XXOvioy6w4ZODhzURXJBMVGOGIQy21ZEAidWHdObptLuIX37nCiFSEzXTEZuBUJsDPkPlzVF_6h5dXelIfr0UDOsxLwveoyfx6zrHqMHS7MY9pthl0PV0qyp2hafjl9dm-cxj5VsGuD0ovMBjbDfZ-8Prk-sNLHZnwlVhjRoHTSDEnxipL3AHj9eK0j1Ni0wX6dH6JKGTMaxwG31Y7_odmERK0meP8q5wn1rgVSwg3dniEyZ7i7-BjJ_cOxG0kHfG3PUXi0-MntA7huUfylaqIcc_ubmvADCtiLpHEfxSytjyUH6duAK-xDJ0MV3odtruGuuDOnNHbMtp0SEoRNAwrAR7sGTYdVaNu6cHRhDbcr9HM6eR5JnSCdMdkzIVa0kMuk-SVF8DW3xBytAFRV-vb5Zs8H6zON5yTP7txrMsek2ZURFrEgnwv86DHGW7N3iH_J=w1177-h532-no)"
   ]
  },
  {
   "cell_type": "markdown",
   "metadata": {},
   "source": [
    "# Data also include\n",
    "\n",
    "- Microfinance participation by individual, time\n",
    "\n",
    "- Number of households and their composition\n",
    "\n",
    "- Demographics: age, gender, subcaste, religion, profession, education level, family...\n",
    "\n",
    "- Wealth variables: latrine, number rooms, roof,\n",
    "\n",
    "- Self Help Gruop participation rate, ration card, voting\n",
    "\n",
    "- Caste: village fraction of \"higher castes\" "
   ]
  },
  {
   "cell_type": "markdown",
   "metadata": {},
   "source": [
    "# Standard Peer-effects analysis\n",
    "\n",
    "Let $p_i$ be prob i participates\n",
    "\n",
    "- $ log(p_i/(1-p_i))$\n",
    "\n",
    "= $b_0$\n",
    "\n",
    "$+b_{char}$ $characteristics_i$\n",
    "\n",
    "$+b_{Peer}$ $frac_i$ friends participate\n",
    "\n",
    "frac 0 to 1 increase $p_i/(1-p_i)$ by factor 12.2\n",
    "\n",
    "frac .1 to .3 increases $p_i/(1-p_i)$ by factor 1.65"
   ]
  },
  {
   "cell_type": "markdown",
   "metadata": {},
   "source": [
    "# Modeling behavior/information diffusion\n",
    "\n",
    "- Use network information for diffusion, not just who friends are:\n",
    " - People who hear about microfinance randomly pass to friends - diffusion in network\n",
    " \n",
    " - Once hear, decide whether to participate - friends might matter"
   ]
  },
  {
   "cell_type": "markdown",
   "metadata": {},
   "source": [
    "# Participation Decision\n",
    "\n",
    "- Once informed, make choice of whether to participate\n",
    "\n",
    "- Choice allowed to depend on personal characteristics and fraction of informed neighbors who participate\n",
    " - Complementarity?\n",
    " - Substitution?"
   ]
  },
  {
   "cell_type": "markdown",
   "metadata": {},
   "source": [
    "# Modeling behavior / information diffusion\n",
    "\n",
    "- Probability of passing to a given individual\n",
    " - $q^N$ if did Not participate\n",
    " - $q^p$ if did Participate"
   ]
  },
  {
   "cell_type": "markdown",
   "metadata": {},
   "source": [
    "![](https://lh3.googleusercontent.com/gzGWpaE6fCk3EgCDyjnRiSKlTFLfiJ0Ejndl9CbZylWM_e7JfDiLPbKtF-TCmIUuurU1niwhTfmshxD7zsph6rojvrxW0HXg23WXEyzQCc-QQRxe_dwMknKdWkb9NKZZgNJuoeGlZhhO40PrmxS9tfWen5vkj8HuIaRvDZkNOPkU5_kLiwVh-7P8GZjcOgkvh1jtKfueXyFB3EUtuBd9SAmMEYS6oBZlrTcB7r13WqYQEBv1a-ilyX8MfNHqFh9w_23N_N-brR6Wt0Dpm66uqcGlki0IxQiOjRUZhNLnfWusIL6PvZ0miQvGtArYjEDOHEeRDTIc8Jz0Ao0OZngSO_1dr95sganzrXdgRhhmegre1qHj78aywCuXAUrG5PSrqNtPdxgQjAxkl5MlvnILTNvawgxbFNjHIegynQ2_JNYWjAXenxgohC0PCburOBVkmeCDx96CRuuyJLYn5SrdVZqPA71aFID7__LDAJe2qpmszdjbgHaQYZLJTdNdJxz3cd77mR4i0V9ghsHDClHzT9gGQJpPhQSXgu52nFl-Cgj3hrhAAaE0VKNpzLaZHG94ILCbktMkINB1aD3SP6Vl0GqrLLTxj7NpyIyuo3frKnKjJ_2kJ5XwEHz2eeJ3EMrAwhENrZk4QYCrXpwChncB-D2Gcy09Do2cDQgkOkbmCQZpLQpg_Cvkqfnq=w1109-h647-no)\n",
    "\n",
    "![](https://lh3.googleusercontent.com/r4rg1XCL4SJnTCwk1bJpsB7nmRhUw9EXn7gbnh6rcrOSVpc7jiskvw_PVOn8nXyTUc_9M8Rvee7-gjw5qSGmHOFW1oUez30bEBqbuqRWhKqBU1MX2aIy2wmD0Is4aD09dddWhoWloy9DYpuQRWub1VYcApA6evCjbvgOkXVvzgIjPdxznaZI4UwaP1uFarmXaRes45EFg2y0qNyc-gxLgsFkOW4UM6HiZgtIuFeVRTOKQEnZssOAX_r0yI_jha8-Onlbs-SedDUrVfDpDgqlOvU_GovRQ1buNOi8QJYuuYWGqlYB3af1yjpOykDlE8Fl30A4dGXQQf9aWFfi0i1skg9JDyfW2mW72MMcYqsq2rMDINaRuyNRD-pKHVC0kM0oNC7EbnzYiQYMwqEYn8PzQxStW6bVpUjU929jZCckbV3ABjhv9XC3nZ9OSfxLKfalgUezAP4rKSRCsW-8_-oYU3DS91lkAs1WWTy2iYNl4Fqmx_F2HsEu9XwxDjBib0FPDX7CjTldrBeTLZPE41DPhBTZ-i_RcFidffFVMCWksczZb3U6i6sd_aX0rvEtsLPtWVyKdFloFC-EzhMS52IXNVkBH3wfDKC-CDP6yy7VR8zjPXzy8c310AaNJIdRb5P8xyjDrUls-WH9-Y2qshhBDHACy5DXklgZ8QYCDRJ9zLnHf-W6x3ahXrTX=w1142-h655-no)\n",
    "\n",
    "![](https://lh3.googleusercontent.com/zgBqeDJFhKGUfw_mGzhXzZY5inSYzcswQks2uw4IrTB4KlBmN2lsaECtKac18FOqm0w9jthczGOmgmy-p9V0hrkZeqm851YvF04MuEf8fBrQq4jpQhQpcshAmNoOx47EYWoR2RYAEAOTd2bPDFEHmHmPqGXiujX5YZ_9VW_nPdCPRtcWKAJ_6K0kWlVQToD2dfnBcEIPY6fQri1KkWG8pS2yixLuSkequ9zxBCzLmWq_SBN4CEy-Fu9MiMs_8aXoZFhQSVCKHsX9CEBBppPKQRpNjc5IOyPiZIJUstKeRgk1NZ01IxIMQC061HhOysKFKA__kcd4uzAvkbzpvgWWbmaWMo746T5CIxuxKBA8PJigWPe3SdrMBvJ0ltFKShArTIjbaUE9bkAx-62dNyjpFLu5CIMIvZlqArMMxx6rXuVjZLrktNUBes-ctmlirJiUyhoXNluku1ChqDR_XUJOWRY3LjBDxTAQGLhPGYB9QHJzXBbCbIEqJ37FpxeFcvOnikkjjIzOQ8S8IUMV0KKWnKTAjZmpKEGsosLEeQOC3tgk1ZJts9qxzDf6D7koJ43tRDtHGjPH3E-68Ga_HPAmmErC0rhowy5JtwpmcguQbk60DwWpEWQr1dFuIjfl08Emwsya7eruwGWZzWnn1t8PgltWvlR1BHhvSjPHTa2eL2_RsxkuhzCeoc0h=w1119-h646-no)\n",
    "\n",
    "![](https://lh3.googleusercontent.com/1r-fU-iiY5TcRKhS_oJVqHvDZLTll0IlHYcOSlwEP60s2ny3hug02B2F2kHeo99_hzAykJwFjnJ40JeocWM-ketCIIx_aKB_OdaIlsPGJKh7e6w92_8PhMRCnwi2liCLlq2skI31elUC1crl-zNnk1CR_gJ4mqfltJ11OGvkdUBVDn4Hc0YDfe_l2xkM6FpdZ76rr2n-rG0w96KBZG6wLapMnsiyrqpCtnH2dCA5t6zBWn50dXNkJrT0EWmnf45F_HWR-YXUq52EC_1LF64PeXIzPuSSTFXbBRaTNUN3kKbYddfm9DZnZ5bT6x5lt7q7x4xlU0xddn_hYD6kSBkb52fER1UG7cyi6-j9xhH2UFhhb_zu_9rB8FUXsfeBpQ2fdJTN2XbD-0wyz8ZouqK78VhI-toY0yU9ODLGbr7D7Z7Wxaty18XW1i8rZrDewmYEWLx0jkqUcd5pC5AM5CNwFy3f4qa-XGTnRW1ohYFMlxcYJRxgzQnEz4Vo59XCYhdrzvIWq43SirMdRzsSB5cVnLh3hDcwpqZuOcW6G37W4nNrk9gNiaoOz9_JdNlTRSytG9687v6x2RkVlqMuytPXIIKzoS-1mVvMNUdspuhsy0kSnJXm4JpKjHQgPmMFV6LkJR8OyVTNSzjS5DFynRXFR6ElBbiPmGHyDdpo3Jw5J1PmdUjqIojWUwlB=w1117-h624-no)\n",
    "\n",
    "![](https://lh3.googleusercontent.com/QienQEbL4T2GxY4cl5JZUwu6hSEUxCBtwS4CwoF8WOavgHKNVq3Q4NZwKeERYVIX8J7luX4hUMC3-tk47jRWJQUHOWA7JPxN_I8eji7dSKFfGh2W9H7XXFQT8zRiNhdATVF5DXKWq5WSpWZuduJN6mr2KZm4Ga3zwmziW3PJ4Z7Dlw2LKSU0uxL7Obd6kR6rellSbtL8GMtZGytair-PvID11EGKCFZ9tqwpu7ca4DVZ_3dWLd9jBg5Ydg4NDKmSy_btd7q6B-L6QFZWbx18pwTEqc13NAzAMSEjCg4OLlVj8vFhnTMcoUKITTGPx95gxY8PYKOpDYlyZ5J7RoVy5C89qd9kU5BSoo0bQmcIskBu7WzS4L89J11pdncVJudWQoeLx8RhZDvTmuEl50iQjDKhBW5jBh9GlaG7c4fqvfpdFQUXIPmEHY8UjLKTSjDK-CvXQ2P-mZuTApThDIUFdkPewflocRnz4R59EZ9ChwE3prISAoTxDFiu2WFNGFhfnWzGWzI0FNduiNsgcmq9maiVVwPkT_vq4moXpBWWm1iQlWHsBZTjOVe21dknzppYwk2gKizH6lCmGmRU2BW3QIVMQadXqsLnJ559AaR8SgZa0Hv3UmE8rVG9NF3xDTqaAamkCsC67e7u0wn5IpNCWid-xLxCURQUEVOiC2i38d3ACQYQWJSQjj-w=w1110-h657-no)"
   ]
  },
  {
   "attachments": {},
   "cell_type": "markdown",
   "metadata": {},
   "source": [
    "# Estimation technique\n",
    "\n",
    "- Estimate $b_0, b_{char}$ from initially informed (saves on computation size of grid)\n",
    "\n",
    "- $q^N, q^P, b_{peer}$ - For each choice of parameters, simulate on the actual networks of the villages for time period proportional to number of trimesters in data for village (3 to 8 times)\n",
    "\n",
    "- Choose parameters to best match simulated participation rates and various moments to observed moments(GMM)\n",
    "\n",
    "![](https://lh3.googleusercontent.com/XIBkAOwidBZWvLGfksDhuwr0DoGWaT4UU2AxwC1zfiKje83uBckwYWlg-VDOv6FKVcweafnfe0sYDDuwm0CGuzGfZ0wah-vscKbRCUI4BSXViZvxrQzzGvXc9T_hpBgMUx6dwl7ih48dxRicjobn84UqGwga6PVosYbuNMXMMbBo97WaJ8JGHlmo1iEEhCZCoGKfvaa3aq7usIZYH7R3wajXeDNwXq_kD3VBr_Xfm4Y4COFJfa1OXS8z8rib4l4ZFi_p3K9_L7jl5G5ygH87CuzAFnxTDZmMGRpDsYM3ybXcmbpQXawlHfqgevqtAAE2Qu7bEFBwRYBMqd17GInaFJz09_3QJ6DCwsmFd7gnXq7WasuKlo8OjpWTwwuOjNhkHtEt7J0CQ9PpwSv3gRpjUnn8dHt0bHw60HTcLx82TX9so9oB3Lprm88lzejgNJQvzwAo1yQyu6XB1iM0HhPdBPQixE-ZLEatMNjYXQBBnwp9gh5wGBi3gPO2sGW2zr_UAwYfacbwu0Gs-VCHYcOLqXNt9eRxRu4EI5shfmNNapu6lIziKMZHWV2j8P449X-vqc4Gkga93fEC_93QvuafFDzsuCU3NpRIsZfXoJ-iwmOaTdUi2a-0PooJIrSC9DFbjXfvt737kiCIfzCCL3My64LV_UyJBtwG187QjLQvEiNsrrtupTw6VFLv=w598-h342-no)\n",
    "\n",
    "![](https://lh3.googleusercontent.com/ILNrlSK4aFw25xlTnqt0aVw5SN4HV7nJWxVyyrD6A1tG2SWkrIuNKYZaziVMkunlu4tECirQ4cT8-8msp6i3HtO2HKnIMl_aWgrE5ju9AFxBICd4Ni_UHTI8H4zwopib-ofogo90wlM7LboZxhs3xItBOAAf6GUiZ3P8BX72wjHRaTkhU2uY-KgxEFYQbIXPqRqkXJ3SjY1o3FN7WDPl8FYeAdfXIH1p7U5Huji6wYa5kAimyoSG-P-ULOK4OZ6zHRaF9Z4RlbZ-RtzGMaZfiasz3l-HZKT82n0GnlaGGIV1DDMhbAjzmJNDi8HGUCh-V_SsG8mgvOUC-9he-i14hXXhmvEDaBXHIdyfr9tftMCqARTPm5Nowai1mhUXJ0fmsNTiPtPhq30GjQb4OE4jlPjLBJVfm0K3bK5WFXuXhQododiF36qHE3cDy8nTUJMJ44-C9c1DHhzKkd6xiwFdrVirHy-Qd5-TgDIQEWd0wYpSSNVclw7MVr6X1JERAyKwapqv-N5lbFNzJH8guROG7r4RAbEK3E75PWWgwMpgSkQ-V1y8plpW01nPltvO45RVGNWNJ-f7pnaxagqarpOHPPiyg9qrhGsHvr4rFgo2ihWMbWJa3-bEaJGw5lFCalzV16jgpKBmuhNGgLaU61_zZsc7XcJ0tccIO41XpVnuoWow-jQaIXeUVvRl=w712-h405-no)\n",
    "\n",
    "![](https://lh3.googleusercontent.com/qcaBGMA81rEABcP-NHN5MoprYK1njaNTBDOVGSs1j3VptcspPon_VJlRWrx7m7MKMvPtYCPayKTwR6Pf_JItICEcuU9zvxYMHR9zIxHmfK-OPDvqkCVgfyuWfVUaryasY4tBUHUSuXG7_7biRbNi0zQWlOrHZaDbHiB5K7TBPc8J_hWhFMNERE40LQJWlhxRZs8vf7skLrAYgLUVxO106kWtPU5QuMm5RXjVgEuvUs63t522CNCTm3oCDXSF3QV2wZnBsxe4ppSWATJWmL1J1UqykUsYgYW9u4jEWZze5727pW4COkUBrl4PnrT2fwCmGq5k6YyrBPWAl_GapJDhU8M5d3wOGTMxy5wLJYeRp-0C7Q721vEC8xhXbifs6Gx3acN5NZDEvgsKLQEgdLc_BdrKLWgwi71ck7UX_W5fmaILFX92weyOodrKArmNn8qcMU8Oz9LfQJVUSK8LMBS34QQQCrFtKxf2iJQy6dur4UxBf64c9QAkh2eZLUU6rrjL-tPF4Tb4ykroQ38JcegZC41QIHevcuEGYt_AtxuudEqKpRnE7Z3SFTH0NpjjojnnbWE_uqvvrHzDZRnCsoo22_N7ysejzUN2RlWGKJMXLOOnO5eKoTmHKezGkDBvsuD632gnQ67vNTLru48H52iMowH5mM7XiPYQ-a9XUGgS-G7k6hwfdVxLS18R=w1208-h411-no)\n",
    "\n",
    "![](https://lh3.googleusercontent.com/_Jgvk1HsKA3LVuVq4ZBfKOSHHmne1q45yAdZ-j2roFhv7gYBX1ZsMsJ0ezNcq_0EECfChcxVmzg3CgDbE7fD-7qg9kEeQDZbFp51iYhF2mMqVTiURpDF6iWWWFyPc2WtKbCAyDmS7brb4_DV-HqlqTyWxC9i0g64OisRxYQbLjg1PE7uRKBeLkiwCfFVRlM6k-sD7NVssC8NDZ20S_SIkrSAgyi-Rx85xKpSaE_6G_Nq-kUq6nqlmnqi6EQwq3a8KP3YkYq7PdkomMUbdbM9avKY6U0lRe0q6x1EXnhF7ZR7xq-URNVQn4yD3nui35DkR8orNLyUUwIEIYhZddCqY7735q-6YZXDrg69eqhimijXNgKvWTUiqTYrYReh89QWJao51X4OzKHpqpJqaG4nYWd1FSYnF2DA7Fot7dNxmx1oBAiTEFutL92Wiv0fnD6NEXN2_XitLUARHeowfTxVe_LhFmNft2x21YJhd1WgIYSangdcIG75dolwcquTHz-yJPAy0e-3sZ6fpM7ERdkdQn-XYBN_XPcpOiGfR4xqvvI9Pcpaao4bWpg1Mz1sup3qnPcCc747iJeN_JlPA-Xedvj7Y_FhrhV8USQP0TaTxJW4ma-wnA4ahq_jjoWEzCZMlVTik5tsM5zjhn25QUvNeS-2qY1yGKtI9CIvpbwM7MQwj68QGDD5leTD=w1198-h538-no)"
   ]
  },
  {
   "cell_type": "markdown",
   "metadata": {},
   "source": [
    "# Network Effects\n",
    "\n",
    "- Significant information passing parameters\n",
    "\n",
    "- Information passing depends on whether participate: more likely if participate\n",
    "\n",
    "- Slight complementarities, but insignificant"
   ]
  },
  {
   "cell_type": "markdown",
   "metadata": {},
   "source": [
    "# Information Passing\n",
    "\n",
    "- What fraction of eventual informed agents are accounted for by information passing of non-participants?\n",
    "\n",
    "- Hold all else constant, but return the model with $q^N = 0$\n",
    "\n",
    "- See what happens to information and participation rates"
   ]
  },
  {
   "cell_type": "markdown",
   "metadata": {},
   "source": [
    "# Results from fitting Models of Diffusion\n",
    "\n",
    "- Significant information passing parameters\n",
    "\n",
    "- Insignificant, limited Peer Effects\n",
    "\n",
    "- Information passing depends on whether participate: more likely if participate\n",
    "\n",
    "- Nonparticipants play a substantial role(1/3 of total)"
   ]
  },
  {
   "cell_type": "markdown",
   "metadata": {},
   "source": [
    "# Conclusions\n",
    "\n",
    "- Models of diffusion can help us disentangle effects\n",
    "\n",
    "- Important for policy\n",
    " - Enhance information sreading?\n",
    " - Help overcome/enhance peer influences\n",
    " \n",
    "- Relate back to network structure\n",
    " - homophily\n",
    " - degree distribution, clustering..."
   ]
  },
  {
   "cell_type": "code",
   "execution_count": null,
   "metadata": {},
   "outputs": [],
   "source": []
  }
 ],
 "metadata": {
  "kernelspec": {
   "display_name": "Julia 0.6.4",
   "language": "julia",
   "name": "julia-0.6"
  },
  "language_info": {
   "file_extension": ".jl",
   "mimetype": "application/julia",
   "name": "julia",
   "version": "0.6.4"
  }
 },
 "nbformat": 4,
 "nbformat_minor": 2
}
