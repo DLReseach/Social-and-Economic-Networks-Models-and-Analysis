{
 "cells": [
  {
   "cell_type": "markdown",
   "metadata": {},
   "source": [
    "# Calculating the Size of the Giant Component\n",
    "\n",
    "- **q** is fraction of nodes in largest component\n",
    "\n",
    "- look at any node: chance it is in the giant component is **q**\n",
    "\n",
    "- chance that this node is outside of the giant component is the chance that all of its neighbors are outside of the giant component\n",
    "\n",
    "- Probability that a node is outside of the giant component = 1-q\n",
    " - = probability that all of its neighbors are outside\n",
    " - = $(1-q)^d$ where d is the node's degree"
   ]
  },
  {
   "cell_type": "markdown",
   "metadata": {},
   "source": [
    "# Giant Component Size\n",
    "\n",
    "- Probability 1-q that a node is outside of the giant component is:\n",
    " - $1-q = \\sum_d (1-q)^dP(d)$\n",
    " - where P(d) is the chance that the node has d neighbors\n",
    " \n",
    "- Solve fo q...\n",
    "\n",
    "It's a heuristic calculation because I'm not worrying about correlations and some of these variables I'm treating this as if they're independent. They're not quite independent. You can do a more exact calculation using generating functions. There's some of that in the book, but this will give us a fairly good approximation and work fairly well especially on large networks\n",
    "\n",
    "![](https://lh3.googleusercontent.com/Ia20KvqSbe-070iZPTvhTB0r_j3DU603QybZhLIqtvc08LLYUcOa1DwXgGXp3STl0a4xvzU1vXWfyTK1J2WxZGjxMmrCVUYzxf12I2Q0AwgHv-HvSESruHiW9V0Jpll7dhmelX7PHKbi4ivU6cpZS_57RIqODgoPChYMZUgofQ7eAJxV8gpK6kBJPxD7gkwFSujmbFuGL7GfVQr5PUK8zWUGVzp9tNFWY5Fmn0iNIMP9zoppdU8ipw6aHbCbdj_fahgDo1tTIoTxsdy_66QfZEkMWW5ViIpReX06REBEUsWbBMWtcxN9AERRMwlhW90JdwOnYEBWv_3NzddGevDPRhjI7LT9d2piU0KSLZBHtPOHTnKBfgwF03lKISFVnPEhOZmV61gqR2KVgr0MvH0hReknxR0eskZjldD4qN-xf8A72y9kZgTJr3gJcLoVMbvilCFWvMCUnWQT82v0YkG7jD5WeOEVAN2PCopQbthKyT3nUVvvG04p1hqKzx0vl1K1MrYX-_Xnu_vVyK7VHbAun3NLznyHvR-2hIQjznSd5M0EyGwUtFsxw13NtB3SJuqnDFQpxUgivJanM80qSSqEAK8a4KTZBnieGX0TrC0N3VmKAaHZQAV-c91kbHYYjEtzeMon1Yb2gkTjGS1gZutS2LVgzMFC6jekuoujIarB8Ph4rdBm0lUtXnJd=w648-h418-no)"
   ]
  },
  {
   "cell_type": "markdown",
   "metadata": {},
   "source": [
    "## Example\n",
    "![](https://lh3.googleusercontent.com/DmLLgujXjTNRI0_msXgaCcMBUfxux9t-Tokzd6mqiy_CuYY8dD_cC9R8DoJ_hktweIFJ7ETLlc6PMFKq29MQHkNcE9dlMzLE3Jo0a4rBqhff-ucifb75iTRIRsUxFzYAg-dbPnMUBELJRunrj4SohV2FxXPW0v7zgXyM-eAtx9jVp-ZhndSyGV7xqSR6rR6LjlyTz3tq8s2M2Tnxor10NMrfE4g7F7QcrzP9NVDX7m3C4RF_jr5wYrlVvPlv-OFcNq-9LC8MiWqd189kXLj_O4JaqpU-K9B2CSToHthalvx8WNamVYYJG-vFjlFzpyXZiHrTLwYIA3OWPJuIYfxKZ7zV39mLiEulNg0JWj9jtq7RZZnkZ6HitTySGg2yJOdLFqiwpEl2wVKu3DmnkWGKYijKwezzEP1zxmqFvbO95eS5EadvhX0_dgYTx0BXJpzWLHmS_VtMoPQpNasr0-agZ16XXsFlElnIWQLnmWSbVGcJdsXtsH8lrJQRKsFRPuI2QmytWMd7OX6qunbhr6lwt8Ks0RUPW0v4m_7bJEVlEy9HU3N4uIAGDzqDW9m7rI7exOmWcu6XvvtCVC7cHmuvGJIXHMlbeCoVisXceNb-THw3GgXJiV3_nPTFFtrijynkctGUzh5ywrOz9ghT-1YWXjUBXaeqta5gftE_sIombIyoR-3NpEqDDatl=w750-h363-no)"
   ]
  },
  {
   "cell_type": "markdown",
   "metadata": {},
   "source": [
    "# Giant Component Size: Poission Case\n",
    "Solve $1-q = \\sum_d(1-q)^dP(d)$\n",
    "\n",
    "plug in a poisson distribution for PFD: $P(d) = [(n-1)^d/d!]p^d e^{-(n-1)p}$\n",
    "\n",
    "so $1-q = e^{-(n-1)p} \\sum_d[(1-q)(n-1)p]^d/d!$"
   ]
  },
  {
   "cell_type": "markdown",
   "metadata": {},
   "source": [
    "## Useful Approximations\n",
    "\n",
    "Taylor series approximation:\n",
    "\n",
    "$e^x = 1 + x + \\frac{x^2}{2!} + \\frac{x^3}{3!}...$\n",
    "\n",
    "$= \\sum \\frac{x^d}{d!}$\n",
    "\n",
    "$[f(x) = f(a) + \\frac{f'(a)(x-a)}{1!} + \\frac{f''(a)(x-a)^2}{2!}...]$\n",
    "\n",
    "so $1-q = e^{-(n-1)p} \\sum_d[(1-q)(n-1)p]^d/d!$\n",
    "\n",
    "$= e^{-(n-1)p}e^{(n-1)p(1-q)}$\n",
    "\n",
    "$= e^{-q(n-1)p}$\n",
    "\n",
    "$(n-1)p$ is the expected degree, p is the probability of any link\n",
    "\n",
    "so $1-q = e^{-qE(d)}$\n",
    "\n",
    "or $-\\frac{log(1-q)}{q} = (n-1)p = E[d]$"
   ]
  },
  {
   "cell_type": "markdown",
   "metadata": {},
   "source": [
    "![](https://lh3.googleusercontent.com/MmLf3BYiuDgM1N4eWamAch92ZkO7jBUCWgYZOd12GR7xDv6ioUMTVaTC1Us5qjO04-_VgPfcyG71ST9_A-z6aWrANnudMV9cXI-RJKlEAZZmExsdffslBWaW4aaGvv6Vk33PWwBtp1LLiEWkz8ImDuGRWGyN-1YX_7pfkXeTtgeIB9fPkutogLp6sLndhu7V2Od_Zz-fgCM05x-H6PK8sUtHaa8R25D9QRT6Le_dpgm6PzEZZgrItYXSAac5sofashcCk0YM_Hwbdkeiq3IfiZRgjpPrOLD_2hj-Syi6Ke8vjWXDo0tKnYp8lC9axWAKfnGZQYQpgbcjZwmILhmuRZMWNKsQRfeudyR0-Y0XtYyjI_zGRO7n3MoXHZfKTz8OkemqmEQ8aag1mrIGnR6PcNs720oeL0L7ssPRoQ-P1AdYf3BC7GUABqt3-ffaOPTwLVcrhhFB6R1fU7rvF9USX1TTNzh-2qPdYTACnKNvfRf3eQHWgax9i6JYjfKJeLlUrMSxVYZQhB7R9FABepjaKB5TGjmUL4kgbAKCuiIBEO9gxY7zg8NKETS_QWUOR90lE-w6WQnwiy_t572OgL3fpq8rQsfKSVuwyptVlTkkJZaVsRfE4LLhcNm-lDQ4nXLKugIhJf5IliO-40Xcc5nZxRKKmdryMnEiGKqWlFd347y5jAYH6LMmw7ry=w669-h363-no)\n",
    "\n",
    "We get these Tyche phase transitions, so if expected neighbors less than \"1\" expected interactions that would transmit a diffusion of less than \"1\", we don't get diffusion. Once you hit one we get a diffusion and then it grows fairly rapidly and by the time you have three interactions then we're already to the point where you're very likely to hit most of the population. So if you remember in our promo video I said tell at least two friends. Well, if you tell just one friend about this then we don't get much diffusion. Two friends is at least enough to start pushing us fairly far along this. And you get to three friends and you're most of the way there. \n",
    "\n",
    "So just in terms of giant component size here we are. We see that there's a fairly tight transition from having no giant component to having almost everybody being connected and so most of the play is in this one region. And indeed when people study epidemiology there's this idea that having at least one contact that's going to transmit something if people are doing more than one you're going to get diffusion or contagions and if people are having less than one transmission then things are going to die out. And that makes perfect sense. You need at least, you know, more than one and it's growing, fewer than one and it's shrinking. That's the critical point. And then here we find that it actually transitions very rapidly so that by the time you've got three interactions that are likely to lead to contagion then our diffusion is quite extensive."
   ]
  },
  {
   "cell_type": "markdown",
   "metadata": {},
   "source": [
    "# Who is infected?\n",
    "\n",
    "- Probability of being in the giant component\n",
    "\n",
    "- $1-(1-q)^d$ increasing in d\n",
    "\n",
    "- More connected, more likely to be infected\n",
    "\n",
    "(more likely to infected at any point in time...)"
   ]
  },
  {
   "cell_type": "markdown",
   "metadata": {},
   "source": [
    "# Extensions:\n",
    "\n",
    "- **Immunity**: delete a fraction of nodes and study the giant component on remaining nodes\n",
    "\n",
    "- **Probabilistic infection**\n",
    " - Random infection: have some links fail, just lower p"
   ]
  },
  {
   "cell_type": "markdown",
   "metadata": {},
   "source": [
    "# Contagion with Immunity and Link Failure\n",
    "\n",
    "- Some node is initially exposed to infection\n",
    "\n",
    "- $\\pi$ of the nodes are immune naturally\n",
    "\n",
    "- only some links result in contagion - fraction f\n",
    "\n",
    "- What is the extent of the infection?\n",
    "\n",
    "\n",
    "\n",
    "- Consider a random network on n nodes\n",
    "\n",
    "- Delete fraction $\\pi$ of the nodes\n",
    "\n",
    "- Delete fraction f of the links\n",
    "\n",
    "- If starts at a node in giant component of the remaining network, then the giant component of that network is the extent of the infection; otherwise negligible\n",
    "\n",
    "\n",
    "- Let q be the fraction of nodes of the remaining network in its giant component\n",
    "\n",
    "- $q(1-\\pi)$ is the probability of a nontrivial contagion\n",
    "\n",
    "- Conditional on a contagion it infects $q(1-\\pi)$ of the original nodes\n",
    "\n",
    "- q solves $-log(1-q)/q = (n-1)p(1-\\pi)f$\n",
    " - some of those neighbors are immune and then also scaling down by the \"f\", so need to take these two modulations into effect\n",
    " \n",
    "![](https://lh3.googleusercontent.com/nMvPvUvGGZ6whBd6nbk5XS0DvuptDATPE8gMGtsA0gxfcQ-zi9NOwXnavqla1Upmy3g62bMFQujd3u_pcR0XLx1UuRdyj4h0lenPYoagSGX4BeHvfMv05LHAaB5pGjbb5ReBGv6dQ7Vft6Kt8RlRUMwds42LBIF2YgFEL2D7opw-nf3BpSFfRbkrC0sKuswGDcD3BklxOwrkPgOIN7w4gEOUIiqnGQN5WtyTucTrNruyfFCHteWgsLTI5EDcSYUcp1UJZs6W60UtzhFSWXoc7GfPMXa-ziBKztuvbaDGfA5yZt0XLl7mdSKrCPJ7PZTEsm07UBjBHCRJkQAX0w9kDZPZidQbFDPGOm9p7yadZ0D3T-iMOrt_6MXZo4TtnIwcJFXlnWjz8jz3nGM4KnalznR3Lc9yM2WJshZ9XgY6RlZhT_L4UoKg2gzidufM1izO7LTSlZE_POmONHf6xWdowZY8xSUBOdZqTuj54263MHeJnP1NyUgmQ2aDY39coqVKoCG-2eMpMz8SmxMiJXHmd9RFeYiOrXiAzhCyNsObel0B5IsJArmcxotZFdh0As1bC5jKBooCG2-8eQPc4W2bSmUg-KkH5oExniUsL7D_uGSqIbTHG8VrNuct9I8h9DCREVsw1Lveetnh7KHae08aLblnEeiE51gOjOuiESyNAHPvWifTgXNcCDpE=w447-h342-no)"
   ]
  },
  {
   "cell_type": "markdown",
   "metadata": {},
   "source": [
    "# Implications\n",
    "\n",
    "- Infection can fail if $\\pi$ is high enough or f or p are low enough\n",
    "\n",
    "- High $\\pi$ - immunization, low virulence\n",
    "\n",
    "- Low f - low contagiousness\n",
    "\n",
    "- Low p - low contact among population"
   ]
  }
 ],
 "metadata": {
  "kernelspec": {
   "display_name": "Julia 0.6.4",
   "language": "julia",
   "name": "julia-0.6"
  },
  "language_info": {
   "file_extension": ".jl",
   "mimetype": "application/julia",
   "name": "julia",
   "version": "0.6.4"
  }
 },
 "nbformat": 4,
 "nbformat_minor": 2
}
