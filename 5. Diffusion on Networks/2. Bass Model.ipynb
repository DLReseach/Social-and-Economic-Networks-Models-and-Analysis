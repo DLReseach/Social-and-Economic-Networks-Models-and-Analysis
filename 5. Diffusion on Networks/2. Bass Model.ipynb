{
 "cells": [
  {
   "cell_type": "markdown",
   "metadata": {},
   "source": [
    "One thing about the Bass Model is networks are not going to make on explicit appearance, we'll enrich the analysis by bringing interaction structure in explicitly, and try to understand how things diffuse over time."
   ]
  },
  {
   "cell_type": "markdown",
   "metadata": {},
   "source": [
    "# Bass Model\n",
    "\n",
    "- A benchmark model with no explicit social structure\n",
    "\n",
    "- Two actions/states/behaviors 0 and 1\n",
    "\n",
    "- F(t) fraction of the population who have adopted action 1 at time t\n",
    "\n",
    "- **p**: rate of spontaneous innovation/adoption\n",
    " - that's going to be a rate that's independent of what else is going on in the economy or the world or the society. So some people will just go and decide to see a movie regardless of what's going on, or they will adopt corn, regardless of whether other people are doing it, or they've heard about it. \n",
    "\n",
    "- **q**: rate of imitation of adoption\n",
    " - And there's some other individuals who will actually do it as a function of having heard about it, or somehow imitated other individuals who were doint it.\n",
    "\n",
    "- $dF(t)/dt = (p + q F(t))(1 - F(t))$\n",
    " - $(1 - F(t))$ are the people who have not yet adopted yet moved to \"1\", so they haven't become a \"1\" yet so they're still \"0\". So $(1 - F(t))$ are the people who are still \"0\" and can possibly change. And then the fraction of those people change directly spontaneously, that's the \"p\". And the others change by imitating the existing population. So you have a chance of just spontaneously deciding to become a \"1\", or you also have a chance of imitating somebody in the population and that's proportional to how many in the population are already \"1\", so this \"q\" parameter says that you have some rate of imitation\n",
    " \n",
    "- $F(t) = (1 - e^{-(p+q)t}) / (1 + pe^{-(p+q)t}/q)$\n",
    " - So higher p and q are going to lead to faster diffusion, so more people adopting by any particular time, lower "
   ]
  },
  {
   "cell_type": "markdown",
   "metadata": {},
   "source": [
    "# Getting the S-shape\n",
    "- Gives S-shape (if q > p) and tends to \"1\" in the limit as t becomes large\n",
    "\n",
    "- Initially only \"p\" matters, then \"q\" takes over\n",
    "\n",
    "- Eventually change slows as F(t) approaches 1\n",
    " \n",
    "$$dF(t)/dt = (p + q F(t))(1 - F(t))$$ \n",
    "- when F(t) nears 1, $dF(t)/dt = 0$\n",
    "\n",
    "- when F(t) = 0, $dF(t)/dt = p$\n",
    "\n",
    "- when F(t) = $\\epsilon$, $dF(t)/dt = (p + q\\epsilon)(1 - \\epsilon)$\n",
    "\n",
    "- to get initial convexity: need $(p + q\\epsilon)(1 - \\epsilon) > p$\n",
    "\n",
    "- $q(1 - \\epsilon) > p $, so initially need $q > p$\n",
    "\n",
    "\n",
    "![](https://lh3.googleusercontent.com/sqcNWWP2d3eMvxkFTTj3YqZf9Nxmybb4zixbWvBWLZNmMQI0FZLcE6K2_3jvSEnZiUow-Ir4PVF0UveVWWUxJuAkGe9zSTR4KNiOz55OCWCVh2us30GHgVbpE7Boq5WuV5A6PaonGfQHfZi4xDc8RGUIxgqQ9rRNWbBmLAJPkJT8hUjI3spVh2p_872m1NWEduKeGqLoMEF6ACG2xUESvQGLFjFjer_PZaGw23nd-TQIDGXcbTr7O_ZdFUASc2vaDx8KgY178V_IyrLstAWOE_44Vn1EkZ9OCK45ODCPygDB-LRpfJDkET1IIJ1TyCCuPl6GMRMiumsP0VULy89Yl0QkBifvz5bCctOwgU7sqANcdNrZFsZ3jQdGM66AF-22wteyjmQyTs3Y-bBKVclHEH8cGxbFk7WtYSxCcNErufDgDzJU7KJoWReRmCxx7kv4LVFFrZfvJ1e0UnR7_0NOTStYnLZPflwrtmjeiaUFSY0bERQa3gKg9Sf2QzfEDgaFwRhVMNVynbflDmFUH7tavWIMXo2YlU8ERlxBMPXjac0hDpECjrUQb72t7JNUv2Esx6h_TbgC_3QXuXd9JD-1UuIlln5UXA1YZ-c66lxd-DVifn0FTw__q6kxHXKdQyN9M6xrk7A368ltzda4h1bIeVHszrsxxLy5nc3qfPM-0IlblUpCGPzQWfy5=w431-h293-no)"
   ]
  },
  {
   "cell_type": "markdown",
   "metadata": {},
   "source": [
    "# Next: Beyond Bass - Component Structure\n",
    "- Reach of diffusion is bounded by the component structure\n",
    "\n",
    "- Some players or nodes are immune\n",
    "\n",
    "- Some links fail to transmit...\n",
    "\n",
    "- Answers questions of when get diffusion, and its extent (neither answered by simple Bass)\n",
    "\n"
   ]
  },
  {
   "cell_type": "code",
   "execution_count": null,
   "metadata": {},
   "outputs": [],
   "source": []
  }
 ],
 "metadata": {
  "kernelspec": {
   "display_name": "Julia 0.6.4",
   "language": "julia",
   "name": "julia-0.6"
  },
  "language_info": {
   "file_extension": ".jl",
   "mimetype": "application/julia",
   "name": "julia",
   "version": "0.6.4"
  }
 },
 "nbformat": 4,
 "nbformat_minor": 2
}
