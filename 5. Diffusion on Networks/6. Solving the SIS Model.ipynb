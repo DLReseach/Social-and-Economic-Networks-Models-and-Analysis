{
 "cells": [
  {
   "cell_type": "markdown",
   "metadata": {},
   "source": [
    "# Solving\n",
    "- Steady state infection rate of people you meet is the solution to\n",
    " - $\\theta = H(\\theta) = \\sum_d \\frac{P(d)\\lambda \\theta d^2}{[(\\lambda \\theta d + 1)E[d]]}$\n",
    " \n",
    "- What can we say about how this depends on the \"network structure\"?\n",
    "\n",
    "- How does infection rate $\\theta$ depend on P(d), E(d)?\n",
    "\n",
    "![](https://lh3.googleusercontent.com/d6iEyEM4IfNNWGugt-qcnZO6aLyPlmtroZhUBS0Ia7QJRYZQ5TK4MD6qATuqZaNEsxxcrQGNVMkxUgLWHUWyHMPO7xpOk7Q89uNQpZsUCAbWnlzxtufVbDEhIS7ZyO0449Rdf12tGo7bQcZAB8GWeewhf95iCRg_o97NJVsuh1Q6gQwEmL-Mcd0CsFNBt--Ec97O-2SRodkIa25Mu_icV-vgn7Jm-F05Ell0zleRYVuqd4qhBkBcSCxm2xxIRehijB7bquWQPskz1wFYshVjVKccaBS7wAPvN4xakpnNGN8VptffjROfZIKh7rfDdMIYjrP8Np1xjhxUUjEWBL_4RHgedl06a9KguKUfNE_qFNJtDazmHyJ_YrPESHWTFNhSwZfuNMaMs_y-yzboYequBQCbtecU8m_LWvPuIo3-kP7I9-4jIg9IaoghRUmDfvL0gF2tduepa0k5jB8ggBa_OLUXx2wQ002qptMldPFNTjd_-IADb6u_7EopBeCz9CHXoTrgatT09oDOJy-kBs_VPMiSeTp25tkks1Z20KxYybHl9_HuyG60VWLED98wCgapw4msNmfjTAq0IC1dBBPQxNrOyyuAdoFh0h2T_ZO3JEn5qIrrpjMQvDl-_iJuZ1ZtFitL_mjjHti67SyQf8n-qahTZk-dzJFTbcQ6rxHfNAApc6gJ4w_w9hT2=w479-h297-no)"
   ]
  },
  {
   "cell_type": "markdown",
   "metadata": {},
   "source": [
    "# Properties of H\n",
    "- $H(\\theta) = \\sum_d \\frac{P(d)\\lambda \\theta d^2}{[(\\lambda \\theta d + 1)E[d]]}$\n",
    "\n",
    "- $H'(\\theta) = \\sum_d \\frac{P(d)\\lambda d^2}{[(\\lambda \\theta d + 1)^2 E[d]]} > 0$\n",
    " - **so H is increasing**\n",
    " \n",
    "- $H''(\\theta) = -2\\sum_d \\frac{P(d)\\lambda^2 d^3}{[(\\lambda \\theta d + 1)^3 E[d]]} < 0$\n",
    " - **so H is strictly Concave**"
   ]
  },
  {
   "cell_type": "markdown",
   "metadata": {},
   "source": [
    "# Nonzero Steady State: Lopez-Pintado (08)\n",
    "\n",
    "- Look at $H'(0)$:\n",
    "\n",
    "$H'(0) = \\sum_d P(d)\\lambda d^2/E[d]$\n",
    "\n",
    "$= \\lambda E[d^2]/E[d]$\n",
    "\n",
    "(recall $\\lambda = v/\\delta$)"
   ]
  },
  {
   "cell_type": "markdown",
   "metadata": {},
   "source": [
    "# Theorem: Conditions for Steady State of Mean-Field SIS Process\n",
    "\n",
    "Based on the picture, there exists a nonzero steady-state, $H'(0)>1$, if and only if:\n",
    "\n",
    "$\\lambda > E[d]/E[d^2]$\n",
    "\n",
    "So need infection/recovery rate to be high enough relative to average degree divided by second moment (roughly variance)\n",
    "\n",
    "The interesting thing here is increasing the variance, if you do mean-preserving spread, that makes it easier to satisfy this equation. So in a situation where we keep $E[d]$ constant and increase $E[d^2]$, then we're going to be in a situation where basically, what we're doing is spreading out the degrees, but that makes higher degree nodes, which are going to serve as hubs and be conduits for infection and that aids in the spread of the infection, and allows us to have a steady state that's non-zero."
   ]
  },
  {
   "cell_type": "markdown",
   "metadata": {},
   "source": [
    "# Conditions for Steady State\n",
    "\n",
    "- If $\\lambda > E[d]/E[d^2]$ have a nonzero steady state\n",
    "\n",
    "- In a **regular network**, need $\\lambda > 1/E[d]$\n",
    "\n",
    "- In a **E-R network**, need $\\lambda > 1/(1+E[d])$\n",
    "\n",
    "- In a **power-law network**, $E[d^2]$ diverges - always have a nonzero steady state\n",
    " - density function: $f(d) = c d^{-\\gamma}$, then $E[d^2]$ will actually becomes infinite\n",
    " - basiccally what we find is the presence of hub kinds of nodes helps substantially in sustaining non-zero steady states."
   ]
  },
  {
   "cell_type": "markdown",
   "metadata": {},
   "source": [
    "# Ideas\n",
    "- High degree nodes are more prone to infection\n",
    "\n",
    "- they serve as conduits\n",
    "\n",
    "- Higher variance allows more much nodes, and that enables infection, and we see that directly in the theorem."
   ]
  },
  {
   "cell_type": "code",
   "execution_count": null,
   "metadata": {},
   "outputs": [],
   "source": []
  }
 ],
 "metadata": {
  "kernelspec": {
   "display_name": "Julia 0.6.4",
   "language": "julia",
   "name": "julia-0.6"
  },
  "language_info": {
   "file_extension": ".jl",
   "mimetype": "application/julia",
   "name": "julia",
   "version": "0.6.4"
  }
 },
 "nbformat": 4,
 "nbformat_minor": 2
}
