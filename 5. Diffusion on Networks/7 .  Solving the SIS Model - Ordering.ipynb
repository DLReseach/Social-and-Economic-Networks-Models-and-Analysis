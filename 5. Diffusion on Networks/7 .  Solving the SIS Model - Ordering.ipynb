{
 "cells": [
  {
   "cell_type": "markdown",
   "metadata": {},
   "source": [
    "# Solving for the Positive Steady State when it Exists\n",
    "\n",
    "$\\theta = \\sum P(d) \\frac{\\lambda \\theta d^2}{[\\lambda \\theta d + 1)E[d]]}$\n",
    "\n",
    "$1 = \\sum P(d) \\frac{\\lambda d^2}{[\\lambda \\theta d + 1)E[d]]}$\n",
    "\n",
    "**(1) Regular: so just plugging in that everybody has the same degree which is just the expected degree, then we can:**\n",
    "- get rid of $\\sum P(d)$\n",
    "- $d^2 \\rightarrow E(d)^2$\n",
    "- $\\lambda \\theta d \\rightarrow \\lambda \\theta E(d)$\n",
    "\n",
    "\n",
    "Regular: $1 = \\frac{\\lambda E[d]}{(\\lambda \\theta E[d] + 1)}$\n",
    "\n",
    "then we can rearrange this in terms of $\\theta$ \n",
    "\n",
    "$\\theta = 1 - \\frac{1}{\\lambda E[d]}$\n",
    "\n",
    "$\\theta$ is increasing in $\\lambda E[d]$   Need $\\lambda E[d] > 1$\n",
    "\n",
    "So if everybody had the same degree then we can solve explicitly for what the steady state expression is going to be for the infection rate.\n",
    "\n",
    "\n"
   ]
  },
  {
   "cell_type": "markdown",
   "metadata": {},
   "source": [
    "---"
   ]
  },
  {
   "cell_type": "markdown",
   "metadata": {},
   "source": [
    "$\\theta = \\sum P(d) \\frac{\\lambda \\theta d^2}{[\\lambda \\theta d + 1)E[d]]}$\n",
    "\n",
    "$1 = \\sum P(d) \\frac{\\lambda d^2}{[\\lambda \\theta d + 1)E[d]]}$\n",
    "\n",
    "\n",
    "**(2) Power law degree distribution: **$P(d) = 2d^{-3}$ \n",
    "\n",
    "If plug in the power law P(d) and integrate this out, then end up with an expression that can solve for $\\theta$:\n",
    "\n",
    "$\\theta = \\frac{1}{\\lambda(e^{\\frac{1}{\\lambda}} - 1)}$\n",
    "\n",
    "![](https://lh3.googleusercontent.com/K_xU7DUZjdxoeNKKrR6vSjbhU7B6SV9gAAG1QGe0cYoc0KdySsJyod5dqbPFPcVKUbyv6VjL1qd0-eI8bLWA1ET7qzb8GbRot2i5B71TX5LSrKpgjL4eWF9PdP-fiDMJoAYLfAnN-SOL6Y8__ctv0zZGVdXO0huBWMsazY4cOnRrNFGekamscYZxhxA_4dzAmue3XqsN8NCp9nGGwnbGhkXhCkJuy-d1Lz7GvgeRa9TZyvf6MRnE_0_JeCpvwUz0mTIF4n5W2e2ARb_O3U5KeM6M_C1dKi2SW4RAPad8FTedxFjtDE6X7Dgpyg2CAbN3UbCxGXI3t4eeP4kBVpoVxYrp3gBynD3tqNwr2a3IO2r_uuM39bElFEa0dm6Yd4ipJ2bB3UWmYwZEmZlfhmwqVmUyef8tBeVl2KtBVm9hQhQ7L_F-WFGUdCDIwtONTzSRB0QR7bIb4MRFQNu_aye9NAKRjSTceYWEfRrMXcTsO9aY8Rf_nLjdAWYFZZ861im4B_4p18LEjiOYTUlrDqZtcuHm4QqSCl6bp3OYZhojvPQtR_hC8S7RmNoy24IYmpW0GC_RujStC6YpaB2YZyMCcx_DEVUOqWPGKsrLhLFFZz6FsMY9fWmxwtFPz7neAXNnuvGne5DosEm4mCPv9_HYvF8OelEMUF301wwjaUUBoz4JALzgHbU37ODE=w448-h332-no)\n",
    "\n",
    "As $\\lambda$ increases we get a very rapid increase and then eventually it asymptotes, it can't go above \"1\", but we're getting a very high neighbor infection rate as $\\lambda$ increases, because then we've got these very high degree nodes, they become infected, they infect others and so forth, and as $\\lambda$ is increasing, we get a very rapid infection increase. "
   ]
  },
  {
   "cell_type": "markdown",
   "metadata": {},
   "source": [
    "# Ordering Networks - Jackson Rogers (07b)\n",
    "\n",
    "$\\theta = \\sum P(d) \\frac{\\lambda \\theta d^2}{[\\lambda \\theta d + 1)E[d]]}$\n",
    "\n",
    "How does the right side shift with the degree distribution, P(d), if we want to do comparisons, if we go from *regular* to *power law* or a *regular* to *Erdos Renyi*, sort of graph?\n",
    "\n",
    "![](https://lh3.googleusercontent.com/2Rm8hUvVb8HJXU4zeYR5qyxyu7hdvezZdsO7HzNSpKGgzkWr0ahlT30Xy8JBJx6viDyvhmeYVaub9mjY5rS37I7Ez4_mNYYPHjPlClurTUBBKGfFlqD3xZvfD5_rdmZP4lh299lC2IMPbd4P9q1L6mo_4yfYfWaXVImgiaqS05Bl-n4JVX3xGy3P99YOwBwBvR2PzYQHd_vDwM3olw6TKes9WthUcytBG0vkTJjXZXgAX8SeaqPszhm8emzWO5CEA2YAuC1ES4TXAOcGLrJMwFEhPJ5WWmXM0nglzjjKLieoXQ9FBiHb5YCL0GhWuufY92aQIDn5zaBTip0C18P-rGkZLcwEQCqC-xBAS3x0XPWlqFEcmgeEkEbjxnhDdMlCv8lHIdtSbJAD7swJxfMit9ynU2LSEOf_0NAxKz3dwE5pH7KLkzXBRUF4dnnx4lChUxxw-JPryUJJzqd9FV8QyG7g0JDdeoRW3dy92H5KbOQvO1gjgvCjogJdIt8HP8R57GsU0t8L5sLE7fMUf1mL8a32GC_2INtBCf1LEmA0IrqS6Eak06-38VRXpaZaHYSLoX1p6Ig3sDiG_qDvuCvubc_EyK5a1o35o1yNrGr-9zTKr71QWjW2g89-M01K1ZmhuZhXkMTyXlB1PRuxLW-2Lnby0dSofyyg1xA4KIhivd7exzP86FG0oTFx=w614-h338-no)\n",
    "\n",
    "Remember the way that we're solving this, we look at theta here, we have this right hand side, which is H(θ) and we're looking for the solution to this thing and if we can say that H(θ) goes up, right, so if we do something that changes H(θ) in a way that goes up then that's going to move the solution to this equation upwards. So, any kind of comparative static where we're making changes that change the distribution in a way that increases this overall expression on the right hand side for each theta gets a higher value then we can say something about what the resulting change is in theta. So, let's see what we can say about how this right hand side moves.\n",
    "\n",
    "$\\frac{\\lambda \\theta d^2}{[\\lambda \\theta d + 1)E[d]]}$ is increasing in d\n",
    "\n",
    "So higher degree nodes are going to have higher relative expected infection rates and basically that's what we're getting \n",
    "\n",
    "If $P'$ first order stochastic dominates $P$, then rhs increases at every $\\theta$\n",
    "\n",
    "If $P'$ is a mean-preserving spread of P, then rhs increases at every $\\theta$\n",
    "\n",
    "![](https://lh3.googleusercontent.com/jsSdoOD-r45tPd52eHfcTwUjNAXOSQyDoUzkxy3oJvxjy8ozr-zHr1kofrqP2FRq5Fs-QlYhgL4Gg47mnDf0q3nY692RIfPag8ovN5zsClgJM_gmLMDSsGvZjsXbhA4pYuOHc8wG4t9mGlFLUL1pH6qXRYW_oiWyT3FBiMy5mu28r0kzIg0ULcYuMax508-JydWrxtPXnkEAqH1awFOxmiAPysqCypSHrx2ZzlMOH0TB_V6d-E6Y_NhxPg8cpaqnJjDw3LQ_Vqu4vnTlbj-gxcUeiwF2WCcgPZpUfoi536Y1lfr5DJ1YyS7Ov8j0PHauuLpmOuxH0CMHnh3IEWm7FmgIdnqW3-5Xt1kIeDj03fuAAXUsF8Ke52abglABesia996del3M8Wwku-zQx_lEBpFwDbAa7QyCM9hAYUceTtt701wYD8tFcZqTAmTCVSxg8MyJTayH3O76lCp7jsGQUg8dxsGwwDzZYGqYM1ovNfCdFXXUA2_cxhDKI-J1047mP4Pc9a9xKtEJmwHOIyrJ85pIabk3EBL_biRzdzA3Mb0Ddg0_mozrBkcDyrvH6mNtUml2D0094UDWyDfn2A6-RkVT1fYfjAZrDpufvQo_yOCoMNENvWuwRUMEGiB67r4hv9kQmG3o1KJ1sKLlbcJeUyyNx2d-mAgHoMKogWFMqu8aJAAJRgzT3z43=w786-h509-no)"
   ]
  },
  {
   "cell_type": "markdown",
   "metadata": {},
   "source": [
    "# Ideas\n",
    "\n",
    "- Mean preserving spread - more high degree nodes and low degree nodes\n",
    "\n",
    "- Higher degree nodes are more prone to infection\n",
    "\n",
    "- Neighbors are more likely to be high degree\n",
    "\n",
    "- So, either first order stochastic dominance, or mean-preserving spreads in $P$ increase $\\theta$\n",
    "\n",
    "![](https://lh3.googleusercontent.com/OiVHGdZ65qfFcNUqXvVH2DAffGaTO7dK1Bho8sYfwpoUKlLLN4U2uI6LnONnplN25wotSsEfb4mrQ87_8LyEjIi197IZaqbHVoD4WZNShZYJ9yyj2JqBN2nDmJfyK09FgH4elnBfD588bOq-B3R7NYeQAbKJ6nMJoYNS0aXMUbls9Kqru_ni2_NhGYkSa9Ly_DNap6aFNy3eDxNv5BpJVqiqcdKue-ATv1I6WkdCf26d9D3ktZdh66AKfSdtTvsobwBTAcfXSHN4xUJnmy1EWJlPwBtylSBkn97G1TcDm-gI4vTtGxnRFJLvVf3hRStFkV926hBGS0jBGe98IDe2DDE7TQzaMgKeh2dZFsoWKiRdCT5v4Bxqyl5QN1yAzQowXcwlzQD_fMAxOQH1tmzCrpq5Z4P4zhRcS1Nezix4ac7CtcJ5OhKzmAwwzscGU6_pPJA-SzfbWCJz7tDkPoaKR3nh4DWjgvv82ZiEq9SIzx4u2D9y_D8sXsOQnAmX6tdod2Oiaa6oWWkLWKyPhtd1W-Y1cIFfOz3R5Bp5718xCkfd8NaylEiEV4StBehJzqlCQXI_2uYDj3rzVDPtQlfZtbP9yOUvicCh4D5Sz_4fFG31tfvXlTynDIg7kVLTGJs96U0TXnYQBUwdDft8xNJWMp8DkXD7tNIkqLl-W11HrIplxj4ZpLs-7aP9=w750-h612-no)"
   ]
  },
  {
   "cell_type": "markdown",
   "metadata": {},
   "source": [
    "# What about Average?\n",
    "\n",
    "- infection rate of neighbors is not the same as infection rate of the population\n",
    " - $\\theta$ is the chance when you're meeting somebody in the population that they're infected, and is increased as we increased in the senses of first or second order stochastic dominance.\n",
    " - $\\rho$ in the population is the acutally average, if we take expectations over all degrees, so the higher people are going to be infected at higher rates, so when you're meeting them at higher values that means that people you're going to meet are more infected, but if we're somebody who just cares about the average level in the population, so if I'm a government and I care about how infected my population is, **ultimatly what I care about is what $\\rho$ is, not what $\\theta$ is**, so $\\theta$ is very important in determining what the steady state is going to be, but the thing I might be interested in terms of my policies is what fraction of my population ends up being infected   \n",
    "\n",
    "- Theorem JR(2007): If $P'$ is a mean preserving spread of P, then the highest steady state $\\theta' > \\theta$, but the corresponding $\\rho' > \\rho$ if $\\lambda$ is low, while $\\rho' < \\rho$ if $\\lambda$ is high.\n",
    " - what's the intuition behind this? The intuition is that in situations where $\\lambda$ is very high, the high interaction nodes are already going to be very infected. And so, actually increasing, in putting weight on higher degrees isn't going to matter that much because those nodes are going to be infected at such a high rate that they're going to already be infected. And so you're not changing that much but putting more weight on low degree nodes can actually decrease the, so now you've got some people who have very few interactions. Those people can actually end up being infected with lower rates. So, the actual overall infection rate in the society can be balanced by the fact that you are increasing some of the higher degree nodes but those people are already going to be infected even without this increase and the low degree nodes as you move them towards lower part they can actually end up with lower infection rates and so that counterbalances it. So, when you average across the population, not with the relative frequency of meetings, you actually end up with a decrease in the overall rate."
   ]
  },
  {
   "cell_type": "markdown",
   "metadata": {},
   "source": [
    "# Steady States\n",
    "\n",
    "![](https://lh3.googleusercontent.com/ZqhY73jgWEyL3znfIIJMgVxH8fLr6XCUZYN4Vw0gZvEXAZljteuDmILuG1D-9iqXHwYnjTZYkaIY3T5U30TQIgj8ACxh7f1Odqcbc7V5VgzQeRSVTmqMPmv3ROUMWlTT7n9Ij6rRl69TyF_hQ_GPmdlEgY_zadaYFhLuQ9Y9IEZB0qB_USEiZiEGNGBi40II3BLM_tgBCWQ2UFsazTcWPzyMEkRwH7DSVowAIeAJ1NEvv79nVrsxs4GttsbmZYxOxyeuFyWoTtACWpIz1OEdfTKiZz-QF8sNF9-fpDobU6rO-smRwza_OtnOdEBzxbbrMzrF8pPzi8qj-7LDq91z9JxCGSpuiNKOBDtAzEjgaRO_xiVl16JK3aqDBn6Q3WMflEelNAglOYX_AJmWdHGKYfrsGqsex-HyCKaoKdAOmGQxu5JX5oWPxhQMr6QjOkZMELsHgumzrHgYKZs4uyE7qTv62ouqOItpuZ3pB_HZeORALGze_CPrS7MGF957ND5IOXw9yf344OYvPn35JCMDEKkQumsiuLEL_Zam8Fi_CkabaiGTicGk9KMoyyFFZoYVnAPsPT7EmS_-jH4IhGO3kD_JIzKQIRX8tr_7niTvjE6l6Xc7lyy1wk0bL9I5UdoclIlB4t1Lr96eWqDwkREWvJlGYAPNQbsA4fr_ox1SDUv6YVxXkIQ8SOoo=w960-h554-no)"
   ]
  },
  {
   "cell_type": "markdown",
   "metadata": {},
   "source": [
    "# Proof\n",
    "\n",
    "$ 0 = \\frac {d\\rho(d)}{dt} = (1- \\rho(d))v \\theta d - \\rho(d)\\delta$\n",
    "\n",
    "Expecting over d:\n",
    "\n",
    "$0 = v\\theta E[d] - \\sum P(d)\\rho(d) v \\theta d - \\rho \\delta$\n",
    "\n",
    "$= v\\theta E[d] - v \\theta^2 E[d] - \\rho \\delta$\n",
    "\n",
    "$\\rho = \\lambda \\theta E[d](1-\\theta)$\n",
    "\n",
    "rhs is increasing in $\\theta$ iff $\\theta < 1/2$, and is decreasing in $\\theta$ iff $\\theta > 1/2$\n",
    "\n",
    "$\\theta$ is increasing in $\\lambda$"
   ]
  },
  {
   "cell_type": "markdown",
   "metadata": {},
   "source": [
    "# SIS Diffusion Model\n",
    "\n",
    "- Simple and tractable model\n",
    "\n",
    "- Bring in relative meeting rates\n",
    "\n",
    "- Can order infections by properties of \"network\"\n",
    "\n",
    "The limitationis of this model:\n",
    "\n",
    "- we lose the fact that a lot of applications are ones where you become infected but then if you recover you're actually immune to catching the disease again, which is actually true of some flus, so it's somewhat limited in term of the applications.\n",
    "\n",
    "- Also the interactions that we talked about were completely random meeting processes. So, it was not as if we'd drawn out a network and actually had people located on the network. We just had people bumping into each other and meeting each other and so that's a special kind of process which gives rise to special kinds of conditions."
   ]
  },
  {
   "cell_type": "markdown",
   "metadata": {},
   "source": [
    "# Next\n",
    "Now we, more generally what we'd have to do if we start to work with things where the network architecture is given, then it's going to be more important to use simulations and so forth. So, we did some calculations before where we talked about component science and so forth and that gives us some insights. But, more generally if we actually want to study these processes a lot of it's going to be done by simulation. So, if you give me a particular network and ask what's going to happen on it then I might have to write down a program and actually simulate what's going to happen there. So, the next thing we'll look at is a simple model of diffusion where we'll do some calculations and just simulate that model and see exactly how it works and that will allow us to actually fit something directly to data. And there's a large amount of that that goes on in epidemiology and marketing and other kinds of areas where you're trying to make predictions. If you know something about the network you're working with you can actually simulate things and that's going to go a long way towards improving your accuracy. So, the SIS model gives us nicer intuitions, simple ideas, but it's not one you're going to easily take to data. We're going to have to enrich the model to fit it to networks. And that's what we'll talk about next. "
   ]
  },
  {
   "cell_type": "code",
   "execution_count": null,
   "metadata": {},
   "outputs": [],
   "source": []
  }
 ],
 "metadata": {
  "kernelspec": {
   "display_name": "Python 3",
   "language": "python",
   "name": "python3"
  },
  "language_info": {
   "codemirror_mode": {
    "name": "ipython",
    "version": 3
   },
   "file_extension": ".py",
   "mimetype": "text/x-python",
   "name": "python",
   "nbconvert_exporter": "python",
   "pygments_lexer": "ipython3",
   "version": "3.6.6"
  }
 },
 "nbformat": 4,
 "nbformat_minor": 2
}
