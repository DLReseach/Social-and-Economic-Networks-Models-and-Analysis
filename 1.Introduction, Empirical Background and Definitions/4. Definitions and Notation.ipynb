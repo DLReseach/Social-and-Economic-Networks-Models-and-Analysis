{
 "cells": [
  {
   "cell_type": "markdown",
   "metadata": {},
   "source": [
    "# Simplifying the Complexity\n",
    "\n",
    "- Global patterns of networks\n",
    " - degree distributions, path lengths...\n",
    " \n",
    "- Segregation Patterns\n",
    " - node types and homophily\n",
    " \n",
    "- Local Patterns\n",
    " - Clustering, Transsitivity, Support...\n",
    " \n",
    "- Positions in networks\n",
    " - Neighborhoods, Centrality, Influence..."
   ]
  },
  {
   "cell_type": "markdown",
   "metadata": {},
   "source": [
    "# Representing Networks\n",
    "\n",
    "- N = {1,...,n} nodes, vertices, players\n",
    "\n",
    "- g in $\\{0,1\\}^{n*n}$ adjacency matrix (unweighted, possibly directed)\n",
    "\n",
    "- $g_{ij} = 1$ indicates a link, tie, or edge between i and j\n",
    "\n",
    "- *Alternative notation*: ij in g a link between i and j\n",
    "\n",
    "- Network(N, g)"
   ]
  },
  {
   "cell_type": "markdown",
   "metadata": {},
   "source": [
    "# Basic Definitions\n",
    "- Walk from $i_1$ to $i_k$: a sequence of nodes $(i_1, i_2, ..., i_k)$ and sequence of links $(i_1i_2, i_2i_3,...i_{k-1}i_k)$ such that $i_{k-1}i_k$ in g for each k\n",
    "\n",
    "- Convenient to represent it as the corresponding sequence of nodes $(i_1, i_2, ..., i_k)$ such that $i_{k-1}i_k$ in g for each k\n",
    "\n",
    "- Path: a walk $(i_1, i_2, ..., i_k)$ with each node $i_k$ distinct\n",
    "\n",
    "- Cycle: a walk where $i_1 = i_k$\n",
    "\n",
    "- Geodesic: a shortest path between two nodes"
   ]
  },
  {
   "cell_type": "markdown",
   "metadata": {},
   "source": [
    "![](https://lh3.googleusercontent.com/RHK2sY8CXmYvWPyv1vgThMSIJpODlFed9ltLYboHQ-74YN8w0tQOiBurZLis7wwr6DBY7T2gunN_OdjzWurYgyunFxtmaV_L3yMG-tlhfeXdH_snAE7txswCHabFWJXZ_9gcm0sPnXEZ7HN7VO78gRJGMzttzRiYq_Gf-jM1ArLz9ZjpWbLLaJvq4NeZyKE4Cm0m1PR-jgHsfraWMLNIA1Ych0QbHbg2A4vBAA1KbiHUvnUtLvbBIGPsqWfsQfty4_DO2nx1fNZkAgycNpXhqPXVZpFlLF0iD244P_IgWA_fBExjze_PKaihNNuS4PYDbFQz7eL46NJMkRb8YRyYPrtJwnGGNN2e7dDstr8Z04ExzCmIyyTsoyJ3NUE25vnxqp5iNurwSLlvNjfs0oJQE35j9ADRjkj8eA_dr-UNZvdsocKc7uSHByjrGqYSEY6wl1XUSvMvcH8EaSlmKDCBltbjc4xOrJaZzUWSw9cOZE8zv9OU6qLWXo-hbUZt4bK3wYt3aVmMC0TbHyDMHOjAiGmjWTEOyPKGNjHg_alXIdQaHmvSw5ZOt04FnmYpS8Iz65Oyo1wJcOkqbed1xUQOxRotRunuXDgFwvrLWOl76WnjAZBkUpswVxFTJuQ-fs_MRhZcrXaG5TXfMWsKPt5OJcCcSFMXwdvOEGkspo7tXw1dIJ3ygcVu2qIH=w536-h295-no)"
   ]
  },
  {
   "cell_type": "markdown",
   "metadata": {},
   "source": [
    "# Counting walks:\n",
    "\n",
    "![](https://lh3.googleusercontent.com/8VUlcghTpvIE7pKXHyLv-D0nwJ-X7T2Io7jD-AUgtLHV8JplAXSnbkbvJIY7idIo5Sui97eJqmYj7OSwfeUHCWtNisffwzRwjDBHCr7uOkle2zv6WnozMaCQndTIUJLB2eUbogpNSELKvRDL86q34teHllhtVkb3bOQR6gGa58IYyTACtbaOcISsp1i6SwE4y-PHzrLofEAKGkBX5ckzfubmbsDjGKRRMCdDiZryVBrwPtmmnZZugOAkA-Vxr1kKn5WgcMvQRqwDtKPHB6vx5gsiXG6tV33S0_kXQtvSBGdOd4gYxQrn_rA4rNBLKIKbnoF6u5XiUe36KSCNzENnOtO-uqQPfz5l6E91LmBqGX3j4rlXOCxNIBvmoC3j4u3VL_bBb9Y1WW2f_YYsiVViNsNZxNeMwu9NVT-wB-nGusF57eXZjBmtyjrJbOPdRBxR3B9mseIFZpknDCC2PhJgkH9BQMABIRG2y1Mbf8gtEIibZqcnVrPdygKwOqs1kWLZd1Hi03V7DNxUjLfWTYXi-lSRjfnq9vGtDiMYWf3wDqKMGFtCPbONSb-hN8DRfRtlYOnTKbShu_nyVIjedYtj_kNEofvuh6_RnbgnNwcrdB0XIUH0H0Sg_kbrgjIGqhqWUOw5xE8wVmJ6tW3gi7RQeyotfJQUwsSd986yKNryeCyDh_Y8_8aepQqq=w1000-h463-no)\n",
    "\n",
    "How many number of walks of length 2 from i to j:\n",
    "\n",
    "$g^2$ actually give us the answer of exactly how many walks there are of length 2 from node, whatever to whatever.\n",
    "\n",
    "Here it says that there's 2 different walks of going from node 1 to node 1:\n",
    "- go up to node 2 and then back\n",
    "- go to node 4 and back\n",
    "\n",
    "So it's impossible to get from node 3 to node 4 in a walk of length 2\n",
    "\n",
    "And $g^3$ give the number of walks of length 3 from i to j"
   ]
  },
  {
   "cell_type": "markdown",
   "metadata": {},
   "source": [
    "# Components\n",
    "\n",
    "- (N, g) is connected if there is a path between every two nodes\n",
    "\n",
    "- Component: maximal connected subgraph\n",
    " - (N', g') is subset of (N, g)\n",
    " - (N', g') is connected\n",
    " - i in N' and ij in g implies j in N' and ij in g'"
   ]
  },
  {
   "cell_type": "markdown",
   "metadata": {},
   "source": [
    "# A network with four components\n",
    "\n",
    "![](https://lh3.googleusercontent.com/VhB5AaJNzTaNAKNnKBVUq8xCO9rqvLs5hcObboxMNe3gAdstj4cfnVNaigBnbPS88giXFbcOLsyZrryH6JRuIUieoen2W6Do1PEWh1GpoRH6s6QkNwrSqGwFcJryLMlxSMEIrz7c0y9gfCXl6ENaqr_qtckuPfENNBfmyeD37XYm_dUgzlKC2dl02XlW_EcUzVgMQCBbY9Mm0WtFx46IqlgErT3NxuKofeKD28b6mMgc1wX-HbfUbe40BgWckqvy0MmOGe9FrkHtx51Gbhe6puzdCmAYben-Zx4ZH1sJ7_u__0FbxgPpIBaZ0cFWXtZ9Yd4uAWSgjEusa2WZxEGlzFQSUa5gqGvH7-elqEls6vmOWNRXkNSZMG2oa5akHEnEF2GP9NKNx69_DaYwyZT6emOcAD4VSVjZZmabxJYd954LeMC9wlNHXv58X1youUb8W9-NsQ127ORRp0dzcnx0slA5qNWEdMpOQExI-I4kDzY7a-s7X5vz7ed_ZxVgWmBr-fsYqsLh66QU9A7KaaemOJIWhSbckLJXI6ASXlPptgCCz8ulaCEtb4YQmsAzinYthGf1r2uD0nEtEDYjugOgO1451Wm_gHiRHHVJ-JYKkK-GTE-kUwHBjhsL8ADcUnVGduOvtZvdc4rvlkimd7fSER0JEmHIPC0wJCsBWZ3lrVwCK5xLWJd6c6be=w603-h289-no)"
   ]
  },
  {
   "cell_type": "code",
   "execution_count": null,
   "metadata": {},
   "outputs": [],
   "source": []
  }
 ],
 "metadata": {
  "kernelspec": {
   "display_name": "Julia 1.0.0",
   "language": "julia",
   "name": "julia-1.0"
  },
  "language_info": {
   "file_extension": ".jl",
   "mimetype": "application/julia",
   "name": "julia",
   "version": "1.0.0"
  }
 },
 "nbformat": 4,
 "nbformat_minor": 2
}
