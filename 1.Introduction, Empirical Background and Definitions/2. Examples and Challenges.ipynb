{
 "cells": [
  {
   "cell_type": "markdown",
   "metadata": {},
   "source": [
    "# Outline\n",
    "- **Part 1: Background and Fundamentals**\n",
    " - **Definitions and Characteristics of Networks (1,2)**\n",
    " - **Empirical Background (3)**\n",
    " \n",
    "- Part 2: Network Formation\n",
    " - Random Network Models (4,5)\n",
    " - Strategic Network Models (6,11)\n",
    " \n",
    "- Part 3: Networks and Behavior\n",
    " - Diffusion and Learning (7,8)\n",
    " - Games on Networks (9)\n"
   ]
  },
  {
   "cell_type": "markdown",
   "metadata": {},
   "source": [
    "# What do We Know?\n",
    "\n",
    "- Networks play role in many settings\n",
    " -  Job cnotacts, crime, risk sharing, trade, politics,...\n",
    " \n",
    "- Network position and structure matters\n",
    " - rich sociology literature\n",
    " - Medicis not the wealthiest nor the strongest politically, but the most central\n",
    " \n",
    "- \"Social\" Network have special characteristics\n",
    " - small worlds, degree distributions..."
   ]
  },
  {
   "cell_type": "markdown",
   "metadata": {},
   "source": [
    "# Embeddedness of Economic Activity\n",
    "\n",
    "- Few markets are centralized, anonymous\n",
    "\n",
    "- Specific relationships matter...\n",
    "\n"
   ]
  },
  {
   "cell_type": "markdown",
   "metadata": {},
   "source": [
    "**Generally there are $n(n-1)/2$ (n choose 2) possible links, and $2^{n(n-1)/2}$ possible networks on n nodes**"
   ]
  },
  {
   "cell_type": "code",
   "execution_count": null,
   "metadata": {},
   "outputs": [],
   "source": []
  }
 ],
 "metadata": {
  "kernelspec": {
   "display_name": "Julia 0.6.4",
   "language": "julia",
   "name": "julia-0.6"
  },
  "language_info": {
   "file_extension": ".jl",
   "mimetype": "application/julia",
   "name": "julia",
   "version": "0.6.4"
  }
 },
 "nbformat": 4,
 "nbformat_minor": 2
}
