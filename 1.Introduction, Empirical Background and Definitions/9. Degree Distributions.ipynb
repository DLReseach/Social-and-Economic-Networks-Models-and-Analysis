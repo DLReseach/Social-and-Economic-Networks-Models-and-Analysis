{
 "cells": [
  {
   "cell_type": "markdown",
   "metadata": {},
   "source": [
    "![](https://lh3.googleusercontent.com/iP1Z3ea3VyYCeliF_A9ReqKJY7nuzdv5c7SqokqbgTiX3KjLSsR9k3Xo916VYFYW0xHYciGPeH1a7XwrykuepPEw8mkoxXZWAoxiKnJnWiBzRChrypxvGhjvFs9b7vVF9HHNNgObdTywpLPHbH2kXcAEdAWs-l9DwmGoKnJJBf1DgP87DETkoRIrxa0l3G81gWzLZGAssIodcWHhJOF5aVEi_uVUh-pcfSA3W9cnU9slS88lx5jRlSpe_6sk6HJ2NM4MRG33a_G1NDNIbqO3slVoP_5ZsxD30sPwnt6J-N7pY1rw1rF8T8N5B6tcvm44qa2cAzCXtq5AZTN5iVyWZY89z_lJdeyV98sPSZ0jsa7kqykaLHvbdQG3EW-tPCu7GdRKTuuJRdosa6OPBP1fCVVStcMCT4C1EUjp-5ghcSHqbLyKrhhGu8Ab4KeSTkTxnTHPi_Ffb89NnVGtvlyxNVg-jESJ0E2L3bFQNoVejQhJkuNjxofpR1KoEvZ_F05kyd23gLqmRBUEsRSo3Q7UEaXHjd7_r60B4PBkX57rY9eEQr0CQOnxzugRw5M3MFzeAFcqxO4pvPh260Rdcwohwz8qtZCOqfGULCahUCxPRPfXBFY71Du41JNoavlkYRbrBr88iT5bhD9tTRqkriRk2A-Hwq-I4AaC9CZ8bwt58J2eOFWfXaoVIjU=w1271-h518-no)"
   ]
  },
  {
   "cell_type": "markdown",
   "metadata": {},
   "source": [
    "# Degree Distribution, G(n, p)\n",
    "\n",
    "- probability that node has d links is **binomial**\n",
    "$$\\frac{(n-1)!}{d!(n-d-1)!} p^d (1-p)^{n-d-1}$$\n",
    "\n",
    "- Large n, small p, this is approximately a **Poisson** distribution\n",
    "$$\\frac{(n-1)^d}{d!} p^d e^{-(n-1)p}$$\n",
    "\n",
    "- why Poisson? If you want to approximate this if you want to approximate this formula(*binomial formula*) for large n and relatively small p.\n",
    " - $(1-p)^{n-d-1} \\rightarrow e^{-(n-1)p}$\n",
    " - $\\frac{(n-1)!}{d!(n-d-1)!} \\rightarrow \\frac{(n-1)^d}{d!}$\n",
    " - $\\frac{(n-1)!}{(n-d-1)!} \\rightarrow (n-1)^d$"
   ]
  },
  {
   "cell_type": "markdown",
   "metadata": {},
   "source": [
    "![](https://lh3.googleusercontent.com/FROAH3FWtc699Mrdo7yyaLSU5c_dEEe2gTIXNtz5mGHIzwmJy12ZjjI1WJGmBS4KpTE_PECNy-dVWl6lz1DIfAqMKWgXLpTClGlsOV4hGVI_Vg4FGwghgTKeHMvthk_y8v6ApcCMo6IZ1mVDhoaXtR6ndImail1X4QIhx23RSoa3RPDlJIgrZ0f7SiSUUdffxZjY1MBjq6eWxkDekK7-1CWh3G7Jcgv_6tBpEFGKcnzdWIssklzMiwprRi5xBllscY9vfrdHo4Q3icD63tZoTnMtrlNYg40RaEMo07jARMPfVdZJDmDILCAu7Ht2C9J5hh97woJiw973pveprJWtqCwD1Gpg2z6QQ2KhZyzjQxzqiwh36mdVQB5kXVHyV3ZPeA_hQmzXS8_LR30CDyh9Qrw3yRFcRl7RO0rzuEY8LRRAqB-qHVJg-7oOLFLusVfzlkwrElcGnPYJfLhudv0obzRVPMf96nEoeggumLvg0g3ha9zcISpC5ZMKFWPppKbeFPaI299B7rwMq25N38Zh9pI-LtTZBtJyIp5N3WPGxbVy8lO9ktbXcfFZXV2Kmo8QgcTg4fzJMdNZ3BGMeoANHXHWdAaFyBCRVQJ-Z41lfbEZyXpPWSpv1T-XJaqqNoSLTYY1BRorbxoMtJwD7Mq7x_SJ8ubXnn9paDfCHv48QOGIltSgHX09qNw=w1236-h691-no)\n",
    "\n",
    "![](https://lh3.googleusercontent.com/VlhBY_M_rB1vpPEcSr84-8qmrOb072br_2StEtXCumKUO5XfGjIv3LOhSTyc7-f_a4dToKWAGPU2eLTZkwkCO3B3DIxLv73YgMKP2gDpX2QoYB9QXNcD4d3F-5XTKIFRz39ETHZH8iYtNuN0GEjnBe9qnGE_UQ-zFzYcjy5PNkyE43nZT2_cuda-Sal_KJn_lkeVsdgcEYbm3f3g2qId8LZ1g0qEReM2ujTx4N0ev6D5oEkicmbA0h22pZW4ToPscPnhTzmIFtqVDhVfJkz3Z9a783YerEuKCk4cdg8etEiEK4vwflZFHjeeGlawgO8U_jEu1tyKW2AfVFVkLMw3n2VQSel-RGzmZAm2rLWGDSR_wtOUiz7ndQBcFS4AZXLEXcVoyJTtfKEzSS5baFdoRrj354Xv91tn0781liV2V03jXCEu9WvNzjyGHGNmMWGz04kKBseXFLOcBbmz4Qn5D2z8tnQGF2R4d6eLLgoKE8Q4Aiuc-4IdoFVO-AAjwULBgr1yYQVjfAlf8IQvgIbErcNXePONxz19Zo9nIOGti4XoNMXnIDKaq0xSRXcUviDoc8Gp7rSCINm-agNSdh_ZVPZ4aOTghHu3eAz8FXpztuDSnrtkfpgA792hTx-xeIfMv3MDgYKQGPCE6h9KIP-BNExTtMoyb5QWsV8n2CM1KDk1V7pnexl_eh8=w1280-h649-no)\n",
    "\n",
    "**Note:**\n",
    "- many isolated nodes\n",
    "- several components\n",
    "- no component has more than a small fraction of the nodes, just starting to see one large one emerge\n",
    "\n",
    "\n",
    "![](https://lh3.googleusercontent.com/ji8OYBREY59ZsPzAMyvtk23EsjW_Rz8gjhf6sAJn16eSNixQ8yu6PgY9XYwZkBkP8ux9kvyx0YGT6L-6DFL_j25o9uhD_sr20ONi0o2hxU6PLCFoN7GlwAFYLQDlRNIe6F6zpPtL6RFCy-bQKluHyp1LFqB9xAnhd1GjAqO0CY9GLdyrH11PR5XXYFmIjLOuFp8AOUnuq8mgJBt7RI-9y9gpqyeUTEm6jm3O7X1KKrcRFF7lBb_f-IQrt1aJcIro9SMP21KoTrX75oFVC43mLsHZVuxUwnGOR2JlABuZ7KSvdWwixtcP6uRq7j2ZMMK_cx95dR6OQA0_mrRTOMQ4-kkYWEzUt1dUYiRIOlVd1jMwLz3UUllfL4JL27eaKzq5heWFH3I4pmsYfTfPs8E0k60VCi8bLpyDpGVs7mw6uLrVPZH8hj_ykxnwuuDbbVrIwD47hgQ4e27kgi6HLaxAPuzhsN8PqRV6VdLbwJOssO9zwosmhpg8iXLsd-9jRbkVlGwGhLUyLyhD3iPpW575KdUoB5bEMiI8XEmYCvnKTLjfpW4zEsyP18gTsmzjaoaA9vA_Rpi8w0qxCHWrTfgyydC9sI1JTmrPDn1WPNE-mj5ta4q_XUjGfD72Q2St5bonRsuSX2D9pBmlow6nSU7J1p65tGMrf0e5U28E8KAZaKU92aJbt3b8GWc=w1105-h662-no)\n",
    "\n",
    "![](https://lh3.googleusercontent.com/4iswO5J8FTisZby8xSfjFnNx3yGaC25UEEfG9C8If9ftvTwa61cgg8rIAgeLRyFNt5dbhLPmCyGoUfH-3AX9spNXcYezwySbrPAKFQiVAQ4KaVUL4313CN6t9JEURBq8tNbhNZeRhyB_to_iFUZ04E_WYqIB7jw-_AlgUS7Qm84iXeMWPB8zqdPtwK3A6bZqx8GuaeZml8yNjg7l2V-2hgCBHaa5VjgkNCURCxmMgsrXNZe8uRQuIixIlqIg9EimghqsXKah98N2zWjKW1j6Qf7rDADewJB3fb6FT7cmSsbXjPEVUi9n1KWwPgwNDSIEO6Nq3Pg1D-wmfFeFkWvNt5LlRjOaIqXskuaeVJT18LUcx9WIHZpf9NESBXqh1IBn7EaoFn_y-WL1fQI4m_ec_9v_Akv0ND1-vJldXWaZUAPO87N_CPG5IXl7HL61PAL23ritYmidf4VGz8Y3NDvZYEwaY040zP-kqgo8Axwk7h7YEl7j0acLeFJIWLP83hunhbedDmuBbtbe6oDpfY9jg5gihqyynW50vTtyQa5atbawo2tfOUGsdY3liOKmhMad9OgOR93lQoil2iA0_E2qfU2u_CZyTg0erUaZL-hbRUDfr_pilsj9wlg_FN2roQDHpYVL3gaaIkFaCzxdEWgq_HUIB9J-5Q7jvxu8RdHAUIJCztZhhDm-bwI=w1280-h686-no)"
   ]
  },
  {
   "cell_type": "markdown",
   "metadata": {},
   "source": [
    "# Distribution of links per node: Fat tails (Price 1969)\n",
    "- More high and low degree nodes than predicted at random\n",
    " - Citation Networks - too many with 0 citations, too many with high numbers of of citations to have citations drawn at random\n",
    " - \"Fat tails\" compared to random network\n",
    " \n",
    "![](https://lh3.googleusercontent.com/EMTReDPKhaZGbQOlX_tHxASkRrnxA8gj-wOCf_xqH2OBGnhe0WOIQOwi4Ei5LwaredEDzjRS1FgPZMpo3Lz_NqBuiwa4nDFmPm7ux2SZNk1dmnmDXgepLfZ318sdp95C2xXzTj_0sX2Rf4RhOgeAWdBrcOmSNTbW-1L5-HatgTxwoAmz6QN4k-m4uCmh_5V4HLgINZFnMYEjp54-EHq_LWW4PyMi3S3LpVzGf5y5rpkt_LTlIOVAjjP99dcYwd6dYkP5GYOkzv-F_Y2j4HRB4gpIDJGFbl1hFN01xTpjtsBNp_okWJ_FfiA6eoGh-ae4rpQf5MrhsOhaYI2IYs9SncC5oQ95luKPNgIg0mGs6SQ3_v6_VdPl0j0HwSjazDq4e7o1AC8A8RYHqWzbrLxbWMSPgWfmVYfmjU6JVcG51EEBNOGUNpsnJghuo7L86FhX7ivVrjTjHaror30_OHh0NnjpPtTA3P2zBhwa56dL7yyWCkEkuuWYuH7XHKk56nUbkt390j5hry7ryvQsN5ixmK2u3As1jxIMzM8IpEfVHIzecMa7V7s3BOjOpdhrDuuDgVlgEza98nhr43F858LoZuHa4IoHud1KWNUe6bIUtWdNNN3_SgrWbJob-1Kr2kVRCSyP1cN3Pad8pJcveU8ZIolLvwPb6ar5Jligstrx7d6wol7o-MeNYVg=w1183-h705-no)"
   ]
  },
  {
   "cell_type": "markdown",
   "metadata": {},
   "source": [
    "# Scale Free Distributions\n",
    "\n",
    "- $P(d) = cd^{-a}$\n",
    "\n",
    "- $log(P(d)) = log(c) - alog(d)$"
   ]
  },
  {
   "cell_type": "code",
   "execution_count": null,
   "metadata": {},
   "outputs": [],
   "source": []
  }
 ],
 "metadata": {
  "kernelspec": {
   "display_name": "Julia 1.0.0",
   "language": "julia",
   "name": "julia-1.0"
  },
  "language_info": {
   "file_extension": ".jl",
   "mimetype": "application/julia",
   "name": "julia",
   "version": "1.0.0"
  }
 },
 "nbformat": 4,
 "nbformat_minor": 2
}
