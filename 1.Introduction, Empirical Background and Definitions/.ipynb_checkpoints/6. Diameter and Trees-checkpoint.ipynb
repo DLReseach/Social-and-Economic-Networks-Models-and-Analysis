{
 "cells": [
  {
   "cell_type": "markdown",
   "metadata": {},
   "source": [
    "# Diameter\n",
    "\n",
    "- Bounds can be difficult - theorems are narrow, but intuition is easy\n",
    "\n",
    "- Let's start with an easy calculation\n",
    "\n",
    "- Cayley Tree: each node besides leaves has degree d"
   ]
  },
  {
   "cell_type": "markdown",
   "metadata": {},
   "source": [
    "# Ideas\n",
    "\n",
    "![](https://lh3.googleusercontent.com/funXsUqRER5Ao_ChGz8O1afwvPTHlrxtu2a0yaoowxIYe8VQieboa5J7k22fsSyZ7neRjoFwag6kvzFND-8Xqfy6SfT3Xd2GXALcfp3wU9QqCsBkSh9_FJFuKncFj4KyFXq_9SGXIVtOIU08NDbX3MfPfXWe1F2euRJXgxNLj2SRVWPhiVyIbVPlo9HjjLjju8PGKffiyN1mSzTmBSCyV811q6BdypCApatrSlImJzqELKR_7_oUtQTSGKqhEU01oS0lP9wHgu05qXKL_IMHbIjo71ImTtsfa8WCJvaSF19LOYXEigN9IZwDj4Y4yPxD9XXfwdA7IjuWMicHSt_6Ux9_0BNw0NZcaTrQaMX5RCS3FSX802VXKrNHCptsduD4sndKPOTt0R0BZTmOO5KWWNznIn549tfs3MXxmnJlnbdL0S3nEXyXLPwNsMPohVhPI21imSaq1EfAG87p19SQRP_FfOc2yK58smjhoogohYIkS3T9IDqD8ZuqsGJ6e5omxnJWABzrEnlblDwSH4TLR-lnsLs5z9oN5nQQzNQdZQdOG8yRgNo8invyGxQF1rc_co1wMe_lAgLUBsVzHtx9Axl3JFSI1EE5Pihqz281uNqat3QEY-jNka98BPc-Aej_Gb8PUVgw6mxRxOAilhtAYoWRyIZpMqjuIU0-mtZ9sUl6odhQ0_q1ePKT=w1000-h473-no)\n",
    "\n",
    "- Moving out \"l\" links form root in each direction reaches $d + d(d-1) + ...d(d-1)^{l-1}$ nodes\n",
    "\n",
    "- $d + d(d-1) + ...d(d-1)^{l-1}$\n",
    "\n",
    "$= \\frac{d((d-1)^l - 1)}{d-2}$\n",
    "\n",
    "$\\approx (d-1)^l$ for a reasonable larege d\n",
    "\n",
    "- To reach n-1, the rest of all the nodes, need roughly $(d-1)^l = n$ or n-1 roughly\n",
    "\n",
    "- or \"l\" on the order of $\\frac{log(n)}{log(d)}$\n",
    " - $\\frac{log(n)}{log(d)}$ is exactly number about Erdos-Renyi random graph. If you just put out a random graph, we're getting something like that. So if we had a really regular tree, we would end up having this kind of calculation for how long it took to reach somebody at the center to reach the other ones. The overall diameter is going to be on the order of twice this, but roughly propotional to that.\n",
    " \n",
    "What if not a tree, but E-R randm graph?\n",
    "\n",
    "- all have same degree - really are random \n",
    " - show that fraction of nodes that have nearly average degree is going to 1\n",
    " \n",
    "- some links may double back\n",
    " - most nodes until the last step are still not reached!"
   ]
  },
  {
   "cell_type": "code",
   "execution_count": null,
   "metadata": {},
   "outputs": [],
   "source": []
  }
 ],
 "metadata": {
  "kernelspec": {
   "display_name": "Julia 1.0.0",
   "language": "julia",
   "name": "julia-1.0"
  },
  "language_info": {
   "file_extension": ".jl",
   "mimetype": "application/julia",
   "name": "julia",
   "version": "1.0.0"
  }
 },
 "nbformat": 4,
 "nbformat_minor": 2
}
