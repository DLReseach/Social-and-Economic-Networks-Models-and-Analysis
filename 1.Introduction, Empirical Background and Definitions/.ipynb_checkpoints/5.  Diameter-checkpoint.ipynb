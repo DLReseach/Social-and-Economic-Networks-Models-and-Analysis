{
 "cells": [
  {
   "cell_type": "markdown",
   "metadata": {},
   "source": [
    "# Diameter, Average Path Length\n",
    "\n",
    "- How close are nodes:\n",
    "\n",
    "- How long does it take to reach average node?\n",
    "\n",
    "- How fast will information spread?"
   ]
  },
  {
   "cell_type": "markdown",
   "metadata": {},
   "source": [
    "# Diameter\n",
    "\n",
    "- Diameter - largest geodesic (largest shortest path)\n",
    " - if unconnected, of largest component...\n",
    " \n",
    "- Average path length\n",
    " - less prone to outliers \n",
    " \n",
    " One thing about diameter is it can be prone to outliers. It could be that happen to be one pair of nodes which are very far from each other, but a lot of the other ones are relatively well connected to each other. So average path length is going to be a different measure than the diameter inside of the maximum geodesic. It's goting to be the average geodesic in network.\n",
    " \n",
    " ![](https://lh3.googleusercontent.com/wCNJ4ZBcHO-a9SlFo0FA0eHK3FmC1nreBELDzJs7eTitSWbBaOZa9a5rWrEaGSeM3yzCMCHBPcTJ9AsPpbFrYlzRg1w3WAc-1b2M_4aeGOZ6lDINhGBYnDmWespS4gUsNWhOvSl9LwLaGe2CjEOdkoFXXVmZ_6QGk3eG0Hv7ClnYQ1IRIcVTcECiMUBNRlnIFvPbExfhLtEWDgfGzmnmx7kw5gl9NU6kFzvkvIIUEt3ZK3wWqfdCD0b0ALGWB6nPufsHP-TQ63GKngc3yTbGrj9NMat3Y-eZmyblK-_pLyg8HApMf2U3ZvEH-FsZ8Ot-EHfjh1Zd9MrZL5m7hlc6Dr6iGEw3bNxeO1JzHDNDNO2BGA6veOjD1eo6auFsr_2w9aQkir_9PaGPmyH1oc1XD8KbzkZjSFKPinK5f41zLdcRQl3dCuPLxBzQ9dwG6WwoV3HjgcfSpxLu9yzBIQFnuodBmEUBukzGfFDzGMXoWCBZlJ6RoUsqSarSyvzeAZnr0k5AVCXI_5v-EkFPJ4tlGgLR6nu5dfAI8NN1k4riKXxZ00AjFLukMbWkCPkYQWjsYc1moZLYKyajE7sve6b-ece19QkiZ25YpzwlsJPNxUcjK8BiMuWdwyrbsAyQlXCv9idLhy-gt2d8OxUg6g9dEWj7Qt7ORbnilj5gTn1MurS8NDKILk_FOSCo=w1000-h412-no)\n",
    " \n",
    " In the tree network, there are 3 levels: 3 differnet links(16-17, 17-20, 20-25)\n",
    " \n",
    " The tree network diameter is 6, node 25 to node 30"
   ]
  },
  {
   "cell_type": "markdown",
   "metadata": {},
   "source": [
    "# Small average path length and diameter\n",
    "\n",
    "- Milgram(1967) letter experiments\n",
    " - median 5 for the 25% that made it\n",
    " \n",
    "- Co-Authorship studies\n",
    " - Grossman(1999) Math mean 7.6, max 27\n",
    " - Newman(2001) Physics mean 5.9, max 20\n",
    " - Goyal el al(2004) Economics mean 9.5, max 29\n",
    " \n",
    "- WWW\n",
    " - Adamic, Pitkow(1999) - mean 3.1 (85.4% possible of 50M pages)\n",
    " \n",
    "- Facebook\n",
    " - Backstrom et al(2012) - mean 4.74 (721 million users)"
   ]
  },
  {
   "cell_type": "markdown",
   "metadata": {},
   "source": [
    "# Neighborhood and Degree\n",
    "\n",
    "- Neighborhood: $N_i(g)$ = {j | ij in g}, usual convention ii not in g\n",
    "\n",
    "- Degree: $d_i$ = # $N_i(g)$\n",
    " - The degree of node i is just simply counting up how many neighbors a given node i has in the network g."
   ]
  },
  {
   "cell_type": "markdown",
   "metadata": {},
   "source": [
    "# Erdos-Renyi (1959, 1960) Random Graphs\n",
    "\n",
    "- start with n nodes\n",
    "\n",
    "- each link is formed independently with some probability p \n",
    "\n",
    "- Serves as a benchmark \"G(n, p)\", graph on n nodes with a probability p\n",
    " - It's a very important benchmark in understanding things, because if we see some network out there in the real world , if we know what the properties of a random network of nodes with some probability p was, then we can compare the real world network that we see to this benchmark network and say does it look like something systematic is going on? Does this network look systematically different than if nature had just picked links at random? Or does it look like something is systematically different?\n",
    "\n"
   ]
  },
  {
   "cell_type": "markdown",
   "metadata": {},
   "source": [
    "# Sequences of Networks\n",
    "\n",
    "- Links are dense enough so that network is connected almost surely:\n",
    " - $d(n) \\ge (1+\\epsilon)log(n)$ some $\\epsilon \\ge 0$\n",
    "\n",
    "- $\\frac{d(n)}{n} \\rightarrow 0$: network is not too complete"
   ]
  },
  {
   "cell_type": "markdown",
   "metadata": {},
   "source": [
    "# Theorem on Network Structure\n",
    "\n",
    "If $d(n) \\ge (1+\\epsilon)log(n)$ some $\\epsilon \\ge 0$ and $\\frac{d(n)}{n} \\rightarrow 0$:\n",
    "\n",
    "**then for large n, average path length and diameter of this G(n, p) graph are approximately proportional to $\\frac{log(n)}{log(d)}$**\n",
    "\n",
    "$$\\frac{AvgDist(n)}{log(n) / log(d(n))} \\rightarrow ^p 1$$\n",
    "\n",
    "(Proven for increasingly general models: Erdos-Renyi 59 - Moon and Moser 1966, Bollobas 1981; Chung and Lu 01; Jackson 08;...)"
   ]
  },
  {
   "cell_type": "code",
   "execution_count": null,
   "metadata": {},
   "outputs": [],
   "source": []
  }
 ],
 "metadata": {
  "kernelspec": {
   "display_name": "Julia 1.0.0",
   "language": "julia",
   "name": "julia-1.0"
  },
  "language_info": {
   "file_extension": ".jl",
   "mimetype": "application/julia",
   "name": "julia",
   "version": "1.0.0"
  }
 },
 "nbformat": 4,
 "nbformat_minor": 2
}
