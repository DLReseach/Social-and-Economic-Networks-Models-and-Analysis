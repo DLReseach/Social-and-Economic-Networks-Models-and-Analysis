{
 "cells": [
  {
   "cell_type": "markdown",
   "metadata": {},
   "source": [
    "# Why Study Networks?\n",
    "\n",
    "- Many economic, political, and social interactions are shaped by the local structure of relationships:\n",
    " - trade of goods and services, most markets are not centralized!...\n",
    " - sharing of information, favors, risk,...\n",
    " - transmission of viruses, opinions...\n",
    " - access to info about jobs...\n",
    " - choices of behavior, education...\n",
    " - political alliances, trade alliances...\n",
    " \n",
    "- Social networks influence behavior\n",
    " - crime, employment, human capital, voting, smoking,\n",
    " - networks exhibit heterogeneity, but also have enough underly structure to model"
   ]
  },
  {
   "cell_type": "markdown",
   "metadata": {},
   "source": [
    "# Primary Questions:\n",
    "- What do we know about network structure?\n",
    "\n",
    "- How do networks form? Do the'right' networks form?\n",
    "\n",
    "- How do networks influence behavior? and vice versa..."
   ]
  },
  {
   "cell_type": "markdown",
   "metadata": {},
   "source": [
    "# Synthesize\n",
    "\n",
    "- Many literatures deal with networks\n",
    " - Sociology\n",
    " - Economics\n",
    " - Computer Science\n",
    " - Statistical Physics\n",
    " - Math (random graph)...\n",
    " \n",
    "- What have we learned? What are important areas for future research?"
   ]
  },
  {
   "cell_type": "markdown",
   "metadata": {},
   "source": [
    "# Three Areas for Research\n",
    "\n",
    "- Theory\n",
    " - network formation, dynamics, design...\n",
    " - now networks influence behavior\n",
    " - evolution?\n",
    " \n",
    "- Empirical and experimental work\n",
    " - observe networks, patterns, influence\n",
    " - test theory and identify regularities\n",
    " \n",
    "- Methodology\n",
    " - how to measure and analyze networks\n",
    " "
   ]
  },
  {
   "cell_type": "markdown",
   "metadata": {},
   "source": [
    "# Central Focus\n",
    "\n",
    "- Models for analyzing and understanding networks:\n",
    " - Random graph methods\n",
    " \n",
    " - Strategic, game theoretic techniques\n",
    " \n",
    " - hybrids, statistical models\n",
    " \n",
    "# Models\n",
    "- Provide insight into why we see certain phenomena\n",
    " - Why do social networks have short average path lengths?\n",
    " \n",
    "- Allow for comparative statics:\n",
    " - How does compoment structure change with density? Important in contagion/diffusion/learning...\n",
    " \n",
    "- Predict out of sample:\n",
    " - What will happen with a new policy (vaccine, R&D subsidy,...)?\n",
    " \n",
    "- Allow for statistical estimation:\n",
    " - Is there significant clustering on a local level or did it appear at random?"
   ]
  },
  {
   "cell_type": "markdown",
   "metadata": {},
   "source": [
    "# Outline\n",
    "- Part 1: Background and Fundamentals\n",
    " - Definitions and Characteristics of Networks (1,2)\n",
    " - Empirical Background (3)\n",
    " \n",
    "- Part 2: Network Formation\n",
    " - Random Network Models (4,5)\n",
    " - Strategic Network Models (6,11)\n",
    " \n",
    "- Part 3: Networks and Behavior\n",
    " - Diffusion and Learning (7,8)\n",
    " - Games on Networks (9)"
   ]
  },
  {
   "cell_type": "code",
   "execution_count": null,
   "metadata": {},
   "outputs": [],
   "source": []
  }
 ],
 "metadata": {
  "kernelspec": {
   "display_name": "Julia 0.6.4",
   "language": "julia",
   "name": "julia-0.6"
  },
  "language_info": {
   "file_extension": ".jl",
   "mimetype": "application/julia",
   "name": "julia",
   "version": "0.6.4"
  }
 },
 "nbformat": 4,
 "nbformat_minor": 2
}
