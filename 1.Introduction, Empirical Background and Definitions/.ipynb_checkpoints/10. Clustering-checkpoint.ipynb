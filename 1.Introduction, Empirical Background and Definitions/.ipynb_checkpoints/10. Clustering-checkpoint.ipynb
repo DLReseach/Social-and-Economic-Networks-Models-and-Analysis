{
 "cells": [
  {
   "cell_type": "markdown",
   "metadata": {},
   "source": [
    "# Clustering\n",
    "\n",
    "![](https://lh3.googleusercontent.com/7tjU_Ts8lEpyUR0Vp684a0lVftKjIMBloMGDltEXLI5R84BWiuJVkFBlk8l8vmn7yi_iY3Nge1qdohPr-cJ2uepsMkfFisS1qI5ua-sLiwM64K2qJM2A218FfCmec-GbUcxL3uGmsoUD1Y32NAxzvhg34mLpx1Y1l4F1iPztmy-PeU239r-ENSQDrbUJ2IZ5-aBrw-ez4V8pkBLcUgrLGW4u3q6hY0xNKVUqc2_m6m0MYcnFyssOEkJCjloh1fgdhF6RAMgaxwCzih_IiVmmDyNfrqUXqm50rvVt_mtWebPlBgbtMPC71ga_73RDi7Dh5_mSonqb2PDJ72CHcZtYvdr4hiHCDzjpDWAKhU0hEtjlrx2_7l77_oRHDvRcgtXRBlgG9AXCt9-x8hlb__6X2GhOwMIQNGdLZEsqMErzCG_fU5eOfmJANtnx_Lw6Ds1RsXAeO7wIpfWWDJ1C95It-8nebZ56ynKztZ9BL3FHswmSOd5XMf9CvLIySZFCOkA9q-ADn3KqP1XVbJ9EewCGkImvge7ZNYlEtzbyQfkxBM-H_M_OLkIXjvl9akJ33DlXWgo0f70uK8TCLbtMSNX9fSLEtqtYxpHrS2Mhcg82E2KX1e-xKgQA3X0zkGcWiXO3fZT1qcozDhjR0sr5eTjj8OQTeeCwmVu4oy0jTDYuJxeTBZPi0ltMuGk=w364-h248-no)\n",
    "\n",
    "- What fraction of my friends are friends of each other?\n",
    "\n",
    "- $Cl_i(g)$ = #{kj in g | k, j in $N_i(g)$} / #{kj | k, j in $N_i(g)$}\n",
    "\n",
    "- Average clustering:\n",
    "$$Cl^{avg}(g) = \\sum_i Cl_i(g)/n $$\n",
    "\n",
    "- Overall clusterig:\n",
    " - $Cl(g)$ = $\\sum_i$ #{kj in g | k, j in $N_i(g)$} / $\\sum_i$ #{kj | k, j in $N_i(g)$}"
   ]
  },
  {
   "cell_type": "markdown",
   "metadata": {},
   "source": [
    "![](https://lh3.googleusercontent.com/P5iYdAr5sS4fUQ2E5mtHs66ybXQepfv_fniqGJ5CbKFCzF7o0BsVWTMAIXrwUCFScLXE7S1U_LjIRRSGU5MW7mQEGg0U7efsnfMPUcM_9AUk0FLvCexTvrHA2UBMcaNCTNLDOi_aogyJHbnR2lL1V2t8BgKpEleOI3fPPbjjf3EX9LFC5n4Olr5RPqqdr-GD-cVikpCUFTWIqWKPeSXkrtUWXoF2OArfsefmM5TNUj-Cur53tCvqd_UG1bknzyPaclfuQ-UQRWfBfedf-9txHvpEZAXw9fPoCCRHDgP3xfeMjS4pkBCe5DlsVwHfriMkKnuIfUkQtymhRsOs82ELjhSLZLKukRdTODQ3ujo5xH9ob6wr1nISS5KmgVB42VeWZ4XLcUVu59llHTrUH9UZexMcxNjvEOIaQ9FxEgfhI0xPSdXRsrBDuB1Yza5XZAlqg4_ZUCctNJltVKqkR0rdyiRxNHULlbdohPQhe_MgyrNXyrU-O7XqaLoKJ7iK0bG7nh4V8mxi0YsAkqJ6ZzN-_2N-CIUS1tnms45DpKx5VgHW_ygPT6eZ6MVJHWTsH0WO-YJj5rFn6WPDnwuV9nN3Cig9vsfxH5AxPKBxUi1AjJAv_gfR0qTosqKy9A0hkAzecKGv1B3Ev6fyakcKJQBdTA67NTmcEQHQqSGw-n6tkkjWpkZeBy76NkM=w847-h556-no)"
   ]
  },
  {
   "cell_type": "markdown",
   "metadata": {},
   "source": [
    "# Clustering in a Poisson Random Network\n",
    "- Average and Overall clustering tend to 0, if max degree is bounded and network becomes larege:\n",
    " - $Cl(g)$ = $\\sum_i$ #{kj in g | k, j in $N_i(g)$} / $\\sum_i$ #{kj | k, j in $N_i(g)$} is simply p\n",
    " \n",
    "-  If degree is bounded, then p(n-1) is bounded\n",
    "\n",
    "- So p goes to 0 as n grows"
   ]
  },
  {
   "cell_type": "markdown",
   "metadata": {},
   "source": [
    "# High? Clustering coefficients\n",
    "- Prison friendships\n",
    " - 0.31 (MacRae 60) vs 0.0134 (G(n, p) model)\n",
    " \n",
    "- CO-authorships\n",
    " - 0.15 math (Grossman 02) vs 0.00002\n",
    " - 0.09 biology (Newman 01) vs 0.00001\n",
    " - 0.19 econ(Goyal et al 06) vs 0.00002\n",
    " \n",
    "- www\n",
    " - 0.11 for web links (Adamic 99) vs 0.0002"
   ]
  },
  {
   "cell_type": "markdown",
   "metadata": {},
   "source": [
    "![](https://lh3.googleusercontent.com/9b8IwvkE57KOACsrC8kTOUynsFZGk8qywn1uYhPc3LtUq5BNE9iCHHiVnUKU148hE9tAZEdeMbj9TC6sD5z5AROUGOtCEjg-imeGCVv-1fxTKT8el6rB-tv83K66ACcdK9Qg4cZfAqEX_sKR8SIA6E0-hzu0IHMlo6AiP5-MMHaco9Uo80DPVyNvARNV1ASnJLoi6YqoqFiHhLRIJv9t42rVc3wyNHfebHe4ke_iFwvdyHPNPv7xNWnYNFCzhf1Gcpid-Sx8R2clhficbE4u_IqV3jzEgIC5SICbmeuORGcY19K4ZSlakuIUbU1Enlwtci3i2og-nlzE-EYBM_kM-uaGbMhPKi244WPNXEqznagzsP8ES4lOImOW_JLRSJ-kHQroSQck8es0y6p8_rWvQjAUCfFjP1V9A9kjKCnfe5eAZ8_8bUazUUOPQp_gi_gCM-DX7HXqM_ivnupeWhHQ5Sh4zaltTKb2_Wl2M05C0qztsqUabn0-ZWpPlZVWTqIA5vgOiYfB5i7MVofaBJ7-r0Y4rPaVQa1a362taD0ZU00cW88agtf53SrVXg9-5l6UQVmhvwGRYMlfuPq56amnzizzNq7VtNdkpmQpAB8-1jS1mnAB6KCmKHh4TQMHduWpo_s5jdwV_CGMuHn0sZy7CtclTQJdKScLLwV0arbLP7YDaxxru4nqHv0=w1275-h722-no)"
   ]
  },
  {
   "cell_type": "code",
   "execution_count": null,
   "metadata": {},
   "outputs": [],
   "source": []
  }
 ],
 "metadata": {
  "kernelspec": {
   "display_name": "Julia 1.0.0",
   "language": "julia",
   "name": "julia-1.0"
  },
  "language_info": {
   "file_extension": ".jl",
   "mimetype": "application/julia",
   "name": "julia",
   "version": "1.0.0"
  }
 },
 "nbformat": 4,
 "nbformat_minor": 2
}
