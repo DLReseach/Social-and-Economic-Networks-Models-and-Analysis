{
 "cells": [
  {
   "cell_type": "markdown",
   "metadata": {},
   "source": [
    "# Representing Networks\n",
    "\n",
    "- N = {1,...,n} nodes, vertices, agents, actors, players...\n",
    "\n",
    "- edges, links, ties: connections between nodes\n",
    " - They may have intensity (weighted)\n",
    "  - How many hours do two people spend together per week?\n",
    "  - How much of one country's GDP is traded with another?\n",
    "  \n",
    "- They may just be 0 or 1 (unweighted)\n",
    " - Have two researchers written an article together?\n",
    " - Are two people \"friends\" on some social platform?\n",
    " \n",
    "- They may be \"undirected\" or \"directed\"\n",
    " - coauthors, friends,..., relatives, spouses, ..., are mutual relationships\n",
    " - link from on web pages to another, citations, following on social mediam,... one way"
   ]
  },
  {
   "cell_type": "markdown",
   "metadata": {},
   "source": [
    "# Undirected Network:\n",
    "\n",
    "![](https://lh3.googleusercontent.com/Y0GQBxO0sQsxumYiNOtLVs0G8mVY1taaxjxKs1Ajx3YRl_Zq7qc38OPhr9e8Q6-0-Wj7KWVFeFxXcbB_TuSAeiZcEpo6HobSUujJFCaQjDAXP0qyH-KKLxzoOeTY1jBykeLhPgLpDZxzrdSawW_pH27Qf8TeTfVQ6YJgAwZBNdqgdGG8XHf-MQ7wYoK1dAk80yoTmjWIC1pQ7crFKkmrB8JGW1PfG0Yu04MwP2heYr5cfy9-S62yGRX1zCKnZww_gIgrsGirfmIkxmfjcgS6QumrDpaocVpyEotvOcWYCLwnF2SxiJ2RY5zFBXfoPr_nBf-7K2CA7Ee0iZqZMmqs21ImBzQFo1IywBBb9qalkdl0jsgrNn4ZzmOeCw6ynsR7PEa8aw2m2gYoI8vYKUSntC9vEwmlgNND4oHRzAZuT1atbUpj6gRYDVMMowYhCuCpvTyIISq-r0lqeYnyFobGUJuKrb_40PWtMphFphOGyFaaZkzhG1sLviGfb7XCNuEbjOuwKWGbEFRb8z6ek3f53eRIX1c0wbb_LBri9-fTaww41E6TeBtzp4nT9VNVWQWQnnMAamre_bDXQ5sWcQcYHIvlafoS4R-p6niGmc-iUvBW3rGPZC7U3erhuzWfneyDTjgNK-Tx-yyiQndYc3j4kfwm6s5XKApM5epUZLyBAC6VcrFj8SCyCUUV=w1000-h559-no)\n",
    "\n",
    "\n",
    "\n",
    "Or list the links:\n",
    "\n",
    "g = {{1,2}, {1,4}, {2,4}, {3,4}}"
   ]
  },
  {
   "cell_type": "markdown",
   "metadata": {},
   "source": [
    "![](https://lh3.googleusercontent.com/_Aaa4RYVvftMETpCB1-5FsOy6apaOn1xgqQXs-tzmqcx4qJ6TaaEJlLVk_3fj03q9lEGq1D6O7GBEABn0-3_kySfIALMa_BMz8nStqcdJ29UqrdQcfd3xO_F4LUaXtvONr0Fa4sxv-qkXasSpt54Vq9ktDGdgUU8OmW559oBLeIQPqdr7fID51pprD-L3Px8LzFardAEWdm8jV62khdCJhZFNXUnMHHK78VX4pbfBZvNKTrBhwV4iqgW_U1a8dHGRUBQgc3UsoNclFzhvuE9apgDGlEe-k7OO62ZDfqGiDn3yt7X9b3mLqxtHvmQ276gp5QcIHNDbu86NnuS7IMdwPeRTcpsUfIQHQC7kt5LvdDnB9UG3350n_qi99RLAG_7-UhQ9VeT5f7i6PbNgN_ZYNUZMU-S_ovHW5VyxVKt-XX4j87kTmUT55ivqbnjVLf0yzBfsi3DHPE3qj08jvLm3zVgVzjwfIt_AIWXTLwX8EAgIZDOpJiO7vCxG90rH7a4gaf11bYSFIlFA9kzKDgCusfQOFpLX-N6fckHE5aX6Hu2TLRjEJ5JGcaJOYoquAD0QhtL38yES3qof7s8O4Q-k8U6vlaJhFB9kQvLKy9bZ1xO1JhMNU4kS7qkpz18hv5fC2lHk6BQBadac6uZsz3-H6No2bX9QGymjNvos3r_GAXoD0pyAlkE9fKs=w1000-h556-no)\n",
    "\n",
    "g = {12,14,24,41,43}\n",
    "\n",
    "order of pairs matters"
   ]
  },
  {
   "cell_type": "markdown",
   "metadata": {},
   "source": [
    "![](https://lh3.googleusercontent.com/XZa7wPC7mFuLo6stoFduejGWL8fthv2BwQjR-01HeMRd-3SIIa5kGjYw7zYwTgqFT-54VNJSYcPvQ8UaSvn1A77rjuyErxqRPTea0SC8Yyv-qneP9Bvrt9BYv1gSk7ST-YXmupEwEVCG_Qod9azHMFkH0_9-oKm-ZqpgI5TscE673YhqqJ2SKbouB9hT1tdiDC5iEFASU2tto3FUMPdTGfs2Ik3JbJ3zrGs_-yhV_zLdFg4lJmaPt8wRF3qGzjo3EMuHpffsFKHYVjLoJBXqz2wjLj8ZbJ-BsA985d1um2HRWGk3MiSxzvLJp8hzMxcc8Z5PKbe28iEHqAZ6JM8mMbIMBaz8sym77M65Ro2JlcZz--r6GHj-pm900_rgNjBVctO1HbA5kOV6fA6ra-UByXb1qbbF2lK-EySDvJktqHdqCArfMmLFGuL9Es2asE-PXzj-1l-rFBTywSG_BVudpBXszZvgYQ5j8qAUT6NihdsMbKWYcXB4Eohajz9TjcmssTSl5v_SXdIDMKU58nLnEyGqv_6agLAfAK-4v6ONT_PaEOUnXBLl9A442DyFe_Vmt7AjE41dN51NsByalgVS8Vb_M3vMRPS_O1PBF4gSsISvrlsNLEn_Tt0K9BoFZmWw6ThyiDOXPOxWINHPEQ5m5TvcRa8Giz6OBZm-e1lKd2VNgG2mkyh7uH2Y=w635-h329-no)"
   ]
  },
  {
   "cell_type": "code",
   "execution_count": null,
   "metadata": {},
   "outputs": [],
   "source": []
  }
 ],
 "metadata": {
  "kernelspec": {
   "display_name": "Julia 1.0.0",
   "language": "julia",
   "name": "julia-1.0"
  },
  "language_info": {
   "file_extension": ".jl",
   "mimetype": "application/julia",
   "name": "julia",
   "version": "1.0.0"
  }
 },
 "nbformat": 4,
 "nbformat_minor": 2
}
