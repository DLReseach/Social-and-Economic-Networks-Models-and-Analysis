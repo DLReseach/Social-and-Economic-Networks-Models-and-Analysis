{
 "cells": [
  {
   "cell_type": "markdown",
   "metadata": {},
   "source": [
    "# Theorem on Network Structure\n",
    "\n",
    "If $d(n) \\ge (1+\\epsilon)log(n)$ some $\\epsilon \\ge 0$ and $\\frac{d(n)}{n} \\rightarrow 0$:\n",
    "\n",
    "**then for large n, average path length and diameter of this G(n, p) graph are approximately proportional to $\\frac{log(n)}{log(d)}$**\n",
    "\n",
    "$$\\frac{AvgDist(n)}{log(n) / log(d(n))} \\rightarrow ^p 1$$\n",
    "\n",
    "** same for diameter**"
   ]
  },
  {
   "cell_type": "markdown",
   "metadata": {},
   "source": [
    "- Chernoff Bounds:\n",
    " - X is binomial variable then\n",
    " $$Pr(E[X]/3 \\leq X \\leq 3E[X]) \\ge 1 - e^{-E[X]}$$\n",
    " \n",
    " <https://en.wikipedia.org/wiki/Chernoff_bound>\n",
    " \n",
    " \"X\" can be viewed as number of links end up with\n",
    " \n",
    " the important thing here is that if we're looking at a binomial random variable, so if you are just flipping coins with some probability p and then counting how many come up- so how many come up it as a given- so imagine I'm looking at a particular node and it's forming all of its links and we ask how many links does it end up with, well, the probability that the number of links ends up with is between three times the expected number, and a third of the expected number is at least one minus e raised to the minus expected number. So if I'm expected to have a hundred friends, then the chance that I'll have somewhere between 100 over three and 300 is one minus e to the minus 100. Well, this is getting very close to one, right? So it's as if you expect me to have 100 friends, then very close to one is the probability that I'm going to be- have at least 33 and smaller than 300. So Chernoff bounds begin to say, \"Okay, there's a very high probability that you're going to be within a factor of three of what the expectation is.\n",
    " \n",
    "- **Chernoff Bounds: Links binomial limplies**\n",
    "Probability that node has degree close to average:\n",
    " $$Pr(d/3 \\leq d_i \\leq 3d) \\ge 1 - e^{-d}$$\n",
    " \n",
    " $$Pr(d/3 \\leq all.degrees \\leq 3d) \\ge 1 - e^{-d}$$\n",
    " \n",
    " (missing steps: degrees not quite ind.)\n",
    " \n",
    "- If $d \\ge (1+\\epsilon)log(n)$ then\n",
    "$$Pr(d/3 \\leq all.degrees \\leq 3d) \\ge (1 - 1/n^{1+\\epsilon})^n$$\n",
    "\n",
    "$\\rightarrow exp(-n^{-\\epsilon}) \\rightarrow 1$\n",
    "\n",
    "- So: $$Pr(d/3 \\leq all.degrees \\leq 3d) \\rightarrow 1$$\n",
    "\n",
    "- If $d \\ge (1+\\epsilon)log(n)$ then with $prob \\rightarrow 1$:\n",
    "$$\\frac{log(n)}{log(3d)} \\leq l \\leq \\frac{log(n)}{log(d/3)}$$ $l$ is the distance\n",
    "\n",
    "**Avg distance and diameter:**\n",
    "\n",
    "- Large d: log(3d) & log(d/3) tend to log(d)\n",
    "\n",
    "- $$\\frac{log(n)}{log(3d)} \\leq l \\leq \\frac{log(n)}{log(d/3)}$$\n",
    "\n",
    "- $$\\frac{log(n)}{log(d)} \\approx l$$"
   ]
  },
  {
   "cell_type": "markdown",
   "metadata": {},
   "source": [
    "---"
   ]
  },
  {
   "cell_type": "markdown",
   "metadata": {},
   "source": [
    "- some links may double back\n",
    " - most nodes until the last step are still not reached, so most links still reaching new nodes!\n",
    " - After k steps reached around $d^k$ nodes and $n-d^k$ still unreached\n",
    " - if $k \\leq log(n)/log(d)$ then $n - d^k$ (much) bigger than $d^k$, so most nodes that link to are still unreached...\n",
    " \n",
    " ![](https://lh3.googleusercontent.com/yuGkICMLifAsHyvoS4QLw7XdyDLLww35E6qZglw7XCUHvGYONEgfmzd3jBIqKB2YJQfFyotRmsE3_7w1GPsfaR6C4Mi5LKWyRuj8NVUvS15NSIgOjBp2TkcXTgITK_h7lSmwcL3U=w1246-h513-no)\n",
    " "
   ]
  },
  {
   "cell_type": "code",
   "execution_count": null,
   "metadata": {},
   "outputs": [],
   "source": []
  }
 ],
 "metadata": {
  "kernelspec": {
   "display_name": "Julia 1.0.0",
   "language": "julia",
   "name": "julia-1.0"
  },
  "language_info": {
   "file_extension": ".jl",
   "mimetype": "application/julia",
   "name": "julia",
   "version": "1.0.0"
  }
 },
 "nbformat": 4,
 "nbformat_minor": 2
}
