{
 "cells": [
  {
   "cell_type": "markdown",
   "metadata": {},
   "source": [
    "# Theorem on Network Structure\n",
    "\n",
    "If $d(n) \\ge (1+\\epsilon)log(n)$ some $\\epsilon \\ge 0$ and $\\frac{d(n)}{n} \\rightarrow 0$:\n",
    "\n",
    "**then for large n, average path length and diameter of this G(n, p) graph are approximately proportional to $\\frac{log(n)}{log(d)}$**\n",
    "\n",
    "$$\\frac{AvgDist(n)}{log(n) / log(d(n))} \\rightarrow ^p 1$$\n",
    "\n",
    "** same for diameter**"
   ]
  },
  {
   "cell_type": "markdown",
   "metadata": {},
   "source": [
    "# Small Worlds/Six Degrees of Seperation\n",
    "\n",
    "- n = 6.7 billion (world population)\n",
    "\n",
    "- d = 50(friends, relatives...)\n",
    "\n",
    "- log(n)/log(d) is about 6!\n",
    " - to get from any individual to any other individual in the world. You actually don't need a lot of hops, you can get there fairly efficiently\n",
    " "
   ]
  },
  {
   "cell_type": "markdown",
   "metadata": {},
   "source": [
    "# Examine data and diameter\n",
    "\n",
    "- Add Health data set\n",
    "\n",
    "- Schools vary in average degree and homophily\n",
    "\n",
    "- Does diameter match log(n)/log(d)?\n",
    "\n",
    "![](https://lh3.googleusercontent.com/bdIDtEJez1vgFDKOf0DZ1gaGcO84yP4VP2kUhFLx2hTkJ1x7V9Tcajrl7_qE_SJoDlE44z5vLqVr804jR1GqGomCvmv1JhCFEs7Eu2cKmZObQtTthVDlKNHHdzG5THeWrwJAcrWTp49AB-AsvXyo8BcsC-OGxkjfTsZ7a2QtbMcemp8GQfTpfCoZwC5fv8F7Q7tiLKHvM6YePzLSr0iYfPXOiHsgMVVq934ubhtliduGM75qb178C5hBg-6GgwWLsVlV36oHKrPjCVua1_ntCvBUv67uxt3welCXJMJTrvlhZ5iOgkVm2TJY35u2sLLcnEKLGRqrM0FbYsm_gqDrR48U666Er5Zdr4wBC3_nUBWvsQSt9nHinNvzxv7M78Y05C9AFEELDoCXow3JuCKuEsxt3T9DR33SGet8VLUmuSu7A_cPWcmxWo47V6jbr4S6Yel0wN-Q7ox6dSaaTNKAaFLS2L7gFu51vP1-zhjKo2asdDunQESiBgCGAUfPqnvQ8srxpQhqYxPcmrlmRtcJulKje2wPV5qc9cUe8nBYAOtd_RmpaTjLZbRS-RrSoyQnCntLjbjJxsV5GtljcQ5daWKOHREGz2MaztMxK98dj2LCIDQe0EJ1J5QIVJ8a2H5ltD2pBLMMwyehXH9uGkCVWTDyiMqCLp1fsftDluqECmtmbOQv2e96oUI=w1295-h715-no)"
   ]
  },
  {
   "cell_type": "markdown",
   "metadata": {},
   "source": [
    "# Erdos Numbers\n",
    "\n",
    "- Number of links in co-authorship network to Erdos\n",
    "\n",
    "- Had 509 co-authors, more than 1400 papers\n",
    "\n",
    "- 2004 auction of co-authorship with William Tozier (Erdos #=4) on E-Bay, winner paid > 1000$"
   ]
  },
  {
   "cell_type": "markdown",
   "metadata": {},
   "source": [
    "# Density: Average Degree\n",
    "\n",
    "HS Friendships (CJP 09) 6.5\n",
    "\n",
    "Romances (BMS 03) 0.8\n",
    "\n",
    "Borrowing (BCDJ 12) 3.2\n",
    "\n",
    "Co-authors (Newman 01, GLM 06)\n",
    " - Bio 15.5\n",
    " - Econ 1.7\n",
    " - Math 3.9\n",
    " - Physics 9.3\n",
    " \n",
    "Facebook (Marlow 09) 120"
   ]
  },
  {
   "cell_type": "code",
   "execution_count": null,
   "metadata": {},
   "outputs": [],
   "source": []
  }
 ],
 "metadata": {
  "kernelspec": {
   "display_name": "Julia 1.0.0",
   "language": "julia",
   "name": "julia-1.0"
  },
  "language_info": {
   "file_extension": ".jl",
   "mimetype": "application/julia",
   "name": "julia",
   "version": "1.0.0"
  }
 },
 "nbformat": 4,
 "nbformat_minor": 2
}
