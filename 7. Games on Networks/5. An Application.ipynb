{
 "cells": [
  {
   "cell_type": "markdown",
   "metadata": {},
   "source": [
    "# Application\n",
    "\n",
    "- Drop out decisions\n",
    " - what I mean by drop out decisions.  In particular, we'll think about drop out decisions in terms of being active in  a labor force. And this is an area of economics which  has received quite a bit of attention. And the important thing here is that  these things are going to be strategic complements.  So the more of my friends who drop out of the labor force who are no longer  employed, or actively seeking employment the harder it is for me to find jobs.  The harder it is for me to get employed and it makes it also more attractive for  me to drop out of the labor force\n",
    "\n",
    "- Strategic complemetns\n"
   ]
  },
  {
   "cell_type": "markdown",
   "metadata": {},
   "source": [
    "# Labor Participation Decisions (Calvo - Armengol & Jackson 04, 07)\n",
    "\n",
    "- Value to being in the labor market depends on number of friends in labor force, value to non-labor activities depend on number of friends outside of labor market\n",
    "\n",
    "- Participate if at least some fraction of friends do\n",
    "\n",
    "- Homophily - and different starting conditions (history) lead to different outcomes for different groups..."
   ]
  },
  {
   "cell_type": "markdown",
   "metadata": {},
   "source": [
    "# Drop-Out Rates\n",
    "\n",
    "- Chandra (2000) Census - males 25 to 55\n",
    "\n",
    "![](https://lh3.googleusercontent.com/wgubFEa67H0u6f969e3EMcCrbTMc_ccm19vFFbhIvz0-S6QxQ3HCb4prnNxI9a3ihOm4iwjaF4P8Kf3KFM_zJ5-e3XYdsK6QgmkQtOl-F6l7zfMSVtO1_jh6OkwqGYf5wExiqr1SWM0MkJ02YkFqxC63mWRCgjGnpl3Gn_DAOKY8ES1bNR0x15fhBkgt6ZiEo4yV3Tr_WbmCdcaSPvVHMWFIp3-6FkxNjAt1h-HFGFXEkZR1wg9-sHdlBRzDKcueVCRxZPn860HNbgXdpfvQauiZmq0AE6eOzG6JaxFNyciwT4MssZXLHCd_rsYmryFVnLKvyPXDMVuLtRlFaTt6Lu6nWl8aiCcm1Mdpe-UzCcEcwcLnxOBTJNFdGvbFLik783gBiukhMI4bufC0bOQVEfQD_N7z5GzS0vBV6db8RE7K_Kv9I9T8L070ed40y59zlEe2RMpQGTtkyf1ox5gpCsZ2TIQpzOQT4p-YzLrdm__Z4fdgrPlfYXdeXLL4GslU53jTrt__oxniAlpo14v3WSCiEbdtKSIeu5MihKb0-E_bA8IERI82b_Wo4nLv0c2EMJn_3ZmKA7aDnnEARLjQ96x3KntoK0S0bo4UIQNKSFTshxiIlPdVeC2h7JQs2cBDZuc3cY4tH0zdpRfihSeVl2Bm2XY-EoZyixbjfkD4MU6STQymVCEmpCc8=w911-h323-no)\n",
    "\n",
    "See DiCecio et al 2008, data from BLS for more recent, and by gender, including hispanics"
   ]
  },
  {
   "cell_type": "markdown",
   "metadata": {},
   "source": [
    "# Drop-Out Decisions\n",
    "\n",
    "- Value to being in the labor market depends on number of friends in labor force\n",
    "\n",
    "- Drop out if some number of friends drop out\n",
    "\n",
    "- Some heterogeneity in threshold (different costs, natural abilities...)\n",
    "\n",
    "- Homophily - segregation in network\n",
    "\n",
    "- Different starting conditions: history...\n",
    "\n",
    "![](https://lh3.googleusercontent.com/YzwdumO4dAPQNz1DUIgK8imO5mmPu4yInOOe3pbCINz_CO-Rwge_bAhdG_DFkdzhQCA0uDkTB22NAxS4KKxfLN4_gD6H-A6XxrxZEmP4Snq2MQZb6NJkWgDiFa39XSGwMl6jKxAp5o8Zjeqon2SRDnd9iEQscjdXPpQs6svg0bQmg5NN6bons9tm9W8T09BodzWNBmzI_WmBx4y7ZiNSLRZTre40Er6ZAW8ARBlUfTX7eI3tKblNISvJF1eMZH6fzbIWey47nPb4Mtqr0CKibiVC64J-Ps-EWbppME7tZVtvp9wPkOsWUqNw6ODbsOaOIjcXtlUQptpJbcAv9kYgVt4_FhahwbXhJOdfuW8CkgkyYcTDEk0zWkdI_74KtTD_mnFSG1di4Waym0r94r7j14VppwgsTkCbgP5qmOoElVvN-ezKb5tJOoBCs2-UaP6hEIuOBLVGuFmUjHeEEd_hNdO5ejsQ5Z5oUAjWCkBfG7SkM83eT0uxqtOmWYB8telGLRpQQErdliYmv5crmqKqjjyM4GyEnf1hq4WoPqYP_fN5fAWQsWpk3cJOgWeFUYO_8DcYR72NJGXy6v5JZ_uT7lQCelC0tWNTJt19gaoZ5fMtMHsmaU73HN-5WAhrxf2nlJjkco6buYsCfojLSy0JMWYo5wWB5uk8IYp8X0h1Km1WWNdsG7mg_c8T=w1085-h627-no)\n",
    "\n",
    "![](https://lh3.googleusercontent.com/zLt7exyJJPHV5wMSPm_FbGtkB4jPjPd6TRMVqzavKxKrufDjPqxTjiivEVoCgxZGnrHYqywpLiZyMGSoNWkITbrM6j7Mj6e_O19IjI7Q76YSQeY2VdOEpP9SR1qD1ob5vSIQRPLRo0u0zEgmMnMaZLAsZw45BcBsu4dmE151AfgojR52gDBeDf266XISAe_b7lHh1gbBlUnt2ut8OX12h6p6J1FanqvWwpa15v1hQ73am4e1vwzH2nbYZtlSXqDvksUqamLZWuHm66UXWxlmA4QiWeYD_oTHVYC-E3a7NFjKm1ct-JesKDUi4W8pbasADZTHCytCOyvkny1iadoNUVSDN29YsdlLLO1jV0-7P_ivq299nUNXzgJaElHponDxtEL2nES6Xfu1-xrsCZ1mvjdITU8G0w0gdA405XXKaR4PKQqQvx0awll2Bl2aEbdegyfcLjPlnSIhbtEhp9mb0vCU9fGszjBQmULl3iOrxEIuSTfVAqfp8YTzn6JEetOMTKIcNfrLpBVuP2nEJF3WnicfGUwHk0BywthHw34pGdLDwL-l5oGzZTwum7a3BKIDSUJw5geJ6jExuLkQYK51Atp91kW7iD7QyJUVEtBs9tG3D3h1uBNpzKWcJszu9bt2gdJMiheccvaxoxbzBtgicqTO4ybVXEAgmFVIfTmQiwxM9QJyks4m9hu7=w1089-h700-no)\n",
    "\n",
    "![](https://lh3.googleusercontent.com/HO5ZTofy_dNr6CNCCe_rmlDlUc9J0yzyPI6w5Wlk4Kfq6u4YPOjknUmQ_B-addcKJ_2T3PJdg20U0zeyWRzJKSBJVV5SFDhXLn-v38OUYkYADtMeosoWXJ1xDAZkaDblySVyH-AhIZFJ9Yt2L8Nccmw4FjklNcEqOhhVt1GIbki_5WFN0XuWdBYvmzKVG312lvZdhMbx46342WsvL9gmFF5OA5Szz2C0yf7RkHH75m31X_0FR8cextscuqfLfruuk3rM1DEMNGblwGdjSRprRxY6lQPFD-Ab_mip6e4GNZPBN31Fqi_PxHGa9bc5fO5WTDijWaOokRoqfqgxd6B2hZ1nOWiU4Y-8rLu7fsrVuO-uz_ivVKp2ouFVPOWfGwLCD_DpyukMrG0jIfJSxIdBqpTEIzcYL5rSNxbdm6DF8kN9vX9Lec2c3uPbN6f-5B9G0_xBvVkc88gM5wcSahoiLCUZco03lbwwS1JwgDm54K__oe8ku6DS2CM2oTI8mtqKOyUDqgemnrOk8JtiWKZGRPtcBxTibWMrxn0LiHMVUvgl7G7i-sEtu3GTpzSGKIUQj6uqUmhHuVk9FWsG_uOzQariTdLSPrt87kBjYyjEGqvgckorXibG-E0uYGWCPYKtvh3cEKE0a-ymVI-HsAwkGgJ3RdhvYjOpUtAa74EzdXVx2MNpFc79-C_5=w392-h253-no)\n",
    "\n",
    "![](https://lh3.googleusercontent.com/dcHZsi0ofHojU_WXgFB3y97VUEY4H-bJWXcV3sKsIM3VcEH7JN1fINNDeqadyITYgLHD9hiuToYM7QpaaVXRW20jZhp8KLCNy6-kFdKYCH8xhchcobR0MoOWJuptlOfZX-Qk-BXE11XpgmYHIBK5AmoNLcpgK_R_zXLvTKmPSuTkPBRN4enMu8f4O-96BEn0IrRkNadmP86z_jcO1bmYQAJKHP0PxJ_isXGe0zIXE-soeX4akPYYK4fs9w5m_JBnPv-wG1k8egqLhs026MXfnDNM7MOJNOmCl-l64sp7JYVxwMWB37Jy9hvF8niOiGo8Gyutptl4gdpJ1dgyC_kmhIhQRWuGds3F1Gs5zCTcBAzbjAkCuQ4LA5ls-IMSLVGxettrlkoOW4DbUZhrU83YViT1LsxniwXCSkgdoQBE-QXPhkl_ToOirHnDhiSTnedYUjxsye1Jl_6zinvmwlkMn5g2sbRQaM2jUp5uGrSrk6lR12wagMfidwW3gPFjgo4n6HK8NwJJ8FmZBo9z6MVf_dlt2iMq1k8sbqqPCtJHC_J1XeRDHiaydGez8JHji4E4fQyTHR0JaQzIkSvTSuYGLRgvgAcsM3_MiFRlXULh8qQVcR9KC3nFnXtbPcFSUsJMoV9OFvsksmzxxSgJumEimMj4Bca_3oPaknLj0JWaS1VVBn2KkGzKUduZ=w1103-h726-no)\n",
    "\n",
    "\n",
    "![](https://lh3.googleusercontent.com/FBzi4s1e1JUJXIy5un-rVkY4yXjcla8kn0YZXBE6pI_5rMB1k1h_hsrMRZ5HHkjrZUA6gmim0pOQ4oF1-Twtcz9OSlkl1JyONrHw43uNc6RH93RQATIpbzKJTJgvBDDl9P2ul8-wewGfI5aX5xwlFYW0Bk-Ff4dKDUao_Fw-k_Qy9mGFNxLv6mua26ZtMpt37s_m8zXEel4SHnHjZehlpw-ptfC_GAWZFPCeDjqqTNg0X0HfLBaSsz39wqrCt67MbcNbVnoKZ-u6yyf7Z25LL8qft2Xg2LU0kDVA-h_QYbr7RaQIuCdlb8nlIzFPw1HtqjIg_K99LaksKqBmpBeTyPFGpcMslEAyyTZcPsV_Y7VCI1UEs7YxOsmYYfYoad4MzOdBHfg8cUVBPiWS0GQ1e5pFBzSa2-4CHs9crZ4uyYyvyMSihdI32XySg3pGZZx1NjysVsZeOYBHR9HaIBchZSx4SLzMUH9CcacZqBqJgnPnnXtagFXqVTLFgTvlD7IJXlWLW5Um_qnVX7-SSDZBSsN-iJ_S133bWhECvlutE-P8QwJuxlDIgK_mbJ-QSqthdJFPSB40G5XXDnpXDx-2Q1_XLLYM9T6z7rEUocg8tiRZ4-ydlzHN9RPKu2I3GxMNYwhKpXyK-dggotvrbrKdO1zL9K8nwPqGOXy2Ey3m1wuSQb4mNA53yvfP=w466-h295-no)\n",
    "\n",
    "\n",
    "But the interesting thing is, when we go  back to that notion of cohesiveness, the fact that there's homophily here and it  splits, means that this one group can have much higher drop out rates and that  doesn't contage, it doesn't have contagion across to the other side.  So, we can begin to understand why there's sort of persistent differences.  So, understanding these network games can be useful in understanding why we're  seeing differences that persist over time, and how that relates to, to network  structure. So, it's a very simple point, but I think  one that, that can begin to show how these models might be useful in going  forward and adding more understanding to the dynamics of things like labor force  participation, welfare over time, education, decisions on health.  A whole series of very important decisions people make.  Technology adoption might be different in one group than another.  How can that happen? How does it persist?  These games are going to be very useful in, in answering these kinds of  questions. So we've, you know, there's a little bit  that's been done on this, but I think a lot more that can be.  Okay, so that takes us through a, a, our basic understanding of games on networks  where we've got two actions possible. The next thing we'll do is start to  enrich those and, and look at situations where there's multiple actions and not  just a, a, a binary cell.  "
   ]
  },
  {
   "cell_type": "code",
   "execution_count": null,
   "metadata": {},
   "outputs": [],
   "source": []
  }
 ],
 "metadata": {
  "kernelspec": {
   "display_name": "Julia 1.0.0",
   "language": "julia",
   "name": "julia-1.0"
  },
  "language_info": {
   "file_extension": ".jl",
   "mimetype": "application/julia",
   "name": "julia",
   "version": "1.0.0"
  }
 },
 "nbformat": 4,
 "nbformat_minor": 2
}
