{
 "cells": [
  {
   "cell_type": "markdown",
   "metadata": {},
   "source": [
    "# Beyond 0-1 choices\n",
    "\n",
    "- Graphical game\n",
    "\n",
    "- $x_i$ in [0,1]\n",
    "\n",
    "- Start with Yann Bramoulle and Rachel Kranton: information acquisition\n",
    "\n"
   ]
  },
  {
   "cell_type": "markdown",
   "metadata": {},
   "source": [
    "# Bramoulle-Kranton Setting\n",
    "\n",
    "- payoff: $f(x_i + \\sum_{j \\in N_i(g)} x_j) - c x_i$ \n",
    " - concave function\n",
    " - c: each person pays a per-unit cost of their effort\n",
    "\n",
    "- Take derivative of it, let $x^* > 0$ solve $f'(x^*) - c =0$\n",
    "\n",
    "- In all pure strategy Nash equilibria:\n",
    " - $x_i + \\sum_{j \\in N_i(g)} x_j \\ge x^*$ for all i, and if >, then $x_i = 0$\n",
    " \n",
    "- Look at two types of pure equilibria\n",
    " - **distributed:** $x^* > x_i >0$ for some i's\n",
    " - **specialized:** for each i either $x_i=0$ or $x_i=x^*$"
   ]
  },
  {
   "cell_type": "markdown",
   "metadata": {},
   "source": [
    "# Various Equilibria\n",
    "\n",
    "- Case $x^* = 1$\n",
    "\n",
    "![](https://lh3.googleusercontent.com/WUEdqlaQfpJ22P9Cbzc5HZxZNbvibbFFLF0C1UDbUQ7p96J0dhou9LAtUMeWt4CZUHh162o8NsOYK_DUTj4xyJBZKJdQq074R0jjUqFE6xp5JSjSLQBjJWKy9Q6by_RNnVS4PkZMCVmgi_scMgZINiNNLJ9pvl9Cw8hRZrUeUhArMf5gMEXPus6oNgD9BoPISXgtWqceg6Jm1mlJgi3c-Oe3qJNHgovTteHVYvY0IKYqAfNdp4_RpU-6I-a1X6TBpH04ddH9e8t4wS_1UwdV235YCn5fHWsj-usof2-M8snO2dymcQSDNsRSf-CispEfCag_W3XpqzjDSlEKDh65_4VyJLjX51g842OdFrJir7AySeK408YYUwo-aI-MFIh4AE7Ge9pH_CsPzCthh085LOFrDKc4df5QNVe13iOPlWnr8XtrlZO1W3A_226fKKrj7qNRZtxhUkhKoT2p1mYRBlovL55bKFezE2-RqsfDncjbzEdovDpfk2Zk0B14cpnaw-goG5j91zpHSqI4g3Rx8G6OYPWJnhd4GcKgBCfglJiWkR5cnvmMqz2pqwD3FAaOBQkZ14vnca03RVYL9u3MVTrK0a1NDr56n_AOPZevBarJiynyz1oZXWmvkk2c9UZlAwUqqUR34g9otLdpAeFPlO1VvI0J_dW7LwjN0jxe7YtEqzTqNUVdOwW8=w770-h261-no)\n",
    "\n",
    "**Left pic:**\n",
    "\n",
    "  Here's a situation where we've got a specialized equilibrium.  These people provide the full action, their neighbors free ride.  Everybody gets exactly x star in their neigbhorhood.  Nobody wants to increase their action. in fact,  some people.  These individuals get more than x star. They get two times.  So they're happy. They're getting double the provision of  public goods. They certainly don't want to contribute  anything. And these people are getting exactly **one**, they're providing it because their neighbors are not providing anything, there's another equilibrium.\n",
    "  \n",
    "**Middle pic:**\n",
    "\n",
    "Here's another equilibrium.  Everybody provides 1/3. And that balances because we're in a  situation where each person is seeing exactly x star in their neighborhood, so  nobody wants to increase or decrease. Right?  So this is a distributed one, where we've got an exact distribution. \n",
    "\n",
    "**Right pic:**\n",
    "It's similar to the *Left pic*, but just with roles reversed.\n",
    "\n",
    "![](https://lh3.googleusercontent.com/X2pjgo2yemdYcgUaH84wrEEUm1jBgL3UpXCevE-6Fam9dXba6Ts4cQIs8fksCmHJYFdidApEUulAfoWMk9NqKGXG5_TQprKdOKaUHbtjrXlQ-ttUIYbHVIQbHSqHL7Fh8EMSby0X2TorI9D89WE-1Sb-mnaA9SJ3L2zGYqGy_yjKQYdx-rcqJKQN1qVdm2K2uEdBJwG9go3kES-v9hPvDNInI7qDqSFxOQZN3qSDpMWzY1fA88qeJyjWGoZ-b-5a1YVHSyUPENOKe6fY9-X4n3TDH4QvDX-UQwnowxJWDW6rCtvJIWbQeKi0ylqM2bN0SKN4Hz2nXDChh2v7x9mcBxXaCIzeI2SoveLNxvLUydeW030sRmxLcUzCQc1NqokzYhWUfAdVPFjBKayR2V1xDoyp8u5gJNu_jg-RaAvJqYx_VB7CJNvKVURR_WN0xRF7j5SkDPMD-DWJ66GxmQlOVr0MRk4hZKn__zc1A5b2UST2FerjwQF7d-XE5MK839kUb076K0bPQaykXKHYsDchWeKwMRR6kG-5dcXPQaB0Bjx0HzXHNV2WBtfhBWYwsHsMLVHOmer-hpol2Ov3-qMg8jFQBzX3gBcDE72oYUuixfNeH6R7x5Wu5Vr_ckgbT78ecwYQvbkGDxj7sBYS3R2LMx_8Omo0bDahQiB6bVPsCsLlG4iokkk72pVP=w888-h666-no)"
   ]
  },
  {
   "cell_type": "markdown",
   "metadata": {},
   "source": [
    "# Specialization Equilibria\n",
    "\n",
    "- Maximal independent set - set S of nodes such that\n",
    " - no two nodes in S are linked\n",
    " - every node in N is either in S or linked to a node in S\n",
    " \n",
    "- Proposition(B&K): The set of specializated Nash equilibria are profiles such that a maximal independent set = the specialists($x_i = x^*$)"
   ]
  },
  {
   "cell_type": "markdown",
   "metadata": {},
   "source": [
    "# Stability Notion: pure strategy equilibrium\n",
    "\n",
    "- perturb x to $x^0 = (x_1 + \\epsilon_1, ... x_n + \\epsilon_n)$, being sure that all entries are feasible. $\\epsilon$ can be positive or negative.\n",
    "\n",
    "- Let $x^1$ be the best response to $x^0$, $x^t$ to $x^{t-1}$\n",
    "\n",
    "- If for all small enough $\\epsilon_i's$ converge back to x, then \"stable\""
   ]
  },
  {
   "cell_type": "markdown",
   "metadata": {},
   "source": [
    "# Stable equilibria\n",
    "\n",
    "- Dyad: nothing is stable\n",
    "\n",
    "![](https://lh3.googleusercontent.com/b8rP6-pc6HGVZz-qAeDvblGPsMxV7VXw2QYgLugIV1Ij3GXpQM8RXTIv_-Og9EHtKnuL1b8IvaVYMbL4IqdKKr9VEGAmHkqGRL1J4Tvn1rzpVCXogePo7MhXNxipfxWg8JaMOyrqouqXY7HqblYodchWa6nxDjjY_B8X_n3BnqBDdlusSwCbC36BkSFTMCNsG8rO77nEmA8xBz_-SLyVMHHBdr_mEbGpXOt7zlRDq_2EmmKaSAq9RfwdVgkYoNt_BBqao5siWA8gPGZHkhmljWAk4gasg3HBwR4WiPJN7HdaUYFYJtN1-boz34u89qPVm0ollJonEV8uW1cB6kulASSm8VtMrxeuq_liGSmJaG9iS0jh4OsQFkqpYZ9C5aqpDop4GXxqboIhEy6hJtCdXH4ZPipGwIAPFDw5q3lklFdPNY-zHEzv6nAtj0N_Pc6FUck4sBtz-k4RTyVd3kUFZOP7m-QhQ5fk2JuY-LrmOdfmFn9ozynDRAI8m1rBP9rhK6CH0u5llWLmv3W3pYZQVfvUvWueu7rIHPRWNkPcyICOD7ic6UCVV1vjqExdiw-rMdTYZY6H-WUUCqlmXbHKun5pYwnf7WC29_nVTUSpayugjmcRI5lFBYU6SrjafTIu1VxpHKp7MW7AU94BrBI19ieMGmzK2658umMn1_eg7bTbt9i0mxBOOTvq=w587-h236-no)\n",
    "\n",
    "so  we've got two individuals, these two individuals, and let's suppose that, you  know, person 1 is doing something say like a 1 3rd and person 2 doing 2 3rds.  that's not going to be stable in the sense that if we perturb this a little  bit, so suppose we move this down to 1 3rd, minus epsilon and this up to 2 3rds  plus epsilon, well that in fact is also an equilibrium.  So if we did that perturbation it wouldn't go back to the original one, it  would actually stay at this one, okay? So in a, in a dyad, no matter what  numbers you put in there, you know, we could put in zero and one, and, and have  this go to 0 plus epsilon, 1 minus epsilon so no matter what numbers you put  in, as you perturb this, it would, it would stay there. \n",
    "\n",
    "- let $x_1 \\le x_2$\n",
    "\n",
    "- $x_1 + \\epsilon, x_2 - \\epsilon$ stays there\n",
    "\n",
    "So as long as x one is less than or equal to x two.  Add a little bit to x one. And subtract a little bit from x two.  You would stay there. So you're in a situation where you end up  not having, any movement in terms of, of the perturbation.  nothing's stable. Okay,  But when we look more generally. the equilibria are, the only stable  equilibria aren't necessarily going to be specialist equilibria.  And they're going to be such that every non-specialist has exactly, at least two  specialists in his or her neighborhood. So, for instance, if we look at three  nodes, and again, our x star is one. This thing is stable.  "
   ]
  },
  {
   "cell_type": "markdown",
   "metadata": {},
   "source": [
    "# Stable equilibria, BK\n",
    "\n",
    "- Only stable equilibria are specialist equilibria such that every non-specialist has two specialist in his or her neighborhood\n",
    "\n",
    "![](https://lh3.googleusercontent.com/uuPptyAooLp0l0TGUfTlFw2DZPclWXvjV1ivQ3z96v3zoPq0tiFA99EOxRO6FCNELO7fVqy_rPPyKkD1v8dH1JwmjdQUnK3Hajp8nRawMGIiJs3TF7srrqvA9g49StKw-qWL6YmCNlYIQU5a5AmzUU8ZWM5Iz4B-yDAzWyXWdyBkhoOCtyB8aZ7OmSspnKQ2lIgFVByWDogC92NJ4nQGLMJbRS-1EqMtaAPLt30bmFUFK56WhK4bRk0rn4g4BySCa6YWgq_BgNc3pzj7YYfVz8ld6UEaWZr8URZ_CyAbdgZh_Ldht6UzhKh4UewwWNN0cnV5g4VEpXvyoS4HQ-7pbBzIxnNu8wSrGTMAGyjjv_YzwCPSLCEYT4Ttl6r5JSesLAVhPYBvRHjeGdMeeqnZAHkdaiGO366-9zKLv3mZhuPFfQJki4tdFLC4bjloGmYAx_PIQ591RBT7H9huGvezPjNhSv13EFkKfCzmKxSeNsl3yH3kvmV53LeM9uFK6utrW9KBKPhIqUU7nsAhxCs0AEbq77vY365f4s6SSfZButpMib-isQ0wGMSYTPzOjtDUCpxcD_kNe6wS4-uqoQfAUpX0bMAJT2V1QW0uk9kQ-3RdComKk7kxAxjnYOkHbaMkSuW9f022Qc5p0P6rHnLOl0sFuG6Rj6MxEB1ygCnJtcL0Xdfd_g0q7GpL=w949-h268-no)\n",
    "\n",
    "![](https://lh3.googleusercontent.com/iQ33hHdPWaf1S0UvXsTZXOcglqpmy_M7RRVOecnSM5_Lyh8mfP8SCzny3SDFbEWvk5LOpy56fCHTZAJ4ZlLOhjOGYHU7Y906apSJsyilOdKrtFA8bt15aWnogcn4ZX9Rexoneo3YiXKLZwMdO1_Nwsaz1g5fPS14Mj6rwNKgIqmntnqU4elpwf_shwtyBDCFVLwhbN8ueo9iVvYw9DXBCkGZrdZWRpBt3YQOBh0ZYeF0TQ4cMKuRQQN_Yws9oFCxPcHZBDdiEBOHJbGXcyMCBc8Lgegl0B0R2mUXD53Ixt0IcgiE1M9hNAPQKX9BWrk-os0P5CkvePt2lZdmJmOopmLKHUD-y5gdRTdqitx8PD2ee0k4IommZkBD_5lg9U8sUdKt2WQdFBrSkK0YjkVHrEgraWANJtlLCK0IU7VUaXDSP99iTmlaNp-q8Q9yX1Zm3AE-2jf0F190486utQrkMd5SCZmOokHBwyMHPEuzoLWkLZm0DAkxkU-0Jl54xUUkbArI-ifAt1P-DDAd_AGbUz0RTS0rJ6aoQlIR3GNTqaJoHb-s7g7lKkFVX9DDaZ_v--gFjez5AuMXzuEo-3jr4Q_QtxFC6xxWLdVCAmX_9TmEZe7xC5RXD8YWS7GcJaAv3XEqx5i0_8yjNgY_14rZ_H0wMYcQ6nr4d5IVTsK_8MkM_96CbTN3WpC4=w890-h243-no)\n",
    "\n",
    "let's just go through and try  to understand why is this stable? What's the logic, here?  So, let's suppose that we perturb this a little bit.  So for instance we take a little bit of $\\epsilon$ away, so we take this person down  to $1 - \\epsilon$. And we bump this person up to $\\epsilon$.  And let's just keep this person constant for now.  if we do that, and now we look at the best responses to this.  Well, this person has already a neighbor providing at least one.  They're still at $2 - \\epsilon$ in their neighborhood.  They're way bigger than the $x^*$ of one.  They're getting too much action. They can get rid of their $\\epsilon$ and go  back to zero. So, they're going to tend to go right  back to zero. Once they go back to zero, this person's  going to go back to one, and we end up going back to the situation that  we have. \n",
    "\n",
    "So here the fact that I'm already getting  too much means even if you perturb that I'm going to want to go right back to  zero. So the people that are in the  neighborhood of these specialists are going to stay there if they have at least  two specialists in their neighborhood they're going to go back to zeroes.  And that means that specialists are going to be forced back to one because  all their neighbors are providing zeroes. \n",
    "\n"
   ]
  },
  {
   "cell_type": "markdown",
   "metadata": {},
   "source": [
    "# Sketch of Proof\n",
    "\n",
    "- Stability of such equilibria: for small perturbations, BR of non-specialists is 0, converge right back\n",
    "\n",
    "- For any other equilibrium, if there is an agent providing is non-specialists, then peturb the agent up, neighbors go down...\n",
    "\n",
    "- If all specialists or not - then some non-specialist just has one neighbor as specialist - raise that nonspecialist, lower the specialist..."
   ]
  },
  {
   "cell_type": "markdown",
   "metadata": {},
   "source": [
    "# Stability and Pairwise Stability\n",
    "\n",
    "- Suppose links are costly\n",
    "\n",
    "- specialists drop links to non\n",
    "\n",
    "- non-specialized equilibria are only \"stable\" ones..."
   ]
  },
  {
   "cell_type": "markdown",
   "metadata": {},
   "source": [
    "# Heterogeneity\n",
    "\n",
    "- Introduction of heterogeneous costs and benefits, and some less than perfect spillovers\n",
    "\n",
    "- Would change the nature of equilibria"
   ]
  },
  {
   "cell_type": "code",
   "execution_count": null,
   "metadata": {},
   "outputs": [],
   "source": []
  }
 ],
 "metadata": {
  "kernelspec": {
   "display_name": "Julia 1.0.0",
   "language": "julia",
   "name": "julia-1.0"
  },
  "language_info": {
   "file_extension": ".jl",
   "mimetype": "application/julia",
   "name": "julia",
   "version": "1.0.0"
  }
 },
 "nbformat": 4,
 "nbformat_minor": 2
}
