{
 "cells": [
  {
   "cell_type": "markdown",
   "metadata": {},
   "source": [
    "# Games on Networks - Outline\n",
    "\n",
    "- Basic Definitions\n",
    "\n",
    "- Examples\n",
    "\n",
    "- Strategic Complements / Substitutes\n",
    "\n",
    "- Equilibrium existence and structure\n",
    "\n",
    "- **Equilibrium response to network structure**"
   ]
  },
  {
   "cell_type": "markdown",
   "metadata": {},
   "source": [
    "there's multiple different actions that can be sustained in a given network. So when is that it's possible that some people adopt a new technology and other  people don't? Or that some people are, are becoming  educated, other people are not, and so forth.  So when is it that we actually can sustain multiple actions, even when we've  got a lot of homogeneity in the society. Even when anybody has the same  preferences and so forth, we still end up with different people taking different  actions based on their position in the network, okay.  So this is just sort of an interesting question conceptually to understand when  this can happen. "
   ]
  },
  {
   "cell_type": "markdown",
   "metadata": {},
   "source": [
    "# When can multiple actions be sustained\n",
    "\n",
    "- Morris(2000) Coordination game\n",
    "\n",
    "- Care only about fraction of neighbors\n",
    "\n",
    "- prefer to take action 1 if fraction q or more take 1\n",
    " - So if the majority of your friends take action one, you want to do that.  If the majority of your friends take action zero, then you prefer to take  action zero.  So this is a game of strategic compliments.  And a very simple one where everybody just cares about the fraction.  So everybody's threshold is just a fraction of their degree.  It's the same fraction. \n",
    " \n",
    " And let me say a little bit about the  background of this game. the game where it's actually a half is  also what's known as the majority game. And this is a game which has been studied  quite a bit in the statistical physics literature. And has some background in the, physics and, and, agent based, literatures.  And, you know, part of the reason is that, that, there's certain kinds of  particles. Where the particles might be sitting in  some sort of lattice structure. And the particles react to what other  particles are doing. So, if other particles end up in one  state, then they end up trying to match the state or they could end up going in  opposite directions, but in certain situations they'll flip into be in a  certain state if, if more of their the other, so as more of their neighboring  particles become excited, they become excited, for instance.  And depending on what that threshold is, then that ends up having a percolation so  that you can end up having this move through different kinds of of materials.  And so that's been an area of study in physics.  And this actually has a nice interesting relationship to these kinds of games on  networks, where an, a given node cares about what its, its neighbors are doing,  and would like to match actions to the neighbors. "
   ]
  },
  {
   "cell_type": "markdown",
   "metadata": {},
   "source": [
    "# Equilibrium Structure\n",
    "\n",
    "Let S be the group that take action 1\n",
    "\n",
    "- Each i in S must have fraction of at least q neighbors in S\n",
    "\n",
    "- Each i not in S must have a fraction of at least 1-q neighbors outside of S"
   ]
  },
  {
   "cell_type": "markdown",
   "metadata": {},
   "source": [
    "# Cohesion\n",
    "\n",
    "A group S is r-cohesive relative to g if \n",
    "\n",
    "$min_{i.in.S}$ |{j in $N_i(g)$ and S}| / $d_i(g)$ $\\ge$ r\n",
    "\n",
    "At least a fraction r of each member of S's neighbors are in S\n",
    "\n",
    "Cohesiveness of S is $min_{i.in.S}$ |j in $N_i(g)$ and S}| / d_i(g)\n",
    "\n",
    "![](https://lh3.googleusercontent.com/EZ3ad9tgCFvy2ivIY61kf5uoRs0syd_dDFfy6Q4r20iPEIaENENWTtC7u6gNLHQCs12IIcqjtcWm8L8o07lvoMDrzga3qS6qtQ2-zdGaXPrMicMOQkc59PIoakT6VNtenyc8b_2CiH5iiVqbK-7LMbPHnsX5jbEXfxc2jFsmvZbL-Xxzyo1MpYcfMT9DCaLd4lz4NCrAOC8PlDRxr9w9Ln2RJMVN7aioDZBSunPXSS8lOOEwfd7iCC1mqnyX4iGNEW5f02xVj_U_C6lRhg3_AMRSAyrNalY5macHADIuiJekhUlE44eX-kVifZB8c6_4VN7Zerx0kLuiQ3A-Hrs0rSxSAfQMKO5tEV9m4zDnjeVyUDGs-vjI_x0gnYb_W2Zf_bjyw0eeYKBZg29GVH4APfAmbXSxfTJcn-a_kSxjci2Eq7YqSby6PQZXmAfFlW2SzsIIVo4l7cfAqdfz0iwnOYl0GYFHGfxtQMtGkGe0Q_UDZXtA4D5N6hUHj4s5hh6M6uyHnhDgwaDNCLIlJ4lNPRjrSdKJrKAbv-W2ay2QwQ9d_ZDF1uKfuJqHupTIHGJwGa3ibZ_6VZeuZp_LPgj6SM63LoJuQbmeEVvRdE7BqmhHn5DgLE-kW8EdZv3ELdcFmM0nWcTPy5SzCHRiPPsk595PLo6sAz0gP3STiEzoMFE2AVZAAWdJPeeJ=w1165-h694-no)"
   ]
  },
  {
   "cell_type": "markdown",
   "metadata": {},
   "source": [
    "# Equilibria where both strategies are played\n",
    "\n",
    "**Morris(2000): there exists a pure strategy equilibrium where both actions(0 and 1) are played if and only if there is a group S that is at least q cohesive and such that its complement is at least 1-q cohesive.**\n",
    "\n",
    "So it has to be that everybody in that  set has at least q of their neighbors. So, this group S is going to be the group  that plays action one. They want to play action one if and only  if at least q of their neighbors do. So that set has to be q cohesive.  Everybody has to have at least q of their neighbors in that set.  \n",
    "10:14\n",
    "The compliment of S, has to be the people playing z, action zero.  So none of them can have more than Q of their friends in, in the set.  So that means that they have to have at least one minus Q of their friends  outside. So this proposition just follows pretty  much directly from the definition of the game and it's a very simple, straight  forward calculation. But what it does, is it, it shows that  this, now we've got a, a notion of cohesiveness of groups inside a network  which is going to be very useful in identifying when you can sustain multiple  equalibria in a, in a game.  "
   ]
  },
  {
   "cell_type": "markdown",
   "metadata": {},
   "source": [
    "# Homophily\n",
    "\n",
    "- If q=1/2 - players want to match majority\n",
    "\n",
    "- Then two groups that have more self-ties than cross-ties suffices to sustain both actions\n",
    "\n",
    "- As q rises (game payoffs become more asymmetric), need more homophilous behavior between the groups to sustain both actions\n",
    "\n",
    "![](https://lh3.googleusercontent.com/8o397--68OALW05KId5QYpZF4fV5vqouEk9anUIEwk_WWB7IgoocqYA7libTiXq1CwktP9xNON74rIEV7kWuS1E08wu62Ln9hwlYTZjxLovY9661O5fjwU3izdl81V_HS7ty6YngmHwMxFVk518y8y4bG68W0sU7kADrfD3P5IguXWq01XO-_YlWbmkNdGZtLErih1yIyQ2r2rrTirVJQMn7m4vbVdJfCxHGOC9PIxNcqk4wdz7RJzx_LVPlix69ilfIeqmCy-eHLQqeH_p9jqoQYaxCo9cLVty6tdRBIS252LKcsbPjxP2ULGvELTwGv8Awh3oD-H5wbdkygqCqojeNzA-B45MH2dOZCV2GsKt2RzPVDtBKdrruk3J901Yld40Btb1VkrTDCgVzZP83n6fTd5gtSQyDc-YBZeC_Qr2LYDufr3wpd1qE5OZuiB0-au76VxdKLMIzAlxn_rrcF-Y4Qnf9_29Js1CWnGLf68RktjTAwUjiqczucg2Hd72ui3I5EZsMIR6_5Pp_8CL78v2dmOsq8JTN5r3IjuCfLLAecDjQwl7N2NpDvV0tEOusnOTLFJtvvM3nENuEkr8pMsT-VTI-qtrXEFqpS9cUFJLXVJblnCMR-i9iwtB-BUN-wxkcCEahngeftUe_k7_N88hr-WjtAYeiCbhbqre2gFkMeiYwjzXX3U5u=w1116-h718-no)"
   ]
  },
  {
   "cell_type": "code",
   "execution_count": null,
   "metadata": {},
   "outputs": [],
   "source": []
  }
 ],
 "metadata": {
  "kernelspec": {
   "display_name": "Julia 1.0.0",
   "language": "julia",
   "name": "julia-1.0"
  },
  "language_info": {
   "file_extension": ".jl",
   "mimetype": "application/julia",
   "name": "julia",
   "version": "1.0.0"
  }
 },
 "nbformat": 4,
 "nbformat_minor": 2
}
