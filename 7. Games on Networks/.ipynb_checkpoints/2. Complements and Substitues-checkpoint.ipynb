{
 "cells": [
  {
   "cell_type": "markdown",
   "metadata": {},
   "source": [
    "# Games on Networks - Outline\n",
    "\n",
    "- Basic Definitions\n",
    "\n",
    "- Examples\n",
    "\n",
    "- **Strategic Complements / Substitutes**\n",
    "\n",
    "- Equilibrium existence and structure\n",
    "\n",
    "- Equilibrium response to network structure"
   ]
  },
  {
   "cell_type": "markdown",
   "metadata": {},
   "source": [
    "# Complements/Substitutes\n",
    "\n",
    "look at the payoff that a given individual of degree d gets from taking action 1 compared to action 0, let's think of starting with some number of neighbors m' taking it, and then increasing that number to m, $m \\rightarrow m'$, as we increasing the number of friends taking this action, what ends up happending to this person's incentives to take it.\n",
    "\n",
    "- strategic **complements** -- for all d, $m \\ge m'$\n",
    " - Increasing differences\"\n",
    " $$u_d(1,m) - u_d(0,m) \\ge u_d(1, m') - u_d(0, m')$$\n",
    " \n",
    "the idea behind strategic **complements** is that we end up with a weakly higher payoff on the left-hand side, so it's become weakly more attractive for me to take this action than it did before. So as you increase the number of friends who take the action, then the payoff to taking the action compared to not taking the action has gone up. So the difference between taking the action and not taking it, it's more attractive than it was before. So that's called **increasing differences**, this is **strategic complements**. There is a positive relationship between number of people that take the action and my incentives to take it.  \n",
    " \n",
    "- strategic **substitutes** -- for all d, $m \\ge m'$\n",
    " - Decreasing differences:\n",
    " $$u_d(1,m) - u_d(0,m) \\le u_d(1, m') - u_d(0, m')$$\n",
    " \n",
    "**Strategic substitutes** just reverse this, and effectively as more people take the action, as we move from $m' \\rightarrow m$, it becomes less attractive to take the action. So this was the borrowing the book, as more of my friends have the book I can borrow it. It's easier for me to borrow it, it's less attractive for me to purchase it myself. More in other cases, if you know, more of my friends are learning a new language or were adopting a new technology, it could become more attractive for me to do that. So in this case we have different complements, positive relationships, substitutes, negative realationships."
   ]
  },
  {
   "cell_type": "markdown",
   "metadata": {},
   "source": [
    "# Externalities\n",
    "\n",
    "- Others' behaviors affect my **utility/welfare**\n",
    "\n",
    "- Others' behaviors affect my **decisions, actions, consumptions, opinions...**\n",
    " - others' actions affect the **relative** payoffs to my behaviors"
   ]
  },
  {
   "cell_type": "markdown",
   "metadata": {},
   "source": [
    "# (Strategic) Complements/Substitutes\n",
    "\n",
    "- **Complements:** Choice to take an action by my friends increases my relative payoff to taking that action (e.g., friend learns to play a video game)\n",
    "\n",
    "- **Substitues:** Choice to take an action by my friends decreases my relative payoff to taking that action (e.g., roommate buys a stereo/fridge) "
   ]
  },
  {
   "cell_type": "markdown",
   "metadata": {},
   "source": [
    "# Examples\n",
    "\n",
    "- Complements\n",
    " - education decisions : care about number of neighbors, access to jobs, etc. - invest if at least k neighbors do\n",
    " - smoking & other behavior among teens, peers,...\n",
    " - technology adoption - how many others are compatible...\n",
    " - learn a language...\n",
    " - cheating, doping\n",
    " \n",
    "- Substitutes\n",
    " - information gathering: e.g., payoff of 1 if anyone in neighborhood is informed, cost to being informed (c<1)\n",
    " - local public goods (shareable products...)\n",
    " - competing firms (oligopoly with local markets)\n",
    " - ..."
   ]
  },
  {
   "cell_type": "markdown",
   "metadata": {},
   "source": [
    "# Equilibrium\n",
    "\n",
    "- Nash equilibrium: Every player's action is optimal for that player given the actions of others\n",
    "\n",
    "- Often look for pure strategy equilibria\n",
    "\n",
    "- May require some mixing"
   ]
  },
  {
   "cell_type": "markdown",
   "metadata": {},
   "source": [
    "# Best shot\n",
    "\n",
    "let's have a look at here's an example of a best shot public goods game.  And in particular, this is a game, so here in this network, we have a situation  where we have six different individuals. And we have equilibrium, pure strategy  equilibria. Each person, remember the best shot  public goods game. I want to buy the book if none of my  friends do I don't want to buy the book if anyone does.  So this would be a pure strategy Nash Equilibrium.  Each one of these people buys the book, the center doesn't, he free rides.  Another equilibrium would be that the center buys the book and none of the  neighbors do, they all kind of borrow it. \n",
    "\n",
    "![](https://lh3.googleusercontent.com/xIILoXpr_0H7FJy6LoFMeFOsKtfoc30o9bT98Q3ECEvqfR9kAb0N-AyJXmvxF-FcmCZPc_cd_cam-ySjpw84Thf0S2-tgrv7rRnbgTrZMuW7QnF_tdDFq7ehLjIqdR038R8Fgp2BlE2UzsTCmD1k8JKhTv0bb2xdNdyAmKNzGp5QEYCsvjMyG6LzGHq0tETQzqdAyv1-awzphKw_-rs4oZYSMHlZNhE0dZVYC7pmWe9QwXG7GcimNv4G4XNxvBQD4LGGyAocN8Wva0MjU5g5mFg0MPAwPHMty44wcwiea9EpMJb6mVZ_NV-Ho2iaKsS77iE7gyEiECjOlGYWyqhUpbSp42t11RW_tgG3dFK_JThoohnmGiT0g_T1IyqRcgTnebPw5TPkwYtTWo5hNGsLDpCq1JQ36EXf45sdU-PB--tm_g2E6dYwMowRJOu_hhf_G-xMmdngr03CJhR-IX5pT79LH0r-BWj_1O4yLSd59OCtr7I2S6sWxHyP9PMOSQW7oHJ2-awlW7bhxdOPvYUUaGkn75PO8Lh3MrGgWAZYZJWdEhYB6nIghxuirKPkyV0It2-3hf-XXRXCMsxAgNEgqwiBcZKjrvGmZZkFrBbmhlTw5Zgp5PfZb7_60MKJfaqGKhKnlxDX_OsqHjdJdkr1Q8CH97XJ5sA07oPbqg1lvOrOsmSzGcrzKULR=w1048-h313-no)\n",
    "\n",
    "- Maximal independent set: each person who's actually taking the action(1) has no 1's in its neighborhood, each 0 has at least one 1. So maximal independent set, it corresponds exactly to the pure strategy equilibria of this best shot public goods.\n",
    "\n",
    "- Different distributions of utilities, and different total costs. \n",
    " - Now one thing that's sort of interesting about this is it leads to very different  distributions of utilities and different outcomes for the society. So if we look at this in this particular  case well, what's going to happen here? Here we have five people expending the  cost, c, so we get five people of 1 minus c, and one person at a value of 1 (**pic 1**).  This case, we get one person at the 1 minus c, and five people getting the  value of 1 (**pic 2**). So, from a society perspective, this is a  lot less wasteful. Less cost is being expended here, unless  you're the bookseller. so here, we're dealing with a situation  where the overall welfare is better. So these can have very different  distributions, even though they're both equilibria, even though they're both  maximal independent sets of the graph. So these games can have different payoff  consequences and multiple equilibria, in this setting.  \n",
    "\n",
    "\n",
    "\n",
    "And, in each one of those cases, nobody  wants to change their action, right? So if we go back and we look at this case  over here, we can ask, does one of the individuals on the outside here (**left node in pic 1**), does  this individual want to change their action?  Well, if they change to a 0 as well, they're going to get a payoff of 0 so  right now their payoff is 1 minus c, right, from the best shot public goods  they're getting let's erase that, 1 minus c.  And if they change to a 0 instead, they'll get a 0.  They're better off staying at where they are.  \n",
    "\n",
    "What about this individual (**the center of pic 2**), they're getting a payoff of 1.  If they bought the book instead, they would get a payoff of 1 minus c.  1's greater than 1 minus c, they're better off sticking where they are.  Okay? And so you can go through that as long as  you have a neighbor buying the, the, the good, you're getting a payoff of 1, you  don't want to change your action. If you don't have any neighbors buying  the good, then you do want to buy it because you're getting 1 minus c, which  is greater than 0. So they stick with it.  This is a situation which is not an equilibrium.  Right? This one's not an equilibrium because  these two people both buying the good, one of them should stop and not buy the  good. So, that's the equilibrium in the best  shot public goods game. "
   ]
  },
  {
   "cell_type": "markdown",
   "metadata": {},
   "source": [
    "# Maximal Independent Set\n",
    "\n",
    "- Independent Set: a set S of nodes such that no two nodes in S are linked\n",
    "\n",
    "- Maximal: every node in N is either in S or linked to a nose in S"
   ]
  },
  {
   "cell_type": "markdown",
   "metadata": {},
   "source": [
    "# Useful Observation\n",
    "\n",
    "- Complements: there is a threshold t(d), such that i prefers 1 if $m_{N_i} > t(d)$ and 0 if $m_{N_i} < t(d)$\n",
    "\n",
    "- Substitutes: there is a threshold t(d) such that i prefers 1 if $m_{N_i} < t(d)$ and 0 if $m_{N_i} > t(d)$\n",
    "\n",
    "- Can be indifferent at te threshold"
   ]
  },
  {
   "cell_type": "markdown",
   "metadata": {},
   "source": [
    "\n",
    "\n",
    "![](https://lh3.googleusercontent.com/CyC1kYJpWRvKhBRvN85GPN-K_u78eEBST1OzKOrzsu8nUkAyEUgETHovQCapxdOWnr2O6qeRg_5o0xa9clfeUOLVRBPXTxBpMfqVr5IJkeKeewb4dCbtq18FxmJbyXkj8pZBMTqFINVzhrJVFQju2MoBouPX1_y6O2E3Evrnylwp2GKLovuufJMyCIpXOpfAyHICJKkofAjvOPfML9to39uRxCd8itAIMXDk7rbUQ-P6sNrNv2Er4RwWuCR6OZwUK5cxRNZPKYfP9PbpqZaFNR3PudwM-D4eE8BrUUgX-vBlPmxfpL1PbznrCx7YnNzZp-U3of-lHMYglAIHNHLfFiYueYdB5safvrnnJwY-1mXqU0ADic79UOdJ75OYEpVkAWzoh_1fwp4JixT6Ohhjbe78On09X2jaN_vq_T3FfFQYkOX95NyNQES_LqPLY-2V2x9DizZ0o6eVE3DvG9gxAFaXVLqn6yTta8GXzO7bNI2E5J97u3hcTSabBMRfWTTyoDtfVPmErUaDkeibIjrd9g5hndfAPAHyXsEGYU_sZ-ESUk11eDbm4ZVQ6oNDQmiPmh9wwCq9tQcPMs8AZRZNnyvTkPJsKIwx2GuZhxyb865QPn0XKWLhqqXXT0ehZGdP2UWIB0iVdoYBEecP4VQQ_qLYPGW6AKBKbDwjj-rSstFDqM3x2Zb_ozv5=w1213-h348-no)\n",
    "\n",
    "\n",
    "\n",
    "- threshold is 2, same for all the agents here, so it's independent of their degree\n",
    "\n",
    "- Same network, here's 3 different equilibria\n",
    "\n",
    "- lattice structure to set of equilibria"
   ]
  },
  {
   "cell_type": "code",
   "execution_count": null,
   "metadata": {},
   "outputs": [],
   "source": []
  }
 ],
 "metadata": {
  "kernelspec": {
   "display_name": "Julia 1.0.0",
   "language": "julia",
   "name": "julia-1.0"
  },
  "language_info": {
   "file_extension": ".jl",
   "mimetype": "application/julia",
   "name": "julia",
   "version": "1.0.0"
  }
 },
 "nbformat": 4,
 "nbformat_minor": 2
}
