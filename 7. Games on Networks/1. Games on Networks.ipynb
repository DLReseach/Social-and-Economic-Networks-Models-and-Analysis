{
 "cells": [
  {
   "cell_type": "markdown",
   "metadata": {},
   "source": [
    "# Outline\n",
    "- Part 1: Background and Fundamentals\n",
    " - Definitions and Characteristics of Networks(1,2)\n",
    " - Empirical Background(3)\n",
    " \n",
    "- Part 2: Network Formation\n",
    " - Random Network Models (4,5)\n",
    " - Strategic Network Models (6,11)\n",
    " \n",
    "- **Part 3: Networks and Behavior**\n",
    " - Diffusion and Learning (7,8)\n",
    " - **Games on Networks (9)**"
   ]
  },
  {
   "cell_type": "markdown",
   "metadata": {},
   "source": [
    "# Games on Networks\n",
    "\n",
    "- Decisions to be made\n",
    " - not just diffusion\n",
    " - not just updating beliefs\n",
    " \n",
    "- Complementarities...\n",
    " - It's that people care about what other individuals are doing, so there's complementarities\n",
    "\n",
    "- \"Strategic\" Interplay\n",
    " - Inter-dependencies\n",
    " \n",
    " I want to only buy a certain program if other people are using that same program. So the way in which I write articles depends on what my co-authors are doing, or I want to learn a certain language only if other people are also speaking that language. So there's going to be inter-dependencies between what individuals do. And there could also be situations where I can free ride. So if somebody else buys a new book, I can borrow it from them and maybe then I don't buy it myself. So who I know that's actually bought a book, maybe that affects whether I buy the book, both positively and negatively. So there's strategic inter-dependencies. And you know, the idea of games, people think of games - you know, we're not talking about Monopoly or chess, checkers etc. We're thinking about a situation where there's interactions. And what a given individual is going to do depends on what other individuals are doing, so there is some game aspect to it in that sense. But we're using game theory as a tool to try and understand exactly how behavior relates to network structure."
   ]
  },
  {
   "cell_type": "markdown",
   "metadata": {},
   "source": [
    "# Games on Networks - Outline\n",
    "\n",
    "- **Basic Definitions**\n",
    "\n",
    "- **Examples**\n",
    "\n",
    "- Strategic Complements / Substitutes\n",
    "\n",
    "- Equilibrium existence and structure\n",
    "\n",
    "- Equilibrium response to network structure"
   ]
  },
  {
   "cell_type": "markdown",
   "metadata": {},
   "source": [
    "# Games on Networks\n",
    "\n",
    "- Players on a network - explicitly modeled...\n",
    "\n",
    "- Care about actions of neighbors\n",
    "\n",
    "- Early literature: How complex is the computation of equilibrium in worst case games?\n",
    "\n",
    "- **Second branch: what can we say about behavior and how it relates to network structure**\n",
    "\n"
   ]
  },
  {
   "cell_type": "markdown",
   "metadata": {},
   "source": [
    "# Start with a Canonical Special Case\n",
    "\n",
    "- Each player chooses action $x_i$ in {0,1}\n",
    " - e.g. buy the book or don't buy the book, or learn a language or don't learn a language\n",
    "\n",
    "- payoff will depend on \n",
    " - how many neighbors choose each action\n",
    " - how many neighbors a players has"
   ]
  },
  {
   "cell_type": "markdown",
   "metadata": {},
   "source": [
    "# Definitions\n",
    "\n",
    "- Each player chooses action $x_i$ in {0,1}\n",
    "\n",
    "- Consider cases where i's payoff is \n",
    "$$u_{d_i}(x_i, m_{N_i})$$\n",
    " - depends only on $d_i(g)$ and $m_{N_i(g)}$ - the number of neighbors of i choosing 1\n",
    " - i.e. only care about the number of friends taking the action."
   ]
  },
  {
   "cell_type": "markdown",
   "metadata": {},
   "source": [
    "# Example: Simple Complement\n",
    "\n",
    "- agent i is willing to choose 1 if and only if at least t neightbors do\n",
    "\n",
    "- payoff action 0: $$u_{d_i}(0, m_{N_i})=0$$\n",
    "\n",
    "- Payoff action 1: $$u_{d_i}(1, m_{N_i}) = -t + m_{N_i}$$\n",
    " - `t`: is threshold"
   ]
  },
  {
   "cell_type": "markdown",
   "metadata": {},
   "source": [
    "# Example\n",
    "\n",
    "- An agent is willing to take action 1 if and only if at least two neighbors do\n",
    "\n",
    "![](https://lh3.googleusercontent.com/XS0a_LnxUIhSmeZ0wU0RzepFaqZYABZ-aIqy91EuuE1KbUhbyc9fBLOfbZxq7AHhI2q9BbM4WyZ_jN0Mj7quTJDPmjmcdJlcl6WY0sgrN8APWdhyfGdvcGTVjGaNwIpCim5fNlPwXT5jFrZKxDeJlsS0g8Nkjn1KWGj6gTHpu2vi-bJokPonrNkxvK0e_MyJGFFbwbj5hkDFQGinf3YnIHzPKj5TNQ6UcR12MJ8bZ1UUc4TDSb-7CeNIB45Z21nCkk922OyjsJ3_wqFFfB0VKqM_CVDmCn--XKs5jB4lvvA2-2KD6O4IkSGENKqT1f9aHCR9mFuZ8DRt4v4JfktHAfLcZiJT7zLA6MTzozczTkips7B-bFMrLuubQV2pLPxGeW-FajHmZXRt2sHW0OA8l11vnp1T--2tacmH65tOJXl0mi4c15PWNdmnEgIqM8HyPCvp-iReJx6k8DaRVTeawiEfcoArlOvfQ68q4Y8zZ_6gOlxhs5KMdDzP9uwUq51JOozmc3kYs2LtvW2Mb5Q6B1xbGfXeE3Jd4SYUzbIYuJbSvEn6nWa2reR3plVxFUkeudeqo_uW03FlgenuGH5EhgVsGvfZ82ioAwqE7fx6tz5yFLs4Ha27nkla1XZMH9vnlh7BEdX2Mz6IVN0Gq2V6_bxwPqR3k_JJZ1bseEVxiGezxxbeqKdKxVjG=w593-h308-no)\n",
    "\n",
    "![](https://lh3.googleusercontent.com/eN5uByxGGQ-9DRMyXgK3YSckzAqH8P99rorXimIEOdq6H0VcgxsiacPDdjFnTtX22CEOkq1w_yM9GcFUHkWaMvK5n9pRn6PxlmPq99e9k017sje7GZ1GqhDEhIweV-AkLIj5-BzaX5VKvVZtVTbeCixTv3-HovFaJCCl5VVtIOAGpSE82raGwmXnMMrzUPpn6RVUUVHv4VcUesJBAJ0NjpNdAFBxYjLGHrA7wwmNcycqzcvcbQsE7sKhwKp7Xsnsk5towLdFp_El_VbRAzfj52Qi--717SakQ9UkO4xwxB0YSF6bjcGoJ6kGkoCfe104ilY2znFvQDA5MK8mFdP1qR0BvsHNeCM409iuMwi3TMh9e6p2ZqzYIqNrDFyxnm__fxhCSUiUe-pNNb4ffYjOiIx2BoRZq2LvnZAnM1Knmvy2Mpshbx3hn0JHd0pcE_AGn_z6q0oPqYIFdar3wGalGJYCnvNgavJ_X5wL-OGOTs4f6k9aXmZTK1gAX9RHg2ZT1nkX3orEgDV1hnc9-FMtic--WcFKcmGyyJzQ6Rw95-tR9ZkT-vN3O0rt630SwwybbUo1kQnJq0SWir9R-tr5CDnIhyoIo2FZUEJ8UzQk9t2Hen7p1ptQnIgsPB54cb92bIyGi8iAAAnfd5Ti8Fe0QLwyR6qWy0ct7ibc3VV8n8grm7MCKKhEhu17=w550-h300-no)"
   ]
  },
  {
   "cell_type": "markdown",
   "metadata": {},
   "source": [
    "#  Example: Best Shot\n",
    "\n",
    "- agent i is willing to choose 1 if and only if no neightbors do\n",
    " - let's think of the example where if somebody else one of my friends buys the book, I don't buy the book because now I can borrow it from them, so I'm willing to buy the book if and only if none of my neighbors do.\n",
    "- payoff action 0: \n",
    " - $u_{d_i}(0, m_{N_i})= 1$ if $m_{N_i} > 0$. If I don't buy the book(action 0), my payoff is 1 if some of my neighbors buys the book($m_{N_i} > 0$), I borror it from them \n",
    " - $u_{d_i}(0, m_{N_i})= 0$ if $m_{N_i} = 0$. If none of my neighbors bought the book($m_{N_i} = 0$), I can't borrow it, I get a pay off of zero.\n",
    "\n",
    "- Payoff action 1: \n",
    " - $u_{d_i}(1, m_{N_i}) = 1 - c$. Stead, I buy it myself(action 1), then the payoff is 1-c\n",
    " - `c`: cost of the book.\n",
    "\n",
    "My optimal payoff would be I'd love to have one of my friends buy it($1 > 1-c >0$), me not buy it and borrow it from them. My worst payoff is nobody buys it and I don't buy it."
   ]
  },
  {
   "cell_type": "markdown",
   "metadata": {},
   "source": [
    "# Another Example: Best Shot Public Goods\n",
    "\n",
    "- An agent is willing to take action 1 if and only if no neighbors do\n",
    "\n",
    "![](https://lh3.googleusercontent.com/Unqha3pXFex-XNu-ADUKOwYFWH9PbwVF6RNAm8MoMt54WQgHAw5wejIjmTvi57fXRlcelW5-Nd0Wf-vrHfzMl0N_B6y1VPbl9eoJC0RsOS9Gec1cJwrbnsVt3kLq646xACBXn-xIT8vOncIRu5gRVBZvVOQxZciWO6PdWGvH3tcfoflxzaUCw4UemR1uDmP4Ykh67RzuuDBgsYTjCM6AM8mt7kjzTqLNZ6uLHK4wK9febSGI8azKIYame73TnlRgB8KF58uvFBVkkdNUIA9trHXZLmEwfbCDx7Md6oB-aLxizKHpquTyWiqWlP8XPLFbsyU-pxSlMr3i2iAP8PT0kuS_9mmtaPO9qFPDoCDOtFnDVjixOWuomhyj83kJ1hN-Tm2fJi10ZyeYbRfL8feqfy6nUNfXdP6myG2oGzKBkUdjeXGQnQyJPPJ2c4o3aTOVHgQsQGIlN8xoj9qp7OrSJRfL4QaAV3nD4TYhjgFBnrY4zZfcMfwd8EE88qZxjFowcqhU4Mq_NcXrYUI49etzKWj4bzRGPlOFJWne81G71zibZRNj-p4DREpaI0qR8OZiARBKPGw8yxrPFSvC53LbJ0e0996RzW0D_TudOmLukEYdttbE9mvyiZjuFFw-NflCsiufBOTy4REcxRdw-8YMHaQY3JheK_cQ_6KO535vxfqyutyqwPQ3UdQG=w703-h311-no)"
   ]
  },
  {
   "cell_type": "code",
   "execution_count": null,
   "metadata": {},
   "outputs": [],
   "source": [
    "  "
   ]
  }
 ],
 "metadata": {
  "kernelspec": {
   "display_name": "Julia 1.0.0",
   "language": "julia",
   "name": "julia-1.0"
  },
  "language_info": {
   "file_extension": ".jl",
   "mimetype": "application/julia",
   "name": "julia",
   "version": "1.0.0"
  }
 },
 "nbformat": 4,
 "nbformat_minor": 2
}
