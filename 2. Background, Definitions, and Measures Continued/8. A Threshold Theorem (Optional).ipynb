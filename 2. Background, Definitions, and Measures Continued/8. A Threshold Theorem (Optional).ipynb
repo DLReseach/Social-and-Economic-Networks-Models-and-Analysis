{
 "cells": [
  {
   "cell_type": "markdown",
   "metadata": {},
   "source": [
    "# A Threshold Theorem\n",
    "\n",
    "**Theorem** [Erdos and Renyi 1959] A threshold function for the connectedness of a Poisson random network is $t(n) = log(n)/n$, i.e. the probability of forming a link a proportional to $log(n)/n$"
   ]
  },
  {
   "cell_type": "markdown",
   "metadata": {},
   "source": [
    "# Part of the Proof\n",
    "\n",
    "1. Show that if $p(n)/t(n) \\rightarrow 0$, then there will be isolated nodes with probability 1\n",
    "\n",
    "2. Show that if $p(n)/t(n) \\rightarrow infinity$, then there will not be any components of size less than n/2 with probability 1.\n",
    "\n",
    "Show 1 - intuition for rest is that threshold for isolated node is the same as threshold for small component"
   ]
  },
  {
   "cell_type": "markdown",
   "metadata": {},
   "source": [
    "# Useful Approximations\n",
    "\n",
    "Definition of exponential function:\n",
    "\n",
    "$$ e^x = lim_n (1+x/n)^n$$\n",
    "\n",
    "Taylor series approximation:\n",
    "\n",
    "$$e^x = 1 + x + x^2/2! + x^3/3!... = \\sum x^n/n!$$\n",
    "\n",
    "Taylor series approximation for exponential function$$[f(x) = f(a) + f'(a)(x-a)/1! + f''(a)(x-a)^2/2!...]$$ "
   ]
  },
  {
   "cell_type": "markdown",
   "metadata": {},
   "source": [
    "# Let us examine the logic\n",
    "\n",
    "Let us show that E[d] = log(n) is the threshold above which we expect each node to have some links\n",
    "\n",
    "In fact, above this threshold we expect each node to have many links\n",
    "\n",
    "Once every node has many links, the chance of disconnected components vanishes"
   ]
  },
  {
   "cell_type": "markdown",
   "metadata": {},
   "source": [
    "# $E[d] = log(n)$ is \"isolates\" threshold\n",
    "\n",
    "- Rewrite $E[d] = p(n-1) = r + log(n)$ for some r\n",
    "\n",
    "- Probability that some node is isolated is probability that it has no links\n",
    "\n",
    "- Probability that some link is not present is (1-p)\n",
    "\n",
    "- Links are independent, so probability of isolation is $(1-p)^{n-1}$\n",
    "\n",
    "\n",
    "- Probability that some node is isolated is \n",
    "$$(1-p)^{n-1} = (1 - (r + log(n))/(n-1))^{n-1}$$\n",
    "\n",
    "- Recall that $(1-x/n)^n$ approaches $e^{-x}$\n",
    " - If x/n vanishes - so let us consider that case-other cases are more extreme and so easy to fill in the missing steps...\n",
    " \n",
    "- Probability that some node is isolated is \n",
    "$$(1 - (r + log(n))/(n-1))^{n-1} = e^{-r-log(n)} = e^{-r}/n$$\n",
    "\n",
    "- Expected number is isolated nodes is $e^{-r}$\n",
    "\n",
    "- $E(d) - log(n) = r \\rightarrow \\infty$ implies expected number of isolated nodes goes to 0\n",
    "\n",
    "- $E(d) - log(n) = r \\rightarrow -\\infty$ implies that expected number of isolated nodes becomes infinite.\n",
    " - E.g., E(d) bounded by M implies $r \\rightarrow -log(n) + M$ number of expected isolated nodes goes to n $e^{-M}$\n",
    " \n",
    "- So, the expected number of isolated nodes = $e^{-r(n)}$ goes to 0 if r(n) tends to infinity and to infinity if r(n) tends to minus infinity.\n",
    "\n",
    "- If the expected number tends to 0 then the probability of having one tends to 0\n",
    "\n",
    "- If the expected number tends to infinity, then extra step using Chebyshev and showing that the variance is no more than twice the mean shows the probability of having one goes to 1"
   ]
  },
  {
   "cell_type": "code",
   "execution_count": null,
   "metadata": {},
   "outputs": [],
   "source": []
  }
 ],
 "metadata": {
  "kernelspec": {
   "display_name": "Julia 1.0.0",
   "language": "julia",
   "name": "julia-1.0"
  },
  "language_info": {
   "file_extension": ".jl",
   "mimetype": "application/julia",
   "name": "julia",
   "version": "1.0.0"
  }
 },
 "nbformat": 4,
 "nbformat_minor": 2
}
