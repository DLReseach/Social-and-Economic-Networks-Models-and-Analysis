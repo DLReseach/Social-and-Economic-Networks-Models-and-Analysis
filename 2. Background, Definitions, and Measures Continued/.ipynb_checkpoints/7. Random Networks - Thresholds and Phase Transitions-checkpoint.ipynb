{
 "cells": [
  {
   "cell_type": "markdown",
   "metadata": {},
   "source": [
    "# Threshold Function and Phase Transitions\n",
    "\n",
    "- t(n) is a **threshold function** for a monotone property A(N) if \n",
    " - Pr[A(N) | p(n)] -> 1 if p(n)/t(n) -> infinity, and\n",
    " - Pr[A(N) | p(n)] -> 0 if p(n)/t(n) -> 0\n",
    " - p(n): probability of links\n",
    "- A **phase transition** occurs at t(n)\n",
    "\n",
    "So the idea here is, we'll identify some level of probability that  node, that links have to form with. And if you're above that, then the  property holds and if you're below that, the property doesn't.  So that's a threshold function and we'll say that a phase transition occurs at  this threshold, meaning that if your probability is above that, you're getting  the property. If not, you don't.  So, the the network structure is changing, and either satisfying or not  satisfying that property as you cross those thresholds. "
   ]
  },
  {
   "cell_type": "markdown",
   "metadata": {},
   "source": [
    "# Thresholds for Poisson Random Networks\n",
    "\n",
    "- $1/n^2$ -  the network has some links (avg deg 1/n)\n",
    " - you're not going to get any links with a high probability you won't see any links at all.\n",
    "- $1/n^{3/2}$ - the network has a component with at least three links (avg deg $1/n^{1/2}$)\n",
    "\n",
    "- $1/n$ - the network has a cycle, the network has a unique giant component: a component with at least n^a nodes some fixed a<1; (avg deg 1)\n",
    "\n",
    "- $log(n)/n$ - the network is connected; (avg deg log(n))"
   ]
  },
  {
   "cell_type": "markdown",
   "metadata": {},
   "source": [
    "![](https://lh3.googleusercontent.com/cpgQKIgd9yJjdbhesdKjasv_Eu6dK7NJxzQjZZ7u61E1LTTdFHC66P7fAB5KYHufoGB6aeWswxK3T-yd9Qk3RuDT0P_7KRBz0uVL2IGQXcj_jlu3jlZTnlo-_ETsxWdXxRjNwTTIiszbG4E9DxiiqcYGjhHe7RLKcT61aRJMYGgyZorV4nNo1LnbLmjarhZmOmo6cLX9BqkbCRVXSBp-KZIgjJeKKo1f6zR1-EE95F6UWTceFTxKMqEv4ivYngzGPOjvM9nOnw69Eqb8SVjksp36Rf55A9hTFcLxQutG9vopLEG1R17Xd7xh0f7Lk43gYUked1dNxnv-GtQHbPzK4fv8UX319JpsKWZ2JXQLhBG_K5rU8WJkgmf4sJ_mWBdYsDV9T723QCwz5vZ--gZHM0pw5jTPOvooS-eltNaSYhZp2NrjZ-cFVOVnvFqNefu0nfQGY5qKmKPZotR6NNpjwDCQo8g-utt5qG5ErHVYqv-GexqbrIaQgwlNnNTgR3JdjoSA4laE1mZ_F1DKeHlGSesFJTF6mV4bv6dZrVp9FYyZDlJQAEXx5uz7CnWaEoqfatYlE7NUh1GUZa9gTPwvI3dMWOit4HdLMMDPu7sTW0uO8ZVR-xJas2s7ylL7jBm6NQ8DAPO_Kg2vgEQxJs9fCoXddSgxOvQglslteMzEjPzNWL20VUvprMaJ=w677-h479-no)\n",
    "\n",
    "![](https://lh3.googleusercontent.com/jmABAvqJ4tyuHI7FVhfrNrFr92aUL5TSTY7BOfIBc60t6DjL761oN0EPF1mBVgpJih1_BcJ07FI3aV7d5v9ZbBsJ5kQl8rZV-Qs7fg0Njxz6IcRR7afPwrneyylpjhN_wqNjlnbJNOZJZIf1TLV-1hKVAvKl5GWigfwoMHxY0xwf9P1NKkc5CX-bDEljQSSNIv6bipPNk5a8MZ9MSdU4F13AhsJMbbLSOOVM4756nfe3tD_QPCzvwHmPZNKjIs_1lxfA5LfUg3KXJVdetO08rqtQP8ie_8vaAOJcJNZepLUqsySr8p_EVeWpaFu1sdWKP7S06qPCUqhUFeScw0Co3HXx2bNjRQU45Gzff-oyUtRCgLr6Bu-lbn0JUoLW0a9hrc2l9pZse5R3QILqQFJOJ88U1FZMnvu6BSg2HOvpsL53H-K0ysON5KLH2Ln3NXitilE5uPbfgOWLuEgaf2ZTkrO-SwPJA-dde5BjyG5M_gyE_ii1KtqN4T2fZ0LzXL7iPBG1qG57Zy5bxAAdaoorVo7bkDySX7eDcH_QlF03qjWNVSQmNt2Mz4_UIqUXrNmNNxJWEJkteAiqEq8E8kEHGGvzTLIJME3YXRovp6FwidDs4_Pij7RYXoiYFy1P_weWs2T-4GDqRpuLKxUtNBA5It47s5uI5PQOaeycbq5fumLHglMpfzvkSkgp=w903-h489-no)\n",
    "\n",
    "![](https://lh3.googleusercontent.com/L_Dnx9FbNN7yutj1cZhK10xYKMg3NHhL9U9BTfE9OUwG2blKoqIz2mk0khqbJsPQzvobqKMuRaZwr2S0m6RdTu17osDh-tMHh2zdpIb_hfyWCJNqWkDuDib5DPJgV5S2kzXS-aBoijqBvjqd2tP4E89IWNZyU9ZclBZY0GVExv_rGHf-Ek_WXwfB16uT4Z9ubK1ib77lpUt2mEISkTjr0ji0qZAoP0EQIZDLZhwjlEb2mHDu4QdF3OgFbp7R52wgb38-tDrcF78qVWiZum5jkrRAkfHllb_4eGUhYFPEKy348-HMYik3jqdmOR4DCv3HzSOqfbi9YNAf_MN_8X0xcrHmGmPgD1yn8rLJHBQVlng70Lf3eL8z6KJqI6_24_oHxFr59k93gqUIqvM9SKVC8jBmUdH62SIy92ppKFjQEFRiblzejkqwmfJn_Yk_FjHlO9P_F19231XlMmTYfUsESy324UEBOyEThB5O2iJxl0DQa4Mk-eFeASpZaG8OlEMDLCOVeoZILQbDIC4dIyk4bpwDLzRx7LeKvasfKVcQ6sF_EDd-lmGa-aFrVDr4gOWslXmtb6C10dmzAi23FKZYG1Xm2IhfoMinYrtuYY3OopF5r2200zCTp2gqFNs7nUaIU6qQWkk4I45ILRD6hzu57nj8kdduGv0WNIv1rM1JKzQjLpKwKmEQjTr1=w698-h507-no)\n",
    "\n",
    "![](https://lh3.googleusercontent.com/QQF4sSy4Fkl5m7YuFRnBZrr0xpzYl0pPs-3Ym-xh4bmYEw4jmC9lcK9q3cYb42D8USSHvLfsBjdD81aJhbAJ7mxH7Iq7gtyV-flVVTMLUfAqiZTYs0MjcJdQz89o0ugeI4sG4VUNlU_CJ99Ya-KtgFhlb8zQeeZWHFNwGfje0cNprDzuaxuMty9YuqWMhQcihaNID1pcBJyxNAdGpcWBnD9V0r3bC5xoaPDaiouH9n_WhRKA-eIHQN0gWwiIirraTDzu9AlkltWVv10OaBpvIi43XipCQY_H3xaGnDlSemgTL0Sld1CGLcWcifXzcwUmCUHBiaouG_pQZDWaMrSI11hMpVG5R1e-WodZAj7_QgPAaHXwqxy5RTZJTmys2CzCbMcrIa8gaI6a9FZCxwJGyziDK0YcDkYRX-b24142zlm7xjCzT6ftQJQGRcDG6ZL424oaXXUU0wpd0krfAouyCZSFBJXllykkO9_aNkH7iwRZS07mKXn4EcThJEi8Rsan3zo0dFwacfKIX7wm80n2XRzF3AD6MuB8EdlQFnItff7adMulZ1KIv_jKtvjj0A0vTWEHJOL5eNEBHJGIJ01qrz65GoRf7aBfdsraW7e38JWbfrCSMFOJbQOMvzup6ZjWeHA5W52TxbUwiQv6thPPA-ETKOpikAAJ8657kQH09sh2Y04CirmGzrvE=w719-h532-no)"
   ]
  },
  {
   "cell_type": "code",
   "execution_count": null,
   "metadata": {},
   "outputs": [],
   "source": []
  }
 ],
 "metadata": {
  "kernelspec": {
   "display_name": "Julia 1.0.0",
   "language": "julia",
   "name": "julia-1.0"
  },
  "language_info": {
   "file_extension": ".jl",
   "mimetype": "application/julia",
   "name": "julia",
   "version": "1.0.0"
  }
 },
 "nbformat": 4,
 "nbformat_minor": 2
}
