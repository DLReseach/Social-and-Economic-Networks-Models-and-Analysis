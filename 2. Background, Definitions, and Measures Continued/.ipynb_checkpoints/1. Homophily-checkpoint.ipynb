{
 "cells": [
  {
   "cell_type": "markdown",
   "metadata": {},
   "source": [
    "# Outline\n",
    "- **Part 1: Background and Fundamentals**\n",
    " - **Definitions and Characteristics of Networks(1,2)**\n",
    " - **Empirical Background(3)**\n",
    " \n",
    "- Part 2: Network Formation\n",
    " - Random Network Models (4,5)\n",
    " - Strategic Network Models (6,11)\n",
    " \n",
    "- Part 3: Networks and Behavior\n",
    " - Diffusion and Learning (7,8)\n",
    " - Games on Networks (9)"
   ]
  },
  {
   "cell_type": "markdown",
   "metadata": {},
   "source": [
    "# Homophily\n",
    "\n",
    "> Birds of Feather Flock Together \n",
    "  --- Philemon Holland (1600 - \"As commonly birds of a feather will flye together\")\n",
    "  \n",
    "- age, race, gender, religion, profession...\n",
    " - Lazarsfeld and Merton 1954) \"Homophily\""
   ]
  },
  {
   "cell_type": "markdown",
   "metadata": {},
   "source": [
    "# Illustrationis Homophily\n",
    "- National Sample: only 8% of people have *any* peole of another race that they \"discuss important matters\" with (Marsden 87)\n",
    "\n",
    "- Interracial marriage U.S.: 1% of whites marry outside of white, 5% of blacks marriage, 14% of asians marriages (Fryer 06)\n",
    "\n",
    "- In middle school, less than 10% of \"expected\" cross-race friendships exist (Shrum et al 88)\n",
    "\n",
    "- Closest friend: 10% of men name a woman, 32% of women name a man (Verbrugge 77)\n",
    "\n",
    "![](https://lh3.googleusercontent.com/I5TQXyOH4iv1Y7akNZ0ODu_rGE6mxc2bSuqDiIFQgF1KuXBa5hIeLHluDJI3S06usWonTC5wjP9MS3BoAppMGYA9flHpeUaD7MU50TiO2OvnZYV_u0x32h8r7sVgZ9nMy70bT1UmFKbDxxlO6bjtGe_dBiV1xLEYdtRTVvlRcr1H9b7Rh5yqBdkcDeFZKucpzZj5ClIh9yygs7CqQ09MPkoRBvZQmT-MfCvypVSnFNkR7DJ_MGbTd7NBkMG74s253FC-MCPeV33OHinKct7RxJFcWkISUqBrAlzPoCvNcEMojP7g6TssnHnkazLDpukGr0ClnFZNWAOTsqOeGDvHfmfJ8qp0n6jNXTT8dPrlUQ8bbNaqeHARoZbLamQyQ3ZQX1pXI40SI8JGxp9ee1XICA5F52af4nJevApBcQxe6JO9ywWuGme9YcEO6No2-sNRXfSED2Bvi_8xs7dKwL9TFHTuAX81pWgeuOcPQ3GuhvsxEE5W2Oypx6IEfRfsD3ASJDMCcBRxeDLqLy_ltfEaukTQFlCCl7RfGHwDD9VHRKrJ0rdKS5mg2FkWOWg_v5ovvFK9MUhSFxLAi3abmKVams9aYxttYmNhx0OaMA_Wws-PutG1ncifXOqfaqHI9U9FXP01nPrSTgZa_MS1RDONth9nq1N79qDgcxaIuBTDPP38gwpilvOzOX94=w517-h335-no)\n",
    "\n",
    "### Adolescent Health, High School in US\n",
    "![](https://lh3.googleusercontent.com/DPtXPjYcRqmF6dyXy0hqpywQaKjDAlBBTXzOU86Ug_YMfk6D_bs74EVfpBxerROHc5Vf_pH-Rpof7uYJaBeZvza2RKl6xcJvf4F_1JcqQ_hyLuCAs21y63JqSV9QYXlWrml4YhlCrJubP0K1fCCvo5rnkERd1-toAJXlgVlMTV2y8ePdmaXqmMvqkxz5fu7i1V2KNc0RTMA2ZtsK8IWDrP_TUuLZVPPeO4nCRWMWHGM3ftyANZcTftgSktbri6Hajrfb0bjcHq-wXh8ohcAPrCy8PL57owzDJ329Ruz0Kq2nKmR8Q1Zecu8EJ16R-I2WoZu5QUguzqvjGczRQGVM64_AKLqsWosd_uTP2XFEyubfwFpBkxwSw7I_mdTniGQsOUHiPURsXheXBxfSXGSzuEOR890tFDbta0aboBMaytp9uFB0bfP-Q0sXC_WSCTbl4tmgbFB8XL_JlIbBaTkXhlErXtGGo0I39zNyWCWg8AxsbW47GrzXc9a42D_EkkH62D46CgYySzGBkuLAnrR_eQwOKXAWQQ2N_hwU-MXfll9eYG0H6FJZW3pCUpb31Gl8vhnqWLOe40EPkManHAeteUTUV2zjLML-o2zq6ZF-QZqjz0Iyu5ZUFygfIwaEJ6QirvLsfjwejkf_OH216tmpBqWZPhLH-UXro-cC3QA7qdoH8RU3HDdmnjFV=w579-h295-no)\n",
    "\n",
    "![](https://lh3.googleusercontent.com/TG77c4ZKGG0GArUZkMy72Ryi0us3pFEah6Cjwf3wXs93NriMcvQW0Xo8a8OKWh9gqaj9jhzqDX-2NvkB4F6oz6e5MPiExWQXQNluJuIs_RXlaHjsXQvJaJA5Nl9D5K4O9pH3L9kQjWqXnzNL4X2yVDJ-s6IRFZptPtaVAPMT8tFc_1b31XOzgEpXhYW1Nbc4OsVQ9GGSRugh1NQRFMqkqwfTCxTVneishwjZFqjnCjZvSSohG130IBii-r8ooGx7I3pgOuL9qztRFt3xlcZTYWSRjlOkVtGol9FTt_okf17qUdsVwvCPnrq6ppzha3G9wu_1xDBWZHAj6xS5jkNkitR0oNl7hApywpKLgfX6d9fODVJncZkRlhOPRks0durfoNrlsK0L7OYidrronqV1EvG4TNgloFgP9IR-xC9DpGETalu6akh2Qa4IrAbAlyoe66ci5JMIo0clKwdq-Ktap2_awKRACfb3O6UB3d2C9e2dYTZpGyh0S6rAlnNUgnon9PVd0nRxAxK1kltQsMeRyyiVamieF1Om-eZbD5r2H-mfukoxk9j7zelBDec4y1ga_W4jpBaz38U01Vj-F5FUMZCBkKjfU6Tnxu4f1p6XybENrAlCuei_e-vsaTq2l6TPV9n8P702mKtqgvNzKAHwBZ1I2CbywQu7idr7E8wzb28kydFEDcmnzGoW=w583-h328-no)\n",
    "\n",
    "### Baerveldt et al(2004) Homophily\n",
    "\n",
    "![](https://lh3.googleusercontent.com/LX8GztcwNjiZ813o44EOz0L0Cghdh4pHEaB_KTtyXE1dV8WxHPqabMzTY_3IYdc2RDrcK--q5kiVHYNece4bbKXcl5VHGotlcuKVAtG01JSZG8SLFcXaxXhgWDofGyX-U4HpdnP3nfHcJt9O6lCVbINtIlQ-UB4a4pkoS5rnbqwrIPxzdeA4GesBd0UEgJ3egLW6prcq4RBV8Dfhu9pNK_8cPgH5mF_Gtwa_XYRnJA9h9xpuEqI_zu08I4tsRMDZGnNHCaghhGMriJX00K6UJ0jTTwA2GAbLFrigT_x9zdlBcvKTVlXLmj3dJjpkZ1xUlE20nTfa-cjMJavprfCS8PeSd5nxiqwK91o4GQEhMgPx115RiSzcfiwgbdDSd7zexTjjxon_ihh55twvKDdRlDGbgJDR_pGEE35E6yRTJ7USaZlyjftFidRxIEWc7Y8H2Sa8IzGtBBF_7UxgCmAThhbxVbMOd_6T2P32oQ-rMkkiv_8viczqvpKG-NGualnP1aRruXwQbzj3L9xuQk0R69sbhAvAuLv147MSzBpl_gpo-FicRoPWhbE36no1EbyX3vecy57s70xPBvMUUsbdZdm9BhHNgXh189oYNMr5zOqq6NRBGoieSuILuCuyugJs6rfCxA7Ia3R4_uR1LswUiKLVlcCNfNbXM95C5C6B1RMPAyjzr9C03YnX=w555-h295-no)"
   ]
  },
  {
   "cell_type": "markdown",
   "metadata": {},
   "source": [
    "# Reasons for Homophily\n",
    "\n",
    "- opportunity - contact theory\n",
    " - It could be that there's opportunities, you know that, that somehow. But the way in the which the calsses are structured and the posibilities that you meet people could be biased by race and so it might be that who you contact is race dependent. So that there's just more a chance of meeting your own type.\n",
    " \n",
    "- benefits/costs\n",
    " - so having a common, set of understandings  or common culture. common language in terms of, the way that you think about things. could make it, different in terms of how people deal with things.\n",
    "- social pressure\n",
    "\n",
    "- social competition...\n",
    "\n",
    "There is a whole series of different theories for why you might see homophily  but what's going to be important here is understanding that sometimes looking at a  network, if we begin to put in characteristics, we'll begin to see that,  the structure of the network is characteristic dependant.  \n",
    "\n",
    "And the structure of things like homophily are going to be important in  understanding, for instance, why, learning might have, might have  impediments in terms of the segregated network.  Or why communication might result in an idea of circulation among one group and  not another group. Or, understanding when it is that  contagions will end up hitting a whole population as opposed to parts of  population. So understanding homophily structures,  going to be important in understanding a whole series of things once we begin to  understand what the structure of networks has to do with behavior.  And it's interesting to understand homophily in its own right.  You know, why are we seeing these patterns?  What's really going on? Why, why do we see these kind of  separations and segregations? "
   ]
  },
  {
   "cell_type": "code",
   "execution_count": null,
   "metadata": {},
   "outputs": [],
   "source": []
  }
 ],
 "metadata": {
  "kernelspec": {
   "display_name": "Python 3",
   "language": "python",
   "name": "python3"
  },
  "language_info": {
   "codemirror_mode": {
    "name": "ipython",
    "version": 3
   },
   "file_extension": ".py",
   "mimetype": "text/x-python",
   "name": "python",
   "nbconvert_exporter": "python",
   "pygments_lexer": "ipython3",
   "version": "3.6.6"
  }
 },
 "nbformat": 4,
 "nbformat_minor": 2
}
