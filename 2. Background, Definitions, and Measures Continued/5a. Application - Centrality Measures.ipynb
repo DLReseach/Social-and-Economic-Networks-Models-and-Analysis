{
 "cells": [
  {
   "cell_type": "markdown",
   "metadata": {},
   "source": [
    "# Centrality Application: What affects Diffusion?\n",
    "\n",
    "- First contact points: let us examine how network positions of injection\n",
    "\n",
    "- points matter"
   ]
  },
  {
   "cell_type": "markdown",
   "metadata": {},
   "source": [
    "# Banerjee, Chandrasekhar, Duflo, Jackson, Diffusion of Microfinance (2012)\n",
    "\n",
    "- 75 rural villages in Karnataka, relatively isolated from microfinance initially\n",
    "\n",
    "- BSS entered 43 of them and offered microfinance\n",
    "\n",
    "- We surveyed villages before entry, observed network structure and various demographics\n",
    "\n",
    "- Tracked microfinance participation over time"
   ]
  },
  {
   "cell_type": "markdown",
   "metadata": {},
   "source": [
    "# Background: 75 Indian Villages - Networks\n",
    "\n",
    "- \"Favor\" Networks:\n",
    " - both borrow and lend money\n",
    " - both borrow and lend kero-rice\n",
    " \n",
    "- \"Social\" Networks:\n",
    " - both visit come and go\n",
    " - friends (talk together most)\n",
    " \n",
    "- Others (temple, medical help...)\n",
    "\n",
    "![](https://lh3.googleusercontent.com/Uj79UCBl5i9OCffBid7ZLrfIMajYdSmajRd-hfJRqWXhs0pzmAXPZEijHCXANgadLd9jytwyV5DKMuK118IRKFRSloG4V9QthQfcLKzooIFuIdjxcC1WFZu8itK1tD_FR3f8NepfAwqeieNlooufSHvmxraUDCwtT4yOvJabn7LOhMHFUOx6zggovyERu6lK9s4VixLcTmNtJfmOJkklFjYGH2LQRgoW8lYrDcUi-817y4H44X5vzXcfisvVK8mJbu7rIyi4cNGOOAS2g_bxikD5dXB-olVmwqh7jPfmFK2s5Tz_6FjMXDj_XU-VAcfsceM4a1V14sh_WRzlS3FB_mbPvU_blJzBkvZIAwjGtMD0fYfT1OoxfttU7dGkVMa6fkMF3GHiPuk_WFDk_KrRgjBnLWKBQalXJA14bstcCjb2HxOK46wUGkYx4m4aRIzWL5YJaiyG_l1zbuKwx_W1pycx_2pUEAptX6bcSDvjsfl885ecesGiBQ5uQx3AVYhmPIhLijHjEVGRNlxV-s4yAn-wVjoeQYvpPFEUZnU32rPu7XMuPF3FTbVVtJkatyGx5nTyvBketTrgvKkcttsU8uImaHAfgwikWjMW5dw_04AmhKzjxFn7WlEGdJ7S_1JeeIyoAgH2e2rCRhgg4m5r29rxlCIUwWWYeRA3mrTwOYqvzuz03WlWRlCZ=w621-h505-no)\n",
    "\n",
    "![](https://lh3.googleusercontent.com/nkrms--7fjL1A5nm63-QxfHVJinxj--70AXYjJpX_4PfA1fd2hKe8L-xm6JE0l9jBJnz7iPpQ45yQuSu4aMQVeBZdMtZVyTXQI3WxpRPCWdfS47U9Q1SKlKUtH3njGi4IntrTFBlhZBynETY640TBKE62K8EichHH-m3i4zje8pGnxdUF3vlLOkP20b5St_zTYY0mpbrb7usB78_5zqjKXJ10zbzS0mP3ePqhkhbun1qq7lqdRpfWj9ftR-5p-_3mSvd69jpBop3uSu82A_3yfiza-JY4brHTIIFm9J1eI1X89nymI3w5dkL1i_MhJXArJKuUDOvEB44_x1iycnwpdocaf5lEWVJOQ9OUbETIa_mCbiLJp3ymOqvNwudp2084dPA6fakhFXBag6UxduQL69A-CZPAHLEAdG4IyRkKyR022gHkX6VxO98f7jycuSzCI20xfScRDz0bOtF4YtruP9TnqewVE9R-yNOxy1gzbnFmiixcJAMkvZ8SNfiwhYOMyHxWoxBpEQALqDcWFPORDW1G06k6FLwL0lbmgUHDYP0zR1LXjSnhJq1pCgFBe5frArGwxk3_fQm4TWqxPpZRcvKpoOCNDZdkRa3ye2EtnE8WRAlZEsyHPJSewvx23HAjdum7n7vXZU3XeUhrv6xm0zHh-GXAmZaiR0Xeo6iP8OWiKV-H4abddH8=w1229-h516-no)\n",
    "\n",
    "![](https://lh3.googleusercontent.com/5V3Tm6UjRVI8nhHqfrKjG6M9u0iB1kfH8hucfVeXphvcJELV3NvjjX1hpATQ5luTTitINGDEZKKF8DxNe5euL7qmnq0QrTv7zGB0UpWJYw3O9p4CB8IeEh74lw2vgP6j-tLCRiMN__ggpxTaKkdc2Q58gR8vgIoSuBcLyLJZe8L669rwEgyTj6zJLXDIutRQv9DVegvBpIDSE-PGIXKrWQPiovJPXJ652OcNgRX1JnkUzHU_fw70hJXCXKz5GmMnPNYEYNNDV0LbkGvFYsc0KELbpWU74QerD9pOWYXlCSIxKPQ5H2Pe2jJKY_p9jReRnoNcllQ_2LLKnGYw_oqm9mVLaYOBedVUwgqb7b8kQG-dr8RZa_9GN5Hdz3YsGuuvSQPZGnJljrZRO_EG9DPSX6tLudiedl_ESrcryAlpxxeZe0MZ10OK-vFh6nfa6EGklMDezSygi9TdoJJQjjU46fydkNSuTGrktoe9KDEYoAbNwMDkUM9C5AEda-4MAQG3X6tn-Loi3sQfgfUZjT1gHaJ1pZrc7VZHVI07iUG0-DmOZ2RFAnoq58cirBv83zjRkL6A9pC1wXDG6z3TbpNWd9vPd6CS601J_mOxqpk3rIHNEHFHSIlkziCd5GIABSTNjtl70ZR65Bd4jRUX_kfAdSV8LDm6yrzn2VkNSmlsGQoJW34LiVLoORQK=w1212-h483-no)"
   ]
  },
  {
   "cell_type": "markdown",
   "metadata": {},
   "source": [
    "# Data also include\n",
    "\n",
    "- Microfinance participation by individual, time\n",
    "\n",
    "- Number of households and their composition\n",
    "\n",
    "- Demogratphics: age, gender, subcaste, religion, professfion, education level, family...\n",
    "\n",
    "- Wealther variables: latrine, number rooms, roof\n",
    "\n",
    "- Self Help Group participation rate, ration card, voting\n",
    "\n",
    "- Caste: village fraction of \"higher castes\" (GM/FC and OBC, remainder are SC/ST)"
   ]
  },
  {
   "cell_type": "markdown",
   "metadata": {},
   "source": [
    "# Degree Centrality\n",
    "- Count how many links a node has\n",
    " - node 7 and 6 would be the most central individuals in the village, and if you hit those individuals, you would expect to reach more just because they have higher degree.\n",
    " \n",
    "![](https://lh3.googleusercontent.com/FAxbkg79E9wWZMA8waXDCKTblb9CVjn3pwmjkkToJRaT2fC_Un3zqDhdDHYWWUkB-UyiE4dk9dW3boY5TbXGgCBCE25XomBZ9Vo1dMFIifJhQXyW35jVlw5OSUKe4xFO-7qzrCeAUO_C8oPOSBHCDXG0pnDa9UnCR8205zuzaYD7OIMCD1mYvCIbcqNi0wrnEat8PJsL9OqprI2xn39Xky0mreEhAsk0FmW7wy30VFXsPXczZ7W8giSrFvAr22LB23ELyZpC8TUUOCPyLEJfKh0GE0Ju7Z7R0iQqQcD8xn7ul9iQ66f9UdXppHzlqr9T54Ce80FgRLDsYmd4MBgFE2jLnFQx2tr8T2PcIUKsx_SaCNb2IiP7qHn88cF7cD85C1V7rTJyoL-ZSywN3PLpN0UAnbH2NqYn0e42kcbFT34agOf8BJ8g01mT1Eynw96fM3_-43IXF946OqaWwJQuTB53IlZb2qO5Nh6PkDOI6zgBORkcRftAxt49GZDiN838u3tJvaCAuLCqSXvWUO0J81bcIyPX7gm2RFNGNcLgP9NtptjfSZf-st3PiW2sKi7Kgx0Kw3td_NDgHB4-u9UVmJwdfLVfFybK1RN8S2jE6RFweXYSunXHD_WU96Py2no3IyIDIoYZhQec3LbkEyQbjxDo9KI1tgZYW8YpgsrCHPagF0zaQBaNOu2N=w644-h232-no)"
   ]
  },
  {
   "cell_type": "markdown",
   "metadata": {},
   "source": [
    "# Hypothesis\n",
    "\n",
    "- In villages where first contacted people have more connections, there should be a better spread of information about microfinance\n",
    "\n",
    "- more people knowing should lead to higher participation\n",
    "\n",
    "![](https://lh3.googleusercontent.com/_0jc1eamJA1qiGKcRkAKnXuYEj2iup_1sKm3UrraOujrbst1_Q6XEF0ASaIW4kcJgKY_wJp8ZpWUv7C6xaDjaByBZNmMoCddG351WQ_uviyh0cdGjsORxL7yen0i90o3bQwssKJdKa8BzRt_fCTEjhqbTgl4XjQCg7aKQRXlzhi8VeNBhlc52lhlTbBUCbCaQsKdpM08D9wVUfRw94wvoSKV_b8pZLY-6Yj-Qlvfmj0t64UCUb8jkco8_1kDqAEcWnXV_7akLGB52YH0TzAvHNtV-H3ajCy_qLAx6_s6w1BpzTMzYdmPTOKc3_T_mY7Zqe52JPzz4W0Xm4J1uDpIkTg4kj0dU7X3UCI3yiqrQchKE8VT1gDYkSgeK6-Qxp73LU2kKgMsgbtCC70t4N80S1Kzl8yLgXd-4ZaWy8UdkR67eReBlQvbbWTtk_zQXidFW8hoyq-kQ3VDkcR4_wvmezAfZbIN_yjspwqU9f09HsxA5VlOagmw32EnSUITu4iSzqvU17tP4bw8Nrgy297ESd63PCvrGtptuW4NuFkupZeKPcQnB0CbHI0QwElzuZy4Ko9Z3CvOPudhYb4jURJ5Gv2XHJMaNY53-GF0nWHjo7vyDqzspT06q-7dpPoJpFkHEBGz1FPTXyrD0jIay1RaaNdgSXrooIdnQluJvtoGwe5cLAEbI-iE0e-B=w422-h280-no)\n",
    "\n",
    "So it doesn't appear as if degree centrality really captures what's going on. So we need another centrality"
   ]
  },
  {
   "cell_type": "markdown",
   "metadata": {},
   "source": [
    "---"
   ]
  },
  {
   "cell_type": "markdown",
   "metadata": {},
   "source": [
    " \n",
    "![](https://lh3.googleusercontent.com/z_8j-a50MPm-bNUBkaRkVDGCA1U8cS3QHTcth3rH7oDfWC7gbOxh_CO8CizcdiMszSIfQOQ5eXnedshxBya2hMjUx8n1fND-BtL_FElmNQ0H9CB00ZFM0nEweoiCKsyBsV36ROfda7xLZwH5ea0TFsQB74uUwfaDcfmnkIhBaCkNU9jVYD7jzJ4uR7cw6fQGPkgk52d_Vq8scFrMB_JkpS0XsraFhTrvjrAsGzLwgj_xoXuJFJ4ngCTCk3QFUO4ZF8KZllf8yVApLKWK-pfC-h9Ptm6CV2jQtHtI0whdOl1M6LC_IpbVAKaFLqfo15eDcD70MzVV12zOfUXaslVFXA6S61rz8I2LsiQXEHmrXtYZ7mWccv_HlwkF3Cazje9Yd66X2PvQCI3mp0MYASlkKgEwarv8PMkPJMwMZDhP4_eSCo43IyoKoxZFt4q1U22GVZlyE-RFfkluVhbw6dvl0e9lKBHojaQw513EvRP6hwPlDt8yRQBqCKj8mCE1c-z3lgpMmpdSUeS-iFSFMLkN6nbgSRLIWfyrAXFVpi_UrDmyyQbdN_AqxqEZaaIOdd7Ml1-7a9dk2df1epTUf4GCnEcLZb7JMHmH0owGoplILHFGyfppNHyYN0Vlbsqm-eSB1DqLQkAgTMRx1mzM9Kk8KDDOeX095I7xdmKEAEHQXNyrbHMoBTrTf2X9=w778-h296-no)\n",
    "\n",
    " Let's have a look at Eigenvector centrality, we realized that looking at  degree doesn't tell a lot of the story because it doesn't capture how well you  are positioned in a network. And so if we look at Eigenvector Centrality, where we have the centrality being proportional to the sum of the  centralities of your neighbors, then we are getting something which reflects this  better connectedness, as we talked about in the last lecture.  Okay, so let's have a fiat and look and see if Eigenvector centrality does a better job.\n",
    " \n",
    "### Eigenvector Centrality\n",
    "\n",
    "- If centrality is proportional to the sum of neighbors' centralities, then we're defining eigenvector centrality. So:\n",
    "\n",
    "$C_i$ proportional to $\\sum_{j:friend.of.i}C_j$ \n",
    "\n",
    "$C_i = a\\sum_j g_{ij}C_j$\n",
    " - $g_{ij} = 1$, then $c_j$ being counted \n",
    " - $g_{ij} = 0$, then $c_j$ not counted\n",
    " - we're just counting the centrality's of the friends you're connected to.\n",
    " \n",
    "Basically what we have is that the vector C is equal to sum a times the matrix g  times the vector C. And so this is what's known as an  Eigenvector:\n",
    "$$C = agC$$\n",
    "\n",
    "![](https://lh3.googleusercontent.com/L53oxMWwA_1rnByfNVm1p2fu2xzhPAEEJs65Uy-mO83n5Be5MYXYuzvKkS4w_a3U4k_lRzLCZe3eoHlLfhiTUOPSc-jXDl3BhJuvVzrdrEjymI7Q1yOnYRyBEMtMCA8TktgMxkKpLrzCo8RbkIh35TcLNZ5XyaQAPihxYMJxcR6oAnWGfyyOHIFZN-a6j40St1zY4sZx__CtorPCMWC1Ljj97mPzcBtY_1KA6gXJd03SDgwMNeu0O6iuO2pweiBjySVXuFSUQt7p1VYsg_j_j_MypMgqbXjjIHae0voA6AoIEjNbh5d40st1ZbSx644epxfIsjJTP-5uNu510GGjiCaa567yVkctrZaPTALelA4W_juAYDY8DneMNj7JYv0joeGi4wOiRYGrs09VBH1r_ymDJhhFUXItE4fk6nj_xgRMYNwK8DIATWY6Vm06JuOfAtSGZzjenMQG-9AMfWMsjQeM-mSRkgROgNR_w5ZLFaiF2EkprkWpUbsROs4BJUcv4OytEqVg9BEnrKs3PjCjcSuVuntNmldfSqqPXnC8rwqztUfnkfXGyEyRl6oTGoDHvU7uowe53Pw_ddD8V3SDZSLZSuuPmjJriuXqYH26iEVEvgRRb5FTTL9bgITWFd7K41Ti2GcASC96AaojXt9JQ-ihsdIqPIbnSz6NsCUp2dmvWSheUattm2zt=w526-h295-no)\n",
    "\n"
   ]
  },
  {
   "cell_type": "markdown",
   "metadata": {},
   "source": [
    "# Hypothesis Revised\n",
    "- In villages where first contacted people have **higher eigenvector centrality**, there should be a better spread of information about microfinance\n",
    "\n",
    "- more people knowing should lead to higher participation\n",
    "\n",
    "![](https://lh3.googleusercontent.com/kBtPdHjTj7wUEToCm6rhYT_E3ej9h0tncRmp_a6R-VfagZItW7RcyXzBf7PdYujBNJIJyNLzVxbXrJ58c9Ru0ZDTTC2O_gOTJH6ygaltKsVxSjQ-OUVWcIscODTXH5ml6COy1603HI8LF2UjmzfCUjOj8m7cnY2b2wJfC5k0Myn2tr3TGOjS81jL4GssHNq6O_UzEfMKPT7rdByySDL9vnD9nfhJdLU1LfyBthk8tjbEm3MUZjFq96JXKHwr_HgZKkagI68DHE2xSKC7EXhBQBkT-YidMQWzq1B5KgZezdL9cnvW0oolKZULnFt6YOVj1r3H8G3KlMzh8I7i07musnQh4fw3IQbIWiqfaxURkozIaHuLVVexJDsFUN5j58HxAOsnXAd7Ly_tNGsE6LlaUJockSoMV_cUL8C_asSTyeqAxDVq9bRJZfxjkTAueJsPZR_i6kzOhsOCD4Q0P6zGiRqtAFErEggW1NTdiIWsapeMDy8OFcNvOQ1Zu45avU1Dwhbx60BHLnocYkfudIA0aciUbS6d5V1til9xj7RSbkuGlVHl3OktpHH6Bh4JxlbVguFRi1WasRFOwUrle9o9zwkwA-vnxWEl4kuaeS2h8EQEkIwA8TzD2x0n_RvQYwWl0IrF8HV_KrWfr9hSsOydFnBVC7eskYZoWijO40YevNlyxqty4X9T2IhJ=w887-h638-no)\n",
    "\n",
    "Now we get a significantly positive and strong relationship. So having better placed leaders in terms of eigenvector centrality does a reasonably good job of prediction the eventual mark microfinance participation, whereas the degree centrality didn't seem to pick things up.\n",
    "\n",
    "the idea here is that, why's eigenvector centrality is working better?  Because, you know this communication's a repeated process.  You tell your friends. They have to tell their friends.  And so forth. So if you have well-positioned friends,  and they have well-positioned friends, that is good for diffusion.  An eigenvector centrality is measuring that whereas degree centrality is not.  \n",
    "\n",
    "![](https://lh3.googleusercontent.com/3b9fm3VBAW4KNaYu5Fnso9waOpVvwJsihrv_MsziVQX9sufoWReDmHrBWVA2DR3slshsPcNbRgQRRSTbIkbC7p-cJUjtAbsctpX8ORxqOiz1cpNUX4PdlCbiTU57H6Eor9Vte49DKKAaZDQZCXceQ_x5GEBOMJJMfcnLho5ZrEC7srSoUtOEEha5Xm0qb2nZS57kaavHQkveu8GfAuZkVQs-sv4_DvryBzehMCWiMcZDVKgteU-gU6VyXcoNfkeMhlpSQS0D7AghmyxG1jo7c5log2KKe0iF6wHK_jJ6ShbALqqP9xyFIpsUMy1RH53bgDQZebcsIIjhLiHZ8TaX5sKwN5KkvcCWqUs4s972joccPhK2HNbIrCi6QRV5mMibnfk3v-u04laRlq6jbC4apYndBBFogGPr-ybnTOZ2fM2dyqrspNUQM6aJVG9qvJq9VBQmfcldbU--qZeIOyPuuJS4AJzvx8m6MlGCGNRPAx8hqrwL5qQofWAfy8LNkSR26CJqNgkXjkeuApDvPgoQ7mWwv9_QGlyECA4KqYWPlYPn_dA0LCYC1-J-aUlPuoLauFIlddSl56Xx95SzVlrYj4v0_lwNt_NtLHneEsZiQjp_EwbXeP8fLvnSuNCAmiCi1UeXIpdeiLewhGrDLP08m2MKFBTR4dayWFlpM2XWbgp84Rl2uIp1BsH5=w389-h264-no)\n",
    "\n",
    "- *MF Participation*: Regress micro finance participation on a series of variables\n",
    "\n",
    "- *eigLeader*: eigevectors of the leaders\n",
    "\n",
    "![](https://lh3.googleusercontent.com/C6Cr2_phJtJahWkCYLAyFAN31AYaxgCskLXnrOjVJEDt0-n6SZdXuoYPeiASbrKaxRP6yeBPemBkwytSBAlA_DWzFMlKcDgurhWacwTTkC8vH07sSCEpZd7o2jPKMcTVy2QxbW8aJjUus7TuUn9Ug-2zeD5NkUoNuzeUyH8B72GuSH1JTDHNoG3dpnUhzEhf8wQdC_s3JWby4IqcjcySpuGuir97JeJVKd8xZAknVYpA1NJ_tlN6icpHknGKHdfYi2RkRdSw6a-yVz7j8odA3mR-oRRbaCJx4C450lSgPdY3aRfCW2KXIU9oayw5qxub2C1IbpoYhg1oEzXPRHLSfmwGtJPhu0gVEV69h1MIn2udZpiDatln7MNKpF7MKqq0KmpC_l2Id3-ivqPLk_YJn5oVS6YSJV_7rZWzGQn3YpebWbdMVFPTQ1OBzOowDLq5rLKDnrmwzuVik-3JCVoUPoKin4kjRgTc0J3hyneqe9ZlYvqAUI9G9ac5AD9N8g49jW2Wx9_Hvtkowq1E9Ebfem2dI9mZOJU9UFzp-NxCEPPjQNOEyZyswzas6WhHxiabuiIvl4ItXYUDifi_URHSwcz8Q3JQEa6ctzznWUZJ3OrWiyMiSbJ40N7jPHWdPnfYxxLzdISe-ZXkzyYirJB6Gdf4Hkhl5vLgWC2oGUdhSDlRm03MrCN9CgZ7=w968-h716-no)\n",
    "\n",
    "We are also correcting not only for the centrality, but also let's track of, you know some villages are going to be larger, so they might have larger numbers of people (*numHH*), some might have more people who participate in self help groups (*shg*), which means they're already more prone to be borrowing and lending from eachother. We have variables on savings (*saving*), we have caste variables (*fracGM*), we can look at a whole series of different variables and control those and see, you know, that takes some of things out.\n",
    "\n",
    "  And again, I can vector centrality, so now degree turns out to be positive and  we control for these variables, but still insignificant compared to its standard  area... Eigenvector centrality is the one which  turns out to be positive and significant the other ones turn out not to be  significant. So you know, this is just one  application, but it's one application where now if we have a very particular  question in mind and we look at which of the centrality measures correlates with  the eventual outcome Eigenvector centrality is one that's correlating in a  positive way and the other ones are not correlating significantly once we've  controlled for a bunch of other variables. "
   ]
  },
  {
   "cell_type": "markdown",
   "metadata": {},
   "source": [
    "---"
   ]
  },
  {
   "cell_type": "markdown",
   "metadata": {},
   "source": [
    " So this just gives us an idea that these things are measuring different aspects of  the network and sometimes one can be a better predictor than another.  Now exactly what the causation here is we can tell stories, I can explain that it  probably has to do with communication and better connected friends leads to better  communication and so forth. Eigenvector centrality's picking that up.  but, you know, this is observational data, so we're not sure what the  causation is, but we do see that different.  Measures or picking up different things in the data that's going to be important.  Now again I want to emphasize here that this does not mean eigenvector centrality  should be your only centrality measure. It just means in this particular  application where we looking at a very specific type of diffusion it seemed to  be a better correlator than these other standard measures of, of centrality, and  depending on which application you're looking at, you know, between this seemed  to do a little better at explaining what was going on possibly in the Florentine  marriage data. So depending on which application you're  looking at it might demand a different, centrality measure.  "
   ]
  },
  {
   "cell_type": "code",
   "execution_count": null,
   "metadata": {},
   "outputs": [],
   "source": []
  }
 ],
 "metadata": {
  "kernelspec": {
   "display_name": "Julia 1.0.0",
   "language": "julia",
   "name": "julia-1.0"
  },
  "language_info": {
   "file_extension": ".jl",
   "mimetype": "application/julia",
   "name": "julia",
   "version": "1.0.0"
  }
 },
 "nbformat": 4,
 "nbformat_minor": 2
}
