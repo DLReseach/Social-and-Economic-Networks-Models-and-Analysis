{
 "cells": [
  {
   "cell_type": "markdown",
   "metadata": {},
   "source": [
    "# Diffusion Centrality: $DC_i(p, T)$\n",
    "\n",
    "How many nodes are informed if:\n",
    "- $i$ is initially informed\n",
    "\n",
    "- each informed node tells each of its neighbors with prob $p$ in each period\n",
    "\n",
    "- run for $T$ periods?\n",
    "\n",
    "$$DC(p, T) = \\sum_{t=1...T} (pg)^t 1 $$\n",
    "- $g$: adjacency matrix\n",
    "- multiplies by 1, so that keep track of how many people we have heard at each point in time\n",
    "- if $T=1:$ proportional to degree centrality, it just calculating how many people do I reach directly\n",
    "- if $p < \\frac{1}{\\lambda_1}$ and $T$ is large, it will converge to Katz-Bonacich centrality, where $p$ plays the role of weight and $\\lambda_1$ is the largest eigenvalue of the adjacency matrix\n",
    "- if $p < \\frac{1}{\\lambda_1}$ and $T$ is large, it will approximate eigenvector centrality\n",
    "- if $T$ is larege, becomes Bonacich centrality\n",
    "\n",
    "\n",
    "Let's have a look at what this does in the India data that talk about before\n",
    "![](https://lh3.googleusercontent.com/HC-B87Y4sbc2oJSZVdyiKTF4Od03Rsx8MvPPRtwpflp32l3s7Spu59OZdQ86QF4bUl12Bzp6SeqVN-ecGPYWnQ1unLZpKpRN1c_9rordkd6nmfhFiHNYYuc9alHRyhP77zt9uY-k7KNqrseuTk6A5nGy80PxK2fwyihn_XVQwQkYljMvbSa3W0pdN9POqveHqVzM5J2V85SWR-MpvXlGR90BTu6mg1Qd2g7zt5msdXwZcy6sw4WG-6yjvyUk7f_VpDlIbAJ_lwhTbvPVBUBHWfAnIXfk5vA_byTOF4kjXdnWrmupa0E3Q1Jixvw4fuvAxKMT4oG7TcRR23Fv_vF9brxeK0LmUN2e2NoLvyeB3Lb3eBuLEiXb0XmCr00yfh1ax2E9Q15OyB_bk1t7fFako3bkZIgj3oz_5DNrWWYsPSuCYRGeUM9GaQ8S4C9v3KmrNwAvw99O3S7wy3PdpNUPusBonl_X5cLK6mzqd9R3shTx26UldEcO0B9YQgaZ20UktClwD11vrKEu1sJ7hfkbBrfNx7GNlSqiStntrRHe7i5nEqHCNQjdVEp-PaWsl_UrQBuEw9qE69inh7ai9qqdha3pfy33qrTE-JDzDkuiwVuQG4498JNyUWGz6EM3jD2aYP00dbhh6QWlaSo6HJpY5bKvGbLKaG36lUv5lrV5yXX7nYmO8VZrCjQ6=w1005-h727-no)\n",
    "\n",
    "**DC**: diffusion centrality, we can see it have `***`, so it is significant at 99% level, diffusion centrality here is defined by setting $p = \\frac{1}{\\lambda_1}$, then running it for some  number of periods which was actually equivalent to the number of trimesters  that a village had been exposed to information.  So, some villages had 8 trimesters, some had 3 and so forth, but that gave us some  numbers of rounds of communication that might go on in the village. \n",
    "\n",
    "In order to figure out which one might be doing better explanation,  we can sort of put them together in the same regressions, where we keep track of,  of you know, things like the degree central of the leaders, the number of  households, self-help group, participation savings fraction in the  cast and so forth. So, if we keep track of all these  controls, then if we do the diffusion centrality it turns out to be  significant, eigenvector centrality is also significant.  When we put them together, then the diffusion centrality remains highly  significant and, and doesn't change much. The eigenvector centrality part of it is disappearing there.\n",
    "\n",
    "![](https://lh3.googleusercontent.com/2EmEUVdstzg7XxUP19mC7VIoNMchUc35KlwjsMsov9gUz-bvXaJrkXLcHUrrQjjQA4uy8QYf7sGRBcv0kUf31FrbeLFwNHcpen45UoWuB22Ra_O59s73uLPAjc8O3NsjBJHnEwaG79_TmU6K2etsuyF4dgtbwMlctaRZuShql5Ir56FW2vxJ2eMY8Iisr2w0jkltnNYwcH8133_0-zOfUUfGK93ChK2dbM4jJi0kL_7nBizZcuivWVxpPpez34F99zeHzGp5sVhe5gnLquUXG9XxBWZIGL9LfyRo2u8LUnCBHP_tHHqd3s-vxxjaCnjiRbYDpsrPV_cIf90k8Ya7Fm4qIDZNKKxgBjoFOcAyiusJS_2WBlhHvueFjuoW8k0iuiUTx6WRETyg-jo_pQK5m5ItBKX9ra5rntJ_wEh0s42RbHCWuHk5H-uIImAnSkb2pqKTa_n0CrpslTWiAZRN8NJ97bQ6ykG6dNZ__1BX1YdL_h9n0GmI76IAJv9wMbSAyMFxIdTg6r74nd-IE16vutXTyr3Zy3ytOtVzXy8cOrXxefNo9yT6Swu-6gOsh9ImR7_gOvAhk4XS_YkUS7leaB0znFUKMWwl6ErrGt8ULgwffbJaFYY4t6XEgGg6tywMkN0eyMRQVbwImVFDsB8ZyM8IZP3E8EaJGGh7_PE3KkgrfsrdOuE0IJ0J=w976-h710-no)\n",
    "\n",
    "of it is disappearing there. And the idea here is diffusion centrality  is keeping track of the fact that communication is not going on forever,  it's only going on some finite number of times.  And if you have some feeling for that, then this is a very practical measure  which is designed to actually figure out how nodes are, what's they're position  in a network as designed to spread information, and that particular measure  seems to do very well in this sense.  So, once we've looked at a very specific process, that can also suggest how we  should measure the importance of nodes. We can weigh them directly by the  process that we think might be governing the communication or whatever it is that  we're examining in a particular network and that will give us a new idea of  centrality measures or other kinds of measures of nodes.  So, that's a little more about position  in networks. There's a lot of ongoing research in  this area, it's a fascinating area for study.  but now, what we're going to turn to is, is beginning to understand network  formation processes.  "
   ]
  },
  {
   "cell_type": "code",
   "execution_count": null,
   "metadata": {},
   "outputs": [],
   "source": []
  }
 ],
 "metadata": {
  "kernelspec": {
   "display_name": "Julia 1.0.0",
   "language": "julia",
   "name": "julia-1.0"
  },
  "language_info": {
   "file_extension": ".jl",
   "mimetype": "application/julia",
   "name": "julia",
   "version": "1.0.0"
  }
 },
 "nbformat": 4,
 "nbformat_minor": 2
}
