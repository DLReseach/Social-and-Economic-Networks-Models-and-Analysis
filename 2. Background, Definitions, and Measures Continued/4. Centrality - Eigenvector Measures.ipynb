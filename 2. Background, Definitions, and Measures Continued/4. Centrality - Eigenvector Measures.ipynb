{
 "cells": [
  {
   "cell_type": "markdown",
   "metadata": {},
   "source": [
    "# Position in Network\n",
    "- How to describe individual characteristics?\n",
    " - Degree\n",
    " - Clustering\n",
    " - Distance to other nodes\n",
    " - Centrality, influence, power...???"
   ]
  },
  {
   "cell_type": "markdown",
   "metadata": {},
   "source": [
    "# Degree Centrality?\n",
    "\n",
    "- Failure of degree centrality to capture reach of a node:\n",
    "\n",
    "![](https://lh3.googleusercontent.com/cXYydMaE_1ClXHtt-vR0Zt6E2GWQHPaeKUGAyWwG5crxO-7xMq5DfAvLos72sGNszDfL07FJUK4QjLmSM4DFN9PcTN-NvihQKgF5OHQHAWA-ZpXLtpx56u5yjsahp0pMCaDd3_WdA3ILtLAHUDJuuHSZtHPPebI4FVkY8zBPqFXfuzrldfhYEnsOwIIxwElkCODXo9N0W1I7G33me5ZOInBpv08Ob1Sne3K_FpignhsJeCY3PlG0qwnj6Rpofv8oz5CSe9NcyhKlFK7EtFo2ttw9BnmcG8XAhC-KVsHhUUB3fqSbv_VsjSdqFcH9j5PqFb_veYH9HYyp4lMj6AumRn_Gpxiim6jFqttyJxry9jYPhyusUaXbjzhKekVM6eAWJdRRBZQCU-C9AkOczGPWzBm88pQCcNJFJGLWxrY2cicjXoPOo-8smn6LlDj9-pPX_pdTlhD8FlNEabi3-M6LehvJ_21sHiVVP9qljsyzUuONcv2OJPXoWHr1TY13RiM7OKP2ZHeN8_CFZ9dWH6syKTCvnbl4J_aHS1D1KtctArfVisLRFxw9Alf0AoscnRoU7YPqx81pdUyQ_IkXB9K8RPEDRQq0JN4XsIGm3QKX8aQsicepYIwXd3wIRjrMchUui-7uGq0-AX__4_f8-JnpVIv3h1_-JMhrPnLBWBRps-hVu0Hnv11YeBPc=w815-h306-no)\n",
    "\n",
    "- More reach if connected to a 6 and 7 than a 2 and 2?\n",
    "\n",
    "![](https://lh3.googleusercontent.com/BPW6XZqx376b66ErKrQHZzS67GgwYmdI87z8EljDE7i-9otJNISFC0dXbrz1chzv_1ai-ckIzNaoNdmlBHQrcwqVpP2AhEsj6UrC6ldHw-fWzxGjXtxsAi-4O6_jR-S8_NPZYmoOccMX2S7hrHOfCITEppdaQTj_4YGUOHUDY5qr69ot8ySKJkpqyC-jFsYMoigBFuR2YF6tBtRwtm0PoS7wI6EFqCRMEl6DyCn7uajorR1thXwJjgE_UXZH7nmxX53FTauE_0ja9h3rLz0uBjzBWt9FHlQzmspUhkShEx02O1Sx_-h9XfSjltpKUD_2m4VgOAZdxaANoNYyaEhiarvPqN7Kxv2t8nTuUcBRmJReL-DPaMTsf6Gi8vpwHxs3eX_oaa3vu-w5eMfCsg9WCp5dZO-ala8eueuj2CNjkDKSZZp-UGgXB8bWzlvseyqzX-nqNH7sd9I4ogfJ7OzuTUNRpKKAibWxFXq4XaK5W5nhCBIKEzLbSJEV3V_EbPBLYLZg9NO9sj8c7BIOhpLuLwsA7fTtcU1XK1MKbdjzw9F8GFnOSdvwqeZTTeqAHOJKuySUZQYdKymg8ffYpqhoIRqabhXBfr_LeCcKqqsl27e10AqGHCkPIxyRFtr4LWniQZFESvR-nmZ7FENLXPp_ynLoXIpWH9X5V1bOT301vr8gU_tOZP9_i1uK=w631-h223-no)\n",
    "\n",
    "we've looked at things like degree centrality  it doesn't necessarily capture the importance of the node's friends, so you  know, when we look at this picture, for instance...  the, there, there's sort of two aspects to it.  One is that we're, you know, this node might be much further, from a lot of  nodes than this one. So, things like de, decay and closeness  centrality can capture the fact that it's sort of out in the outskirts.  But another thing is that when we look at the friends of this particular node.  So if we look at the connections of this node they each have degree 2 themselves  whereas this node's friends have degree 6 and 7.  And so in some sense they are better connected than than this other node's  friends. And so the idea of,of eigenvector  centrality is that your importance comes from being connected to other important."
   ]
  },
  {
   "cell_type": "markdown",
   "metadata": {},
   "source": [
    "# Eigenvector Centrality\n",
    "\n",
    "- If centrality is proportional to the sum of neighbors' centralities, then we're defining eigenvector centrality. So:\n",
    "\n",
    "$C_i$ proportional to $\\sum_{j:friend.of.i}C_j$ \n",
    "\n",
    "$C_i = a\\sum_j g_{ij}C_j$\n",
    " - $g_{ij} = 1$, then $c_j$ being counted \n",
    " - $g_{ij} = 0$, then $c_j$ not counted\n",
    " - we're just counting the centrality's of the friends you're connected to.\n",
    " \n",
    "Basically what we have is that the vector C is equal to sum a times the matrix g  times the vector C. And so this is what's known as an  Eigenvector:\n",
    "$$C = agC$$\n",
    "\n",
    "Now distinguishes more \"influential\" nodes\n",
    "![](https://lh3.googleusercontent.com/2BkJrm6Nx6wsYJs1UMcm7T3hzopXMipo7IfbHuD3rMoD3XCwEciCEglwjSOQkBZyVDj1QlxAsyNDQ5ASqaqlhuku0u8KPn6IQo3Vxmbk8SodLyx7-H_ryXjXC8-1K4zrHFMxTDTijozkrZKoLIuk4D_hMP3efAp2UlYwq3KZ1c18tdecDfwPrx6dRJwzyQ7XmbvoUDTWou1JQRpb2NB1YKNBOzXXUx9PkggkzufsGHdh1JZE5ya0zb7NHlqZqjHxuhb3Pk-T0Be9USSSETm_lRdSnq5C3QnqpIT4Oph0o0LwT6LO8fB-UZ1tB-0BMmOJrxOfDLH46ZA9AuLaVbIBmL_0S9v7W02qLIb3Gq4RN-by9cFlEtzg1DpbQ6PL69Trz3kXzgzoiyT1d6BdlWyRPpR8HB7e6l5E58dml5pvRcjyXLZUhtF2QxUm9yZedl2EGfTnxZ48WThClPsJ7P9Hr9JVtxAAMrA3q5dho3aLnroiNLfUekQPwMYAJWfcJjgcelkGn7XNqlhaM1qoZllS8GIPrz27HkF3vWNh4-yPOxsBs690kJcmq_ugI107b-b9h24hYF79Jhuug6hPmWaHNG8MsJil_Dlor3OZ5xsnVI5UiHQM2054x_gV8AkWjwM86ww5Nt-Q-UpFGFPVmi0CVlksOxPAEHpNWoJRheF4krZSg9sXIP_lhy4R=w736-h319-no)"
   ]
  },
  {
   "cell_type": "markdown",
   "metadata": {},
   "source": [
    "# Prestige, Influence, Eigenvector - based Centrality\n",
    "\n",
    "- Get value from connections to others, but proportional to their value\n",
    "\n",
    "- Self-referential concept:\n",
    "$C_i^e(g) = a\\sum_j g_{ij} C_j^e(g)$\n",
    " - centrality is proportional to the summed centralities of neighbors\n",
    " \n",
    "- $C_i^e(g) = a\\sum_j g_{ij} C_j^e(g)$   $C^e(g) = agC^e(g)$\n",
    " - $C^e(g)$ is an eigenvector - many possible solutions\n",
    " - Look for one with laregest eigenvalue - will be nonnegative (Perron-Frobenius Theorem)\n",
    " \n",
    "- normalize entries to sum to one"
   ]
  },
  {
   "cell_type": "markdown",
   "metadata": {},
   "source": [
    "# Eigenvector Centrality\n",
    "\n",
    "![](https://lh3.googleusercontent.com/hKmVMWgVfwnHtATRfe5lY4a-aAZfhJOBQKJDm8KMvKmxCFUVya8HTCFWrVUFTARvp9-UMONOPR4Ix_6oqzu7CWBgpRIzWW1srrNt_Ae2p4ZXC2uF3uMKsg1zKLNDWlwcWAHv_p2E8pb8m4qVTZVPModkn_b5m65BZfSI8V3yBP3T0Q9k6C3vPnWhctam4YcfSGE-oxiOP0bRhP0FKcI1Ywrd2muhhfz0kQoULmj5GGOZU4eN3GrjNJT5TNaS15nZ9zj8oyZ_X6jTNcBDUdeecdZqOHY-OYvLDmw4-L9AlroNQWxSWxbElTgaPWNBkyPOneK90vNx3jvhPBHg3soKaC7YDxlj99bLLoQAQ7-lMwSAbpCUVo_NIgH2Q9I8kpkT_H0_SBNdvo7nrely6w13QI97cIzzaESik1u8cKH22Eynh9MVPz0XjnhL4pBoAmAApiMORvpJ9AzHH8f3GeYcAE_nAZX5pogLgbjmbD589FTT_qjky4WmbD0HoFosSYWEp59j6ZmqT3yieKY4VaSthzcWQrZ6lpHP53ydlckoWg2zQKvpyVPZYsjQeKMHCn6OP9_yKumuYUgvVXhKMsN6SisHvdGF1YY4wKBwQ3Ad3EUH7rssspzv8yzoUYc-IdXeUuZ1NqF5xjR9NrR9hwnD8PjkKp4RfNdxDIBIvw63MxXr4bKvxrp9ha4a=w916-h563-no)"
   ]
  },
  {
   "cell_type": "markdown",
   "metadata": {},
   "source": [
    "# Centrality\n",
    "- Concepts related to eigenvector centrality\n",
    "\n",
    "- Google Page rank: score of a page is proportional to the sum of the scores of pages linked to it\n",
    "\n",
    "- Random surfer model: start at some page on the web, randomly pick a link, follow it, repeat....\n",
    "\n",
    "![](https://lh3.googleusercontent.com/hqmDR-E9nYC0DKkB3K6N1_JDeuB2iuZbip-zoXix51Ej2E5q6guSpcu0ak-FLHvzMBubEs-z-x8HGxVD0X5rs1_bu-LTWY1OSfhmm48UNAyDu_fcKhr-p0Nx9GcHHgLzWcmMjfcc8Sen7ts0k-G4QiHWTITRekOGDw9Zy9hBUHCRD_bLXA2zIfdCy6cV22FQ7--fLL7aUeyx4QUy37RUna1yB9hxDJMzG2GzsX7h4O_ES46VMa-WLfSfqY4pPzF3Rnmj3hRK_0T36ayCGpaVvnfpziIPwVJqL11YKfdcdZyTvVEgSJNgAR_TO6ZHzmVx1XSou9i87k_Ym-SR4qU9WztT1C4Dz3ZncSidyZAYB8hgoZKarNC4ISKAkBIibk96DP0Y_uWCQykT7V_Iwr3g7ngEC6k-ynujvijX8fvf1QcC8LfAg8_MbOHQ4QJaKbJZFTEhCJqFg_XrmzgvaJ3Tu7qc1f814lBVkQYdqdMnbLz8zWV_aWam7yTnZaiHsPvtuKarfSO2EWDfnBqebNlI-rdrNOVUHNjHZs4VNReVftWQB8hKLTWf0zEg53r4LSWJs_-RKrguWCnMqTnlS7xaqberishInDSAE2Z80zLtFCfg7lVl4xD96x3FZkjuObQQqV-Q_8mugx4__Jknhte_9yK6tCzy_DG9YShAQUZG0EPTyfksZYa5KQfy=w857-h663-no)"
   ]
  },
  {
   "cell_type": "markdown",
   "metadata": {},
   "source": [
    "# Bonacich Centrality\n",
    "\n",
    "Builds on a measure by Katz\n",
    "\n",
    "give each node a base value $ad_i(g)$ for some $a>0$, then add in all paths of length 1 from i to some j times b times j's base value, then add in all walks of length 2 from i to some j times $b^2$ j's base value...\n",
    "\n",
    "$C^b(g) = ag1 + bgag1 + b^2g^2ag1...$\n",
    "\n",
    "$= a(g1 + bg^21 + b^2g^31...)$\n",
    "\n",
    "normalize $a$ to 1, need $small b$ to be finite\n",
    "\n",
    "$C^b(g)= g1 + bg^21 + b^2g^31...$\n",
    "\n",
    "![](https://lh3.googleusercontent.com/SgkwOmwRGYDjZozzIY8-c8mNwdJbxllNW71bg6ur9hlSRse6z3u88whB6BtfTaDuBJP-D1wxz4WjeAuSWQThE9DedpPLCfHn0pPK_8VeVBEzjRGPIJyFex89q-p_MYwyTcYi3JpVSml5uq5nYwNWAsZrqoi3DFdLM0R43urbSPyRgLVsAbw1-zXVe2ZBo6kdaFY9KE0UyDXC-UDqtzvJcZEUF14X_6rM0x0rWl8KxGXWOsv7bn0eJzRmPFA5R2uxSYedUak2bYE__aq8MAWHu45PigVLSEng6bYJOmTKC4JaSq_L5V5RIHkqH5HEhzzlCt8X-1MHwNtlMveVwfnLxbws4nZzbPNhf8iYsg2gnxdpC7hIvsZijfv2vNCiFijezEIwqSvGv0LfMWsgm69aWLshJN-DLucoj_Twpo1n3XfR-hQHdW0e8QN5iKnLbaBCpMYhNQAl3FeyvY-Nl8SAUlEt1_ard1Ixy2fXlOMXX2veoUMzdwR9ZoqxKMdq4j6wJbGNmMBuyP0mtROtNWFVr7lalTPn0DeKM_jgNF9I48a0N1BMdgP3AW209whM-z90fRAlOS1SsLkP3R4a3oZG7oXIITd08GjFLWDrecMyZetGxX7OEyBShlG2pMWQrPCuhusRPgGR26C8S32Mx8YFbKlBdJMGJ_hSVg0hl9tWT2VFUAAdUtFTBimx=w907-h552-no)"
   ]
  },
  {
   "cell_type": "markdown",
   "metadata": {},
   "source": [
    "# Centrality, Four different things to measure\n",
    "\n",
    "- Degree - connectedness\n",
    "\n",
    "\n",
    "- Closeness, Decay - ease of reaching other nodes\n",
    "\n",
    "\n",
    "- Betweenness - importance as an intermediary, connector\n",
    "\n",
    "\n",
    "- Influence, Prestige, Eigenvectors - \"not what you know, but who you know...\""
   ]
  },
  {
   "cell_type": "code",
   "execution_count": null,
   "metadata": {},
   "outputs": [],
   "source": []
  }
 ],
 "metadata": {
  "kernelspec": {
   "display_name": "Julia 1.0.0",
   "language": "julia",
   "name": "julia-1.0"
  },
  "language_info": {
   "file_extension": ".jl",
   "mimetype": "application/julia",
   "name": "julia",
   "version": "1.0.0"
  }
 },
 "nbformat": 4,
 "nbformat_minor": 2
}
