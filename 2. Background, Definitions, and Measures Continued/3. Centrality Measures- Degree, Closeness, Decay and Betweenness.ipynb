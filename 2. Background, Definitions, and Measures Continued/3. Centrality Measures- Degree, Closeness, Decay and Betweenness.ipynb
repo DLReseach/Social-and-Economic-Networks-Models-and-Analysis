{
 "cells": [
  {
   "cell_type": "markdown",
   "metadata": {},
   "source": [
    "#  Simplifying the Complexity\n",
    "\n",
    "- Global patterns of networks\n",
    " - degree distributions, path lengths...\n",
    " \n",
    "- Segregation Patterns\n",
    " - node types and homophily\n",
    " \n",
    "- Local Patterns\n",
    " - Clustering, Transitivity, Support...\n",
    " \n",
    "- Positions in networks\n",
    " - Neighborhoods, Centrality, Influence..."
   ]
  },
  {
   "cell_type": "markdown",
   "metadata": {},
   "source": [
    "# Position in Network\n",
    "- How to describe individual characteristics?\n",
    " - Degree\n",
    " - Clustering\n",
    " - Distance to other nodes\n",
    " - Centrality, influence, power...???"
   ]
  },
  {
   "cell_type": "markdown",
   "metadata": {},
   "source": [
    "# Degree Centrality\n",
    "\n",
    " so the idea of how to describe a  position in a network you know, there's different aspects of individual  characteristics, some of which is how connected it is.  How clustered its friends are. distance to other nodes.  but more generally, trying to capture centrality, influence, and power are  going to build on specific definitions which, keep track of a  node's position. So, in terms of looking at nodes  centrality. the most basic measure in just trying to  figure out how important a node is, or how influential it is and so forth.  It's just how connected it is and that's captured directly by degree.  So degree captures some notion of connectedness of a node.  And you know, in order to make it a measure between zero and one, we can just  keep track of dividing through by `n - 1` the most possible links I could have  and then what fraction of people am I connected to compared to how many I could  be connected to. \n",
    " \n",
    "- How \"connected\" is a node?\n",
    " - degree captures connectedness\n",
    " - normalize by n-1 - most possible\n",
    " \n",
    "![](https://lh3.googleusercontent.com/JXSlk1Gu59fZGPXADFS4kb5N1fA_fpaUKoPdTu-6qpmGZH1wTOhiOJUut-PHg5N2X0KzhzURKi56-k-pSNBdELIbaUlYYKVNEIhOPhOx1IrW5_gUUHWFP8knCr1wUYlJt9mDOk-mnA7zTErlu36MVDdgmDt-3XxyqDD-KQFbtPunmVy3Ap0sYVjJGNsabYoia6T6E5qox6Vj4imsMbzR4LEd8WBAWJ61tXBEWL7F0-uty6EIkwKsVABM27SiaMQeaPNt3Zw_6ngkXZ1IilaD8GXoHYm2xeLEpaTzc2FnB0NiLuiZzEdzcuKvjukquR7BPksCCb-hvA-uGdxOLClvXo0MTOtYrgnohpLXtrMEp6Vl9H-ZicuhW4k5SQ89vkvOD-OoSFgoQbQSeXDQ7EbZXaaW7VxnZJztAquaiszQq4naWr-mdnrHmRjlahWloET7W31kvQKZw07a6zC2SRJUk1ZP_fTw111uKxkuCoYe6aWZQxDRlrzABUhAif37LIRrJdqP5c2XEk8Ymdkk0z-v0a1xC7Ko-uJ6AsxtoUeBX75aLjpirXDdrgxDeX7eRbFXq8_IPfsgIOMuHOG61li0IJtT4Nul9Kr0xOGhAnSfhYJGHj8pLpuXNRRBtie09sa4NoVEy9ES10jT9GLM0C4HqHnMpN4SN8GXrBD0pSNCQcejszJxnG2V8yde=w1045-h466-no)\n",
    "\n"
   ]
  },
  {
   "cell_type": "markdown",
   "metadata": {},
   "source": [
    "# Centrality, Four different things to measure\n",
    "\n",
    "![](https://lh3.googleusercontent.com/eG8FjtdMRHeqXM3fzb8pWJ9VW7_NCmlOXGd2PlTAdN_mz8aMznxi38bG8s5-V9QSt9yVcULgFqPmayYFd5Bb8YSqAaerZpvDZraYctoc2VCLNoA2BTSNO7ugm8PtRTXGGcT7mDf55Lv9Q2BsZCfrBFSqey4FBV9iwIJD0yvIBOdmNGP91CdTX7xTbq-mzmXRSIQZ6HBLvPCO5pH6vxJmIi32fTPoqtdU5JLsQ9ybwcvcZCotwzdyysiuwP9vK9aIZek_Ibyl8FfFwAbKB1ArOaKFLfYkVg_4RAJw4E3vVQXITQxe7PX2kc6c1mxKWXC33jaMUjfER_IMXPkZsfKmP4_iGcRpExESRJ3wI96DCam4V5pXmOg6qleLVZ6RkmBAa3eZjhuyEoNdKRbDKxCI_HH1_sA4BexGaEbghyArPVAfJJ3z29ydPFuKFOaybcKm7_ihSTJzdXKSWEdcrIfg3VV1rD4KdVhncTvAccRHgmLpNBJluO2ELpMl-r5hXMPvvzaCjptJE1tknIc7j50-JX2EhnyrwAj6IXanKh1v33LE_ZCjq2KQFcobbWBR092eqAUyzZWqC1KOAjjzsOI9eJAcV1z7v1lRoCZHMHXFJg5X1jD7xZfoF74xaItWyhc2WaN9Dhbnm3pbZaSecKWF3iB3gtIERcVPTkIvty6p_ysdSE9Kl9vbFG36=w654-h255-no)\n",
    "\n",
    "Nodes 1, 2 and 3 have the same degree, so how do we measure the position of these nodes in network, or central you are in a deeper sense.  \n",
    "\n",
    "In order to get at things like centrality, we'll have different types of things that we can think about capturing:\n",
    "\n",
    "- **Degree** - basic connectedness\n",
    "- **Closeness, Decay** - ease of reaching other nodes\n",
    "- **Betweenness** - role as an intermediary, connector\n",
    " - role as an intermediary or connector, so are do other pairs of nodes have to go through me in order to reach themselves? that's a very different concept then thinking how close I am to somebody else. this is saying am I as important as connector of other individuals.\n",
    "- **Influence, Prestige, Eigenvectors** - \n",
    " - \"not what you know, but who you know...\"\n",
    " - capture the idea that you are important if your friends are important"
   ]
  },
  {
   "cell_type": "markdown",
   "metadata": {},
   "source": [
    "# Closeness\n",
    "\n",
    "- Closeness centrality:\n",
    "$$(n-1) / \\sum_i I(i, j)$$ where $I(i, j)$ is the length of the shorest path between two nodes i and j\n",
    "\n",
    "then we can sum across all j, so how far am I away from all the other nodes? `n-1` over this, so it keeps track of sort of relative nodes. \n",
    "\n",
    "- relative distances to other nodes\n",
    "\n",
    "- scales directly with distance - twice as far from everybody makes me half as central. so is I double all these things, I'm going to get half. if I quadruple them, then I'll get a quarter.\n",
    "\n",
    "![](https://lh3.googleusercontent.com/QRIhkmuN_wqV10_zESKfYVUtc4MnXy8XniQfeO0CwdR0DfPHqknMsJjxljAyqt-LtOyBIPVOa45xwdOrLGiuZr1oEEJObu-wQcVN4gcHTvivJwKM9nKxQpYwUeDqiODHLfSKeKHPNBfB-0YY7y2F7E-kt8P9gsb1XrO4JFOtL6GJXh6qwVnLsN10PZ2vA3jZdR_Vcen_yNk4bccxBQmCeFDuL0K9U9vi5FsLn8okTAaBD1mCwev51NfLzKmyuqGike-fZqxvZudbq9LmULYoOvVx_0m1j495UT89tcg63D5VlbM7sDeVzeHDe44ZGampgA9l0wvrO4aPLAsAI4LwOtYK5GtJUdm7snup6OFWeFDuRXWuZtIjtX7tgkCmbP3YBr97mGIk9nadWcvlTLU3nL9COPn_Wwe5AWE7ny2OukDORqZ0Qhr9qK8vye5iHwaZhNXYsw3koQd_eTUD_ixUZbCrEgxouptOskLuK9PPhMBgnfKiE4jDcX82LxxpRhcbEJrEidHV4baUwhJx-hTvMv1kLKgSHVvw8nEi8al3McsKy94Ae9ez0SRXGMV3Or0lJmUn4n4YOOLe2siSWsax2ysX8Er4Q1UkziNKYxvRmJn49HkL1_gp0jjkcoPDZSwyTWL_4wbLudnYcc7-J7p4-HOB0eBHcbLfU05-MQVAMlTLcIctlB8VOJAS=w518-h276-no)"
   ]
  },
  {
   "cell_type": "markdown",
   "metadata": {},
   "source": [
    "# Decay Centrality\n",
    "\n",
    " another measure that we could use instead, is what's known as decay  centrality. And this is, designed to capture the idea  that, what I might get is value from being connected or indirectly connected to other nodes. So I might have some value from a friend  a different value from a friend of a friend, and so forth.  And so the idea is that there's going to be some $\\delta$ factor which is, generally  less than 1 and bigger than 0. And the centrality then of a node i under  this decay notion, is going to be :\n",
    " \n",
    "$$C_i^d(g) = \\sum_{j \\ne i} \\delta^{I(i, j)}$$\n",
    "\n",
    " another measure that we could use instead, is what's known as decay  centrality. And this is, designed to capture the idea  that, what I might get is value from being connected or indirectly connected to other nodes. So I might have some value from a friend  a different value from a friend of a friend, and so forth.  And so the idea is that there's going to be some $\\delta$ factor which is, generally  less than 1 and bigger than 0. And the centrality then of a node i under  this decay notion, is going to be $C_i^d(g) = \\sum_{j \\ne i} \\delta^{I(i, j)}$. \n",
    " \n",
    " So if I'm a direct friend I get a $\\delta$.  If I'm an indirect friend, distance 2 from somebody, I get $\\delta^2$.  distance 3 $\\delta^3$. So if this were 0.5 then we're going to  get 0.25 here. and, and, and so forth.  0.125. if this were 0.9 then these numbers would  be much closer to each other. If this was, you know, 0.05 then this  would be 0.0025 and so forth and so it would scale more dramatically.  So as $\\delta$ becomes near 1, then this just sort of counts all the people that I  can reach indirectly.\n",
    "\n",
    "- $\\delta$ near 1 becomes component size\n",
    " - then this just sort of counts all the people that I can reach indirectly\n",
    "\n",
    "- $\\delta$ near 0 becomes degree\n",
    " - then this is just goting to become degree centrallity. all it's going to do is really emphasize the direct connections and all the other ones are going to be much smaller.\n",
    "\n",
    "- $\\delta$ in between decaying distance measure\n",
    " - weigthts distance exponentially\n",
    "\n",
    "So you can think of varying this $\\delta$, as sort of how much do I think of it being important to be close to many people, or of how much do I get from indect connections of different varying lengths.\n",
    " \n",
    "![](https://lh3.googleusercontent.com/a9hU6vClfoF0wDXa8U1132dV30uLG40kYLSYllCgUR-WguLAB67u_uRduqdbaz26kwLsoXUSPBaNGeEqlNzwX2y209V34MlEWZzgpEt4R-gVBYvPqkdYOAlhKqQ_TMzQ1Vb4KrwDzDd4Cf15w9PWl6v7UP9nQtJNqPbknYAXbzKKXUSZwU0trwTVUHGbA-opICvn9u68jgVjyWiji2XKwBvfmT7XATefoKEKls84FQ7rU5Zj5Kc3NiMPJ8zAO1Dx73m9N3uNEVe3b5u-HMQhke4u2bB7xYrYXGUhO71qnAwXz1Vr0ELMpgh3LGt3CTUh-JrsYo78LKGQKB9mCGayeLpY2wxfOw8cV5Xrrt_DSMUnyzHrakIM0wcjtVE0Bywm2cf-17uhwSraDW7DfJdERhbmfxwGTioRxM-8bWarxtKhJ0geG4GGUk9rqYN2CYeCPuRMBPU19h6ZxSo1vvLuRtYWrcOulZiLANKusxJEl3NuDjxD69M2aqr9-dxLqS2r_gUHCPNwIDXVtXQM_50fkhzILuSIjB_FVKnUcbV5vo-pEf-xYC1WvYfXvrNJkakSznJW5UpuwucB12ZtAkQMyNIn32ZvfTAY6NwBWe33TBPFf7HM23ZMpI3zPs5DXbgZKi4-EQtDV8dC-fTXuI7YYC4lCSXc37YN1WAdi_RC2E2FAxRHV9oRnc3C=w897-h624-no)"
   ]
  },
  {
   "cell_type": "markdown",
   "metadata": {},
   "source": [
    "# Normalize: Decay Centrality\n",
    "\n",
    "$$C_i^d(g) = \\sum_{j \\ne i} \\delta^{I(i, j)} / ((n - 1)\\delta)$$\n",
    "\n",
    "$(n-1)\\delta$ is the lowest decay possible\n",
    "\n",
    "![](https://lh3.googleusercontent.com/xxhEfVnmo-qFSE6OAACByv1mbq2byla1xhpJbiQY_cd3YGKXg7ISN8uYZC10wo2L7A0sfjBCny1zdNipslhlUM4cj6wZl3Tnl4_InxwYzlbjbqGbDZC8Kc_yQtJdMSz8Nt4oEsGI8B4gbDCvcb8ttXAlkIhjRmz13BX1qHwn0iCkWYNyjox49tlkiT8MDWq3bsi98HNRAnYsMWIAQlDKT_IRDpPT3czEuwYwX5TAhaSWs4PhK443-LvqZL4fQzdeEHyaQRcvfF6Tt2PIKRFgaXSHLZb1GqEOXd5aWshzkyE0hD6JKBFF6yYpbCJ5eo-6Qvv6WKi2rZfcSFxf86ii5hOckXdKD7SutHWu0jjn6LkEMqeO2tY_6ZrzKUQl8ftYZQdrhaISjcAAlUB7JnUOSgOuxg91HAfwvTGi3uLyAN_Bnd5kYTWQRcgLQPqyPj0Z53Kb3DK-p-Hy5-Gtz_FDQDB4Lu6jY4y5DT9uCfPtMy2Jbmh2IEHy8hzFso45sF8PTqLLmDJggGgoQaJ80b4QmMskugzLovZ0Jc5H2Q9i-HQ9EE8zchMRuPjRQE3nZzzbW8jhQQsAGBO7CySB9YftjMU2f-L4gjkz6vZdZkr4YqWOYQZicmajhyXE__i-EYlCW-L1U_8ncERkuucj9t0wQ-X9w38N2_tMbCdJy17_WzrHM6XWmR6anAaf=w348-h264-no)"
   ]
  },
  {
   "cell_type": "markdown",
   "metadata": {},
   "source": [
    "# Betweenness (Freeman) Centrality\n",
    "\n",
    "- $P(i, j)$ number of geodesics btwn i and j\n",
    "- $P_k(i,j)$ number of geodesics btwn i and j that k lies on\n",
    "- $\\sum_{i, j \\ne K}[P_k(i,j)/P(i,j)] / [(n-1)(n-2)/2]$\n",
    "\n",
    "![](https://lh3.googleusercontent.com/E90qaXWxNCqwTlCLmYiTl2n9fGDHgwKz8s56BQuU1V4ir_zQ3k4VDSU_A9Q3o16p_b92iz9VzM1pE9E6sroFA58WXLtR2CBAgOpj3EnkVkSJGBpnl5YuEjJ5IRD4Y4qxv0D2No_7rXy-VrQYSmlKRXbdhD_Q_H-eqt4KE0W5Qe9RQnkjqlUlJ7N4nrLlt6rcViMFu388DjFUUClg-TRaw5DUasTZhMX_MjV_AdyZJn_wSYLTGBrGv4uo3flLdMzfq6DJazUWTcWMZSO_AlQRf94N0HE1A0g0vAF2eucY5QcipZJ10rxsyMtLDeBjWNzHEpfJgrkRtIvNlVO3BDaks3CckBrH5IpXYtKQSsVVVZd7YDEy9FWcmedFLVs6yOMX7r7b68vF8CTBb11gO7mZR6657k1PWF68l31XsjJ6KA1TA8wkvoaSQzVgDf5dcaHhvvCF7qKNdF1Eh2-E3dUCUMthfeaT10okNyHddkW_el-9k9Vn4rkDKy0c-e2g2Ey9Zn89voVH0UvAmVWUolBC5DyF2SL8UCM1xGf2pvR49znBWFPm4X97BqIUnPZMaruhFD1fFMjpKEITXsyj2XJltTvxQMCqV2Nvn1L8yXayZZDaNN1IvJZoWKX0GyaxX1CsBiTSC8DO8Bzz4C2CpSfo3SnB9jhvDE6rC-IMU5wGHeTRY9L8tBwwIFxC=w602-h326-no)\n",
    "\n",
    "![](https://lh3.googleusercontent.com/E9MpZ_9uPBOFT7evtSKtbWnex-1YuliiBvFCTwmrscR2oZfgsIzYlC8fSanU7CjgloFXCp7apKp39zBg27j3Bg-fLFrkdVBRfJyNCdKT6OmGd6Dhl1h9Z_Xlc46agc48xgk8AzN55E_wFS1k3g2iBrBx-M421GPo7e783K8-E-ZMBXOL4JvPgAb8iIs-Anvf976t4MErZqasJ-pfD_qaao_3NTZyha-AYCwYx1gIvEdeyOfmlgLApm2GjqpFFVO85COZ5ZNiiBYyoz6ypAaadsimvEC0Evbhe3Ko_N47vrsdD-jiLhpYqlC75qMCX6qWFtvx4ngRuhiyUa_clGsFAk8cQSp05XCdBx5hR7OzbCcf1JKz3tb_LLiAL37OGqQrbEMGlDAhc_otd64meD8qntQ3-9iXHOQfSLtGPavWgYgmRye9-rSwNVQqMcLUgrjZX_2dsxZrQBwH9rh0EvSYcIUCOp6yjasHSnoZv9EqINLflC6MdMg3jKes7FVDw3C0852Wux72vQCyYa41_QjE-JIbfIiOj7kVBf7c-dsoJ0ZwnMqX7twIAmB-rnznAKuJzs2Zqw8sM9vAMv90rD-Hv3O5iHmHiQXpfgw9BTdNJuIftbgSxa_sl3H8HWSDtsfdKTlwJ3jCc3oi56zYQIXq5mvqqkoyIaGe30eXn3gwUpM2Gu_XP-lnSpSN=w824-h635-no)"
   ]
  },
  {
   "cell_type": "code",
   "execution_count": null,
   "metadata": {},
   "outputs": [],
   "source": []
  }
 ],
 "metadata": {
  "kernelspec": {
   "display_name": "Julia 1.0.0",
   "language": "julia",
   "name": "julia-1.0"
  },
  "language_info": {
   "file_extension": ".jl",
   "mimetype": "application/julia",
   "name": "julia",
   "version": "1.0.0"
  }
 },
 "nbformat": 4,
 "nbformat_minor": 2
}
