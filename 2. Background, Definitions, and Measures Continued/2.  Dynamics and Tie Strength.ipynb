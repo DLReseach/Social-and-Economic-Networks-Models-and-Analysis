{
 "cells": [
  {
   "cell_type": "markdown",
   "metadata": {},
   "source": [
    "# Outline\n",
    "- **Part 1: Background and Fundamentals**\n",
    " - **Definitions and Characteristics of Networks(1,2)**\n",
    " - **Empirical Background(3)**\n",
    " \n",
    "- Part 2: Network Formation\n",
    " - Random Network Models (4,5)\n",
    " - Strategic Network Models (6,11)\n",
    " \n",
    "- Part 3: Networks and Behavior\n",
    " - Diffusion and Learning (7,8)\n",
    " - Games on Networks (9)"
   ]
  },
  {
   "cell_type": "markdown",
   "metadata": {},
   "source": [
    "1. [Dynamic ghosting for the largest component of the \"Jefferson\" high school romantic network. ](http://www.soc.duke.edu/~jmoody77/NetMovies/rom_flip.htm)\n",
    "\n",
    "![](https://lh3.googleusercontent.com/MfBV88BUJFDfRfJoTUQOYQDZqRZKh-oBRu6N5rggLTRkrKE-aL1LhhTDhbw_iG_Kjo9zOCNHiCSadzmZGZy0ULl0jhE7JLaPlYHtI666Culxsz7Jue8D5GJRMKaWN9Q6XUJLMcw6iNs8QG4Bjb4D_yFz-4nQ3cIDCiG-waHwTkNCrncLbcdz5rf8oSeqw5dk0mkVtoy4ETSZnmtvaujc99fvdnwTVB3zrfXLZoLToIqedJCkccrn90pLw5zuGrcwsAVEOl8uBmS50IruQ9HdQyHlH6Kma19uCi0g2KlpcUPmdkaG_2iHdF9VXUC_W9ZQcU1z6fvkHWdN2aDzWgK0ih_f6sUDNJd81Dv-NFULpTTpWw6_mWkCcQtX5FGcs2irusbkmjQcZ3ciI2f3DpjgBwOu80DM7kYKqQpv82hQZAACSyRvXkaUGCisnhuWiP8WPwb24T7EphgyuC0kSSHs-R2JbRj4-xmV5oV4aXulS6CkvWa07ItiNHlMMNRQAjF25c-4s-Fez29tS-13JVWFgAKCaOlSK79p-1gO34M0qxB3Q6z4c3ABIEP3iRKJc90sEk5Zu0Zi4VDnmzINYnbh7Ki9rmjBqX7-S1DWvwLYSa1_qUDuWiH70PI5Z4AfI-bSlUvw-vNi8_fzepxQKMB4lbF9f44MscmJAR7ZCH7Y-TZ_VfjYky9oJnH5=w572-h443-no)\n",
    "\n",
    "This image tracks the growth of a romantic network in \"Jefferson\" high school.  The largest component emerges over time, recorded here in weeks.  The final end is artifactual, reflecting the end of data collection. "
   ]
  },
  {
   "cell_type": "markdown",
   "metadata": {},
   "source": [
    "2. [Dynamic ghosting a section of the sociology coauthorship network](http://www.soc.duke.edu/~jmoody77/NetMovies/soc_coath.htm)\n",
    "\n",
    "![](https://lh3.googleusercontent.com/3mrkc9gIVsAsZWr_1Wg1n2QDuNf_xpV6i8lQDsMDbk364eAehQFyqeJxhJNEMAPMhiwRvCZeohOF4R9Iz5clRnW3_s1VflO7I2wyVaMgm2MjlH1gEkYoHPPCW9ouSIubgMgYE6LpvvB350zM9s897hK_4E7pkdar8lwKqG9NiFKTf9xlTbN-TjkqM_s3kXOoCFn6h0s8AJaYLDEapiQj7LLmSsIUW-FxHbBMyz0LALY0ljY93hpaxf3x7Xttw4C2wDFL-L_zubDZnRJQ5UVaWvNcPSJgPBOUrTwWuoLlxjSKjTUM9jmctRPiEdk7ijnw0Ql1UtZ-PBoFhVvN_IOB20RpKUTq0OK33Cf8jNx4gOnxIj-aAm9LjHv-siNraivyiEfwJ9DQ9vZyEkQMkDjEajTDLaavP0slElLZblhpVptRPzJkZI3TKFgwEAnJqp9hnbA5n5HdYImCCevvNe0taxVa6DuKx3VcygbXbkroiKczx8a3iDDDG3gdtCKd_WxY2knjUn1XqLaDDaSIemt9SxFWyc5ZLcxroM2L4ReTsDhjkOlN3S6GbIdBW7EdIlIpkjiIIhiVXxVe5AVfayKBPecn9STTKHO0x-qMLKthx07CSEL7U0ks4e7_U4czzAPj0u4NkIyISDRHqY-3eqBBmoF5ofHwdrxBrPcBWAR4ylDzcxMAx_u_sAI1=w552-h405-no)\n",
    "\n",
    "The image tracks annual changes in relations between 1968 and 1999.  The image will loop 3 times through the movie, then end with the 1999 image. Current nodes are in red with dark blue relations, past relations are in white and light blue.\n"
   ]
  },
  {
   "cell_type": "markdown",
   "metadata": {},
   "source": [
    "# Strength of Weak Ties\n",
    "\n",
    "- granovetter interviews: 54 people who found their jobs via social tie:\n",
    " - 16.7 percent via strong tie (at least two interactions/week)\n",
    " - 55.7 percent via medium tie (at least one interaction per year)\n",
    " - 27.6 percent via a weak tie (less than one interaction per year)\n",
    " \n",
    "- **Theory: weak ties form *bridges*, less redundant information**\n",
    "\n",
    "1) Add health data, we look at weak ties in the sense that people just had to name each other as friends we saw some connectedness between different groups.\n",
    "\n",
    "![](https://lh3.googleusercontent.com/IkFE6fqJDf8ylBE7_v-EVRnWY-DKd2RuXESkfR3EjPOCvoFod2KCYnsZtQpwPUz9J1hSmFiPkJnKfrKw3BQgUB7kfw_PpSiOB8gVS9Mi2A0YUXgMdxOjxm-KyXzAEZlVDJ_SpELPba3ln3r328yV1koJKPbxSRqsSh9uRPTydNSWmA6Q83gT5ACRWK922Th6pvXON8TqHjR3f40aiv03-5DF2NMYHT-H4zEcPxLOg4aSrVCMtjQOjNOBBIok7D_YnhUvhIvlFuLwhI5tP9S9Kws9DKD4oaDA2JgD36kNyZXpitTwr0CPa5xXJBI8fbvjw9qOq3KRxXxFs88oVJ0Ou5nXIsG791P_B4q6OWKOmGVfv4oC3oKy0V8pBaJggn3TzcR3U3Dh040WylDeRaMCJ7UFOjLTZU24hD77n4LE1CRBKH4PomFdxGNY6zg8oVmBqMtOjKFdNspVib526127OvCNRARnXumj3vZoA0apkfhdRSW4hFitn21i7RQH_kdrV4wS7tNOLd3voAlSG4rkxv4oVMj0S23gn0X_HuN1s0evGcU0_X_x6TxqaOUDvSGA2X8kAEhMQ1zmAj9QK9vQxWbkDprPf8nnBWaEw0Juqy_kbClggl6h02Rv_Uqrr6wgiRLMiRthtwS7xWal79bhskT50c0es3dc3CAB46N85C8LSKFmGeCHFQUh=w524-h295-no)\n",
    "\n",
    "2) If we put in strong ties, those ties that tended to go across, the different groups had now disappeared,  largely, and so there's different patterns and so that more of the ties  across the races tended to be ones that disappeared once we put in the stronger  notion, and the idea is that, you know, bridging, meaning connecting different  components of a rgraph. might be more frequently done by weak  ties, so even though somebody is somebody you don't interact with much, and you  might have less in common with, they might connect to you to a part of the  world that you don't normally have access to, and so they can still be very  important in accessing information that might not be redundant with people that  you often interact with. And so, weak ties can still play a very  important role. \n",
    "\n",
    "![](https://lh3.googleusercontent.com/Wc0WXnGLgxGVl-zxQsmLFEDh1rqIAhCdpEx5lfgKhvLzNODlY1Vo0aYvpshYW97Hm_ry9TDBfhPVXfaZS_shnVwt36OIElEFacooR-NaGRB0Ru0koRdEJwuvjaLeVTlDnGdFmF7auRwFAHj81xAeeF16PAlpDekgguBd_H8nlAUONo5pT_CVNBSu84H35ibSKJc93Fu1aq-hgwmAej0pumQmvySbiBYK2rqyWuwCsvbdhlcdWFWVYfnjQynhOMSVkoiIH5QIhaKf56v0R5gcpqgaUklKNNvpsZCRHF9rWjSlxaq4BQKp74SmwsKO1Qz4IiWYDroUk0LmP0SPpFMUSC4pfDY3qaxYR8m00MOy5Fhu8N66aVmS6YBecyGYCeFHh0tZboA3taE3snX1VdpRbfml-1DWhr_4xwi31g6I_JlV092GuRd5x_QfhV1VPWB5lA0fACPPtsPwQdsg0T7naLXAp4ZTFpSCFzNRs9Xdp9C82pu4cSco7kbXPDIb8IkjJQoWZOWmFQ9VMnZaElACVfATB4QEqEKp8FeZW4woJzuHYJdta1e9UAX3W7EG0kOvTLLECf5lVkNgmPGH8T5iRrLCN7z4bqWIwDGkFD5wmWvyMpkmSns6TJ_UjDmLRbfgmk7rw_j-whX7CHmzON4pOwF9aX4-1fa6AIoWTVommWqDRd_QWlBNYHtu=w614-h344-no)"
   ]
  },
  {
   "cell_type": "code",
   "execution_count": null,
   "metadata": {},
   "outputs": [],
   "source": []
  }
 ],
 "metadata": {
  "kernelspec": {
   "display_name": "Julia 1.0.0",
   "language": "julia",
   "name": "julia-1.0"
  },
  "language_info": {
   "file_extension": ".jl",
   "mimetype": "application/julia",
   "name": "julia",
   "version": "1.0.0"
  }
 },
 "nbformat": 4,
 "nbformat_minor": 2
}
