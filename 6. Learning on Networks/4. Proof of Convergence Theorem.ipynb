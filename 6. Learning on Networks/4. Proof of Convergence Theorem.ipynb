{
 "cells": [
  {
   "cell_type": "markdown",
   "metadata": {},
   "source": [
    "# Theorem\n",
    "\n",
    "Suppose T is strongly connected\n",
    "\n",
    "**T is convergent if and only if it is aperiodic **\n",
    " - \"strongly connected\" is going to say that from every given individual, there exists a directed path from i to j.\n",
    " \n",
    " $\\exists$ directed path i to j $\\forall i, j$ \n",
    "\n",
    "**T is convergent if and only if: lim $T^t = (1,1,...,1)^T s$ where s is the unique lhs(left hand side) eigenvector with eigenvalue 1**\n",
    "\n",
    "![](https://lh3.googleusercontent.com/2dxiQXjzfVU0afSBaUlTwhDp62ZCoQOw3e31BnzwKir2_uWdJRJ4uNrSRq33qDGOftR8uNfMaHFkPXp_XmRUei0iCZ35Fx5uUYjgW-mfMNYlT7cltLusIf21QGYQkmlg_T_1YxDoULyfsp_BPSaOgXCiBTFwf6SX1aN5toSA-g84PXmD1D9C8NfSgbxboIEs8-kX4f-nxaXS-hWlJxrHjIDK2-SBC40x-XRVh-UoegEdSSYM2sJbJvVs4q-hLKBPbbNmUewRW0f5tc3vrYx-pPmso0TNrW60qb7XfFZSjGr9gFidJS2zLTogmx3N4LSa1s6sMMGHebhyIrJ2dEAMMp9C-NOL-YZqSvR4hBFZ3iR4QpR4q1LNLitsQQozMY_kr2sPupgM5Fth-MeXR0u5Mn1m1kOIGmTzaTlnGCvz_fM_KJVxAMOMjdgCeoVWmvV4HsFYH_CfzMVRkWcI5Q-laMmJ_nUQPk1bsQUd-gRyQRvbVHPZtfA0CO6QD7Bq31uFRFIHrmmsUmaNNdkhcu1FLDTTSjdCR4JyE8qjznuAOTVx_9Bw0z019HzAjcIuNNVYJH-3fMBk0z3DtFzdlbVBL6TUVS4MTP5n4h_75Eh10DdtYWIm5gKf7Ir8NsZntB5AEnMyTcOqYva4ZqrYanhJhxpxGy_EeqWq8f2DFgJrvl1ejGeKhDpjqvjK=w581-h177-no)"
   ]
  },
  {
   "cell_type": "markdown",
   "metadata": {},
   "source": [
    "# Proof\n",
    "\n",
    "Defn: T is **primitive** if $T_{ij}^t > 0, \\forall i,j$ after some t\n",
    "\n",
    "- If T is strongly connected and stochastic then it is aperiodic if and only if it is primitive. (Perkins(1961))\n",
    "\n",
    "- If T is strongly connected and primitive then lim $T^t = (1,1,...,1)^Ts$\n",
    "\n",
    "where s is the unique lhs eigenvector with eigenvalue \"1\"(e.g. see Meyer(2000))"
   ]
  },
  {
   "cell_type": "markdown",
   "metadata": {},
   "source": [
    "# Proof Cont'd\n",
    "- So, strongly connected and aperiodic implies convergence.\n",
    "\n",
    "- Converse comes from showing:\n",
    " - If T is strongly connected, stochastic and convergent, then it is primitive\n",
    " \n",
    "Let $S = $ lim $T^t$ by convergence\n",
    "\n",
    "Then $ST =$ lim $T^t T = S$\n",
    " - So each row is lhs eigenvector with eigenvalue \"1\": it is a positive vector by Perron-Frobenius theorem(an eigenvector of an irreducible non-negative matrix is strictly positive if and only if it is associated with its largest eigenvalue. This vector is unique if the matrix is primitive)\n",
    " \n",
    " - So since S is all positive, T is primitive\n",
    " \n",
    " - Since, T is primitive then Perron-Frobenius implies the eigenvector is unique, and all rows of S are the same s"
   ]
  },
  {
   "cell_type": "markdown",
   "metadata": {},
   "source": [
    "# Aperiodicity Easy\n",
    "\n",
    "- Aperiodicity is easy to satisfy:\n",
    " - Have some agent weight him or herself\n",
    " - Or have at least one communicating dyad and a transitive triple..."
   ]
  },
  {
   "cell_type": "code",
   "execution_count": null,
   "metadata": {},
   "outputs": [],
   "source": []
  }
 ],
 "metadata": {
  "kernelspec": {
   "display_name": "Julia 0.6.4",
   "language": "julia",
   "name": "julia-0.6"
  },
  "language_info": {
   "file_extension": ".jl",
   "mimetype": "application/julia",
   "name": "julia",
   "version": "0.6.4"
  }
 },
 "nbformat": 4,
 "nbformat_minor": 2
}
