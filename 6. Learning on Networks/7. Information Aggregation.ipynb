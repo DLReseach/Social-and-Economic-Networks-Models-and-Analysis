{
 "cells": [
  {
   "cell_type": "markdown",
   "metadata": {},
   "source": [
    "# Outline: DeGroot Model\n",
    "\n",
    "- Basic Definitions\n",
    "\n",
    "- When is there convergence?\n",
    "\n",
    "- When is there a consensus?\n",
    "\n",
    "- Who has influence?\n",
    "\n",
    "- **==> When is the consensus accurate**"
   ]
  },
  {
   "cell_type": "markdown",
   "metadata": {},
   "source": [
    "# When is Information Aggregation Accurate\n",
    "\n",
    "- How does this depend on network structure?\n",
    "\n",
    "- How does it depend on influence?\n",
    "\n",
    "- How does it relate to speed of convergence"
   ]
  },
  {
   "cell_type": "markdown",
   "metadata": {},
   "source": [
    "# Uncertainty Structure\n",
    "\n",
    "- Suppose true state is $\\mu$\n",
    "\n",
    "- Agent i sees $b_i(0) = \\mu + \\epsilon_i$\n",
    "\n",
    "- $\\epsilon_i$ has 0 mean and finit variance, bounded below and above\n",
    "\n",
    "- signal distributions may differ acorss agents, but are independent conditional on $\\mu$"
   ]
  },
  {
   "cell_type": "markdown",
   "metadata": {},
   "source": [
    "# Wise Crowds\n",
    "\n",
    "- Consider large societies\n",
    "\n",
    "- If they pooled their information, they would have an accurate estimate of $\\mu$\n",
    "\n",
    "- For what sequences of societies does Prob:\n",
    " $$lim_t [|b^n(t) - \\mu| > \\delta] \\rightarrow 0, \\forall \\delta$$"
   ]
  },
  {
   "cell_type": "markdown",
   "metadata": {},
   "source": [
    "# A Weak Law of Large Numbers\n",
    "\n",
    "Prove this using Chebychev's inequality\n",
    "\n",
    "Let $\\epsilon_i's$ be independent, zero mean, and each have finite variance (bounded below). Then:\n",
    "\n",
    "$plim \\sum s_i^n \\epsilon_i = 0$ iff $max_i s_i^n \\rightarrow 0$\n",
    " - let's suppose that  we were doing some influences. Whatever those influences are, so society  n has a vector s1, through sn. So we look at those.  We'll call those the $s_i^n$'s. All right.  So in society n, you've got an $s_1$ through $s_n$, then we have a different one for when  we add this extra person. So each one of these societies has a  vector. the Weak Law of Large Numbers tells us  that if we look at averaging those error. So what's going to happen is the  influence is going to capture how much of each persons error enters into the  overall societal error. The sum of the weights on those errors is  going to be 0. If and only if the largest influence that  anybody has goes to 0. So if anybody retains influence, then  what we're going to do is end up retaining weight on that person's error.  Their believe is going to be a non-trivial part of the overall society's  belief. And so, it's going to be necessary that  everybody have a negligible weight in the limit.  So as society aggregates, they have to disperse so that we're putting weight on  different individuals. If we keep all listening to the same  person, we're going to have inaccuracy. And, actually that's going to be enough,  so as long as society spreads it out, given everybody has finite variance,  averaging a bunch of these variables will give us a good answer. \n",
    "\n",
    "**Wise crowds iff max influence vanishes**"
   ]
  },
  {
   "cell_type": "markdown",
   "metadata": {},
   "source": [
    "# Reciprocal Attention\n",
    "\n",
    "Suppose that T is not only row stochastic(gives some weight out) **but also column stochastic**(so each agent get the same weight in, receives weight one). Then $s = (1/n,...1/n)$ is a unit lhs eigenvector, and so T is wise. So if everybody got weighted as much as weight in as they were giving out, we'd be in good shape.\n",
    "\n",
    "So, **reciprocal trust** implies wisdom\n",
    "\n",
    "But that is very strong condition, generally in society, we're going to have some heterogeneity in terms of overall, how mush somebody gets paid attention to."
   ]
  },
  {
   "cell_type": "markdown",
   "metadata": {},
   "source": [
    "# No opinion Leaders\n",
    "\n",
    "What's important is that when we're looking at this, there's no single individual that's getting too much of the weight from other individuals who matter.\n",
    "\n",
    "- $s_i = \\sum_i T_{ji}s_i$\n",
    "\n",
    "- If there is some i with $T_{ji} > a > 0$ for all j, then $s_i > a$, i.e. if everybody put a weight at least to \"a\" on them, then their overall influence would be at least \"a\", so there can't be anybody who gets too much detention.\n",
    "\n",
    "- So clearly cannot have too strong an \"opinion leader\""
   ]
  },
  {
   "cell_type": "code",
   "execution_count": null,
   "metadata": {},
   "outputs": [],
   "source": []
  }
 ],
 "metadata": {
  "kernelspec": {
   "display_name": "Julia 0.6.4",
   "language": "julia",
   "name": "julia-0.6"
  },
  "language_info": {
   "file_extension": ".jl",
   "mimetype": "application/julia",
   "name": "julia",
   "version": "0.6.4"
  }
 },
 "nbformat": 4,
 "nbformat_minor": 2
}
