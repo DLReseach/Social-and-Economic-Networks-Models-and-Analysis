{
 "cells": [
  {
   "cell_type": "markdown",
   "metadata": {},
   "source": [
    "# Outline\n",
    "- Bayesian learning\n",
    " - repeated actions, observe each other\n",
    " \n",
    "- **==> DeGroot model**\n",
    " - **repeated communication, \"naive\" updating**"
   ]
  },
  {
   "cell_type": "markdown",
   "metadata": {},
   "source": [
    "# Outline: DeGroot Model\n",
    "\n",
    "- **==> Basic Definitions**\n",
    "\n",
    "- When is there convergence?\n",
    "\n",
    "- When is there a consensus?\n",
    "\n",
    "- Who has influence?\n",
    "\n",
    "- When is the consensus accurate"
   ]
  },
  {
   "cell_type": "markdown",
   "metadata": {},
   "source": [
    "# Network structure and Learning\n",
    "\n",
    "- Repeated communication\n",
    "\n",
    "- Information comes only once\n",
    "\n",
    "- See how information disseminates\n",
    "\n",
    "- Who has influence, convergence speed, network structure impact..."
   ]
  },
  {
   "cell_type": "markdown",
   "metadata": {},
   "source": [
    "# Bounded Rationality Model\n",
    "\n",
    "\n",
    "- Repeatedly average beliefs of self with neighbors\n",
    "\n",
    "- Non-Bayesian if weights do not adjust over time\n",
    "\n",
    "- Can under-weight neightbors (just as in experiments)"
   ]
  },
  {
   "cell_type": "markdown",
   "metadata": {},
   "source": [
    "# DeGroot (1974) Social Interaction Model\n",
    "\n",
    "- Individuals {1,...n}\n",
    "\n",
    "- **T** trust matrix, weighted directed network, stochastic matrix, $$\\sum_j T_{ij} = 1, T_{ij} \\ge 0$$\n",
    " - somebody that never listens to anybody would have: $$T_{ii} = 1$$\n",
    "\n",
    "- Start with beliefs, attitude, etc. $b_i(0)$ in [0,1] \n",
    " - can also have these be vectors...\n",
    " \n",
    "- Belief at time t updating: $$b_i(t) = \\sum_j T_{ij} b_j(t-1)$$"
   ]
  },
  {
   "cell_type": "markdown",
   "metadata": {},
   "source": [
    "![](https://lh3.googleusercontent.com/4yUlQPqDYlxf6nNBj911l6Hvuyo-HUmJStdz7elu9ZOoDjqBjobKunh6rEP6N_hQhGb37109PjE9Ge23ja2eutj5qxyBpP9kzjvUrKDLD73NC9TvBs1KfHHl8eIxUXVxTZIyD0EyoBGXLet-yKJ8LurvEVhvtBlrOyPBRahffYs66KDV3oKRsYcoy5-5ZvFd1_HZg1XOOKFF7xINXlVNTQ7LNsVdF5R3CiT006hDPlUyA34dObGo6zTSRrJDpUmI1YJGnt2IPbvuy3SZnKeIigjE9fWp4wScmsK_hMnq76uTwXtbEwGMC4CBecSlKGCxaLNsC8rzklCeP64o3B7g-dFNTagM7UPys8nHSjGg9tw2TdRkJoV5xRuFoERxMXofA2taXRClOMjCph5AwOT6lhx65m69e5xbISw7AfLY3D3H64jWjKfnwQlY-tRaY3lxixiGVgWMHBcRMtys7vo2pgcCTf-e-QlNawEyVfQjzRzeJUNjXPF6sTnlrQ_GqQR4cywL7pNHnCo8BBlvczh-JWc5PycTuF0Yo6rVdRgu9i3foQ30IfdiqpyeU2iMabm85ivPOghf2ersQa0EToagx3WmYCNu4uIpR_v-S2rRF0acVkU9PRKKj5Tjl1hQ7cn6Hvc7FDFGI1128ePDQbKoPe50CIo5c2zoNWZts-GeyEhHHm1wwQ-nHy4T=w869-h418-no)\n",
    "\n",
    "\n",
    "So suppose that the initial beliefs of the three individuals were person \"1\" started with a belief of \"0\", person 3 started with a belief of \"0\", and it was only person \"2\" that started with a positive belief\n",
    " - $b_1(0) = 0$, $b_2(0) = 1$, $b_3(0) = 0$\n",
    " - $b_1(1) = 1/3$, $b_2(1) = 1/2$, $b_3(1) = 0$\n",
    " - $b_i(1) = \\sum_j T_{ij}*b_j(0)$\n",
    "\n",
    "![](https://lh3.googleusercontent.com/f3cuw_WXM6QflrOyNQj9u2ELDx-INgk2NBcH-FnEsc_vL2Yc2yAfDOmUpWxGhXPCHpgRD88UJ23baevsLCg1vR4VWcd2Y6JDI2PadU9irhIw0LtTmagmeQu7fOWp082cOKla0MucrHTGC6tP06JLsQFITB-8bDJ-m0M03FxCaXnRH3hP6Pc1K2y5GOmfIfDIgOqIagO6hpSvV-LAfDCN3C6fDKx1G7OWD8yjtJ6iVXCT01umllIzSQ1quHWYVg5hkGaDeABRTl3ZdUXd_F_ECRHPINNUI0I-XH8hdwcdPZfM5605e6dcNP3z9qpz2NXSelh7elfiXiH0xZ7xGeg1lpWq76GDdsZcj_dkRo4E-ccysWthlrJ3TEqdmbl5_VhCP5BijgtwnndIfxv14OpxeViF-JySzL6WGlKVmEtImxEVjQ7l9eblLld0EdFO9Rvd547SL3tFJuqzkN3kUUjniJBu5BlEcyvvInPuzdOi3ElUBzXcABfnT12vvyoYbd2Qxe_4iArRVBnr0vnmHfbqQ9zNKAQszrf1IGnkfI2zdukMOy0yuEiVVdG4AwtyWOhznI1L0JlhjlymAWWrnp4hyk3wMEeS8c8jQoJ5bwb3UHIsqY8QtaA0oM0uBSaynGW4OMS_6ioR3R23BsXFH37qm4GeOOKfF67hoDXwvefJbFMQQNM8RRRuy7Po=w835-h314-no)\n",
    "\n",
    "![](https://lh3.googleusercontent.com/tSgwgxHcqRkC-xeMMT-UpJSTCt7a5qbdiWZcvBjpxCXv4Qqc2avk5g9n8SqY89Ckqb3rnxke_PxpbDChk7n3bImCn_p0zLianl0lg7w6SiB9tBsjVifTKNPttn1jZz37jefmF7Puj9xvantIBATPt5wLCCzvZuXM6brtg_Dwo-AsYr01UwT_LBJ42bll4TYLpj2WeEUQF7afMd473xaF3H1ZsJnzD8L6HcPjAT2JdOcX0K8feZKZpWKCAxCLLJ5zD5wwRzMJLhAERNBEtH16DEOkD82QSQBvrz79v3DfCnicpNBOVntQl8rtkn6211l800Msb-_5C3-aHtNTVo5Vx7mqtMSyL44Wt_vbsFF2uSPXnqkxs4V9yYHRu8dOoE48LC7yq1AxgRYohPTGkYvArOJss4fyO-2O7rZF35U2igF4Ps62MiVdpC91hPX6uwh9VDK65yA39m-P7O5XV6MLuMor0kxhBZUU22Y1lMFUULxZSvrhDIvHY--bb8VRDoP78xE-fdQCzb3cHp2jLxHY4lhoFAkegBLTIE-wpZKEwlPGZWxHDQ8MjmMJt2AuEuH_YZO6cSDFZZeHSg6RCGEWNW7dzpe8edqeD6k8haUJCokGe3L5z8wi9OwIZjJXY7I_sfCAuZYBOcfQM8t8HtY_10Xzf3Od-8ptccrN847v3hesY_0tNkaXEbwI=w672-h281-no)\n",
    "\n",
    "![](https://lh3.googleusercontent.com/PfC5acEm1PY0-U3URjQMwdjJmJVdX2p3ttA4uOp1VAyHVoZVI11Gc-YENuiO0mTY57sMk4ewtiBMxq8_QLfO48RdiGhLtQwTrC2cFoBBoIU1R8_NvGhaJiFVv3nBW-TNIu_XCNTqooY5nRVaShC0vJ2sT5DiFFMnnxYrJJ0_DOBBtZVCm4Pp9KzUiJ7O3Oxqfea6Vou9Zn8yxJWimdFl_QEw38kXDglCNR6l-iDGKFl1pq56xxJ7idNOaP1Hj_myYJooIQ-TeAIple24EkJVYXJWB-RUg_GgPHSWIjSP5J5xZ6bnIAU-IIzXxJnD2heQKsYNgFpjutMVk6wvDkOsJsnNZrxtFEsf-kpxXTshU0K0HFJ_BYQnzlrsw8fGmQ1oku3W3lPpRt3vtI25FnYDt3ysn14Fow7-7tABD6CJkTG8m9bDm_qTuNmPpqZDl4bBLwoI5T2Tcvwd4BOLnXvQ4EGNWLS9NcmrXPUSUqrdr1Fz8r7V7rIa1MrHZhgEhkFxososglptH8oaYu9i2ZM3-wodntNtCEgZ132ycRDcQF92I_djUjYX-zfvnBM-QLjxQ7luspQcm0_VS_bVIB8NskCVkDZH6U7q88PGj561PyZ5SaYd4fILhw4vJMSbGjxNyzbi9NADb76WDkNuvGIDgLq0dYb7W1tCqA2XPwLlxFq5q_ZRIAmZwhXW=w503-h342-no)\n",
    "\n",
    "![](https://lh3.googleusercontent.com/GSgEXWR8RYn8fH3kS0cNIXBzk6R-n7n0bMPz7LQzGKpfh3z1hKnL5lG4Dq30mVGp3RXukxDLi4Tf_uN0MHlkqg-dLhhmAgjawuVfYNqlrie-izwSqOc-GDGTXHsUcs_U0vQfkCfvbXrtjOhpoyYh85e2_GG7v_ZMRPozyvKigbhzJRip_dqdTHe21PAF6UGpzZCW5SvCm5OJyPk9VP6fu7eAUOWo_16bCBj-oryAsr2Imm2tobYzDJw6umOmPKZy4civE8XXGX1ibSqbvCK0GaZMxcwZUYbcWn_1rw2tOWu9aL9pGS5Ws3_fns-D7WhNLK1wFisuWiQMLwytYK_SVRNcLlCCOeysYaT5YYn4ZL0LLxR3SRxEDB9AIXfFZf3C4VqDDSqQViDnj1s0ybq6DuhaZkmphn0EOBb6jEMO_08hVA7BFRUHObuWVF1bnivU0QCGmQ2rUn_0DWf8x68ol_a85slYemMzjv_5pEir-As-rzdsdyhugD-zugOU1v_UUlb4M6wnONoJYoByf1kC6_KDunsSonBtPs0f27LWRWQPwIhoVd0w94HLI-CSVAAfJWB7WQrs1vB-TQ7iwi8lV7w8t8CJ6zwMAXGqfoxlWQErH84JOj9Ta9KRUwqPEknPHlvIQVm6CmyX4bZqVVN-pPxPNnisr_ebI1Bvq4AMeY1Dqkqn12m00I_S=w428-h311-no)\n",
    "\n",
    "**eventually three individuals converge to \"2/7\"**\n",
    "\n",
    "![](https://lh3.googleusercontent.com/g6lxHYU13iilKlF8TLyu_qD7AKy9AKj99IBTjhKNCr5pFgIyhjFChD7bd0lwRWEeGCVuYGBaSiFOkonwJhYm7H-0UcDHfQTjXEGdkoLjSvLb29HJP2ZQMD8gBnPK20M35EBKueBn2Q2H1hXBpN9s7CDL1ucDm9TpthdcsgMF1pRF2Y1kYNtGtXgyRfIYYonPvEoY0b2ASQ9VWAoiTNOkJ9g2w8OguRCWyO70Zh3G1cjS4aZ_qP9sHqXczINPkWdZjdHGY65H7PJT7Yer-8_S8Prb04Ue4-1fJwvFtri_poLyu4UJaEdbk0IqUZwdER63obV9n7waKd5EgLu_WqlxP1pMoFO8PQzFQ-zK5MM6u2queYsrQEA6Oh6pFA5I2ffRL9049Nglh4lSeuIvOT65Lode8TIElI_cLZ3TB8FIJqc_yZrSWcXA0wpcNacFVBKtR4oD_sh0BvKaKfI5A2XWvIRQKvE3MTqyrkY_VvtTO_mwEmBJL9Y-xcCcghop01KiJelYBwBd-yLv-89yaV1Y0fDkhyL9AUKe9tMb9e4U180svojb-afxyifo0-t2IBC7vc6nppj1Ful3Mwp6iLabOlVGEDMoAF4JJediBnV29-SryXpHDPuHPdVCxt9MUjmSvMXLaiAOihmhB-3ee13pV6eyVi3F27pnXtjba-9vRNTL4isysDmNDLwI=w942-h430-no)\n",
    "\n",
    "![](https://lh3.googleusercontent.com/M2cXaYDi_9XW2G8ZOzhF1_5IdCl1G5DV214zwyEaBjwbwWoAa91dfrNC4e8cijH3WzX16iq0w8qcv7ZpRN-3rm8qoOCxaXMDmroJ2LmCS_vZej-wK7yPXxfKqYSOClkHw3_YYIxOKipzCuCdp0jwtxLx1e53zPYSTsZ2RvijK3LHsDUtI9fh7HoYd5O4X00fHztGHhL22OocH05tGQ6Tu_r7qtVgCbLr7ER6IIbVjQMpbWKexjtYOd9gyq26A-Yd-pOLwYEpVq-fldZJoRfhFTnGGvss3yGU9psiB5kQfskuEBdjNwLrb1Dl-eQXRJatYx5Gm5LJVCVw9o3RlH_imFuVKOPvKTzYXu8uU5hj_KdVMspT4c_biSHYio-l5EmXaGHW2uOy0Nd5abfvP1sTWqySAArRVcsIY8No2ydlC75awxpd_c3YJP0Lij_Xl8uQVWAlbbxAMOEmes7SJGKcrkcataHPnI3z_n3UF-_B7SQl-naEeN07awdDjlms41jR3jLiwuAvmTowOcKz1Lj6fnWoZTE37Gt1n-9Tu0tY9r2kJ8PXHr2mOU7lnqoJ57dVsWXhUmXi-KJ0avfOP7hVVIjSjT59Nl9rleNKS24Su258QfMSSz7Qcrwo0TkKFqlq9r5qzDUOWngbQIj2m6tem3v20ZPxESpjVpLOCE8ozQ8ZtB7jUApi59y8=w990-h417-no)\n",
    "\n",
    "![](https://lh3.googleusercontent.com/L1F_JYEPWZsVjhZSg8Pos__hbbJrfkshB4M-Nh9scQSG6Jh7FlfWlzwy3_pxBRNc7uzi6zPrtQQLeGZecDIq8_pSNkgRmsQTZwIhp4NGWGMcSjHBnlDuXDd7VBmI4pZCdvIt7j3mve3nkY3e6fJpXeGrd3JwPT9ozJAIcWIy5HvOlG2OKCkPbpE8vG9ga7GupWOuRRqf02OqBLQDtpJdji4K_qpdvR_dvLbGHUmHv_n0eHQt3YGLMO7tQG_yNLxywpDA3kZpMdR9fHAcP03WiMYTKDLk0eQruOzc012VIVhP_hOzBX_ODM17BQ3wLzbVULR7v0LYTQLHe1LeQSv6kfaYwUccQyD45KVxT_ty-XmXTNPUe-akN3F0o6oi44e_zGDCvVQwuOwiw3r1r_h64NAaDVcUEG6CJFKPTQyOGKmoEssJCktcnukzIay9DS530W3lQNQhJx3oHlqpX4v1H5PDkEHdRzrRL1FBYuhsiIp7gHelwq0mTO_min9wWn-hnNIxWYxf1WT05aT8hVTfM6J0EHZGMXuyb0TrIPqS6XGIZl9hxbQDE0nesgpB8hvR85_TR8HJ8NnyyfPJcZpTT3DUD4CsZtndKgX0bEDrZR15ZtG48w3PKnHOBA_tAUzI9be_qEDdbaDlQyoKPG6uRvSTsJitxsMrbJLNejeBQoffPPQnicZTph1R=w1023-h700-no)\n",
    "\n",
    "![](https://lh3.googleusercontent.com/a4tdZlk3OkjCgWFrLOglIVYLjPdUQ0OeU17ZJXPnGW3tu8MVls7tJ2llYIb9h5kQ3ZuGnKqyywt_63NEXR-V90qfgoPzW0zakL2c4KPvQ9bA2_euFHfAFc5zfm8WN1u-UGOvfmvpChjNEXFTUYOUMiMw_sOCmHrm2exqSXbovyG07VmKOZo0hKjRnOzf-UhObrdWuQPtolvy6u1CHV5032GqpghfSCr6tH2lTvndqRQR22ZXI79DAqpwAizjgPnnqhW2QrUgi49T6sIeaAgpCC6HHgLcdUDt2bco1HzwCnKIzrzcll7T5HOAiG0mogkQgLTVtb1FRkqx7zdr7aBYstQVSGuXBQNEbDUfU1bct3JrNNRrGRSrffPSfPK50w0rnnVc0yA_1eE58TSZ4d7pjRvOj6BSqq3lYSkniuBLbIBQLHIqw1WkapuLoLOKQa6p22DvtaLa0zXJhn_LAD9093r1cM3gbImla9EORXRu909PUuFKftDEaz7rJ1LlF6E1KZRzMzaNkK1QJkvPyUpbE4Oope8iKnEGJd6xZkVQn_AKWlovWzIMkF_j2gBZMGlaGIuTYpGcirN2ZkncK7e6gbcFfnjKsE1Jhwo9cxNPi04pgfkM7NS52IAP5xK47SFhBDrAhLxB-HazrTwGdWAuSvQDpNb_q5ZhQQhT0MION4LwApncpVjAiz8X=w1036-h701-no)\n",
    "\n",
    "It's essentially weighted averaging over time, so it's a nice linear system. And this linear system is something that  we know a lot about, in terms of the mathematics.  And these things are going to converge and we'll have a nice way of talking  about what do these numbers turn out to be, how do they depend on the initial  beliefs and how do they depend on the network.  So there'll be an explicit solution that we can just calculate out directly in  terms of what those numbers are and what those relations [INAUDIBLE] So that's  going to be a nice part of the model, is we'll, we'll learn where, what's the  limit point of this process. And we can actually also say a lot about  the speed of convergence here and how that depends on the network and so forth. "
   ]
  },
  {
   "cell_type": "markdown",
   "metadata": {},
   "source": [
    "![](https://lh3.googleusercontent.com/XAunsf03BRQYdmzkFS3-fv2g24UYrvQz4favfE2uzHkYWmDOVfmm30RlgIfjEQve5VcU2nvSX3S_-CSdkHgoD-pNYIQA7h1q-k_HQohHZBCMa4CIl9AKNKTeKLDCljgmxo5-OwOmMBabRbYJMRmnC1cS6WxeWeP40UNCrXu9rvCjNP-r5xC5ip7jIciFmBtvWptuvg__-Q0r-ldZnr2GT9F3N6ixL-sGqLMo99uhx9YrvsPL_g_SJdvQQ3DgSMmk3EfzExs-8EthQxpk78qPeAwbi3U0seAuSs8LV_HEhrkqnKYT2DtnW6R4tPYRpn7vTQzox_F-ILKe1tqU1pV8qP9VjSj_o_i9T7SlfQ_SXQzrkMJ_itveEC6Nx9q9O4SRnmg6QyJIvA65RA8zUHktehBhw9KCk2erkv-ZF_IH8Xl4IF4DbRqTe_lZzWGSQSwPubM2dNcG81KE6pH3SBPORRywrfzTRrAc1Q5342ojQ0KHcdfyxOFierKogtHGEhLXY0SGjnLLYuG4J60dsSgmHSUhCUtOQhn5KWPjfgoxIbyQYm9n2azxtoyqilTKFkkRjULsVcuvb8nlQ3iiCSMJq01pXk9OqyGTSl4sBWZCPhuLCGhtR7lnwJeOE9KAeI8j1uGJzJStjNU26CjtR2U2e0X_tbgfQMf6YxKG9AkRN-ZmKOKwOEteqBL-=w1137-h534-no)\n",
    "\n",
    "![](https://lh3.googleusercontent.com/jKTlA3ptTwvzBoXW29SlJRhFgyeaz63hA3Th-J7WTq0g_4pE4-XOMa2G9RlG2jLBLobahtODr5LX0TO0XVjmnNGLXc8SYnQTqD52vCktBS9YuZbbTqKhq5xIOtmhynDFJEM8X5YVgeqVsmC8_oCH9oILFSQw3GWhpr4-juCifp2pX5pJM_DXmuKyGe-SYOqK6jn-NLbEaMgRNDeFH8DIaChtNQr_o7XolLH-3kc9Hest5Ou_KeE2bnRLs0hx93eIRviQUCfBXnvJlSchX4_KLlr2SVngDCfx2AJqq85yRBMH4w7FQGiUkTVOycjPayoDocWz6hv45Whg9_cJ7LcW1WLHs2KHbdMLGpndOod_HlJtdi7MpHeys4DpckLGfGZvvxay8K5qqAddcigV5pW7VROD7bLTpJiBB0mQ-EmS6GfeUvSJSsmYClhsjJfwt0mtFJR-MW4bdTApcK75cGB8GUTOxtU8fSP-SA_yOpf1TjEF8th-R4ry5d3e1YjX3SXdKg5wZ5Bdur8rAmIFYuElHxNybV1aixmknmw7Jj32qppfHc7b07pdN_Jmzr8baBDn1jZiLlZ-LcfGDNF3Ep9emdmX-9_CCAx08T4TlFQljicEXXzwKT5XgBK-Kv6_bTJVf6-uSGRNzQ3WECv-zY_KQP2i-Yx5KbEji-yJxmR3hsoYpN3Cx4W9MHny=w1130-h491-no)\n",
    "\n",
    "![](https://lh3.googleusercontent.com/IynLn11H8FWhwIlHZjWmm04p4SKnowQuh4yVsPG0CgcEx_HnDvBZkWkcECTiw4ZCNXbbQxzG0NZB4HOWJPyzXrhMhKtu048RXs9ufVD-_jdArpdRAGXfLDhi5a1fBNGTxkTwzkADgFrfpPNnXKoG_tC8IEJiO5OeSEcVnZNhQuX0-7rYjRxc4ikJoCqbPT7NJP5hIRzBN5lNYfIX7jr5EQ02LHgR7c-_WmldnqAoj0y-McTOEFDrxR9DpOPoOCQ1XD9NgedNk8gRKw47ZEsua7OWPzSX6mMp8fu9qEItZQM_Lkoy9CyOAn_qEq0HYRBwZfmYaZH6DMdtKztWWUP2dQLqbalpxkiBl83WP36K6NJ1GBY8v87eEkpVChhmI5DLOyRnuwQoXEZw-A29pgMm2Fey4yV4PZ2d5a6nqc4wXFxU2p_2e3So5jEUSogiKCYkd_Z29tky1aYhprQDu7Xw7Gy6BRtITcjoXrxDJvplyN8EYHwvWDx-3myb3Duqa5o8zFXj6xBdq1tOCsRuCNozJrjAj64WtX1BN-N50Kt4sPGhgvN-ORI7JCiKDDz_dFOau9cTApcuqKv43VNNQPjvylcGUpEo3KlUfrCPvVyg8g786oB2hEAidZH7aqBIIhdUvSGxonyFj55_RoD11C12PXMyhB0N6kR8_H1zkPW5382jsqpqc5vrcWk1=w1155-h563-no)\n",
    "\n",
    "so what's happening here is, you know, when a person talks to their  friends effectively, you know, after one period they've incorporated information  from these people. After 2 periods, they've i, indirectly  incorporated information from 2 distances because this information passed on to  people that were at distance 1 after, you know, the first period.  And, and so, what happens is, is we end up getting if e, if these people are  listening. To other individuals that information  goes on and, and gets incorporated by the individual over time.  So, as time goes on we've got more reach in terms of where the information is  coming in from and the fact that people are averaging things means that we're  going to end up with a nice conversion here so, things it's going to have nice  properties. "
   ]
  },
  {
   "cell_type": "markdown",
   "metadata": {},
   "source": [
    "# Other interpretations\n",
    "\n",
    "- Social influence on actions\n",
    "\n",
    "- Random actions (Markov process...)\n",
    "\n",
    "- Page ranks..."
   ]
  },
  {
   "cell_type": "code",
   "execution_count": null,
   "metadata": {},
   "outputs": [],
   "source": []
  }
 ],
 "metadata": {
  "kernelspec": {
   "display_name": "Julia 0.6.4",
   "language": "julia",
   "name": "julia-0.6"
  },
  "language_info": {
   "file_extension": ".jl",
   "mimetype": "application/julia",
   "name": "julia",
   "version": "0.6.4"
  }
 },
 "nbformat": 4,
 "nbformat_minor": 2
}
