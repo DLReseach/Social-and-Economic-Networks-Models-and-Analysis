{
 "cells": [
  {
   "cell_type": "markdown",
   "metadata": {},
   "source": [
    "# Outline: DeGroot Model\n",
    "\n",
    "- Basic Definitions\n",
    "\n",
    "- **==> When is there convergence?**\n",
    "\n",
    "- When is there a consensus?\n",
    "\n",
    "- Who has influence?\n",
    "\n",
    "- When is the consensus accurate\n",
    "\n",
    "![](https://lh3.googleusercontent.com/Kq5IcCcbh6zcBNueQ4ge8TCEDoCmZ2U5yG1KM8G_G_MoVBiiK1qlkbasfMaD_waIpKCiD1nKuUBD19gefRqX9o1ITHCmz34g7nf6lQXcyLCErZ5je2WHDfMX7BTMRLJ4Du6wwUarlli1qJYZnGhCESuWKgxdOTr148AyfL1pZTrqVnaLiqdbBRYyPpcTT8LZQg2a-BHkcbCWMQqJC-4MoqiPqCk_m0joxq_YMXCxYMbShM-TT3tihN-lw2vO9PcpXk2FK0T_bX7dgwdBX10M8rXuSu_ztjf-iP1DFKofE4CpVlZiTb1B3IoJSweCN758oaxCWTVUDySr7z5mF7xKh60TNMzQuxQ_4Z9RrW9p9ojINlTtltRk8NGrc_bb71fEDx6t_A1hHlGbIr2EpaLzcjVsAA6TYM01LrA68i_c4Kt4PZ29AW_zOlfTMNwjXqefBy1UpyGmtQF097J0vHmS3qGpg3hiGI9iKz5zuRdu__95McBkxlXrK-M9vnZgIzmO33jsZZ_QMS5pfvRi-WgOonJ-pExRF4-FpWeNdnb6EwGuH3P0IUU76MS0Xb28VHMZ94WfaZiHVbY_eNw8fzZIqBphrQMs7zyM1gaObrsG2xk2oYTO2iGHEbB95g_c8mdKozZ0dLKmJ63h2RXqe9z53N7_AYdyXoGkn7zDqBhokaALg9HmSQKNGmkE=w591-h322-no)\n",
    "\n",
    "![](https://lh3.googleusercontent.com/8XECVtQIKhKEyFtQs5dCcv__GI5XlHUfYIxYnmgy8O_9busI3XAJLRNLPe83bI2NZJ6RakdU10fjBtuUYSNV4-gnaq13gxSIJwobBHQYUd4LiC_lyM48IsaxllnhwneUoXhFeGObDeQQqfe_hZEbIk2Y5TEt9HS2LLd8iDWyVUZuWy9a8swUZEMdbtKin_t8Y1Is6OU3ZKP7JgbX3qC6UZM4oBmVEdU15J3qeA6UTfuFpbkcbf8ArC_z-3SQQCKuWdZ0KmH1GHBFcJvH-Op-QcqfX40Q-pZSt9x4xvOMK3tcvnIxzsrXGhXYwnw2F_LM4m6r0sGnizxhb4e4UEK2Gq5qgOa2WUBGwqrMPvuqe9iSSr8W-WwehD4fU8xBpOKWClXsdSLS9vr6gdKMTzXGv7chX1B6LQPmfK2zx1QmZOgKEJiZoWsRdOx0_6ZWKr6acqbcwbYBbUceMqvZ2IQ3Py75pNq_D2UbTXpPtTWf8rQCUTvV3j6wAwm22qY3AUoWPNveY-5lY6ivmqN4AZn1Gn1Iq8vZfKIFYuAlG-utJykvuyjIvab-pEEKpAZ3kQqKyh_7uS57GaIPJE9SDu2b1BxaGh1-beoQDaT6_Z_RcJjKGAZNKF6dqjDpyVntxdFFQ4nboOmssoiJ2Iuxsb4fjuLjjEh0Ws56xQQbdbox6N6QmQQIoRzwB9fq=w750-h291-no)"
   ]
  },
  {
   "cell_type": "markdown",
   "metadata": {},
   "source": [
    "![](https://lh3.googleusercontent.com/su-B9Txhf2HzFqrjR7FVqlRMcWw4EZx5GzKhcA873ufc5xcINrcWRVK5V-mEuuqYBJ9FmcgrTMrJNmt-2XC0UHS1fTIeEGKEhkMf_lxkL4yhGvyzfA0rgLC7LV3gYWhWHfOsuV-4HTz_BO2rN0q9nstnIHk6A18faYiKwt_S6G8oKJJKu57OfpulM-utm4dBguHQM3wCaq75tBqsH_1WBanAzG4HY-grmrDd24i5Co42kD3S4Ts3S1v5dB3H4qKtYi-RddANd6DWlqfwzG1p4nhpD1fYeMTk3E40T5t-5F01K95JjIWDoLXWhPXILeGbxwuZUgF3HNhxFr-Pw7kekCZc7HGAccF6TuL2ux0aUrfQlGaraw3bz4ISC5ayFThvcEvQ--RCVHN99JqInWq9aiP4HM4QrW3STAByydNS9iWgRmJ-RFLukV8YWQPN2DLqIvtnGv1n6m7l6ceHvdgIcWDmwsSI5QLta-MyIOf25LXeYXnM0fhCeuGJlRzTl1uxxR6k_EaWuXck8YY6UseZJ8pg-aLJE1F_w8_RhGsBZHFeYbMs2TSVcFg9pIOG1_Jm0VT67aBBAaRqIl-E5BMq1_CfNHwK811XkmAbnJqjNlq-PbcgUkyG54MzX1BAQ-6UZf6Tc3p-XlSS819GwofxOlaBSVudS-rPIYwPy68-2ceoX-9e4wZeEEyO=w854-h365-no)\n",
    "\n",
    "![](https://lh3.googleusercontent.com/5_csoQ9fcCR7soklHwV3lF_HeRt13ouP5zudxbvApn3fxWwzPG8OaTvYvkmYoovTUYvfxUV1zG94tCYT_0Ht_3evXRDJOjofhDt-44X2w9eH7UmapdufbMV7Ak-p0rLiFBgnXagQ5ESetJQU60UBzVZStMMybCUTO29Sl6dDkhOBRHaEnA6ybH5HghW_ucR_Bcbt5WKwe-TUNNHAE33QuneUvetNxSFk5ZNunQ5Ckb5XAfcXNqfXnsZ2ePVf7-cEg0sc07nHHhHJlI3le_h-ldBI9OsZXCbm0x7zrdNJOYxnCqhFkxMg5eziUtAMrW_xcPmZIlCnn_QAhXY2oEjvrBXbEqqM3xE4Io1sWLEY1iGRVE5dx6BvSFs8fskwUbZXTlGWGp1ChaNCeiqVFBQ00yi6QBNhM2gKmTBO45JhPksiWYnVTYHD6vsEOqpraqPwGDcOOa0MaZ2493l9dEffz3surLcmU7LUhWpdhhc7emAf0ZPLXVcbuysvnutXn_-oWdXUGynOU0OvkVh6jMKXepppu97ab1rNrgTI0vJ2h0tI9-8uT4-cc8Uw8vAsdCZeIJ4aFuY0QrpKuazjb047EXFa00udFKZflbxINuH7DjQRI4JHJG6QsB5lJ7yOmC1_Lpjh9JZRtMQuzwndpOwePlIlPEXUx-jL1zWQNh67I0B1Vnf4YnH_V7qC=w1037-h669-no)\n",
    "\n",
    "![](https://lh3.googleusercontent.com/yG_0mgmL1Fz-wW9AoIPt8lyt2s1Gy8_yWwOHf9LUzEuaxqt0hP4eTEumpgLZjFGFZ6UwMrvWyTeZ21YpLE4KiloGyElP7hQ_1w40dZGDQCmCb_su94icYuqw9lUT1nKdERg4p7cWEO2vdzAnuKJQvE0IsJkaDILsqWo8QxYOKNJ8mznIVo8iW2RKt4UZ455jlRLD76gk2sWqhMYHEc5TXWkQ2C5GSA3GIzXn4EDVoyr7d-g9BGYNE-rb9fjbpppoS_bmFVyfZnzupg9JBqmi7KSVx0M-60_WwXzSDSiIEgvQtV4C5MceKQbpDiSrcWCcSf5Rgrt8JlA2IvFfH_oSegDNh6DU4iCxdeNSpbbnnreSjHb0UvhkVALem2C5jf1o3GeQ4qRS2RRk1MeksGcrRaTVo8ZrykLwLBWy8PXQH1u_VOSczj_QUB-9C9chlvYNffphCCSY8HfluauJSssh1bsev7B3U2eskMPAh3v8Gd0vy7D9o0iQSwYlKR5In_UMcKIYqMHwsuOXwb0p1OltucSJaYNOBRwCX3JdXegjCP250KpkzaAThV4KVjR_zj00v5HMcl62qWk9dKWH3npaFxFkLZHjuRK_VgmEFmLgP-JjLOa2hpc_yPUC94i84vFlYakfMltYJKsEgwMGMjWiP6AzIbcn7JPj_PvaSav1-c_7BfxXCetzz9iU=w1025-h627-no)\n",
    "\n",
    "![](https://lh3.googleusercontent.com/FgXW5QpkSwkz85GDlB1evhrcEP73IKHZA8sIOhER8K7-l4aLqg05uIMsA4IF0l17HsU-vdhOAHGCrU1mDSxOvX24W7kLZftLpGA60LUNMjHkVpGt6OB16LqVejgRZWQ_7uvg1c9WeCmo-LXRsPU06jby6E0MqQaZ3RigjTL2UKC1Vemiew-APlQVMEGYx95FWGe6sldnIgBEL7Ad3usnaaOX_yZaeHNybobo8fhEycTvEEAgGSSbx0FGSxX2Vfg1kbP_jOErR6lHRZEBVNnpoGSgeSZeinQlfLP4dPR9BLFS2AX44Cj8AgODq_0ZJu2jOrBZ2qDJzdBwVIFYhCG2F4BzVZktKZiaUsq0Z3oggT3oXvhUc_DgNCfTjaZ0xSKr1H-yKypgfiOcBnNtWSGnzfrPTmNYA167RXBQv2-4-cGFkU_lA99wgOJFCuyXM4nIaVa-yckE1Hs3LtUN1K-8_taiYlytl3zmpozcIRVgFczN4G63R0NtP8sjzuYb7CeN-y5pXhmBRQUut4xHmZVRzFPbNkTcrknBwzohIEmBFGJ1fpcQfHfGmwWTE9FFYtJkulNVuiwINn8ISoPDpFRrF6uGCMvEshTztV6F77O0k9cxHvIaXdt0qyqpO2ZufoAwEQGVa547Q5SbhQoDAQWCP7ilWRWU7lHvw_j2-_5k56ynQFG9N2NFrbAx=w1196-h709-no)\n",
    "\n",
    "![](https://lh3.googleusercontent.com/rMY-ofx6q_S9y_dAz-S3RnvtmHy_KSdSajgyJ1F3Yn1M6IdLrgifNbB_ZtK9blDSWGPTzMtGZDkLVmME-LK9GsvojGPDv5W6b1k0BLnHaLxqPDopBXG1wc0U0HvEgDZIJwVo-l9YBoD9iJ8m7ZkxP6Z0wzOeuYZ8i9P90-CmAs9EXDSVMO4q-SxM4QVGKi-igcJJ91NRFt00cSn7n3BIC-UYrRSenJwxnhfzMWh-3zKH-fnmY00q2wPSEvpaz6fryXhxSgBKNpT--UFi-Jt2c2XSFcz6icTFYDLTvULKyK3ePxoPq2u1q8abb8FXa-wagCoATbjsEz4tcbILHXVWmM33bmOJkqOCDcQA6_T9gbw4bweZ-e--SwFnWuzKqxI_7LLo5ul9agkBrK8EIGFIUYAZrJ8QqM1d2Lz63P_AcdpOWsIM4MFKclpMzXsAcuJQ5gi9R9_vCAakLzGDXFxh2ExVVuMq7aunq6Xj4MoVLafnMxfAPzY6O20qroUZ7oI7-UiK0dTltoCBUiy5XLaIKMyaxQWHMc8ze0u1CFvJWWCjt5JvTny9s-zGpEPp3KS0KvWXAk1a3XH8Sx4aedX3uGv3GCf29V6wASipScwBqG0FjYOgBLIL7gzg8OZZcPpMDCxN6EZvpi0ag6NVbBp4aTaDJryM-aNTi1efiOH2lcNGjy_s0mLTR_xY=w1063-h604-no)\n",
    "\n",
    "![](https://lh3.googleusercontent.com/iWX7AhoAwnaANzP526I9hxPKRb8bgB1MD9rm0WMiWssbGDxHsGU4Doz4TIl--ir9N1xBPl_7iXnAkoDIZTDSb-UKfMzG04Z23otEd7apZoAU99t5HGnPRcKEYCfAKKdIXZqcQ3xOTgiNzuOtlSUroyZ_38HFGxDSru8uvkopplmck1m54KVa3mxc-FeZaeepKE3s8UStm94OnOr2fMJCdvd1SlHjPSKVcX2WjyH59_M8q75cLNcbAqHuyOui_d3mCIQkVE4rOTkx1WLXIWhvx99aOlM7sbRfLnDx6YumiG-ClsO5zXDfh1-SQUpo4dFkQdKTHeJrqr8ZE6QHLdCrz_CcmUUqa1o1E45MP3r6ndhh9BbWzLvltBOcpNjebJ2mOgN5WysjvBZe8wDZQ7HGqRVT8R7oi4LafibP6wiIAno68rs97o9Vorq6oI5_14IePrHxMPZXt-X7O1smhzx9UY6Z9D-ZDfzQ-04chD6Y_Q_snObVufOXc28AjE2tQ57PFv1k1j7_tb9gJPl3yLlyePFjVT0Phohg2borIVVBJWab7Z1mctifuofToLKOKNy81mC5fSTk35wSKLEJlpfSdmU-GEE3eVvbemeBQWDhEByFc_FlW52Jrcz2k2CCZgYw3e_JwrIjQ6kt_tsSpnjIYhAHjkvhpCjFDMhl8Xx6449WiVQsrF_DCXK0=w1066-h656-no)\n",
    "\n",
    "![](https://lh3.googleusercontent.com/AHIdbjq-wnDrfC3UL5oaEHlGGvAPmUmFMxZyT600Ul1Hcoa-Lj14GN28uUpOF0j7-FBvvINH424t6tFrO2KRVlQS5-XKZKxHPr4YHA3DYnFQhUiR-7Ke0KYLJl_Ha1j7kuLTdcIBae5h8gio-816Wwu6KWGfd92WLBzxAfPgIs7nr6zhm4vJSsTX8uOKljXbsXU0UECpGURHk9tBfB-A-JFP0tGV9UKxt6d0lR0P74S-PMrB0HdEfJsTX-BJEGhMbQxiKxTkpLmW8d1MZMaq93a-WIug092d3tc5-YRk6U9rmGppw1MhGjh7S0EKtqqNWYDWtsMgQGlR1upWjxNhB94oNdVrmAjhjVFJI1GykPTfj1RvuWcitwaAApRBf5IuH_xSy0eseagG_ZAss6K1G10tqXNax7WNSzkJ7THvwbRhzYCs3cC1UFQy5eNWS8-_2IaYlDnE5d6ENATNmtbzKdrgXGKp8mVetocds8Ixe2EbB4GUpwcMprWYYbZEiCt7yjjG0kWMbmr6NiadjetuPWBl7iUZtdSZCSVWUKlnKR2YlYDH8KdJ0B3uw_UINi1J8AChdY9JsSK7LfFlI9fjGRoaVaXb0-opyuZcbdIHMDVK1UjHRV0S5iKh_a2k2Ss_4Gy8LaHMs3wOE8d5XuyBX8x5O9Nzfb3NcSrO88XO6-5CXGNXBPQhFD9o=w1072-h629-no)\n",
    "\n",
    "![](https://lh3.googleusercontent.com/Qo2VlSn0oqPgZ1susTITwZaI-VxGB9ceK8O0Vz9uz-sgz9BSfc6u0MIAx5kNlBp52yABWGkVJMfNCNGWmqwH5fz2E9v_3aKgu9dhNt_Enb7YXg9NSebGofTlgaY5DK7Jo-W4v2Rkg_TUFUfsmHk_hAPYUfXtGSCa_1LH18ZlIhXl0j-B1B9fSZWkVk4U32gLYnqXq__UbUNibqHERUWGCwV1zGCENHZ4bnNP39w1MX8ZsKh2ed3JS87fMbjWSysD1AnI3qYef7nmQX2UY2OKNN8-FLLxX0j5Bc42GVjDtaW8pUqtxwIgX_nyVhjvBiCLZgkRDrw8WlsVu336_ADdSaAjeXQJiqBvm6LjEI2lJAsXVHYU2BzwWx4rJz1tH_r-XVYTrpW4XJ4S3rEN2V9NRrEWMlkxj7u73d7j0qxvDKorIqqHWPn0t96Sed-3_Z_8yl5qDNuQchqvTBOHOw-NVkYiHPkP1QyNvSjrPpQCa26aDsgGQEnrrlAJycCvDfuhcUagF-6bxAJKfg4PiOZnd3Qkcktm3bubxKw3nDlgNxukx88A5CMssNrdW1v0ZYys2kdbLidfFpFY847mSc9eSl88nxYik6bPKwhPUVpOa3CB7hhsHZ80xbg9100pvxRPmCZNAzAboGl-eS4NF3G9YAkld3Z0_H7F0YLXUKxdAzv04bxloq7ultB4=w1126-h664-no)\n",
    "\n",
    "\n",
    "\n",
    "Now what's true about this, in  order for this to happen. it's actually based on the cycles in this  graph and here all the cycles are of length two.  And we've got the beliefs in, in such a way that they keep blinking back and  forth, and so it's possible for the beliefs to keep switching back and forth  on these cycles. And so it's there's a cyclicity in the  graph which gets is possible to reproduce in the beliefs.  Okay? Now, it could be that, you know, for  other beliefs you would, might have converged.  If we started everybody with a belief of 1, they would've converged to a belief of  1. So it depends on which things which we  choose but whenever there are even cycles, all the cycles are even in, in a  given graph, then we could find situations where we're going to get  non-convergence. So more generally let's actually look at  the "
   ]
  },
  {
   "cell_type": "markdown",
   "metadata": {},
   "source": [
    "# Convergence\n",
    "\n",
    "![](https://lh3.googleusercontent.com/Bi1vTQIUr0BcMXiNrhCu7yBe_jebJwL2RIlB2WT5bAeeGR-DUVwkurnqxjc7qgr9TPaDVPmevQL1fCgCTro_7JYiM-KQ_RBezVFedfO19YA9OeCOpVrvT29T_OBA1Zpp4dqGrcddbBR1qrc4kesxg7Pg10pJiq-tYNAKTksYdUk6q-ZwujiomoVJAPcNkasrwN6_hax9H6xGGG8gRzxcrkCddBdfh15qBPN16VpHMrHOFdrU7IgYEtoT9H4LL-dfVE9l0uIvcKSS_7EOG3CyMPgotSbiUn2PNlHHizt-Bjmh07_-dRQuq3wDyqkri3ZSmx9EK1R3WdBc2Il6yFVwyVUzq84avHlBCk84KleFRmEdWVzYvojyoc9II28WUC7ZQKEmS4Yc778A2VxBwNcAFOCxQcUNJx-HmWYxJf_2YjAfEPBv8g34yKPzqr839EQLS-bYORSX4i4o6j_Xvd9S8Lc_bdfGMXAHwvudXyaywYwcuq1vueJ-evxFVNCxEJUJYeJMeTUD6VnWmeFt7xO3ZCdlRvDk6X9_joE30GbRRojS7hKeiyAcCmtI8KtwtP1mLF_eXWtaJtrz_kIkF0Ax8Kr95yyHr9xPSW-hqiJsvHXRCtJxSXFCq5k3eUycEM_gaNviiMIbYc6xPyd7jw0tHT9CY3atyhl2YkpoomrOAFW4P2NdcDGNH5kL=w624-h342-no)\n",
    "\n",
    "One cycle lenght is \"3\", the other cycle length is \"2\", the greatest common divisor of \"3\" and \"2\" they don't divide into each other, the only thing that divides both those is \"1\", greatest common divisor is \"1\"\n"
   ]
  },
  {
   "cell_type": "markdown",
   "metadata": {},
   "source": [
    "# Theorem\n",
    "\n",
    "Suppose T is strongly connected\n",
    "\n",
    "**T is convergent if and only if it is aperiodic **\n",
    " - \"strongly connected\" is going to say that from every given individual, there exists a directed path from i to j.\n",
    " \n",
    " $\\exists$ directed path i to j $\\forall i, j$ \n",
    "\n",
    "**T is convergent if and only if: lim $T^t = (1,1,...,1)^T s$ where s is the unique lhs(left hand side) eigenvector with eigenvalue 1**\n",
    "\n",
    "![](https://lh3.googleusercontent.com/2dxiQXjzfVU0afSBaUlTwhDp62ZCoQOw3e31BnzwKir2_uWdJRJ4uNrSRq33qDGOftR8uNfMaHFkPXp_XmRUei0iCZ35Fx5uUYjgW-mfMNYlT7cltLusIf21QGYQkmlg_T_1YxDoULyfsp_BPSaOgXCiBTFwf6SX1aN5toSA-g84PXmD1D9C8NfSgbxboIEs8-kX4f-nxaXS-hWlJxrHjIDK2-SBC40x-XRVh-UoegEdSSYM2sJbJvVs4q-hLKBPbbNmUewRW0f5tc3vrYx-pPmso0TNrW60qb7XfFZSjGr9gFidJS2zLTogmx3N4LSa1s6sMMGHebhyIrJ2dEAMMp9C-NOL-YZqSvR4hBFZ3iR4QpR4q1LNLitsQQozMY_kr2sPupgM5Fth-MeXR0u5Mn1m1kOIGmTzaTlnGCvz_fM_KJVxAMOMjdgCeoVWmvV4HsFYH_CfzMVRkWcI5Q-laMmJ_nUQPk1bsQUd-gRyQRvbVHPZtfA0CO6QD7Bq31uFRFIHrmmsUmaNNdkhcu1FLDTTSjdCR4JyE8qjznuAOTVx_9Bw0z019HzAjcIuNNVYJH-3fMBk0z3DtFzdlbVBL6TUVS4MTP5n4h_75Eh10DdtYWIm5gKf7Ir8NsZntB5AEnMyTcOqYva4ZqrYanhJhxpxGy_EeqWq8f2DFgJrvl1ejGeKhDpjqvjK=w581-h177-no)"
   ]
  },
  {
   "cell_type": "code",
   "execution_count": null,
   "metadata": {},
   "outputs": [],
   "source": []
  }
 ],
 "metadata": {
  "kernelspec": {
   "display_name": "Julia 0.6.4",
   "language": "julia",
   "name": "julia-0.6"
  },
  "language_info": {
   "file_extension": ".jl",
   "mimetype": "application/julia",
   "name": "julia",
   "version": "0.6.4"
  }
 },
 "nbformat": 4,
 "nbformat_minor": 2
}
