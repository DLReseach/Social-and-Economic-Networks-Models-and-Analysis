{
 "cells": [
  {
   "cell_type": "markdown",
   "metadata": {},
   "source": [
    "# Stubborn Agents\n",
    "\n",
    "- An agent who places high weight on self will maintain belief while others converge to that agent's belief\n",
    "\n",
    "- Groups that are highly introspective will have substantial influence"
   ]
  },
  {
   "cell_type": "markdown",
   "metadata": {},
   "source": [
    "# Another Example: Influence\n",
    "\n",
    "- Suppose equally weight connections\n",
    "\n",
    "- Suppose also that $T_{ij}>0$ if and only if $T_{ji} \\ge 0$\n",
    " - Suppose that, that actually what people  did was equally weight their, their connections, and let's also suppose that  you know, talking the that we think of this as friendships, so they're mutual.  So, Tij is, is greater than 0 if and only if Tji is, is equal to 0.  So, if I listen to you, you listen to me. \n",
    "\n",
    "- $d_i$ is i's out degree\n",
    "\n",
    "- So, $T_{ij} = 1/d_i$ for each i and j that i has a (directed) link to: so weight friends and weight them all equally\n",
    " - So we have conversations and I put  equal weight on all my connections. so if you think then of a situation where  di is i's out degree. then Tij is going to be 1 over di, for  each i and j. So, everybody that I am talking to, I put  equal weight on, so however many friends I have, I give one if I have ten friends,  I give 1 10th weight to each one of them. So let's think of that as a very  simple version of this model. "
   ]
  },
  {
   "cell_type": "markdown",
   "metadata": {},
   "source": [
    "# Example: Influence\n",
    "\n",
    "Let $D = \\sum_k d_k$\n",
    "\n",
    "Claim: $s_i = d_i/D$ for each i\n",
    "\n",
    "- Recall s is unit eigenvector: $s_i = \\sum_j T_{ji} s_j$\n",
    "\n",
    "- Verify that $s_i = \\sum_j T_{ji} s_j$\n",
    "\n",
    "- $s_i = \\sum_j T_{ji} s_j = \\sum_{j:T_{ij}>0}(1/d_j)d_j/D = d_i/D$\n",
    " - $\\sum_{j:T_{ij}>0}$: this sum is the sum over all the people that i listen to, is proprotional to the number of individuals that i is listening to\n",
    " - So in a situation where you put equal weight on all your friends and listening is reciprocal, you get back degree centrality, so eigenvector centrality and degree centrality actually coincide."
   ]
  },
  {
   "cell_type": "markdown",
   "metadata": {},
   "source": [
    "![](https://lh3.googleusercontent.com/Pt_kyHKRpPpLIX-HhomfR2sk6pRTaiJjKE7We5GkH53orMGTgA_oUP3FLbNea4VNvsf4WOWthHGwHu_Mlz5QMknoxBFe6jGS4smgtC48yCzpffqlmtJ5TtzY_zWk8YzA6HqDvsI-YzANcAZ4LiwC6NtZmCKWbpm48EeuPuCiSmquEBt9NMbcQliSrOT1YD5C18TQa8DkiKirMtsxm4DSPzrf54-vMSuX72utmXUbKI-J-XhAXnEfEF0t7CibaBq01eZc1qjrbYC9eUO5de2PL2Bn4w0i_t7W6iEzKMOaIZ6rfnCLHeaTZp2ypbHVocgV0hzm-ezlVUnNN_Za6ZNn5NAqJVqQsSBDSSg1X9UIgWOcFpBhXpxQ8m2KGWX_GkaIe-smnzZ5Nl81o1kPESMmpT90bj0mYjevHKs-nQJB6jMwSc0048aLluUG4U4eIZYOQE39JgEDSJrxJeR-WC5aWwKNK2xBJjy8GhEF6mGP8rQkSJfuyxCScaEylD6XpCdgUnppRjaNTXuzLPkcdRXUeG4NTcjbMmJ-HB4D1C175Ql6OcdOTWr53HwTbinmtDd5lq5e1XXINer36TXi8dh_PGHa-39m5lFUdERPUaIfnRo2gp87WD2qeZjF3ete7NJWX0ha4JLK9CzKhTMxCQkV5iIAAoX4swoGabyE4qVq9Xj4npho-mWU6365=w600-h342-no)\n",
    "\n",
    "![](https://lh3.googleusercontent.com/Oy-hH3V2-UoyKk3LKeaTnsIUmjI508x3Kcv8o7XG21NOgl_HNbAyFXiWi4hXc3hwGEEIsbKyVhRPE-bVHmR0SgIGcUbdDvYJmDEQU-UBGEhB5WFh-L7CRdIxw1vg61JGFnIbn3hBvsGvKk-hSBadFcBerwa_Vs89nZrs5cBNdDY-8dtEnJ94Q-VQZI_d5qodHzxCak9sq9g6l_iW2YsDgBLrq3X_k-JDme7StrSQStUxt82M5gRK3euGc75yULJwUyXVLK6T1biUkAGFg7DaxyZS4CiPhB28ylrxb2WmhJuO5TvCt-4b83WA2zhOS5hli48x2TlBTzp5u-Fw89rur88pJ3qBJzDlqPpzzRfe9zC3B7XZd_CtppcypmXHfgczmFbEyuOMx31SO7Y6WZO_byqy_6-PItVejKmP5JiukiqiRnpZEAzxjdiAMcrR5-FuDpaHoIix0EMuzsTUHTdQy_8kpDlfVszR2IAe59hs32h5RPPjtg-Dq6m33PnznwPAXq9Nn0EmBdAQnse9iyGEz1Co80zGLxsFkvZp-UmkNJ19IxIKBJiX6lLR3TRvdviblnVBf9alcLaociSX51xAozPJ7pXadmgZdMIEngDvg6-8wHSovBUrsFRm_MbOacpyCuT-cARIr4gpo4GKhr0a2HQf2MxBZhSacGGlk0mI_aX0bV4IR4ZQDiGU=w866-h695-no)\n",
    "\n",
    " Now, it's a directed network, so certain  people could actually listen to others without them listening back.  So, this would be a directed network not necessarily back and forth.  And there's some individuals who actually aren't connected.  So, some individuals are not getting listened to at all and their influence is  going to turn out to be zero. \n",
    " \n",
    " In this situation, so it's not a strongly  connected network. Nonetheless, the S is still going to work  as the the right answer to this. so if you go through and figure out what  the S is. So if you solve for the S of this, there  are some individuals, for instance 6 who didn't get listened to and 13 and so  forth, end up with 16 and 17, so some people end up with no influence, nobody  listens to them and comes to them for advice.  but basically we end up with the advice levels varying from 0 up to let's  see, we've got a 0.2 here. so we end up with different levels of  influence. \n",
    " \n",
    " And what the other columns in this table  represent is sort of, these are levels of the individuals in a hierarchy in this  company. so level one, this is the CEO, the head  of the company. Level two, we've got people at the second  highest management level. Then level three, is the third-highest  level. And what we see is actually there's some  people that are more influential in terms of this network than the, the individual  at the top, actually one of the people at level two has a higher influence vector  than the person at the top.\n",
    " \n",
    " And we can begin to look at  different people, different people in, at, at level three have different levels  of influence. And you know, you can look at that by the  different department, their age, their tenure, and so forth.  And this information is going to be complimentary to some of those things  that doesn't just necessarily correlate with how old they are or how long they  have been in the company or which department they're in.  These numbers are telling you something different about the, the relative  influence of these individuals have. \n",
    " \n",
    " so what that does is it just shows, you  know, one example of where you can begin to take this DeGroot model.  It gives us a foundation for looking at this particular left-hand side unit  eigenvector as a, a measure of influence. And you know, if you ran the DeGroot  process on this particular network. And had people updating over time in  their beliefs, that would tell you what their beliefs would eventually converge  to. And this was done under the assumption  that so we don't know exactly what these weights are.  That people put equal weights on each one of their friends that they set.  So person 17, for instance has you know five out arrows.  So they put 1 5th weight on each one of those.  "
   ]
  },
  {
   "cell_type": "markdown",
   "metadata": {},
   "source": [
    "# Influence\n",
    "\n",
    "- Provides foundation for eigenvector-based centrality or power measures\n",
    "\n",
    "- Saw relation of eigenvector to walks - $g^t$ gives measures of all walks of length t..."
   ]
  },
  {
   "cell_type": "code",
   "execution_count": 39,
   "metadata": {},
   "outputs": [
    {
     "data": {
      "text/plain": [
       "3×3 Array{Float64,2}:\n",
       " 0.2  0.4  0.4\n",
       " 0.8  0.2  0.0\n",
       " 0.8  0.0  0.2"
      ]
     },
     "execution_count": 39,
     "metadata": {},
     "output_type": "execute_result"
    }
   ],
   "source": [
    "b = [0.2 0.4 0.4; 0.8 0.2 0;0.8 0 0.2]"
   ]
  },
  {
   "cell_type": "code",
   "execution_count": 40,
   "metadata": {},
   "outputs": [
    {
     "data": {
      "text/plain": [
       "77"
      ]
     },
     "execution_count": 40,
     "metadata": {},
     "output_type": "execute_result"
    }
   ],
   "source": [
    "for i = 1:30000\n",
    "    tmp = b^i\n",
    "    if tmp[1,:] == tmp[2,:]\n",
    "        return i\n",
    "    end\n",
    "end"
   ]
  },
  {
   "cell_type": "code",
   "execution_count": 41,
   "metadata": {},
   "outputs": [
    {
     "data": {
      "text/plain": [
       "3×3 Array{Float64,2}:\n",
       " 0.5  0.25  0.25\n",
       " 0.5  0.25  0.25\n",
       " 0.5  0.25  0.25"
      ]
     },
     "execution_count": 41,
     "metadata": {},
     "output_type": "execute_result"
    }
   ],
   "source": [
    "b^77"
   ]
  }
 ],
 "metadata": {
  "kernelspec": {
   "display_name": "Julia 0.6.4",
   "language": "julia",
   "name": "julia-0.6"
  },
  "language_info": {
   "file_extension": ".jl",
   "mimetype": "application/julia",
   "name": "julia",
   "version": "0.6.4"
  }
 },
 "nbformat": 4,
 "nbformat_minor": 2
}
