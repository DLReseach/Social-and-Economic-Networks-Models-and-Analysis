{
 "cells": [
  {
   "cell_type": "markdown",
   "metadata": {},
   "source": [
    "# Outline: DeGroot Model\n",
    "\n",
    "- Basic Definitions\n",
    "\n",
    "- When is there convergence?\n",
    "\n",
    "- When is there a consensus?\n",
    "\n",
    "- **==> Who has influence?**\n",
    "\n",
    "- When is the consensus accurate"
   ]
  },
  {
   "cell_type": "markdown",
   "metadata": {},
   "source": [
    "![](https://lh3.googleusercontent.com/LH4XxHifO4PfiBWQ138xsvUYh0ksL7-ZgEWYQJfOEGqVs7LZKj0VTv2TD892pDhC6g1IcIRk9q1eDyUvZCfickONGPeu4mMra5OmU0osPW6N9f50DDpOs0Nk0knH7QsdpMoBrIb_Ifb3ybyVWGDyniQBlzEGJuHZb9-2bUrQyPik1bKOAMo5Tt44XG7rrL6RSz8VvZFQTcP4gfCdXyTpJfmk6fFpXNSaH5t3V6pgmQgmWczxMH8JxxdBmg97Oer7AaQTAcXB-_JlahkkGVYPDHJg7g2bqmqrWL83V-YWODnxahetpV0LQQ9sBMeq1lj1EBVU0RphP9lSyq5a4SNgvFXWpZONuehzdYvnG2NjBPFF8cy06B5GOyhoSMQpSskcxleCmyWGAsEhDSEEHr8zD-Zf2RSZp6gMGydk7m81VubKJcIFafb6sBgmj22JG7Sa9Tq0t53l-jglS8Gx8iU0ZrytqdBzB7FZF61mw--DCSCp93f_43gCD8-Upci38fzs-31i_Y3gJDcuylnzwpVnfH_SOnW9EFzq_GZibh6mP1FiVZys1rpJQH8CKBL3BVa0hEEfuOg8Z4-DvJonhR3gvxPq1IKavouDXm2ruDqmG47j6SNhLI3ybxUQu1gztOgEaND8ZPQlSQagI_HCuOzfWS4sB9tdnlE1v9UzSL7voAlPbVr5Hll7XuIA=w750-h443-no)"
   ]
  },
  {
   "cell_type": "markdown",
   "metadata": {},
   "source": [
    "# Consensus\n",
    "\n",
    "- Converge to (normalized) eigenvector weighted sum of original beliefs\n",
    "\n",
    "![](https://lh3.googleusercontent.com/2OMvrGAN8E8QlOsnAjU9uv-tvOVpHx4b4y79dwr2kh_QR6HQM9BEkMro3eh-6ypxbxSaQ3mS17J2JxWQtQkvKtvxsSL65Xf_OZTyHV-mQf4rrdQ5otH8uwGtzKjvp8dO-6G0HQGKO7QYJKyg3pSsA0l-kZCO0hj4rQrWyt4pdmCOWe4FLkzcreqWNPHoscXTDkoJxyE9tMYdTu_K_7UQbFvJo_3vt7s4KnROKovf0nXD2GYLU-yiQU2ZPee0d-2XzygcIKKRuzLIwJyTX4Hhkp3hrmF_ftyQ9cFMQszV7yi0kO9S5aXlcnI0ijQZ8JSPFrO5OL-GdC-ZF7A8IE93ri_R2Re_RN2BZ0PkdYcCC9JwAHfWX-d-vvpXnRpo5DjgkZ6tmgfafrU-31BAqLU_6P974vG79eQ0g8Z1RDMV9IA69FqPQltsO7BnkYDQa0jQ1VyO2BIWC6msxxTCHeyUTe_mHnH56fY9IaeCoMCKPSUR7QhFdas2oSPT7NxqEQ3wtFxpMASwp7TMVkA8-VuYLf_ENoWTIZEK5YEfTGh-GqLq2495haNDf63qeVMpAnA-uPV2NuNgP9RQtVq1tipUMbPER4IOT08QXsGGpkoFYM_LQaeZscrD8btLAmgnGeof0-r56rZdj8rTBTljvY0KAdLzlqbRM8WlIF6YfhEizTik7IMKEyvc175b=w729-h408-no)\n",
    "\n",
    "\n",
    "\n",
    "$$T^{\\infty} T = T^{\\infty}$$\n",
    "\n",
    "\n",
    "\n",
    "![](https://lh3.googleusercontent.com/qDD9AfjMe90bY8KLJKO0UIsuRJkX4vSkpGQCI5tkAB0vnFOesrLS0R60rBM1zpePtI4-QfW2KObClX2MwEcqDG0FXfLvgvPMvI9l-4eUXy5otvcyyfoq2TS9jLijySbsSdUOw4BouFEgJPoRzvz-eth-XADVr0EEwJ5o5Yq8tI98nHOeQWixnIws3JWjw3h8OcqI3BuUdOfiVl3tdSrhk-dufKxhpbxOxqqGm3dG725-H39UAv7-pqIOVQXaEWDUUJVhc_RVFyXkSdAq8S70A9u2rNB5Y9sWL1CQw4xBGxxyA2iHgTSFClu_XB8its0S4pZ7YLuSaDYHNBQCkemMwb_mqsg1qOQZ64t6y9h3DgA130MC03YVtUdHd-OrsYnhYj3e9kInWUsfJGv9p1W1o6pdhOmaeoD3OviiElYcfabMzYFuoRKc7EDukg6_nFQ8pkk_zblPtkTpJbt8UiUCiXdQQgZZIpStt9Kzu0W6dTndP4PC2LK-8j96tz7EltSRwdtujRmqYsPrUf1ADM2_urh8RYG8X1i6LuhtPXGiooLwDIVvRzS47h3DLtCzXLWXB-zuUS_qqLLdkSpZ1hOROXExZrY4dg1TWZP5_urq0LBCNMx2sxzyRJ38VxrL2v693Ew5ZZgux6cdQ19cDQEqsHolVMWhyS246AMpla_2YNSOBFedhXpsXqZC=w711-h342-no)"
   ]
  },
  {
   "cell_type": "markdown",
   "metadata": {},
   "source": [
    "# What are Limiting beliefs?\n",
    "\n",
    "- When group reaches a consensus, what is it?\n",
    "\n",
    "- Who are the influential agents in terms of steering the limiting belief?\n",
    "\n",
    "- Must be that the rows of $T^t$ converge to same thing since beliefs converge to same thing for all initial vectors\n",
    "\n",
    "![](https://lh3.googleusercontent.com/4Q8D0SFQvNr2GFzN3YaVVQlnH2dIM6UAK3yVGLD4TLPxXIroWLuhuNLQd7msKHeOIPMzIoD7C6cB8S3Gkf19ipQ_RLUM8EiF5I5oulNUgJ8ezQCbV9-1eNrMw2_LoXGeWnxL8ikbUSlCIkiriYS056kGwC_EJFzD0DCnh1ciqILwQF9adeF8B5iQAPNziw_p11jyfoqx77VhKkCiL2pPwQUmaN_XPoU5RallwXPN-WcnpeDaD8DeTetKqF1f18fcA2ny1KN6-f_JWqmcalXJMCmxTZ2dhgFBpRuPYbyungdsN0V6BYrEwGZSj7AqHWSaz0vcbJxo3uFvjLw2v-FLSq4ltxot_gJiIIqz0u2iSx0k1BqN_y9T4Fn8Mm8bSCLM2wEx0M-boYTHDVmLTv-f1WDZrL8-kaGH-p21xotJ_bvmja-WQPFhpK-K9jQOqQGMspnFFjNealBYENUu35g0XJ-Mfloj51WwZUjykoU_-Q7fxznnnEctMq8BeJLEG1NTQq3YFmYrJ2fDLoxkQBb5cGiY8OE-SMrn-r-taicmPpOZiG8GSUVpRyUhpYhJ157s8YJRHzjQ-fQGdoWxkPYF7SiMm7N1laaD-eCfqXJ4wFKNlLmQ6VUFV-iRrDecOiQIkxga9xYofeGoOKfdDV_LfGrPN1XimRKPkkrLloNvOenJRaHqvcX2esli=w987-h687-no)\n",
    "\n",
    "\n",
    "In  terms of these limiting beliefs, the influence it, you know, it's coming from  the fact that these rows have to converge to the same thing for each row. And in terms of what it eventually means, given that we know that this is  going to converge to 3 11ths, 4 11ths, 4 11ths, it tells us that the limit, you  know, in terms of the weight it puts on whatever person one believes, is 3 11ths.  So if person one had a weight of you know, belief of 1, and everybody else  believed 0, we'd go to 3 11ths. If it was person two that had that belief  it would go to 4 11ths, and and person three would give 4 11ths.  So it's telling us, basically, how much eventual weight in the final, belief of  society that each person's initial belief have, all right?  So it's a very compact and simple measure.  "
   ]
  },
  {
   "cell_type": "markdown",
   "metadata": {},
   "source": [
    "# Influence Measure\n",
    "\n",
    "- What do rows of $T^t$ converge to?\n",
    "\n",
    "- Look for a row vector **s** indicating the *relative influence* each agent has - *limit belief* is **sb**\n",
    "\n",
    "- Note that **sb = sTb**\n",
    "\n",
    "- So, **s = sT**: **s** is the **left unit eigenvector**"
   ]
  },
  {
   "cell_type": "markdown",
   "metadata": {},
   "source": [
    "# Who has Influence\n",
    "\n",
    "- $s_i = \\sum_j T_{ji} s_j$\n",
    " - $S = ST$ tells us effectively the way that you get influence is being listened to by influential people, that means your belief is going to get into their beliefs, which is going to get into other people's beliefs, and  the more influence they have, the more sturcture they have on the final. So you get high influence by being connected to by high influence individuals.\n",
    "\n",
    "- High influence from being paid attention to by people with high influence...\n",
    "\n",
    "- Power measures, Google Page Ranks\n",
    "\n",
    "- Related to eigenvector centrality...\n",
    "\n",
    "- **The person with the highest Eigenvector centrality(based on the left hand side unit eigenvector) has the largest influence.**"
   ]
  },
  {
   "cell_type": "code",
   "execution_count": null,
   "metadata": {},
   "outputs": [],
   "source": []
  }
 ],
 "metadata": {
  "kernelspec": {
   "display_name": "Julia 0.6.4",
   "language": "julia",
   "name": "julia-0.6"
  },
  "language_info": {
   "file_extension": ".jl",
   "mimetype": "application/julia",
   "name": "julia",
   "version": "0.6.4"
  }
 },
 "nbformat": 4,
 "nbformat_minor": 2
}
