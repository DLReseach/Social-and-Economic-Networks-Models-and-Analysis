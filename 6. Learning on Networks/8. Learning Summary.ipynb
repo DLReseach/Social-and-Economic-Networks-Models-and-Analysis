{
 "cells": [
  {
   "cell_type": "markdown",
   "metadata": {},
   "source": [
    "# Summary\n",
    "\n",
    "- **Convergence/Consensus** if and only if **aperiodicity**\n",
    "\n",
    "- **Limiting influence** related to eigenvectors and weights from **influential neighbors**\n",
    "\n",
    "- **Wise crowds**: nobody retains too much influence\n",
    "\n"
   ]
  },
  {
   "cell_type": "markdown",
   "metadata": {},
   "source": [
    "# Learning Models\n",
    "\n",
    "- Bayesian is computationally demanding in network settings\n",
    "\n",
    "- Restricted Bayesian gives consensus network not much of a role\n",
    "\n",
    "- DeGroot and other myopic models bring network into play\n",
    "\n",
    "- Can reach consensus, can be wise\n",
    "\n",
    "- Influence and speed are tractable..."
   ]
  },
  {
   "cell_type": "code",
   "execution_count": null,
   "metadata": {},
   "outputs": [],
   "source": []
  }
 ],
 "metadata": {
  "kernelspec": {
   "display_name": "Julia 0.6.4",
   "language": "julia",
   "name": "julia-0.6"
  },
  "language_info": {
   "file_extension": ".jl",
   "mimetype": "application/julia",
   "name": "julia",
   "version": "0.6.4"
  }
 },
 "nbformat": 4,
 "nbformat_minor": 2
}
